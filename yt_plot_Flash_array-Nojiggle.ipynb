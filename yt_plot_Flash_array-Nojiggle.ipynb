{
 "cells": [
  {
   "cell_type": "code",
   "execution_count": null,
   "metadata": {
    "collapsed": false
   },
   "outputs": [],
   "source": [
    "%matplotlib inline\n",
    "import yt\n",
    "import logging\n",
    "logging.getLogger('yt').setLevel(logging.ERROR)\n",
    "import numpy as np\n",
    "import matplotlib\n",
    "matplotlib.rcParams['font.family'] = 'stixgeneral'\n",
    "matplotlib.rcParams['figure.dpi'] = 300\n",
    "import matplotlib.pyplot as plt\n",
    "import os\n",
    "from mpl_toolkits.axes_grid1 import AxesGrid\n",
    "from tools import setup_cl\n"
   ]
  },
  {
   "cell_type": "code",
   "execution_count": null,
   "metadata": {
    "collapsed": false
   },
   "outputs": [],
   "source": [
    "dirs = ['/home/ychen/data/0only_0525_hinf_nojiggle/',\\\n",
    "        '/home/ychen/data/0only_0314_h1_nojiggle/',\\\n",
    "        '/home/ychen/data/0only_0330_h0_nojiggle/',\\\n",
    "        '/home/ychen/data/0only_0518_hydro_nojiggle/']\n",
    "colors, labels = setup_cl(dirs)\n",
    "\n",
    "filenumbers = [130, 260]\n",
    "\n",
    "iterator = []\n",
    "for dir in dirs:\n",
    "    for filenumber in filenumbers:\n",
    "        iterator.append((dir, filenumber))\n",
    "\n",
    "proj_axis = 'x'\n",
    "field = 'density'"
   ]
  },
  {
   "cell_type": "code",
   "execution_count": null,
   "metadata": {
    "collapsed": false
   },
   "outputs": [],
   "source": [
    "for i, (dir, fno) in enumerate(iterator[-1:]):\n",
    "    ds = yt.load(os.path.join(dir, 'MHD_Jet_nojiggle_hdf5_plt_cnt_%04d' % fno))# load data\n",
    "    ds.coordinates.x_axis['x'] = 2\n",
    "    ds.coordinates.x_axis[0] = 2\n",
    "    ds.coordinates.y_axis['x'] = 1\n",
    "    ds.coordinates.y_axis[0] = 1"
   ]
  },
  {
   "cell_type": "code",
   "execution_count": null,
   "metadata": {},
   "outputs": [],
   "source": [
    "width = ds.arr([47, 24], 'kpc')\n",
    "center = ds.arr([0, 0, width[0].v/2], 'kpc')\n",
    "print(center)\n",
    "p=yt.SlicePlot(ds, 'x', field, center=center, origin='center-domain').zoom(ds.domain_width[2]/width[0])\n",
    "dx = ds.index.get_smallest_dx()\n",
    "p.set_buff_size((int(width[0]/dx), int(width[1]/dx)))\n",
    "p.annotate_grids()\n",
    "p.show()"
   ]
  },
  {
   "cell_type": "code",
   "execution_count": null,
   "metadata": {},
   "outputs": [],
   "source": [
    "fig = plt.figure()\n",
    "\n",
    "grid = AxesGrid(fig, (0.075,0.075,0.85,0.85),\n",
    "                nrows_ncols = (4, 2),\n",
    "                axes_pad = 0.05,\n",
    "                label_mode = \"L\",\n",
    "                share_all = True,\n",
    "                cbar_location=\"right\",\n",
    "                cbar_mode=\"single\",\n",
    "                cbar_size=\"1%\",\n",
    "                cbar_pad=\"0%\")\n",
    "\n",
    "for i, (dir, fno) in enumerate(iterator):\n",
    "    # Load the data and create a single plot\n",
    "    print(dir, fno)\n",
    "    ds = yt.load(os.path.join(dir, 'MHD_Jet_nojiggle_hdf5_plt_cnt_%04d' % fno))# load data\n",
    "    ds.coordinates.x_axis['x'] = 2\n",
    "    ds.coordinates.x_axis[0] = 2\n",
    "    ds.coordinates.y_axis['x'] = 1\n",
    "    ds.coordinates.y_axis[0] = 1\n",
    "    width = ds.arr([47, 12], 'kpc')\n",
    "    center = ds.arr([0, 0, width[0].v/2], 'kpc')\n",
    "    p=yt.SlicePlot(ds, proj_axis, field, center=center, width=width, origin='center-domain')\n",
    "    # Ensure the colorbar limits match for all plots\n",
    "    p.set_zlim('density', 3E-28, 2E-25)\n",
    "    p.set_cmap(field, 'arbre')\n",
    "    dx = ds.index.get_smallest_dx()\n",
    "    p.set_buff_size((int(width[0]/dx), int(width[1]/dx)))\n",
    "    p.set_font_size(9)\n",
    "    \n",
    "    if i // len(filenumbers) == 0:\n",
    "        p.annotate_timestamp(0.80, 0.80, time_format=\"{time:6.2f} {units}\", time_unit='Myr', text_args={'color':'k'})\n",
    "    if i % len(filenumbers) == 0:\n",
    "        p.annotate_text((0.04, 0.80), labels[dir], coord_system='axis', text_args={'color':'k'})\n",
    "\n",
    "    # This forces the ProjectionPlot to redraw itself on the AxesGrid axes.\n",
    "    plot = p.plots[field]\n",
    "    plot.figure = fig\n",
    "    plot.axes = grid[i].axes\n",
    "    plot.cax = grid.cbar_axes[i]\n",
    "\n",
    "    # Finally, this actually redraws the plot.\n",
    "    p._setup_plots()\n",
    "fig.set_figwidth(8)"
   ]
  },
  {
   "cell_type": "code",
   "execution_count": null,
   "metadata": {},
   "outputs": [],
   "source": [
    "for i, ax in enumerate(grid.axes_all):\n",
    "    ax.tick_params(axis='x', color='grey')\n",
    "    ax.tick_params(axis='y', color='grey')\n",
    "    ax.set_ylim(-6, 6)\n",
    "    ax.set_yticks([-5,0,5])\n",
    "    ax.set_yticklabels([-5,0,5])\n",
    "    ax.set_xlim(0,width[0].in_units('kpc').v)\n",
    "    ax.set_xticks(np.arange(0,50,5))\n",
    "    ax.set_xticklabels([0, '', 10, '', 20, '', 30, '', 40, ''])\n",
    "    ax.minorticks_off()\n",
    "    ax.tick_params(axis='x', color='grey')\n",
    "    ax.tick_params(axis='y', color='grey')\n",
    "    ax.grid(ls='--', alpha=0.5)\n",
    "    if i == 2:\n",
    "        ax.set_ylabel('y (kpc)')\n",
    "    else:\n",
    "        ax.set_ylabel('')\n",
    "    if i // len(filenumbers) == len(dirs)-1:\n",
    "        ax.set_xlabel('z (kpc)')\n",
    "fig.set_figwidth(8)\n",
    "fig.set_figheight(8)\n",
    "fig.savefig('compare_4_nojiggle_density.pdf', bbox_inches='tight')\n",
    "fig"
   ]
  },
  {
   "cell_type": "markdown",
   "metadata": {},
   "source": [
    "## Magnetic Field X"
   ]
  },
  {
   "cell_type": "code",
   "execution_count": null,
   "metadata": {
    "scrolled": false
   },
   "outputs": [],
   "source": [
    "dirs = ['/home/ychen/data/0only_0525_hinf_nojiggle/',\\\n",
    "        '/home/ychen/data/0only_0314_h1_nojiggle/',\\\n",
    "        '/home/ychen/data/0only_0330_h0_nojiggle/',\\\n",
    "#        '/home/ychen/data/0only_0518_hydro_nojiggle/'\n",
    "       ]\n",
    "filenumbers = [130, 260]\n",
    "\n",
    "iterator = []\n",
    "for dir in dirs:\n",
    "    for filenumber in filenumbers:\n",
    "        iterator.append((dir, filenumber))\n",
    "\n",
    "colors, labels = setup_cl(dirs)\n",
    "\n",
    "proj_axis = 'x'\n",
    "field = 'magnetic_field_x'\n",
    "\n",
    "fig = plt.figure()\n",
    "\n",
    "grid = AxesGrid(fig, (0.075,0.075,0.85,0.85),\n",
    "                nrows_ncols = (3, 2),\n",
    "                axes_pad = 0.05,\n",
    "                label_mode = \"L\",\n",
    "                share_all = True,\n",
    "                cbar_location=\"right\",\n",
    "                cbar_mode=\"single\",\n",
    "                cbar_size=\"1%\",\n",
    "                cbar_pad=\"0%\")\n",
    "\n",
    "for i, (dir, fno) in enumerate(iterator):\n",
    "    # Load the data and create a single plot\n",
    "    print(dir, fno)\n",
    "    ds = yt.load(os.path.join(dir, 'MHD_Jet_nojiggle_hdf5_plt_cnt_%04d' % fno))# load data\n",
    "    ds.coordinates.x_axis['x'] = 2\n",
    "    ds.coordinates.x_axis[0] = 2\n",
    "    ds.coordinates.y_axis['x'] = 1\n",
    "    ds.coordinates.y_axis[0] = 1\n",
    "    width = ds.arr([47, 12], 'kpc')\n",
    "    center = ds.arr([0, 0, width[0].v/2], 'kpc')\n",
    "    p=yt.SlicePlot(ds, proj_axis, field, center=center, width=width, origin='center-domain')\n",
    "    # Ensure the colorbar limits match for all plots\n",
    "    #p.set_zlim('density', 1.67E-28, 1.67E-25)\n",
    "    p.set_zlim(field, -1E-4, 1E-4)\n",
    "    p.set_cmap(field, 'seismic')\n",
    "    dx = ds.index.get_smallest_dx()\n",
    "    p.set_buff_size((int(width[0]/dx), int(width[1]/dx)))\n",
    "    p.set_font_size(9)\n",
    "\n",
    "    if i // len(filenumbers) == 0:\n",
    "        p.annotate_timestamp(0.80, 0.80, time_format=\"{time:6.2f} {units}\", time_unit='Myr', text_args={'color':'k'})\n",
    "    if i % len(filenumbers) == 0:\n",
    "        p.annotate_text((0.04, 0.80), labels[dir], coord_system='axis', text_args={'color':'k'})\n",
    "    \n",
    "    # This forces the ProjectionPlot to redraw itself on the AxesGrid axes.\n",
    "    plot = p.plots[field]\n",
    "    plot.figure = fig\n",
    "    plot.axes = grid[i].axes\n",
    "    plot.cax = grid.cbar_axes[i]\n",
    "\n",
    "    # Finally, this actually redraws the plot.\n",
    "    p._setup_plots()\n",
    "fig.set_figwidth(8)"
   ]
  },
  {
   "cell_type": "code",
   "execution_count": null,
   "metadata": {},
   "outputs": [],
   "source": [
    "for i, ax in enumerate(grid.axes_all):\n",
    "    ax.tick_params(axis='x', color='grey')\n",
    "    ax.tick_params(axis='y', color='grey')\n",
    "    ax.set_ylim(-6, 6)\n",
    "    ax.set_yticks([-5,0,5])\n",
    "    ax.set_yticklabels([-5,0,5])\n",
    "    ax.set_xlim(0, width[0].in_units('kpc').v)\n",
    "    ax.set_xticks(np.arange(0,50,5))\n",
    "    ax.set_xticklabels([0,'',10,'',20,'',30,'',40,''])\n",
    "    ax.minorticks_off()\n",
    "    ax.tick_params(axis='x', color='grey')\n",
    "    ax.tick_params(axis='y', color='grey')\n",
    "    ax.grid(ls='--', alpha=0.3)\n",
    "    if i == 2:\n",
    "        ax.set_ylabel('y (kpc)')\n",
    "    else:\n",
    "        ax.set_ylabel('')\n",
    "    if i // len(filenumbers) == len(dirs)-1:\n",
    "        ax.set_xlabel('z (kpc)')\n",
    "fig.set_figwidth(8)\n",
    "\n",
    "fig.savefig('compare_3_nojiggle_magnetic_field_x.pdf', bbox_inches='tight')\n",
    "fig"
   ]
  },
  {
   "cell_type": "code",
   "execution_count": null,
   "metadata": {
    "collapsed": false
   },
   "outputs": [],
   "source": []
  },
  {
   "cell_type": "code",
   "execution_count": null,
   "metadata": {
    "collapsed": false
   },
   "outputs": [],
   "source": []
  }
 ],
 "metadata": {
  "kernelspec": {
   "display_name": "Python 3",
   "language": "python",
   "name": "python3"
  },
  "language_info": {
   "codemirror_mode": {
    "name": "ipython",
    "version": 3
   },
   "file_extension": ".py",
   "mimetype": "text/x-python",
   "name": "python",
   "nbconvert_exporter": "python",
   "pygments_lexer": "ipython3",
   "version": "3.6.1"
  }
 },
 "nbformat": 4,
 "nbformat_minor": 1
}
