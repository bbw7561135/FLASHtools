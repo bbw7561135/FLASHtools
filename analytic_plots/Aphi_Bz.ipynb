{
 "cells": [
  {
   "cell_type": "code",
   "execution_count": null,
   "metadata": {},
   "outputs": [],
   "source": [
    "import numpy as np\n",
    "import matplotlib.pyplot as plt\n",
    "\n",
    "r1 = 5.0E20\n",
    "r2 = 1.5E21\n",
    "bf = 1.5E21\n",
    "rout = r2+bf\n",
    "rpol = rout + 2.0*r2\n",
    "bz = 1.86E-6\n",
    "PI = np.pi"
   ]
  },
  {
   "cell_type": "code",
   "execution_count": null,
   "metadata": {},
   "outputs": [],
   "source": [
    "def Aphi(r):\n",
    "    if r < r2:\n",
    "        return 0.5*bz*r\n",
    "    # Current Setting\n",
    "    if False:\n",
    "        const = r2*(0.5*r2-4.0/PI**2*bf**2/r2)*bz\n",
    "        if r < rpol:\n",
    "            return (bz*2.0/PI**2*bf*(2*bf/r*np.sin(PI/2/bf*(rout-r))+PI*np.cos(PI/2/bf*(rout-r))) + const/r)*\\\n",
    "                    0.5*(1.0+cos(PI*(max(min(r,rpol),rout)-rout)/(rpol-rout)))\n",
    "        else:\n",
    "            return 0.0\n",
    "        \n",
    "    if False:\n",
    "        const = r2*(0.5*r2-4.0/PI**2*bf**2/r2)*bz\n",
    "        if r < rout+2*bf:\n",
    "            return bz*2.0/PI**2*bf*(2*bf/r*np.sin(PI/2/bf*(rout-r))+PI*np.cos(PI/2/bf*(rout-r))) + const/r\n",
    "        else:\n",
    "            return (-bz/PI*2.0*bf*(rout+2*bf)+const)/r\n",
    "\n",
    "    if False:\n",
    "        const = r2*(0.5*r2-4.0/PI**2*bf**2/r2)*bz\n",
    "        if r < rpol:\n",
    "            return 0.5*bz*r2*(1.0+bf*2/PI/r2*sin(0.5*PI*(r-r2)/bf))*(rpol-r)/(rpol-r2)\n",
    "        else:\n",
    "            return 0.0\n",
    "    if False:\n",
    "        if r < rpol:\n",
    "            return 0.5*bz*r2*(1.0+bf*2/PI/r2*sin(0.5*PI*(r-r2)/bf))*0.5*(1.0+cos(PI*(max(r,rout)-rout)/(rpol-rout)))\n",
    "        else:\n",
    "            return 0.0\n",
    "    if True:\n",
    "        bz1 = 0.3*1.86E-6\n",
    "        rpol2 = r2*sqrt((bz+bz1)/bz1)\n",
    "        if r < rpol2:\n",
    "            return -0.5*bz1*r+0.5*(bz1+bz)*r2**2/r\n",
    "        else:\n",
    "            return 0\n",
    "    \n",
    "    \n",
    "def Bz(rr, Aphis):\n",
    "    Bz = np.zeros(len(rr))\n",
    "    for i in range(len(rr)-1):\n",
    "        Bz[i] = 1/rr[i]*(rr[i+1]*Aphis[i+1]-rr[i]*Aphis[i])/(rr[i+1]-rr[i])\n",
    "        #Bz[i] = (Aphis[i+1]-Aphis[i])/(rr[i+1]-rr[i])\n",
    "    return Bz"
   ]
  },
  {
   "cell_type": "code",
   "execution_count": null,
   "metadata": {},
   "outputs": [],
   "source": [
    "rr = np.arange(0.0, rpol+bf, (rpol+bf)/1000)\n",
    "Aphis = np.array([Aphi(r) for r in rr])/1E-10\n",
    "\n",
    "plt.plot(rr,Aphis, label='Aphi')\n",
    "plt.plot(rr,Bz(rr,Aphis)*r1, label='Bz')\n",
    "plt.axvline(r2, color='black')\n",
    "plt.axvline(rout, color='black')\n",
    "plt.axvline(rpol, color='black')\n",
    "plt.axhline(0.0, color='black')\n",
    "plt.legend(loc=0)\n",
    "#plt.xlim(28,30)\n",
    "#plt.ylim(-1E-6, 1E-6)\n",
    "plt.show()"
   ]
  },
  {
   "cell_type": "code",
   "execution_count": null,
   "metadata": {},
   "outputs": [],
   "source": [
    "Rs = np.genfromtxt('/home/ychen/d9/FLASH4/MHD_Jet_3D/0829_test/efield.txt', usecols=0)\n",
    "Ex = np.genfromtxt('/home/ychen/d9/FLASH4/MHD_Jet_3D/0829_test/efield.txt', usecols=1)\n",
    "plt.scatter(Rs, Ex)\n",
    "Bzs = Bz(Rs,Ex)\n",
    "#plt.plot(rr,Aphis, label='Aphi')\n",
    "plt.ylim(-3E-6, 3E-6)"
   ]
  },
  {
   "cell_type": "code",
   "execution_count": null,
   "metadata": {},
   "outputs": [],
   "source": [
    "t = []\n",
    "Bphi = []\n",
    "Bzs = []\n",
    "\n",
    "for file in files[0:10]:\n",
    "    #print file\n",
    "    ds = yt.load(file.fullpath)\n",
    "    t.append(ds.current_time)\n",
    "    Bx = ds.find_field_values_at_point('magnetic_field_x', posb)\n",
    "    print Bx\n",
    "    By = ds.find_field_values_at_point('magnetic_field_y', posb)\n",
    "    Bz = ds.find_field_values_at_point('magnetic_field_z', posb)\n",
    "    Bzs.append(Bz)\n",
    "    Bphi.append(sqrt(Bx**2+By**2))\n",
    "    #Bphi.append(-Bx)\n",
    "\n",
    "plt.plot(t,Bzs, 'o-', label='Bz')\n",
    "plt.plot(t,Bphi, 'o-', label='Bphi')\n",
    "plt.axhline(y=5.2548E-6*np.sqrt(4*np.pi))\n",
    "plt.legend(loc=0)\n",
    "plt.xlabel('t')\n",
    "plt.ylabel('B')\n",
    "print Bzs[-1]\n",
    "print Bphi[-1]"
   ]
  }
 ],
 "metadata": {
  "kernelspec": {
   "display_name": "Python 3",
   "language": "python",
   "name": "python3"
  },
  "language_info": {
   "codemirror_mode": {
    "name": "ipython",
    "version": 3
   },
   "file_extension": ".py",
   "mimetype": "text/x-python",
   "name": "python",
   "nbconvert_exporter": "python",
   "pygments_lexer": "ipython3",
   "version": "3.6.1"
  }
 },
 "nbformat": 4,
 "nbformat_minor": 1
}
