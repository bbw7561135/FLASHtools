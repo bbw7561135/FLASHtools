{
 "cells": [
  {
   "cell_type": "code",
   "execution_count": null,
   "metadata": {
    "collapsed": false
   },
   "outputs": [],
   "source": [
    "%matplotlib inline\n",
    "import numpy as np\n",
    "import matplotlib.pyplot as plt\n",
    "plt.rcParams['figure.dpi'] = 150"
   ]
  },
  {
   "cell_type": "code",
   "execution_count": null,
   "metadata": {
    "collapsed": false
   },
   "outputs": [],
   "source": [
    "sim_Tcore\t\t= 3.48E7\n",
    "sim_Tout\t\t= 7.42E7\n",
    "sim_rhoCore\t\t= 9.6E-26\t\t# g/cm3 = N particles/cm3 * 1.67E-24 = 1.91 * N electrons/cm3 * 1.67E-24\n",
    "sim_mu\t\t\t= 0.61\t\t\t# mean molecular weight\n",
    "sim_windVel     = 0.0\n",
    "sim_gammaICM\t= 1.66666\n",
    "sim_bzAmbient\t= 0.0 #1.8623E-6\n",
    "sim_densityProfile = \"betacore\"\n",
    "sim_densityBeta = 0.53\t\t\t# for the beta-model density profile\n",
    "sim_rCore\t\t= 8.1E22\t\t# 1.26 arcmin *20.81 kpc/arcmin\n",
    "sim_rCoreT\t\t= 1.85E23\t\t# 60kpc\n",
    "\n",
    "kpc = 3.086e+21\n",
    "kB = 1.38E-16\n",
    "R = 8.3144725E7\n",
    "mH = 1.6737352238051868e-24 #g\n",
    "\n",
    "distance = np.linspace(0.1*kpc, 150*kpc, 150)\n",
    "e = 1.602176562e-09\n",
    "\n",
    "densityBG = sim_rhoCore*(1.0 + (distance/sim_rCore)**2)**(-1.5*sim_densityBeta)\n",
    "tempBG = sim_Tout*(1.0+(distance/sim_rCoreT)**3)/(sim_Tout/sim_Tcore+(distance/sim_rCoreT)**3)\n",
    "pressureBG = densityBG*tempBG*R/sim_mu\n",
    "entropyBG = pressureBG*((densityBG/mH*sim_mu)**(-sim_gammaICM))/e"
   ]
  },
  {
   "cell_type": "code",
   "execution_count": null,
   "metadata": {
    "scrolled": false
   },
   "outputs": [],
   "source": [
    "keV = 1.1604525E7\n",
    "rho = 1E-26\n",
    "T = 1\n",
    "P = 1E-10\n",
    "entropy = 1000\n",
    "\n",
    "plt.plot(distance/kpc, densityBG/rho, label='density / $(10^{-26} g/cm^3)$')\n",
    "plt.plot(distance/kpc, tempBG/keV/T, ls='--', label='temperature / $keV$')\n",
    "plt.plot(distance/kpc, pressureBG/P, ls=':', label='pressure / $(10^{-10} dyn / cm^2)$')\n",
    "plt.plot(distance/kpc, entropyBG/entropy*10, ls=':', label='entropy / 1000 $keV*cm^2$')\n",
    "plt.grid(ls=':')\n",
    "plt.xlabel('radius (kpc)')\n",
    "plt.xlim(0,150)\n",
    "plt.legend(loc=5)\n",
    "plt.title(\"ICM Profile\")\n",
    "plt.semilogy()\n",
    "plt.savefig(\"ICM_profile.pdf\")"
   ]
  },
  {
   "cell_type": "code",
   "execution_count": null,
   "metadata": {},
   "outputs": [],
   "source": [
    "density_derivative = (densityBG[1:]-densityBG[:-1])/(distance[1:]-distance[:-1])\n",
    "pressure_derivative = (pressureBG[1:]-pressureBG[:-1])/(distance[1:]-distance[:-1])\n",
    "\n",
    "yr_in_sec = 31557600\n",
    "\n",
    "plt.plot(distance[1:]/kpc, 1/np.sqrt(pressure_derivative*density_derivative/densityBG[1:]**2)/yr_in_sec/1E6)\n",
    "#plt.axvline(10)\n",
    "plt.ylabel('Brunt Vaisala period (Myr)')\n",
    "plt.xlabel('radius (kpc)')\n",
    "plt.semilogy()"
   ]
  },
  {
   "cell_type": "code",
   "execution_count": null,
   "metadata": {},
   "outputs": [],
   "source": [
    "plt.plot(distance/kpc, tempBG)\n",
    "plt.ylabel('Temperature (K)')\n",
    "plt.xlabel('radius (kpc)')\n",
    "ax1 = plt.gca()\n",
    "ma, mi = ax1.get_ylim()\n",
    "ax2 = plt.twinx()\n",
    "keV = 1.1604525E7\n",
    "ax2.set_ylim(ma/keV, mi/keV)\n",
    "ax2.set_ylabel('(keV)')"
   ]
  },
  {
   "cell_type": "code",
   "execution_count": null,
   "metadata": {},
   "outputs": [],
   "source": [
    "plt.plot(distance/kpc, pressureBG)\n",
    "plt.ylabel('pressure ($dyn/cm^2$)')\n",
    "plt.xlabel('radius (kpc)')\n",
    "plt.semilogy()\n"
   ]
  },
  {
   "cell_type": "code",
   "execution_count": null,
   "metadata": {},
   "outputs": [],
   "source": [
    "Myr = 3.155760e+13\n",
    "\n",
    "sim_velJet = 3.0E9\n",
    "rhoJet = 5E-27\n",
    "\n",
    "eta = rhoJet*0.5/densityBG\n",
    "velHead = np.sqrt(eta)/(1+np.sqrt(eta))*sim_velJet\n",
    "plt.plot(distance/kpc, velHead/kpc*Myr, ls=':', label=r'$\\frac{1}{2}\\rho_j$')\n",
    "\n",
    "eta = rhoJet/densityBG\n",
    "velHead = np.sqrt(eta)/(1+np.sqrt(eta))*sim_velJet\n",
    "plt.plot(distance/kpc, velHead/kpc*Myr, label=r'$\\rho_j$')\n",
    "\n",
    "eta = rhoJet*2/densityBG\n",
    "velHead = np.sqrt(eta)/(1+np.sqrt(eta))*sim_velJet\n",
    "plt.plot(distance/kpc, velHead/kpc*Myr, ls='--', label=r'$2\\rho_j$')\n",
    "\n",
    "plt.xlim(0, 50)\n",
    "plt.xlabel('distance (kpc)')\n",
    "plt.ylim(0, 15)\n",
    "plt.ylabel('Jet head velocity (kpc/Myr)')\n",
    "plt.legend(loc=4)\n"
   ]
  },
  {
   "cell_type": "code",
   "execution_count": null,
   "metadata": {},
   "outputs": [],
   "source": [
    "distance = 10*kpc\n",
    "\n",
    "densityBG = sim_rhoCore*(1.0 + (distance/sim_rCore)**2)**(-1.5*sim_densityBeta)\n",
    "tempBG = sim_Tout*(1.0+(distance/sim_rCoreT)**3)/(sim_Tout/sim_Tcore+(distance/sim_rCoreT)**3)\n",
    "pressureBG = densityBG*tempBG*R\n",
    "\n",
    "print(densityBG, pressureBG)"
   ]
  }
 ],
 "metadata": {
  "kernelspec": {
   "display_name": "Python 3",
   "language": "python",
   "name": "python3"
  },
  "language_info": {
   "codemirror_mode": {
    "name": "ipython",
    "version": 3
   },
   "file_extension": ".py",
   "mimetype": "text/x-python",
   "name": "python",
   "nbconvert_exporter": "python",
   "pygments_lexer": "ipython3",
   "version": "3.6.1"
  }
 },
 "nbformat": 4,
 "nbformat_minor": 1
}
