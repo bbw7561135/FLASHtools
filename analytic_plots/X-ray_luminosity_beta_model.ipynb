{
 "cells": [
  {
   "cell_type": "code",
   "execution_count": null,
   "metadata": {
    "collapsed": false
   },
   "outputs": [],
   "source": [
    "%matplotlib inline\n",
    "import matplotlib.pyplot as plt\n",
    "plt.rcParams['figure.dpi'] = 100\n",
    "import numpy as np\n",
    "from scipy.special import gamma"
   ]
  },
  {
   "cell_type": "code",
   "execution_count": null,
   "metadata": {},
   "outputs": [],
   "source": [
    "kpc = 3.0857E21\n",
    "nc = 1E-2\n",
    "beta = 0.7\n",
    "rc = 10\n",
    "rr = np.logspace(-1, 4, 100)\n",
    "\n",
    "metallicity = 0.5\n",
    "# X-ray 0.1~2.4keV metal cooling rate = 2.95E-23 erg cm^3 s^{-1}\n",
    "#             primordial cooling rate = 7.86E-24 erg cm^3 s^{-1}\n",
    "Lambda = 2.95E-23*metallicity + 7.86E-24\n",
    "\n",
    "\n",
    "S = 2*nc**2*Lambda*np.sqrt(np.pi)/2*gamma(3*beta-0.5)/gamma(3*beta)*rc*kpc \\\n",
    "    *(1+(rr/rc)**2)**(-3*beta+0.5)\n",
    "plt.plot(rr, S)\n",
    "plt.xlabel('r (kpc)')\n",
    "plt.ylabel(r'S (erg cm$^{-2}$ s$^{-1}$)')\n",
    "plt.semilogx()\n",
    "plt.semilogy()"
   ]
  },
  {
   "cell_type": "code",
   "execution_count": null,
   "metadata": {},
   "outputs": [],
   "source": [
    "def Lx(rr, rc, beta, nc, metallicity=0.5):\n",
    "    Lambda = 2.95E-23*metallicity + 7.86E-24\n",
    "    # X-ray 0.1~2.4keV metal cooling rate = 2.95E-23 erg cm^3 s^{-1}\n",
    "    #             primordial cooling rate = 7.86E-24 erg cm^3 s^{-1}\n",
    "    L = 2*np.pi*nc**2*(rc*kpc)**3*Lambda*np.sqrt(np.pi)/2*gamma(3*beta-0.5)/gamma(3*beta)\n",
    "    if beta == 0.5:\n",
    "        return L*np.log(1+(rr/rc)**2)\n",
    "    else:\n",
    "        return L*1/(1.5-3*beta)*((1+(rr/rc)**2)**(-3*beta+1.5)-1)\n",
    "        \n",
    "\n",
    "for beta in [0.3, 0.4, 0.5, 0.6, 0.7]:\n",
    "    nc = 0.04\n",
    "    rc = 26\n",
    "    L = Lx(rr, rc, beta, nc)\n",
    "    plt.plot(rr, L, label=r'$\\beta=%.1f$' % beta)\n",
    "\n",
    "plt.legend()\n",
    "plt.semilogx()\n",
    "plt.semilogy()\n",
    "plt.xlabel('r (kpc)')\n",
    "plt.ylabel(r'L (erg s$^{-1}$)')\n",
    "plt.grid()"
   ]
  },
  {
   "cell_type": "code",
   "execution_count": null,
   "metadata": {},
   "outputs": [],
   "source": [
    "Lx(100, 100, 0.7, 1E-2)"
   ]
  },
  {
   "cell_type": "code",
   "execution_count": null,
   "metadata": {
    "collapsed": false
   },
   "outputs": [],
   "source": []
  }
 ],
 "metadata": {
  "kernelspec": {
   "display_name": "Python 3",
   "language": "python",
   "name": "python3"
  },
  "language_info": {
   "codemirror_mode": {
    "name": "ipython",
    "version": 3
   },
   "file_extension": ".py",
   "mimetype": "text/x-python",
   "name": "python",
   "nbconvert_exporter": "python",
   "pygments_lexer": "ipython3",
   "version": "3.6.1"
  }
 },
 "nbformat": 4,
 "nbformat_minor": 2
}
