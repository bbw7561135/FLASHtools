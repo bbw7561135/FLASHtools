{
 "cells": [
  {
   "cell_type": "code",
   "execution_count": null,
   "metadata": {},
   "outputs": [],
   "source": [
    "%matplotlib inline\n",
    "import numpy as np\n",
    "from scipy import integrate\n",
    "import matplotlib.pyplot as plt\n",
    "plt.rcParams['figure.dpi'] = 150\n",
    "plt.rcParams['font.family'] = 'stixgeneral'"
   ]
  },
  {
   "cell_type": "code",
   "execution_count": null,
   "metadata": {
    "collapsed": false
   },
   "outputs": [],
   "source": [
    "sim_Tcore\t\t= 3.48E7\n",
    "sim_Tout\t\t= 7.42E7\n",
    "sim_rhoCore\t\t= 9.6E-26\t\t# g/cm3 = N particles/cm3 * 1.67E-24 = 1.91 * N electrons/cm3 * 1.67E-24\n",
    "sim_mu\t\t\t= 0.61\t\t\t# mean molecular weight\n",
    "sim_windVel     = 0.0\n",
    "sim_gammaICM\t= 1.66666\n",
    "sim_bzAmbient\t= 0.0 #1.8623E-6\n",
    "sim_densityProfile = \"betacore\"\n",
    "sim_densityBeta = 0.53\t\t\t# for the beta-model density profile\n",
    "sim_rCore\t\t= 8.1E22\t\t# 1.26 arcmin *20.81 kpc/arcmin\n",
    "sim_rCoreT\t\t= 1.85E23\t\t# 60kpc\n",
    "\n",
    "kpc = 3.08567758128e+21\n",
    "kB = 1.38064852E-16\n",
    "gasConst = 8.3144598E7\n",
    "mH = 1.6737352238051868e-24 #g\n",
    "\n",
    "rmin, rmax = 5, 400\n",
    "\n",
    "distance = np.linspace(rmin*kpc, rmax*kpc, rmax-rmin+1)\n",
    "\n",
    "r = distance\n",
    "\n",
    "e = 1.602176562e-09\n",
    "\n",
    "densityBG = sim_rhoCore*(1.0 + (distance/sim_rCore)**2)**(-1.5*sim_densityBeta)\n",
    "tempBG = sim_Tout*(1.0+(distance/sim_rCoreT)**3)/(sim_Tout/sim_Tcore+(distance/sim_rCoreT)**3)\n",
    "pressureBG = densityBG*tempBG*gasConst/sim_mu\n",
    "entropyBG = pressureBG*((densityBG/mH*sim_mu)**(-sim_gammaICM))/e"
   ]
  },
  {
   "cell_type": "code",
   "execution_count": null,
   "metadata": {
    "scrolled": false
   },
   "outputs": [],
   "source": [
    "keV = 1.1604525E7\n",
    "\n",
    "# normalization\n",
    "rho = 1E-26\n",
    "T = 1\n",
    "P = 1E-10\n",
    "entropy = 1000\n",
    "\n",
    "plt.plot(distance/kpc, densityBG/rho, label='density / $(10^{-26} g/cm^3)$')\n",
    "plt.plot(distance/kpc, tempBG/keV/T, ls='--', label='temperature / $keV$')\n",
    "plt.plot(distance/kpc, pressureBG/P, ls=':', label='pressure / $(10^{-10} dyn / cm^2)$')\n",
    "plt.plot(distance/kpc, entropyBG/entropy*10, ls=':', label='entropy / 1000 $keV*cm^2$')\n",
    "plt.grid(ls=':')\n",
    "plt.xlabel('radius (kpc)')\n",
    "plt.xlim(rmin,rmax)\n",
    "plt.legend()\n",
    "plt.title(\"ICM Profile\")\n",
    "plt.semilogy()\n",
    "plt.semilogx()"
   ]
  },
  {
   "cell_type": "code",
   "execution_count": null,
   "metadata": {
    "collapsed": false
   },
   "outputs": [],
   "source": [
    "\n",
    "grav = gasConst/sim_mu*r \\\n",
    "          *(-3.*sim_densityBeta/(1.+r*r/sim_rCore**2)/sim_rCore**2 \\\n",
    "          *sim_Tout*(1.0+(r/sim_rCoreT)**3)\\\n",
    "          /(sim_Tout/sim_Tcore+(r/sim_rCoreT)**3)\\\n",
    "          +3.0*r*sim_Tout*(sim_Tout/sim_Tcore-1.0)*(sim_rCoreT)**3\\\n",
    "          /(sim_Tout/sim_Tcore*(sim_rCoreT)**3+r**3)**2)\n"
   ]
  },
  {
   "cell_type": "code",
   "execution_count": null,
   "metadata": {},
   "outputs": [],
   "source": [
    "plt.plot(r/kpc, grav, label='g')\n",
    "plt.legend()\n",
    "#plt.semilogx()"
   ]
  },
  {
   "cell_type": "code",
   "execution_count": null,
   "metadata": {},
   "outputs": [],
   "source": [
    "i0 = 0\n",
    "print('initial radius = %.1f kpc' % (r[i0]/kpc))\n",
    "M = 1\n",
    "\n",
    "rho_ad = densityBG[i0]*(pressureBG/pressureBG[i0])**(1/sim_gammaICM)\n",
    "plt.plot(r/kpc, rho_ad, label=r'$\\rho_{ad}$')\n",
    "plt.plot(r/kpc, densityBG, label=r'$\\rho$')\n",
    "\n",
    "plt.plot(r/kpc, rho_ad-densityBG, ':', label=r'$\\Delta \\rho$')\n",
    "plt.axvline(r[i0]/kpc, ls=':', color='k')\n",
    "plt.legend()\n",
    "plt.grid()"
   ]
  },
  {
   "cell_type": "code",
   "execution_count": null,
   "metadata": {},
   "outputs": [],
   "source": [
    "V_ad = M/densityBG[i0]*(pressureBG/pressureBG[i0])**(-1/sim_gammaICM)\n",
    "\n",
    "Fg = (rho_ad-densityBG)*V_ad*grav\n",
    "\n",
    "plt.plot(r/kpc, -Fg, label=r'$|F_g|$')\n",
    "plt.axvline(r[i0]/kpc, ls=':', color='k')\n",
    "plt.legend()"
   ]
  },
  {
   "cell_type": "code",
   "execution_count": null,
   "metadata": {},
   "outputs": [],
   "source": [
    "integrate.simps(-Fg[i0:], r[i0:])"
   ]
  },
  {
   "cell_type": "code",
   "execution_count": null,
   "metadata": {
    "scrolled": false
   },
   "outputs": [],
   "source": [
    "W = integrate.cumtrapz(-Fg[i0:], r[i0:])\n",
    "W"
   ]
  },
  {
   "cell_type": "code",
   "execution_count": null,
   "metadata": {},
   "outputs": [],
   "source": [
    "T_ad = tempBG[i0]*(pressureBG/pressureBG[i0])/(rho_ad/densityBG[i0])\n",
    "plt.plot(r/kpc, T_ad, label=r'$T_{ad}$')\n",
    "plt.plot(r/kpc, tempBG, label=r'$T$')\n",
    "plt.plot(r/kpc, tempBG-T_ad, label=r'$\\Delta T$')\n",
    "plt.axvline(r[i0]/kpc, ls=':', color='k')\n",
    "plt.ylim(0, 1.3E8)\n",
    "plt.legend()"
   ]
  },
  {
   "cell_type": "code",
   "execution_count": null,
   "metadata": {},
   "outputs": [],
   "source": [
    "Eth = 1/(sim_gammaICM-1)*M/sim_mu*gasConst*(tempBG-T_ad)\n",
    "plt.plot(r/kpc, Eth, label='thermal energy')\n",
    "plt.plot(r[i0+1:]/kpc, W, label='work')\n",
    "plt.axvline(r[i0]/kpc, ls=':', color='k')\n",
    "plt.legend()\n",
    "plt.grid()"
   ]
  },
  {
   "cell_type": "code",
   "execution_count": null,
   "metadata": {},
   "outputs": [],
   "source": [
    "xi = (Eth[i0+1:]-W)/W\n",
    "print(xi[-1])\n",
    "plt.plot(r[i0+1:]/kpc, xi)\n",
    "plt.semilogy()\n",
    "plt.axhline(1, ls=':', color='k')\n",
    "plt.grid()"
   ]
  },
  {
   "cell_type": "code",
   "execution_count": null,
   "metadata": {},
   "outputs": [],
   "source": [
    "ls = {10: ['solid', 2],\n",
    "      20: ['dotted', 2],\n",
    "      40: ['dashed', 1],\n",
    "      65: ['solid', 1],\n",
    "      100: ['dotted', 1]}\n",
    "\n",
    "colors = {10: 'C0', 20: 'C1', 40: 'C2', 65: 'C3', 100: 'C4'}\n",
    "\n",
    "radii = colors.keys()\n",
    "\n",
    "plt.figure(figsize=(4,2.5))\n",
    "\n",
    "for r0 in radii:\n",
    "    i0 = r0-rmin\n",
    "    print('initial radius = %.1f kpc' % (r[i0]/kpc))\n",
    "    \n",
    "    V_ad = M/densityBG[i0]*(pressureBG/pressureBG[i0])**(-1/sim_gammaICM)\n",
    "    rho_ad = densityBG[i0]*(pressureBG/pressureBG[i0])**(1/sim_gammaICM)\n",
    "    Fg = (rho_ad-densityBG)*V_ad*grav\n",
    "    W = integrate.cumtrapz(-Fg[i0:], r[i0:])\n",
    "    \n",
    "    T_ad = tempBG[i0]*(pressureBG/pressureBG[i0])/(rho_ad/densityBG[i0])\n",
    "    Eth = 1/(sim_gammaICM-1)*M/sim_mu*gasConst*(tempBG[i0+1:]-T_ad[i0+1:])\n",
    "    \n",
    "    xi = (Eth-W)/W\n",
    "    plt.plot(r[i0+1:]/kpc, xi, label=r'$R_0$ = %.1f kpc' % (r[i0]/kpc),\n",
    "             color=colors[r0], ls=ls[r0][0], lw=ls[r0][1])\n",
    "plt.legend(fontsize=8)\n",
    "plt.semilogy()\n",
    "#plt.semilogx()\n",
    "plt.axhline(1, ls=':', color='k')\n",
    "plt.grid(alpha=0.4, ls='--')\n",
    "plt.ylabel(r'$\\Delta\\xi_{\\rm{max}} \\equiv \\frac{E_{th}-W}{W}$')\n",
    "plt.xlabel(r'R (kpc)')\n",
    "plt.ylim(0.1, 10)\n",
    "plt.xlim(0, rmax)\n",
    "plt.savefig('gain_efficiency_perseus.pdf', bbox_inches='tight')"
   ]
  },
  {
   "cell_type": "code",
   "execution_count": null,
   "metadata": {},
   "outputs": [],
   "source": [
    "ls = {10: ['solid', 2],\n",
    "      20: ['dotted', 2],\n",
    "      40: ['dashed', 1],\n",
    "      65: ['solid', 1],\n",
    "      100: ['dotted', 1]}\n",
    "\n",
    "colors = {10: 'C0', 20: 'C1', 40: 'C2', 65: 'C3', 100: 'C4'}\n",
    "\n",
    "radii = colors.keys()\n",
    "\n",
    "plt.figure(figsize=(4,2.5))\n",
    "\n",
    "for r0 in radii:\n",
    "    i0 = r0-rmin\n",
    "    print('initial radius = %.1f kpc' % (r[i0]/kpc))\n",
    "    \n",
    "    V_ad = M/densityBG[i0]*(pressureBG/pressureBG[i0])**(-1/sim_gammaICM)\n",
    "    rho_ad = densityBG[i0]*(pressureBG/pressureBG[i0])**(1/sim_gammaICM)\n",
    "    Fg = (rho_ad-densityBG)*V_ad*grav\n",
    "    W = integrate.cumtrapz(-Fg[i0:], r[i0:])\n",
    "\n",
    "    T_ad = tempBG[i0]*(pressureBG/pressureBG[i0])/(rho_ad/densityBG[i0])\n",
    "    Eth = 1/(sim_gammaICM-1)*M/sim_mu*gasConst*(tempBG[i0+1:]-T_ad[i0+1:])\n",
    "    \n",
    "    #dE = (Eth-W)/M/(-grav[i0])/r[i0]\n",
    "    dE = (Eth-W)/M/1E15\n",
    "    plt.plot(r[i0+1:]/kpc, dE, label=r'$R_0$ = %.1f kpc' % (r[i0]/kpc),\n",
    "             color=colors[r0], ls=ls[r0][0], lw=ls[r0][1])\n",
    "plt.legend(fontsize=8, ncol=2, frameon=False)\n",
    "#plt.semilogy()\n",
    "#plt.semilogx()\n",
    "plt.axhline(0, ls='-', lw=1, color='k', alpha=0.7)\n",
    "plt.grid(alpha=0.4, ls='--')\n",
    "#plt.ylabel(r'$\\Delta \\epsilon_{\\rm{max}} \\equiv \\frac{E_{th}-W}{M g_0 R_0}$')\n",
    "plt.ylabel(r'$\\Delta \\epsilon_{\\rm{max}} \\equiv \\frac{E_{th}-W}{M}$ (10$^{15}$erg/g)')\n",
    "plt.xlabel(r'radius R (kpc)')\n",
    "#plt.ylim(0.1, 50)\n",
    "plt.xlim(0, rmax)\n",
    "plt.savefig('energy_gain_perseus.pdf', bbox_inches='tight')"
   ]
  },
  {
   "cell_type": "code",
   "execution_count": null,
   "metadata": {},
   "outputs": [],
   "source": [
    "ls = {10: ['solid', 2],\n",
    "      20: ['dotted', 2],\n",
    "      40: ['dashed', 1],\n",
    "      65: ['solid', 1],\n",
    "      100: ['dotted', 1]}\n",
    "\n",
    "colors = {10: 'C0', 20: 'C1', 40: 'C2', 65: 'C3', 100: 'C4'}\n",
    "\n",
    "radii = colors.keys()\n",
    "\n",
    "plt.figure(figsize=(4,2.5))\n",
    "\n",
    "for r0 in radii:\n",
    "    i0 = r0-rmin\n",
    "    print('initial radius = %.1f kpc' % (r[i0]/kpc))\n",
    "    V_ad = M/densityBG[i0]*(pressureBG/pressureBG[i0])**(-1/sim_gammaICM)\n",
    "    rho_ad = densityBG[i0]*(pressureBG/pressureBG[i0])**(1/sim_gammaICM)\n",
    "    Fg = (rho_ad-densityBG)*V_ad*grav\n",
    "    W = integrate.cumtrapz(-Fg[i0:], r[i0:])\n",
    "    \n",
    "    T_ad = tempBG[i0]*(pressureBG/pressureBG[i0])/(rho_ad/densityBG[i0])\n",
    "    Eth = 1/(sim_gammaICM-1)*M/sim_mu*gasConst*(tempBG[i0+1:]-T_ad[i0+1:])\n",
    "    \n",
    "    xi = (Eth)/W\n",
    "    plt.plot(r[i0+1:]/kpc, xi, label=r'$R_0$ = %.1f kpc' % (r[i0]/kpc),\n",
    "             color=colors[r0], ls=ls[r0][0], lw=ls[r0][1])\n",
    "plt.legend(fontsize=8, frameon=False)\n",
    "plt.semilogy()\n",
    "#plt.semilogx()\n",
    "plt.axhline(1, ls=':', color='k')\n",
    "plt.grid(alpha=0.4, ls='--')\n",
    "plt.ylabel(r'$\\xi_{\\rm{max}} \\equiv \\frac{E_{th}}{W}$')\n",
    "plt.xlabel(r'radius R (kpc)')\n",
    "plt.ylim(0.5, 20)\n",
    "plt.xlim(0, rmax)\n",
    "plt.savefig('energy_efficiency_perseus.pdf', bbox_inches='tight')"
   ]
  },
  {
   "cell_type": "code",
   "execution_count": null,
   "metadata": {},
   "outputs": [],
   "source": [
    "(gasConst*tempBG/sim_mu) / (grav*r/(3*sim_densityBeta-d))"
   ]
  },
  {
   "cell_type": "code",
   "execution_count": null,
   "metadata": {
    "collapsed": false
   },
   "outputs": [],
   "source": []
  }
 ],
 "metadata": {
  "kernelspec": {
   "display_name": "Python 3",
   "language": "python",
   "name": "python3"
  },
  "language_info": {
   "codemirror_mode": {
    "name": "ipython",
    "version": 3
   },
   "file_extension": ".py",
   "mimetype": "text/x-python",
   "name": "python",
   "nbconvert_exporter": "python",
   "pygments_lexer": "ipython3",
   "version": "3.6.8"
  }
 },
 "nbformat": 4,
 "nbformat_minor": 1
}
