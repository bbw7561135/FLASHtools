{
 "cells": [
  {
   "cell_type": "code",
   "execution_count": null,
   "metadata": {},
   "outputs": [],
   "source": [
    "import numpy as np\n",
    "import matplotlib.pyplot as plt"
   ]
  },
  {
   "cell_type": "code",
   "execution_count": null,
   "metadata": {},
   "outputs": [],
   "source": [
    "P = 0.0\n",
    "B_z = 0.0\n",
    "\n",
    "rr = np.linspace(0.0, 1.0, 100)\n",
    "\n",
    "\n",
    "class Hat(object):\n",
    "    def __init__(self, r1, r2, type='linear'):\n",
    "        self.r1 = r1\n",
    "        self.r2 = r2\n",
    "        self.func = getattr(self, type)\n",
    "    \n",
    "    def value(self, r):\n",
    "        return self.func(r)\n",
    "        \n",
    "    def linear(self, r):\n",
    "        r1 = self.r1\n",
    "        r2 = self.r2\n",
    "        if r < r1:\n",
    "            return r/r1\n",
    "        if r >= r1 and r <= r2:\n",
    "            return 1.0\n",
    "        if r > r2:\n",
    "            return 1.0 - (r-r2)/r1\n",
    "        \n",
    "    def poly(self, r):\n",
    "        r1 = self.r1\n",
    "        r2 = self.r2\n",
    "        if r < r1:\n",
    "            return -2.0/(r1**3)*r**3 + 3.0/(r1**2)*r**2\n",
    "        if r >= r1 and r <= r2:\n",
    "            return 1.0\n",
    "        if r > r2:\n",
    "            return -2.0/(1-r2)**3*(1-r)**3 + 3.0/(1-r2)**2*(1-r)**2\n",
    "    \n",
    "    def sin(self, r):\n",
    "        r1 = self.r1\n",
    "        r2 = self.r2\n",
    "        if r < r1:\n",
    "            return 0.5 - 0.5*np.cos(r/r1*np.pi)\n",
    "        if r >= r1 and r <= r2:\n",
    "            return 1.0\n",
    "        if r > r2:\n",
    "            return  0.5 + 0.5*np.cos((r-r2)/r1*np.pi)\n",
    "    \n",
    "def B_phi(rr, r1=0.1, r2=0.9, type='linear'):\n",
    "    hat = Hat(r1, r2, type=type)\n",
    "    return np.array([hat.value(r) for r in rr])"
   ]
  },
  {
   "cell_type": "code",
   "execution_count": null,
   "metadata": {},
   "outputs": [],
   "source": [
    "Bp = B_phi(rr, r1=0.2, r2=0.8, type='poly')\n",
    "Bs = B_phi(rr, r1=0.2, r2=0.8, type='sin')\n",
    "Bl = B_phi(rr, r1=0.2, r2=0.8, type='linear')"
   ]
  },
  {
   "cell_type": "code",
   "execution_count": null,
   "metadata": {},
   "outputs": [],
   "source": [
    "plt.plot(rr, Bp, label='polynomial')\n",
    "plt.plot(rr, Bs, label='sinusoidal')\n",
    "plt.plot(rr, Bl, label='linear')\n",
    "plt.legend(loc=8)"
   ]
  },
  {
   "cell_type": "code",
   "execution_count": null,
   "metadata": {},
   "outputs": [],
   "source": [
    "#fig = plt.figure(figsize=(6,4))\n",
    "plt.xlabel(r'$\\rho$')\n",
    "plt.ylabel(r'$B_{\\phi}$')\n",
    "plt.plot(rr, Bp, label='polynomial')"
   ]
  },
  {
   "cell_type": "code",
   "execution_count": null,
   "metadata": {},
   "outputs": [],
   "source": []
  },
  {
   "cell_type": "code",
   "execution_count": null,
   "metadata": {},
   "outputs": [],
   "source": []
  }
 ],
 "metadata": {
  "kernelspec": {
   "display_name": "Python 3",
   "language": "python",
   "name": "python3"
  },
  "language_info": {
   "codemirror_mode": {
    "name": "ipython",
    "version": 3
   },
   "file_extension": ".py",
   "mimetype": "text/x-python",
   "name": "python",
   "nbconvert_exporter": "python",
   "pygments_lexer": "ipython3",
   "version": "3.6.1"
  }
 },
 "nbformat": 4,
 "nbformat_minor": 1
}
