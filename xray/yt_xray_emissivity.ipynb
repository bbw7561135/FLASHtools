{
 "cells": [
  {
   "cell_type": "code",
   "execution_count": null,
   "metadata": {
    "collapsed": false
   },
   "outputs": [],
   "source": [
    "%matplotlib inline\n",
    "import os\n",
    "import yt\n",
    "yt.mylog.setLevel(\"WARNING\")\n",
    "import numpy as np\n",
    "import matplotlib\n",
    "matplotlib.rcParams['font.family'] = 'stixgeneral'\n",
    "matplotlib.rcParams['figure.dpi'] = 150\n",
    "import matplotlib.pyplot as plt\n",
    "\n",
    "#@yt.derived_field('xray_')\n",
    "#def _xray_exclude_jet(field, data):\n",
    "    "
   ]
  },
  {
   "cell_type": "code",
   "execution_count": null,
   "metadata": {},
   "outputs": [],
   "source": [
    "dirs = ['/d/d5/ychen/2015_production_runs/0204_hinf_10Myr/',\\\n",
    "        '/d/d5/ychen/2015_production_runs/1022_h1_10Myr/',\\\n",
    "        '/d/d5/ychen/2015_production_runs/0204_h0_10Myr/',]\n",
    "\n",
    "filenumbers = [100, 200, 600, 910, 1050]\n",
    "\n",
    "labels = ['toroidal', 'helical', 'poloidal']\n",
    "zoom_fac = 6\n",
    "metallicity = 0.5\n",
    "data = {}\n",
    "for j, dir in enumerate(dirs[1:2]):\n",
    "    times = np.zeros(len(filenumbers))\n",
    "    xray_lum = np.zeros(len(filenumbers))\n",
    "    for i, filenumber in enumerate(filenumbers[:]):\n",
    "\n",
    "        # Load the data and create a single plot\n",
    "        ds = yt.load(os.path.join(dir, 'data/MHD_Jet_10Myr_hdf5_plt_cnt_%04d' % filenumber))\n",
    "        times[i] = ds.current_time.in_units('Myr')\n",
    "        xray_fields = yt.add_xray_emissivity_field(ds, 0.1, 100, table_type='apec', metallicity=metallicity)\n",
    "        emis, l, pemis = xray_fields\n",
    "        box = ds.box(ds.domain_left_edge/zoom_fac, ds.domain_right_edge/zoom_fac)\n",
    "        print(dir, filenumber, ds.current_time.in_units('Myr'))\n",
    "        xray_lum[i] = box.quantities.total_quantity(l)\n"
   ]
  },
  {
   "cell_type": "code",
   "execution_count": null,
   "metadata": {},
   "outputs": [],
   "source": [
    "times = np.array([1.584457825611463, 3.1689045195099665, 9.506526296590856, 51.82957048885901, 99.36638020798718])\n",
    "plt.plot(times, xray_lum, 'o-')\n",
    "plt.xlabel('time (Myr)')\n",
    "plt.ylabel('X-ray luminosity (erg/s)')"
   ]
  },
  {
   "cell_type": "code",
   "execution_count": null,
   "metadata": {
    "collapsed": false
   },
   "outputs": [],
   "source": [
    "metallicity = 0.5\n",
    "ds = yt.load('/home/ychen/data/0only_0529_h1/data/MHD_Jet_hdf5_plt_cnt_0000')\n",
    "xray_fields = yt.add_xray_emissivity_field(ds, 0.1, 100, table_type='apec', metallicity=metallicity)\n",
    "sp = ds.sphere([0,0,0], (100, 'kpc'))\n",
    "emis, l, pemis = xray_fields\n"
   ]
  },
  {
   "cell_type": "code",
   "execution_count": null,
   "metadata": {
    "collapsed": false
   },
   "outputs": [],
   "source": [
    "mask = sp['jet '] < 0.1"
   ]
  },
  {
   "cell_type": "code",
   "execution_count": null,
   "metadata": {
    "collapsed": false
   },
   "outputs": [],
   "source": [
    "kB = yt.physical_constants.kboltz\n",
    "t_cool = sp['pressure']*sp['cell_volume']/sp[l]"
   ]
  },
  {
   "cell_type": "code",
   "execution_count": null,
   "metadata": {},
   "outputs": [],
   "source": [
    "t_cool.in_units('Myr')"
   ]
  },
  {
   "cell_type": "code",
   "execution_count": null,
   "metadata": {},
   "outputs": [],
   "source": [
    "plt.scatter(t_cool.in_units('Myr'), sp['spherical_radius'].in_units('kpc'), c=sp['jet '], s=1, lw=0)"
   ]
  },
  {
   "cell_type": "code",
   "execution_count": null,
   "metadata": {},
   "outputs": [],
   "source": [
    "plot = yt.SlicePlot(ds, 'x', emis)\n",
    "plot.zoom(6)\n",
    "plot.show()"
   ]
  },
  {
   "cell_type": "code",
   "execution_count": null,
   "metadata": {},
   "outputs": [],
   "source": [
    "ds = yt.load(os.path.join(dirs[1], 'data/MHD_Jet_10Myr_hdf5_plt_cnt_0600'))\n",
    "xray_fields = yt.add_xray_emissivity_field(ds, 0.1, 100.0, table_type='apec', metallicity=metallicity)\n",
    "plot = yt.ProjectionPlot(ds, 'x', xray_fields[0])\n",
    "plot.zoom(6)\n",
    "plot.show()"
   ]
  },
  {
   "cell_type": "code",
   "execution_count": null,
   "metadata": {},
   "outputs": [],
   "source": [
    "plot = yt.ProjectionPlot(ds, 'z', emis)\n",
    "plot.zoom(6)\n",
    "plot.show()"
   ]
  },
  {
   "cell_type": "code",
   "execution_count": null,
   "metadata": {
    "collapsed": false
   },
   "outputs": [],
   "source": [
    "ds = yt.load(os.path.join(dirs[1], 'data/MHD_Jet_10Myr_hdf5_plt_cnt_0600'))\n",
    "xray_fields = yt.add_xray_emissivity_field(ds, 0.1, 100, table_type='apec', metallicity=metallicity)\n",
    "emis, l, pemis = xray_fields"
   ]
  },
  {
   "cell_type": "code",
   "execution_count": null,
   "metadata": {},
   "outputs": [],
   "source": [
    "yt.ProfilePlot(ds.all_data(), 'temperature', l, weight_field=None)"
   ]
  },
  {
   "cell_type": "code",
   "execution_count": null,
   "metadata": {},
   "outputs": [],
   "source": [
    "yt.ProfilePlot(ds.all_data(), 'jet ', l, weight_field=None, accumulation=True, x_log=False, y_log={l:False})"
   ]
  },
  {
   "cell_type": "code",
   "execution_count": null,
   "metadata": {},
   "outputs": [],
   "source": [
    "yt.PhasePlot(ds.all_data(), 'spherical_r', l, 'temperature')"
   ]
  },
  {
   "cell_type": "code",
   "execution_count": null,
   "metadata": {
    "collapsed": false
   },
   "outputs": [],
   "source": [
    "import h5py\n",
    "h5f = h5py.File('apec_emissivity_v2.h5', 'r')"
   ]
  },
  {
   "cell_type": "code",
   "execution_count": null,
   "metadata": {
    "scrolled": false
   },
   "outputs": [],
   "source": [
    "for k, v in h5f.items():\n",
    "    print(k, v)"
   ]
  },
  {
   "cell_type": "code",
   "execution_count": null,
   "metadata": {
    "collapsed": false
   },
   "outputs": [],
   "source": [
    "E = h5f['E'].value\n",
    "dE = np.diff(E)\n",
    "emissivity_primordial = h5f['emissivity_primordial'].value\n",
    "emissivity_metals =h5f['emissivity_metals'].value\n",
    "log_T = h5f['log_T'].value\n",
    "h5f.close()\n"
   ]
  },
  {
   "cell_type": "code",
   "execution_count": null,
   "metadata": {},
   "outputs": [],
   "source": [
    "E"
   ]
  },
  {
   "cell_type": "code",
   "execution_count": null,
   "metadata": {},
   "outputs": [],
   "source": [
    "mask = E[1:] > 0.1\n",
    "plt.plot(log_T, np.sum(emissivity_primordial[:,mask]*dE[mask], axis=-1), label='primordial')\n",
    "plt.plot(log_T, np.sum(emissivity_metals[:,mask]*dE[mask], axis=-1), label='metals')\n",
    "plt.plot(log_T, np.sum((emissivity_primordial[:,mask]+emissivity_metals[:,mask])*dE[mask], axis=-1), label='total (Z=1)')\n",
    "#plt.plot(log_T, np.sum((emissivity_primordial.value+0.5*emissivity_metals.value)*ebin, axis=-1), label='total (Z=0.5)')\n",
    "plt.legend()\n",
    "plt.xlabel('log T')\n",
    "plt.ylabel(r'x-ray (0.1-100 keV) cooling rate (erg cm$^3$/s)')\n",
    "plt.semilogy()\n",
    "plt.ylim(1E-25, 1E-22)"
   ]
  },
  {
   "cell_type": "code",
   "execution_count": null,
   "metadata": {
    "collapsed": false
   },
   "outputs": [],
   "source": [
    "import h5py\n",
    "h5fc = h5py.File('cloudy_emissivity_v2.h5', 'r')"
   ]
  },
  {
   "cell_type": "code",
   "execution_count": null,
   "metadata": {},
   "outputs": [],
   "source": [
    "for k, v in h5fc.items():\n",
    "    print(k, v)"
   ]
  },
  {
   "cell_type": "code",
   "execution_count": null,
   "metadata": {
    "collapsed": false
   },
   "outputs": [],
   "source": [
    "E = h5fc['E']\n",
    "ebin = np.diff(E)\n",
    "emissivity_primordial = h5fc['emissivity_primordial'][-1,:,:]\n",
    "emissivity_metals =h5fc['emissivity_metals'][-1,:,:]\n",
    "log_T = h5fc['log_T']\n",
    "log_nH = h5fc['log_nH']"
   ]
  },
  {
   "cell_type": "code",
   "execution_count": null,
   "metadata": {},
   "outputs": [],
   "source": [
    "plt.plot(log_T, np.sum(emissivity_primordial*ebin, axis=-1), label='primordial')\n",
    "plt.plot(log_T, np.sum(emissivity_metals*ebin, axis=-1), label='metals')\n",
    "plt.plot(log_T, np.sum((emissivity_primordial+emissivity_metals)*ebin, axis=-1), label='total (Z=1)')\n",
    "#plt.plot(log_T, np.sum((emissivity_primordial.value+0.5*emissivity_metals.value)*ebin, axis=-1), label='total (Z=0.5)')\n",
    "plt.legend()\n",
    "plt.xlabel('log T')\n",
    "plt.semilogy()\n",
    "plt.ylim(1E-25, 1E-22)"
   ]
  },
  {
   "cell_type": "code",
   "execution_count": null,
   "metadata": {},
   "outputs": [],
   "source": [
    "log_nH.value"
   ]
  },
  {
   "cell_type": "code",
   "execution_count": null,
   "metadata": {
    "collapsed": false
   },
   "outputs": [],
   "source": []
  }
 ],
 "metadata": {
  "kernelspec": {
   "display_name": "Python 3",
   "language": "python",
   "name": "python3"
  },
  "language_info": {
   "codemirror_mode": {
    "name": "ipython",
    "version": 3
   },
   "file_extension": ".py",
   "mimetype": "text/x-python",
   "name": "python",
   "nbconvert_exporter": "python",
   "pygments_lexer": "ipython3",
   "version": "3.6.1"
  }
 },
 "nbformat": 4,
 "nbformat_minor": 1
}
