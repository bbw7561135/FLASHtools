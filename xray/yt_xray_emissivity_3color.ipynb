{
 "cells": [
  {
   "cell_type": "code",
   "execution_count": null,
   "metadata": {},
   "outputs": [],
   "source": [
    "%matplotlib inline\n",
    "#%pdb\n",
    "import numpy as np\n",
    "import matplotlib.pyplot as plt\n",
    "import yt\n",
    "from yt.analysis_modules.spectral_integrator.api import \\\n",
    "     add_xray_emissivity_field\n",
    "\n",
    "dir ='/home/ychen/d9/FLASH4/stampede/0529_L45_M10_b1_h1/'\n",
    "fname = dir+'MHD_Jet_hdf5_plt_cnt_0620'\n",
    "\n",
    "energy_ranges = [(0.3, 1.5), (1.5, 3.5), (3.5, 7.0)]\n",
    "\n",
    "ds = yt.load(fname)\n",
    "\n",
    "for energy_range in energy_ranges:\n",
    "    print add_xray_emissivity_field(ds, *energy_range, with_metals=False, constant_metallicity=0.02)\n"
   ]
  },
  {
   "cell_type": "code",
   "execution_count": null,
   "metadata": {},
   "outputs": [],
   "source": [
    "fnames = ['xray_emissivity_%.1f_%.1f_keV' % er for er in energy_ranges]\n",
    "proj = ds.proj(['xray_emissivity_%.1f_%.1f_keV' % er for er in energy_ranges], 'y')"
   ]
  },
  {
   "cell_type": "code",
   "execution_count": null,
   "metadata": {},
   "outputs": [],
   "source": [
    "ext = ds.arr([-1.544E23, 1.544E23, -7.72E22, 7.72E22], input_units='code_length')\n",
    "frb = proj.to_frb(ext[1]-ext[0], (1024,512), height=(ext[3]-ext[2]))\n",
    "#image = np.array([frb[fname]/frb[fname].max() for fname in fnames]).transpose([1,2,0])\n",
    "image = np.array([frb[fname] for fname in fnames]).transpose([1,2,0])\n",
    "\n",
    "print image.shape\n",
    "print image[:,:,0].max()\n",
    "print image[:,:,1].max()\n",
    "print image[:,:,2].max()\n",
    "image = image/image.max()"
   ]
  },
  {
   "cell_type": "code",
   "execution_count": null,
   "metadata": {},
   "outputs": [],
   "source": [
    "import matplotlib.pyplot as plt\n",
    "plt.figure(figsize = (20,10))\n",
    "plt.imshow(image, origin='lower', extent=ext.in_units('kpc'))\n",
    "plt.xlabel('z (kpc)')\n",
    "plt.ylabel('x (kpc)')\n",
    "\n",
    "plt.show()"
   ]
  },
  {
   "cell_type": "code",
   "execution_count": null,
   "metadata": {},
   "outputs": [],
   "source": [
    "fnames = ['xray_emissivity_%.1f_%.1f_keV' % er for er in energy_ranges]\n",
    "proj = ds.proj(['xray_emissivity_%.1f_%.1f_keV' % er for er in energy_ranges], 'z')"
   ]
  },
  {
   "cell_type": "code",
   "execution_count": null,
   "metadata": {},
   "outputs": [],
   "source": [
    "ext = ds.arr([-7.72E22, 7.72E22, -7.72E22, 7.72E22], input_units='code_length')\n",
    "frb = proj.to_frb(ext[1]-ext[0], (512,512), height=(ext[3]-ext[2]))\n",
    "#image = np.array([frb[fname]/frb[fname].max() for fname in fnames]).transpose([1,2,0])\n",
    "image = np.array([frb[fname] for fname in fnames]).transpose([1,2,0])\n",
    "print image.shape\n",
    "image = image/image.max()\n",
    "\n",
    "plt.figure(figsize = (10,10))\n",
    "plt.imshow(image, origin='lower', extent=ext.in_units('kpc'))\n",
    "plt.xlabel('z (kpc)')\n",
    "plt.ylabel('x (kpc)')\n",
    "plt.show()"
   ]
  },
  {
   "cell_type": "code",
   "execution_count": null,
   "metadata": {},
   "outputs": [],
   "source": [
    "oaprojplot = yt.OffAxisProjectionPlot(ds, (0.0, 0.5, 1.0), 'xray_emissivity_0.3_1.5_keV', max_level=4)"
   ]
  },
  {
   "cell_type": "code",
   "execution_count": null,
   "metadata": {},
   "outputs": [],
   "source": [
    "oaprojplot.zoom(10)\n",
    "oaprojplot.show()"
   ]
  },
  {
   "cell_type": "code",
   "execution_count": null,
   "metadata": {},
   "outputs": [],
   "source": [
    "from yt.visualization.plot_window import get_oblique_window_parameters, OffAxisProjectionDummyDataSource, PWViewerMPL\n",
    "from yt.visualization.fixed_resolution import OffAxisProjectionFixedResolutionBuffer\n",
    "normal = (0.0, 0.5, 1.0)\n",
    "center = (0.0, 0.0, 0.0)\n",
    "width = (40, 'kpc')\n",
    "depth = (40, 'kpc')\n",
    "max_level=4\n",
    "fields = ['xray_emissivity_%.1f_%.1f_keV' % er for er in energy_ranges]\n",
    "\n",
    "(bounds, center_rot) = get_oblique_window_parameters(normal,center,width,ds,depth=depth)"
   ]
  },
  {
   "cell_type": "code",
   "execution_count": null,
   "metadata": {},
   "outputs": [],
   "source": [
    "axes_unit=None; weight_field=None\n",
    "north_vector=None; volume=None; no_ghost=False,\n",
    "le=None; re=None; interpolated=False; method=\"integrate\"\n",
    "oap_width = ds.arr((bounds[1] - bounds[0], bounds[3] - bounds[2], bounds[5] - bounds[4]))\n",
    "OffAxisProj = OffAxisProjectionDummyDataSource(center_rot, ds, normal, oap_width, fields, interpolated, \\\n",
    "                                               weight=weight_field,  volume=volume, no_ghost=no_ghost, \\\n",
    "                                               le=le, re=re, north_vector=north_vector, method=method)\n",
    "OffAxisProj.dd.max_level = max_level"
   ]
  },
  {
   "cell_type": "code",
   "execution_count": null,
   "metadata": {},
   "outputs": [],
   "source": [
    "OffAxisProj"
   ]
  },
  {
   "cell_type": "code",
   "execution_count": null,
   "metadata": {},
   "outputs": [],
   "source": [
    "#%pdb\n",
    "class OffAxisProjection(PWViewerMPL):\n",
    "    _plot_type = 'OffAxisSlice'\n",
    "    _frb_generator = OffAxisProjectionFixedResolutionBuffer\n",
    "\n",
    "plot = OffAxisProjection(OffAxisProj, bounds, fields=fields, origin='center-window',\\\n",
    "                    periodic=False, oblique=True, fontsize=18)"
   ]
  },
  {
   "cell_type": "code",
   "execution_count": null,
   "metadata": {},
   "outputs": [],
   "source": [
    "p = plot['xray_emissivity_0.3_1.5_keV']"
   ]
  },
  {
   "cell_type": "code",
   "execution_count": null,
   "metadata": {},
   "outputs": [],
   "source": [
    "r = plot['xray_emissivity_0.3_1.5_keV'].image._A\n",
    "g = plot['xray_emissivity_1.5_3.5_keV'].image._A\n",
    "b = plot['xray_emissivity_3.5_7.0_keV'].image._A\n",
    "image = np.array([r,g,b]).transpose([1,2,0])\n",
    "image = image/image.max()"
   ]
  },
  {
   "cell_type": "code",
   "execution_count": null,
   "metadata": {},
   "outputs": [],
   "source": [
    "print image[:,:,0].max()\n",
    "print image[:,:,1].max()\n",
    "print image[:,:,2].max()"
   ]
  },
  {
   "cell_type": "code",
   "execution_count": null,
   "metadata": {},
   "outputs": [],
   "source": [
    "plt.figure(figsize = (10,10))\n",
    "plt.imshow(image, origin='lower')\n",
    "#plt.xlabel('z (kpc)')\n",
    "#plt.ylabel('x (kpc)')\n",
    "plt.show()"
   ]
  },
  {
   "cell_type": "code",
   "execution_count": null,
   "metadata": {
    "collapsed": false
   },
   "outputs": [],
   "source": []
  }
 ],
 "metadata": {
  "kernelspec": {
   "display_name": "Python 3",
   "language": "python",
   "name": "python3"
  },
  "language_info": {
   "codemirror_mode": {
    "name": "ipython",
    "version": 3
   },
   "file_extension": ".py",
   "mimetype": "text/x-python",
   "name": "python",
   "nbconvert_exporter": "python",
   "pygments_lexer": "ipython3",
   "version": "3.6.1"
  }
 },
 "nbformat": 4,
 "nbformat_minor": 1
}
