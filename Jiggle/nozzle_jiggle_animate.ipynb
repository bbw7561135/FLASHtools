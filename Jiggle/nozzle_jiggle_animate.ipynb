{
 "cells": [
  {
   "cell_type": "code",
   "execution_count": null,
   "metadata": {},
   "outputs": [],
   "source": [
    "import os\n",
    "import matplotlib.pyplot as plt\n",
    "import numpy as np\n",
    "import matplotlib\n",
    "from matplotlib import animation, rc\n",
    "from IPython.display import HTML\n",
    "matplotlib.rcParams['savefig.dpi'] = 100\n"
   ]
  },
  {
   "cell_type": "code",
   "execution_count": null,
   "metadata": {},
   "outputs": [],
   "source": [
    "#dirname='/home/ychen/data/0529_L45_M10_b1_h1'\n",
    "dirname='/home/ychen/data/0602_L45_M10_hydro'\n",
    "#dirname='/home/ychen/data/0605_L45_M10_b1_hinf'\n",
    "#dirname='/home/ychen/d9/FLASH4/MHD_Jet_3D/0522_nozzle_restart'\n",
    "simtitle = dirname.split('/')[-1]\n",
    "\n",
    "nozzledata = np.genfromtxt(os.path.join(dirname, 'nozzleVec.dat'))\n",
    "\n",
    "endstep=6500\n",
    "\n",
    "#endstep=-1\n",
    "nstep = nozzledata[:,0]\n",
    "ttnoz = nozzledata[:,1]\n",
    "xx = nozzledata[:,2]\n",
    "yy = nozzledata[:,3]\n",
    "zz = nozzledata[:,4]\n",
    "\n",
    "\n",
    "if False:\n",
    "    nozzledata2 = np.genfromtxt(os.path.join(dirname, 'nozzleVec.dat.bak'))\n",
    "    ttnoz2 = nozzledata2[:,1]\n",
    "    xx2 = nozzledata2[:,2]\n",
    "    yy2 = nozzledata2[:,3]\n",
    "    zz2 = nozzledata2[:,4]\n",
    "    thetas2 = np.arccos(zz2)/np.pi*180\n",
    "    phis2 = np.arctan2(yy2, xx2)\n",
    "    ax.plot(phis2, thetas2, c='r', lw=0.5, alpha=0.5)\n",
    "\n",
    "thetas = np.arccos(zz)/np.pi*180\n",
    "phis = np.arctan2(yy, xx)\n",
    "fig = plt.figure(figsize=(6,6))\n",
    "ax = plt.subplot(111, polar=True)\n",
    "\n",
    "def plot_jiggle(endstep):\n",
    "    ax.clear()\n",
    "    ax.plot(phis[:endstep], thetas[:endstep], alpha=0.2)#, s=0.2, lw=0, alpha=0.2)\n",
    "    \n",
    "    ax.set_rlim(0,20)\n",
    "    ax.set_title(simtitle,loc='left')\n",
    "    ax.text(np.pi/4., 28, endstep, ha='right')\n",
    "    #ax.plot(phis, thetas, alpha=0.5)\n",
    "    \n",
    "\n",
    "    \n",
    "    tmyr=int(ttnoz[endstep]/3.15569E13)\n",
    "    for i in range(1,tmyr+1):\n",
    "        arg = np.argmin(abs(ttnoz-i*3.15569e13))\n",
    "        ax.scatter(phis[arg], thetas[arg], marker='x', color='r', s=4)\n",
    "        ax.annotate('%i Myr' % i, xy=(phis[arg], thetas[arg]), size=6, bbox=dict(facecolor='w', lw=0, alpha=0.6))\n",
    "    #plt.show()\n",
    "    plt.savefig('./jiggle_figures/%s_%06.0f.png' % (simtitle, endstep))\n",
    "    #print './jiggle_figures/%s_%06.0f.png' % (simtitle, endstep)\n",
    "\n",
    "for step in nstep[-1000:]:\n",
    "    if (step % 200) == 0:\n",
    "        plot_jiggle(int(step))\n"
   ]
  },
  {
   "cell_type": "code",
   "execution_count": null,
   "metadata": {},
   "outputs": [],
   "source": [
    "%pdb"
   ]
  },
  {
   "cell_type": "code",
   "execution_count": null,
   "metadata": {},
   "outputs": [],
   "source": [
    "# First set up the figure, the axis, and the plot element we want to animate\n",
    "fig, ax = plt.subplots()\n",
    "\n",
    "ax.set_xlim(( 0, 2))\n",
    "ax.set_ylim((-2, 2))\n",
    "\n",
    "line, = ax.plot([], [], lw=2)\n",
    "\n",
    "# initialization function: plot the background of each frame\n",
    "def init():\n",
    "    line.set_data([], [])\n",
    "    return (line,)\n",
    "\n",
    "# animation function. This is called sequentially\n",
    "def animate(i):\n",
    "    x = np.linspace(0, 2, 1000)\n",
    "    y = np.sin(2 * np.pi * (x - 0.01 * i))\n",
    "    line.set_data(x, y)\n",
    "    return (line,)\n",
    "\n",
    "# call the animator. blit=True means only re-draw the parts that have changed.\n",
    "anim = animation.FuncAnimation(fig, animate, init_func=init,\n",
    "                               frames=100, interval=20, blit=True)\n",
    "\n",
    "HTML(anim.to_html5_video())\n",
    "\n",
    "# equivalent to rcParams['animation.html'] = 'html5'\n",
    "rc('animation', html='html5')\n",
    "\n"
   ]
  },
  {
   "cell_type": "code",
   "execution_count": null,
   "metadata": {
    "collapsed": false
   },
   "outputs": [],
   "source": []
  }
 ],
 "metadata": {
  "kernelspec": {
   "display_name": "Python 3",
   "language": "python",
   "name": "python3"
  },
  "language_info": {
   "codemirror_mode": {
    "name": "ipython",
    "version": 3
   },
   "file_extension": ".py",
   "mimetype": "text/x-python",
   "name": "python",
   "nbconvert_exporter": "python",
   "pygments_lexer": "ipython3",
   "version": "3.6.1"
  }
 },
 "nbformat": 4,
 "nbformat_minor": 1
}
