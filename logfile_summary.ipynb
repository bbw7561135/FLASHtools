{
 "metadata": {
  "name": ""
 },
 "nbformat": 3,
 "nbformat_minor": 0,
 "worksheets": [
  {
   "cells": [
    {
     "cell_type": "code",
     "collapsed": false,
     "input": [
      "from datetime import datetime\n",
      "import numpy as np\n",
      "import os\n",
      "import matplotlib\n",
      "matplotlib.rcParams['savefig.dpi'] = 150\n",
      "import matplotlib.pyplot as plt"
     ],
     "language": "python",
     "metadata": {},
     "outputs": [],
     "prompt_number": 3
    },
    {
     "cell_type": "code",
     "collapsed": false,
     "input": [
      "def print_logfile_summary(fname):\n",
      "    results = []\n",
      "    seps = []\n",
      "    with open(fname, 'r') as f:\n",
      "        tot_blks = 0\n",
      "        for line in f.readlines():\n",
      "            if '[GRID amr_refine_derefine] min blks' in line:\n",
      "                tot_blks = int(line.split()[-1])\n",
      "                max_blks = int(line.split()[-4])\n",
      "            if '[Particles_getGlobalNum]' in line:\n",
      "                nPart = line.split()[-1]\n",
      "            if 'step: n=' in line:\n",
      "                #print line\n",
      "                dummy, date, time, dummy, dummy, step, t, dt = line.split()\n",
      "                dtime = datetime.strptime(date+' '+time, '%m-%d-%Y %H:%M:%S.%f')\n",
      "                step = int(step.lstrip('n='))\n",
      "                t = float(t.lstrip('t='))\n",
      "                dt = float(dt.lstrip('dt='))\n",
      "                results.append([dtime, step, t, dt, max_blks, tot_blks, nPart])\n",
      "                #result = dict((name,eval(name)) for name in ['dtime','step','t','dt'] )\n",
      "            if 'FLASH log file' in line:\n",
      "                seps.append(len(results))\n",
      "            \n",
      "    dtimes, steps, ts, dts, max_blkss, tot_blkss, nParts = zip(*results)\n",
      "    dtimes = list(dtimes)\n",
      "    dt_steps = [(dtimes[i+1]-dtimes[i]).total_seconds() for i in range(len(dtimes)-1)]\n",
      "    \n",
      "    for sep in seps:\n",
      "        if sep>0:\n",
      "            print dtimes[sep-1], steps[sep-1], ts[sep-1], max_blkss[sep-1], tot_blkss[sep-1]\n",
      "        print ''\n",
      "        print dtimes[sep], steps[sep], ts[sep], max_blkss[sep], tot_blkss[sep]\n",
      "    print dtimes[-1], steps[-1], ts[-1], max_blkss[-1], tot_blkss[-1]"
     ],
     "language": "python",
     "metadata": {},
     "outputs": [],
     "prompt_number": 8
    },
    {
     "cell_type": "code",
     "collapsed": false,
     "input": [
      "#fnames = ['/home/ychen/data/0529_L45_M10_b1_h1/MHD_Jet.log']\n",
      "#fname = '/home/ychen/d9/FLASH4/MHD_Jet_3D/0522_nozzle_restart/MHD_Jet.log'\n",
      "fnames = ['/home/ychen/data/0529_L45_M10_b1_h1/MHD_Jet.log',\\\n",
      "          '/home/ychen/data/0605_L45_M10_b1_h0/MHD_Jet.log',\\\n",
      "          '/home/ychen/data/0605_L45_M10_b1_hinf/MHD_Jet.log',\\\n",
      "          '/home/ychen/data/0602_L45_M10_hydro/MHD_Jet.log']\n",
      "#fnames = ['/home/ychen/d9/FLASH4/stampede/0916_L45_M10_b1_hinf_10Myr/MHD_Jet_10Myr.log']\n",
      "\n",
      "for fname in fnames:\n",
      "    print fname\n",
      "    print_logfile_summary(fname)\n"
     ],
     "language": "python",
     "metadata": {},
     "outputs": [
      {
       "output_type": "stream",
       "stream": "stdout",
       "text": [
        "/home/ychen/data/0529_L45_M10_b1_h1/MHD_Jet.log\n"
       ]
      },
      {
       "output_type": "stream",
       "stream": "stdout",
       "text": [
        "\n",
        "2015-06-02 20:50:15.613000 1 0.0 9 4608\n",
        "2015-06-02 23:11:59.895000 8160 3.999688e+13 25 23336\n",
        "\n",
        "2015-06-05 22:25:15.829000 8161 4.000185e+13 25 23336\n",
        "2015-06-06 11:52:52.517000 22356 1.054676e+14 70 69432\n",
        "\n",
        "2015-06-09 03:04:32.317000 22246 1.05003e+14 218 69120\n",
        "2015-06-09 03:33:24.049000 22400 1.056739e+14 220 69480\n",
        "\n",
        "2015-06-09 22:57:40.303000 22401 1.056783e+14 70 69488\n",
        "2015-06-11 22:49:56.388000 51752 2.403276e+14 102 102120\n",
        "\n",
        "2015-06-12 13:54:55.962000 51753 2.40332e+14 102 102128\n",
        "2015-06-14 13:47:57.687000 74034 3.395856e+14 128 128144\n",
        "\n",
        "2015-06-15 00:16:16.488000 74035 3.395902e+14 127 128136\n",
        "2015-06-17 00:12:10.964000 93840 4.296433e+14 129 129608\n",
        "\n",
        "2015-06-17 01:16:01.562000 92849 4.250028e+14 131 131552\n",
        "2015-06-19 01:07:57.265000 112679 5.139084e+14 136 137528\n",
        "\n",
        "2015-06-19 01:55:16.412000 112680 5.139129e+14 136 137528\n",
        "2015-06-19 18:01:46.036000 118864 5.421266e+14 136 137384\n",
        "\n",
        "2015-06-19 22:03:57.907000 118396 5.400035e+14 137 137680\n",
        "2015-06-21 21:53:53.489000 136483 6.185669e+14 146 147448\n",
        "\n",
        "2015-06-22 08:03:13.879000 136484 6.185707e+14 146 147448\n",
        "2015-06-24 07:54:00.496000 153814 6.915519e+14 155 156496\n",
        "\n",
        "2015-06-24 10:59:07.976000 153815 6.915562e+14 155 156504\n",
        "2015-06-25 00:37:12.558000 158607 7.12862e+14 148 150072\n",
        "/home/ychen/data/0605_L45_M10_b1_h0/MHD_Jet.log"
       ]
      },
      {
       "output_type": "stream",
       "stream": "stdout",
       "text": [
        "\n"
       ]
      },
      {
       "output_type": "stream",
       "stream": "stdout",
       "text": [
        "\n",
        "2015-06-05 10:28:29.850000 1 0.0 40 4608\n",
        "2015-06-06 23:41:33.082000 13968 7.499609e+13 377 44872\n",
        "\n",
        "2015-06-07 06:02:54.789000 13969 7.500155e+13 46 44872\n",
        "2015-06-09 05:54:58.960000 45001 2.33346e+14 102 102760\n",
        "\n",
        "2015-06-10 02:17:47.439000 45002 2.33351e+14 102 102760\n",
        "2015-06-12 02:08:55.352000 66832 3.40972e+14 133 134224\n",
        "\n",
        "2015-06-13 02:39:18.152000 66833 3.40977e+14 133 134240\n",
        "2015-06-15 02:24:56.459000 85753 4.333898e+14 138 138856\n",
        "\n",
        "2015-06-15 12:09:51.767000 85754 4.333949e+14 138 138856\n",
        "2015-06-17 12:01:57.614000 104607 5.25152e+14 142 143704\n",
        "/home/ychen/data/0605_L45_M10_b1_hinf/MHD_Jet.log"
       ]
      },
      {
       "output_type": "stream",
       "stream": "stdout",
       "text": [
        "\n"
       ]
      },
      {
       "output_type": "stream",
       "stream": "stdout",
       "text": [
        "\n",
        "2015-06-05 10:29:00.221000 1 0.0 40 4608\n",
        "2015-06-07 00:48:42.101000 14115 6.832714e+13 363 43288\n",
        "\n",
        "2015-06-07 05:22:51.686000 14116 6.833188e+13 45 43288\n",
        "2015-06-09 05:14:59.010000 46916 2.167328e+14 100 99224\n",
        "\n",
        "2015-06-10 02:14:18.666000 46917 2.167372e+14 99 99192\n",
        "2015-06-12 02:06:00.148000 70227 3.195933e+14 124 125080\n",
        "\n",
        "2015-06-13 02:19:53.261000 70228 3.195976e+14 124 125080\n",
        "2015-06-15 02:09:56.181000 90473 4.096714e+14 126 126336\n",
        "\n",
        "2015-06-15 12:13:06.957000 90474 4.096761e+14 126 126336\n",
        "2015-06-17 12:04:51.995000 110056 4.962157e+14 144 145680\n",
        "/home/ychen/data/0602_L45_M10_hydro/MHD_Jet.log"
       ]
      },
      {
       "output_type": "stream",
       "stream": "stdout",
       "text": [
        "\n"
       ]
      },
      {
       "output_type": "stream",
       "stream": "stdout",
       "text": [
        "\n",
        "2015-06-05 10:49:01.098000 1 0.0 32 4608\n",
        "2015-06-07 11:32:11.869000 19236 1.03808e+14 415 65856\n",
        "\n",
        "2015-06-07 11:37:16.931000 19237 1.038132e+14 208 65856\n",
        "2015-06-08 00:11:52.891000 23367 1.255937e+14 250 79280\n",
        "\n",
        "2015-06-08 02:57:22.284000 23251 1.250019e+14 80 79280\n",
        "2015-06-10 02:50:56.156000 59370 3.083217e+14 121 121536\n",
        "\n",
        "2015-06-10 10:35:52.439000 59371 3.083266e+14 121 121552\n",
        "2015-06-12 10:26:56.466000 86538 4.403996e+14 136 137056\n"
       ]
      }
     ],
     "prompt_number": 11
    },
    {
     "cell_type": "code",
     "collapsed": false,
     "input": [],
     "language": "python",
     "metadata": {},
     "outputs": []
    }
   ],
   "metadata": {}
  }
 ]
}