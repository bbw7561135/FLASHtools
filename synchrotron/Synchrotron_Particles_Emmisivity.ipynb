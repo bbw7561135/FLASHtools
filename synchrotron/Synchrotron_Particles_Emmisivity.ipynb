{
 "cells": [
  {
   "cell_type": "code",
   "execution_count": null,
   "metadata": {},
   "outputs": [],
   "source": [
    "%matplotlib inline\n",
    "import numpy as np\n",
    "import util\n",
    "import multiprocessing\n",
    "import matplotlib\n",
    "matplotlib.rcParams['savefig.dpi'] = 100\n",
    "import matplotlib.pyplot as plt\n",
    "import yt\n",
    "import logging\n",
    "logging.getLogger('yt').setLevel(logging.WARNING)\n",
    "from yt.utilities.logger import ytLogger as mylog\n",
    "print(yt.__version__)\n",
    "\n",
    "from yt_synchrotron_emissivity import *\n"
   ]
  },
  {
   "cell_type": "code",
   "execution_count": null,
   "metadata": {
    "collapsed": false
   },
   "outputs": [],
   "source": [
    "fname = '/home/ychen/d9/FLASH4/2015_production_runs/0529_L45_M10_b1_h1/MHD_Jet_hdf5_plt_cnt_0600'\n",
    "ds = yt.load(fname, particle_filename=fname.replace('plt_cnt', 'part')+'_updated')"
   ]
  },
  {
   "cell_type": "code",
   "execution_count": null,
   "metadata": {},
   "outputs": [],
   "source": [
    "\n",
    "proj_axis = 'x'\n",
    "ptype = 'lobe'\n",
    "nu = (150, 'MHz')\n",
    "\n",
    "pars = add_synchrotron_dtau_emissivity(ds, ptype=ptype, nu=nu, proj_axis=proj_axis)\n",
    "ad = ds.all_data()\n",
    "tag = ad[ptype, 'particle_tag']\n",
    "#filter = np.logical_and((tag % 2 == 0), (ad[ptype, 'particle_shok']==0))\n",
    "#filter = ad[ptype, 'particle_shok']==0\n",
    "filter = np.logical_and((ad[ptype, 'particle_shok']==0), (abs(ad[ptype, 'particle_posx']) < 3.08567758E21))\n",
    "#filter = (tag % 1 == 0)\n",
    "y = ad[ptype, 'particle_position_y'][filter]/3.08567758E21\n",
    "z = ad[ptype, 'particle_position_z'][filter]/3.08567758E21\n",
    "emis = np.log10(np.abs(ad[ptype, 'particle_sync_spec_%.1f%s' % nu][filter]))\n",
    "#plt.hist(tag, bins=140)\n",
    "#plt.scatter(ad['all', 'particle_tadd'], ad['all', 'particle_tag'], s=1,linewidth=0)\n",
    "fig=plt.figure(figsize=(9.3,15),dpi=200)\n",
    "ax=fig.add_subplot(111)\n",
    "ext = np.array([-20, 20, -40, 40])\n",
    "ax.set_xlim(ext[0],ext[1])\n",
    "ax.set_ylim(ext[2],ext[3])\n",
    "ax.annotate('%6.3f Myr' % (float(ds.current_time)/3.15569E13),\\\n",
    "            (1,0), xytext=(0.05, 0.96),  textcoords='axes fraction',\\\n",
    "            horizontalalignment='left', verticalalignment='center')\n",
    "sc=ax.scatter(y,z,s=1,c=emis,linewidth=0,cmap='algae',vmin=-19,vmax=-18.3,alpha=0.8)\n",
    "cb=plt.colorbar(sc)\n",
    "cb.set_label(u'log emissivity')\n",
    "plt.xlabel('y (kpc)')\n",
    "plt.ylabel('z (kpc)')\n",
    "plt.show()"
   ]
  },
  {
   "cell_type": "code",
   "execution_count": null,
   "metadata": {
    "collapsed": false
   },
   "outputs": [],
   "source": []
  },
  {
   "cell_type": "code",
   "execution_count": null,
   "metadata": {},
   "outputs": [],
   "source": [
    "null = plt.hist(emis, bins=100, range=(-20,-18.3))"
   ]
  },
  {
   "cell_type": "code",
   "execution_count": null,
   "metadata": {
    "collapsed": false
   },
   "outputs": [],
   "source": [
    "ptype = 'lobe'\n",
    "pol = 'i'\n",
    "nu = (150, 'MHz')\n",
    "proj_axis = 'x'\n",
    "norm = yt.YTQuantity(*nu).in_units('GHz').value**0.5\n",
    "field = ('deposit', ('nn_emissivity_%s_%s_%%.1f%%s' % (pol, ptype)) % nu)\n",
    "center=(0.0,0.0,0.0)\n",
    "\n",
    "\n",
    "pars = add_synchrotron_dtau_emissivity(ds, ptype=ptype, nu=nu, proj_axis=proj_axis)\n",
    "p=yt.SlicePlot(ds, proj_axis, field, center=center, origin='center-domain',\\\n",
    "                              width=((40,'kpc'), (80,'kpc')),)"
   ]
  },
  {
   "cell_type": "code",
   "execution_count": null,
   "metadata": {},
   "outputs": [],
   "source": [
    "p.set_zlim(field, 1E-25, 1E-21)\n",
    "\n",
    "p.annotate_grids(alpha=0.2)\n",
    "p.annotate_particles((1,'kpc'), ptype='jetp')\n",
    "p.show()"
   ]
  },
  {
   "cell_type": "code",
   "execution_count": null,
   "metadata": {},
   "outputs": [],
   "source": [
    "p.annotate_clear()\n",
    "p.annotate_grids(alpha=0.05)\n",
    "#cmap = plt.cm.arbre\n",
    "#cmap.set_bad('k')\n",
    "p.set_cmap(field, 'arbre')\n",
    "p.set_zlim(field, 1E-30, 1E-21)\n",
    "p.show()"
   ]
  },
  {
   "cell_type": "code",
   "execution_count": null,
   "metadata": {},
   "outputs": [],
   "source": [
    "gamc = (ad[(ptype, 'particle_dens')]/ad[(ptype, 'particle_den1')]) / ad[(ptype, 'particle_dtau')]\n",
    "print ad[(ptype, 'particle_den1')][ind]\n",
    "ind_gamc_nan = np.where(np.isnan(gamc))\n",
    "ind = np.where(np.isnan(ad[ptype, 'particle_sync_spec_%.1f%s' % nu]))\n",
    "\n",
    "#print ind_gamc_nan, ind\n",
    "\n",
    "#for tadd, tag in zip(ad[ptype, 'particle_tadd'][ind], ad[ptype, 'particle_tag'][ind]):\n",
    "#    print repr(tadd.v), tag.v"
   ]
  },
  {
   "cell_type": "code",
   "execution_count": null,
   "metadata": {
    "collapsed": false
   },
   "outputs": [],
   "source": [
    "\n",
    "#def _particle_pressure(field, data):\n",
    "#    required = data['gas', 'pressure']\n",
    "#    mylog.debug(\"Mapping grid data to particles for %s in %s\" % (field, data))\n",
    "#    return data.ds.find_field_values_at_points(('gas', 'pressure'), data[ptype, 'particle_position'])\n",
    "#logging.getLogger('yt').setLevel(logging.INFO)\n",
    "#ds.add_field((ptype, 'particle_pressure'), function=_particle_pressure, particle_type=True, units='g/(cm*s**2)')\n",
    "\n",
    "me = yt.utilities.physical_constants.mass_electron #9.109E-28\n",
    "c  = yt.utilities.physical_constants.speed_of_light #2.998E10\n",
    "e  = yt.utilities.physical_constants.elementary_charge #4.803E-10 esu\n",
    "\n",
    "gamma_min = yt.YTQuantity(10, 'dimensionless')\n",
    "#nu = 1.5E8 # 150MHz\n",
    "\n",
    "def _synchrotron_emissivity(field, data):\n",
    "    # To convert from FLASH \"none\" unit to cgs unit, times the B field from FLASH by sqrt(4*pi)\n",
    "    ptype = 'io'\n",
    "    B = np.sqrt(data[(ptype, 'particle_magx')]**2+data[(ptype, 'particle_magy')]**2+data[(ptype, 'particle_magz')]**2)\\\n",
    "        *np.sqrt(4.0*np.pi)\n",
    "    B = data.apply_units(B, 'G')\n",
    "    nuc = 3.0*data[(ptype, 'particle_gamc')]**2*e*B/(4.0*np.pi*me*c)\n",
    "    nu = data.get_field_parameter(\"frequency\", default=yt.YTQuantity(1.4, 'GHz'))\n",
    "    #P = data[(ptype, 'particle_pressure')]\n",
    "    #P = data[(ptype, 'particle_dens')]*yt.YTQuantity(1, 'dyne/cm**2')\n",
    "    fit_const = 5.8\n",
    "    norm = 0.5*B**1.5*e**3.5/(c**2.5*me**1.5*(4.*np.pi)**0.5)\n",
    "    N0 = 3.0/me/c/c/(np.log(np.abs(data[(ptype, 'particle_gamc')]/gamma_min)))\n",
    "\n",
    "    return N0*norm*fit_const*nu**(-0.5)*np.exp(-nu/nuc)\n",
    "#logging.getLogger('yt').setLevel(logging.DEBUG)\n",
    "nu = yt.YTQuantity(1.4, 'GHz') # 1.4GHz\n",
    "ds.add_field(('io', 'particle_emissivity'), function=_synchrotron_emissivity, particle_type=True, \n",
    "             display_name=\"%s Emissivity\" % nu, force_override=True)\n",
    "\n",
    "ds.add_particle_filter('jetp')\n",
    "#ds.add_field(('jetp', 'particle_emissivity'), function=_synchrotron_emissivity, particle_type=True,\n",
    "              #units='erg/s/cm**3/Hz')\n",
    "data = ds.all_data(field_parameters={\"frequency\": nu})"
   ]
  },
  {
   "cell_type": "code",
   "execution_count": null,
   "metadata": {},
   "outputs": [],
   "source": [
    "data = ds.all_data(field_parameters={\"frequency\": nu})\n",
    "B = np.sqrt(data[('io', 'particle_magx')]**2+data[('io', 'particle_magy')]**2+data[('io', 'particle_magz')]**2)*np.sqrt(4.0*np.pi)\n",
    "B = data.apply_units(B, 'G')\n",
    "null = plt.hist(np.log10(B), bins=40, range=(-7,-3))"
   ]
  },
  {
   "cell_type": "code",
   "execution_count": null,
   "metadata": {},
   "outputs": [],
   "source": [
    "Bgrid = data['gas', 'magnetic_field_strength']\n",
    "print Bgrid.units\n",
    "null = plt.hist(np.log10(Bgrid), bins=40, range=(-7,-3))"
   ]
  },
  {
   "cell_type": "code",
   "execution_count": null,
   "metadata": {},
   "outputs": [],
   "source": [
    "filter = data[('io', 'particle_gamc')] > 0.0\n",
    "print len(data[('io', 'particle_gamc')][filter])\n",
    "null = plt.hist(np.log10(data[('io', 'particle_gamc')][filter]), bins=40, range=(0,8))"
   ]
  },
  {
   "cell_type": "code",
   "execution_count": null,
   "metadata": {},
   "outputs": [],
   "source": [
    "nuc = 3.0*(data[('io', 'particle_gamc')])**2*e*B/(4.0*np.pi*me*c)\n",
    "print nuc.in_units('Hz')\n",
    "null = plt.hist(np.log10(nuc), bins=40, range=(5,16))"
   ]
  },
  {
   "cell_type": "code",
   "execution_count": null,
   "metadata": {},
   "outputs": [],
   "source": [
    "data['jetp', 'particle_emissivity'].shape"
   ]
  },
  {
   "cell_type": "code",
   "execution_count": null,
   "metadata": {},
   "outputs": [],
   "source": [
    "typ = 'jetp'\n",
    "field='particle_emissivity'\n",
    "filter = np.logical_and((data[typ, field] > 0.0), (data[typ, 'particle_shok']==0))\n",
    "#filter = (ad['all', 'particle_shok']==0)\n",
    "print len(data['io', field])\n",
    "print len(data[typ, field])\n",
    "\n",
    "print len(data[typ, field][filter])\n",
    "print data[typ, field].max()\n",
    "null = plt.hist(np.log10(data[typ, field][filter]), bins=40, range=(-40,-22))"
   ]
  },
  {
   "cell_type": "code",
   "execution_count": null,
   "metadata": {},
   "outputs": [],
   "source": [
    "ptype = 'jetp'\n",
    "p = yt.ParticleProjectionPlot(ds, 'x', (ptype, 'particle_emissivity'), width=((40, 'kpc'),(80, 'kpc')), \n",
    "                              depth=(40, 'kpc'), aspect=1)\n",
    "#p = yt.ParticlePlot(ds, (ptype, 'particle_position_y'), (ptype, 'particle_position_z'), (ptype, 'particle_emissivity'))\n",
    "p.set_zlim((ptype, 'particle_emissivity'), 1E-34, 1E-22)\n",
    "p.show()"
   ]
  },
  {
   "cell_type": "code",
   "execution_count": null,
   "metadata": {},
   "outputs": [],
   "source": [
    "ds.known_filters['jetp'].filtered_type"
   ]
  },
  {
   "cell_type": "code",
   "execution_count": null,
   "metadata": {},
   "outputs": [],
   "source": []
  },
  {
   "cell_type": "code",
   "execution_count": null,
   "metadata": {
    "collapsed": false,
    "slideshow": {
     "slide_type": "-"
    }
   },
   "outputs": [],
   "source": [
    "ds.add_deposited_particle_field(('all', 'particle_emissivity'), 'cic')\n",
    "fields = 'all_cic_emissivity'\n",
    "\n",
    "ds.field_info[('deposit', fields)].take_log = True\n",
    "plot = yt.ProjectionPlot(ds, 'x', fields=fields)#, center=(0.0,0.0,6.17E22), width=(40,'kpc'))\n",
    "#slice.set_log(fields, True)\n",
    "#slice.set_cmap('jet ', 'gist_heat')\n",
    "#slice.set_zlim(fields, 1E-16, 1E-5)\n",
    "plot.zoom(12)\n",
    "#plot.annotate_grids()\n",
    "plot.set_origin('native')\n",
    "plot.show()"
   ]
  },
  {
   "cell_type": "code",
   "execution_count": null,
   "metadata": {
    "collapsed": false
   },
   "outputs": [],
   "source": [
    "data_level_0 = ds.covering_grid(level=3, left_edge=ds.domain_left_edge,\\\n",
    "                                      dims=ds.domain_dimensions, fields=['jetp_cic_gamc'])"
   ]
  },
  {
   "cell_type": "code",
   "execution_count": null,
   "metadata": {},
   "outputs": [],
   "source": [
    "dim=64\n",
    "zoom=12\n",
    "#obj = ds.arbitrary_grid(ds.domain_left_edge/zoom, ds.domain_right_edge/zoom, dims=[dim,dim,dim*2])\n",
    "leftedge=np.array([-30,-30,-60])*3.08567758E21\n",
    "rightedge=np.array([30,30,60])*3.08567758E21\n",
    "obj = ds.arbitrary_grid(leftedge, rightedge, dims=[dim,dim,dim*2])\n",
    "#print obj['jetp_cic_gamc'][dim/2,:,:].shape\n",
    "#print obj.fcoords.shape\n",
    "fig = plt.figure(figsize=(8,12),dpi=200)\n",
    "#ext = np.array([-9.65E22*8, 9.65E22*8, -1.93E23*8, 1.93E23*8])/zoom/3.08567758E21\n",
    "ext = np.array([-30, 30, -60, 60])\n",
    "ims = plt.imshow(np.log10(np.nansum(obj['deposit', 'jetp_cic_emissivity'][:,:,:], axis=0)).transpose(), extent=ext, \\\n",
    "                 origin='lower', cmap='algae', vmin=-20, vmax=-9)#, interpolation='spline16')\n",
    "\n",
    "cb=plt.colorbar(ims)\n",
    "cb.set_label(u'log (emissivity) (1.4GHz, arbitrary unit)')\n",
    "#plt.title('150MHz')\n",
    "plt.xlabel('y (kpc)')\n",
    "plt.ylabel('z (kpc)')"
   ]
  },
  {
   "cell_type": "code",
   "execution_count": null,
   "metadata": {},
   "outputs": [],
   "source": [
    "obj['deposit', 'jetp_cic_emissivity'].min()"
   ]
  },
  {
   "cell_type": "code",
   "execution_count": null,
   "metadata": {
    "collapsed": false
   },
   "outputs": [],
   "source": [
    "d = None\n",
    "#dim=64\n",
    "#zoom=16\n",
    "#def _gamc_interp(field, data):\n",
    "#    #data._debug()\n",
    "#    #dim=128\n",
    "#    global d\n",
    "#    d = data\n",
    "#    #obj = data.ds.arbitrary_grid(data.LeftEdge, data.RightEdge, dims=data.ActiveDimensions)\n",
    "#    obj = ds.arbitrary_grid(ds.domain_left_edge/zoom, ds.domain_right_edge/zoom, dims=[dim,dim,dim*2])\n",
    "#    x0, y0, z0 = ds.domain_left_edge/zoom\n",
    "#    x1, y1, z1 = ds.domain_left_edge/zoom\n",
    "#    boundaries = [x0,x1,y0,y1,z0,z1]\n",
    "#    interp = yt.utilities.linear_interpolators.TrilinearFieldInterpolator(obj['deposit', 'jetp_cic_gamc'], \\\n",
    "#                                                                          boundaries, ['x','y','z'], True)\n",
    "#    interpolated_data = interp(data)\n",
    "\n",
    "#    return interpolated_data\n",
    "\n",
    "def _gamc_interp(field, data):\n",
    "    dim=64\n",
    "    obj = data.ds.arbitrary_grid([-9.65E22, -9.65E22, -1.93E23], [9.65E22, 9.65E22, 1.93E23], dims=[dim, dim, dim*2])\n",
    "    x0 = obj.fcoords.reshape([dim,dim,dim*2,3])[:,:,:,0].min()\n",
    "    x1 = obj.fcoords.reshape([dim,dim,dim*2,3])[:,:,:,0].max()\n",
    "    y0 = obj.fcoords.reshape([dim,dim,dim*2,3])[:,:,:,1].min()\n",
    "    y1 = obj.fcoords.reshape([dim,dim,dim*2,3])[:,:,:,1].max()\n",
    "    z0 = obj.fcoords.reshape([dim,dim,dim*2,3])[:,:,:,2].min()\n",
    "    z1 = obj.fcoords.reshape([dim,dim,dim*2,3])[:,:,:,2].max()\n",
    "    boundaries = [x0,x1,y0,y1,z0,z1]\n",
    "    interp = yt.utilities.linear_interpolators.TrilinearFieldInterpolator(obj['deposit', 'jetp_cic_emissivity'], \\\n",
    "                                                                          boundaries, ['x','y','z'], True)\n",
    "    interpolated_data = interp(data)\n",
    "\n",
    "    return interpolated_data\n",
    "\n",
    "ds.add_field(('deposit', 'emissivity_interp'), function=_gamc_interp, take_log=True)"
   ]
  },
  {
   "cell_type": "code",
   "execution_count": null,
   "metadata": {},
   "outputs": [],
   "source": [
    "#zoom=16\n",
    "#dim=128\n",
    "plot = yt.SlicePlot(ds, 'x', fields='emissivity_interp')\n",
    "#plot.set_zlim('gamc_interp', 1E2, 1E5)\n",
    "plot.zoom(12)\n",
    "#slice.annotate_grids()\n",
    "plot.set_origin('native')\n",
    "plot.show()"
   ]
  },
  {
   "cell_type": "code",
   "execution_count": null,
   "metadata": {},
   "outputs": [],
   "source": [
    "plot.set_zlim('emissivity_interp', 1E5, 1E20)\n",
    "plot.show()"
   ]
  },
  {
   "cell_type": "code",
   "execution_count": null,
   "metadata": {
    "collapsed": false
   },
   "outputs": [],
   "source": [
    "\n",
    "finfo = ds.field_info[\"deposit\", \"gamc_interp\"]\n",
    "\n",
    "gs = ds.index.select_grids(ds.index.max_level)\n",
    "print gs.shape\n",
    "#print gs\n",
    "for g in gs:\n",
    "    if g.NumberOfParticles > 0:\n",
    "        g0 = g\n",
    "        break\n",
    "print g0, g0.NumberOfParticles\n",
    "\n",
    "#g0[(\"deposit\", \"gamc_interp\")]\n",
    "from yt.data_objects.grid_patch import AMRGridPatch\n",
    "tr = super(AMRGridPatch, g0).__getitem__((\"deposit\", \"gamc_interp\"))\n",
    "print tr.shape, g0.ActiveDimensions\n",
    "#print tr\n"
   ]
  },
  {
   "cell_type": "code",
   "execution_count": null,
   "metadata": {
    "collapsed": false
   },
   "outputs": [],
   "source": []
  }
 ],
 "metadata": {
  "kernelspec": {
   "display_name": "Python 3",
   "language": "python",
   "name": "python3"
  },
  "language_info": {
   "codemirror_mode": {
    "name": "ipython",
    "version": 3
   },
   "file_extension": ".py",
   "mimetype": "text/x-python",
   "name": "python",
   "nbconvert_exporter": "python",
   "pygments_lexer": "ipython3",
   "version": "3.6.1"
  }
 },
 "nbformat": 4,
 "nbformat_minor": 1
}
