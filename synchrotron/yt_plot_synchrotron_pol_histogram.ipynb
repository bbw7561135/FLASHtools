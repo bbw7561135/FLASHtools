{
 "cells": [
  {
   "cell_type": "code",
   "execution_count": null,
   "metadata": {},
   "outputs": [],
   "source": [
    "%matplotlib inline\n",
    "import os\n",
    "import yt\n",
    "import numpy as np\n",
    "import matplotlib.pyplot as plt\n",
    "import util\n",
    "\n",
    "dirs = ['/home/ychen/data/0only_0529_h1',\\\n",
    "        '/home/ychen/data/0only_0605_hinf',\\\n",
    "        '/home/ychen/data/0only_0605_h0']\n",
    "subdir = 'dtau_synchrotron_QU_nn_lobe/fits'\n",
    "\n",
    "regex = 'synchrotron_i_lobe_0?00_150MHz.fits'\n",
    "\n",
    "def rescan(dir, printlist=True):\n",
    "    fitsdir = os.path.join(dir,subdir)\n",
    "    files = util.scan_files(fitsdir, regex=regex, printlist=printlist, reverse=False)\n",
    "    return files\n",
    "\n",
    "fitsfiles = rescan(dirs[1])"
   ]
  },
  {
   "cell_type": "code",
   "execution_count": null,
   "metadata": {},
   "outputs": [],
   "source": [
    "import pyfits\n",
    "\n",
    "# Load the FITS file into the program\n",
    "hdulist = pyfits.open(fitsfiles[0].fullpath)\n",
    "\n",
    "# Load table data as tbdata\n",
    "#tbdata = hdulist[1].data\n",
    "hdulist[0].data.shape"
   ]
  },
  {
   "cell_type": "code",
   "execution_count": null,
   "metadata": {},
   "outputs": [],
   "source": [
    "hdu = hdulist[0]\n",
    "hdu.header"
   ]
  },
  {
   "cell_type": "code",
   "execution_count": null,
   "metadata": {
    "collapsed": false
   },
   "outputs": [],
   "source": [
    "def find_fwhm(arr_x, arr_y):\n",
    "\n",
    "    difference = max(arr_y) - min(arr_y)\n",
    "    HM = difference / 2\n",
    "\n",
    "    pos_extremum = arr_y.argmax()  # or in your case: arr_y.argmin()\n",
    "\n",
    "    nearest_above = (np.abs(arr_y[pos_extremum:-1] - HM)).argmin()\n",
    "    nearest_below = (np.abs(arr_y[0:pos_extremum] - HM)).argmin()\n",
    "\n",
    "    FWHM = (np.mean(arr_x[nearest_above + pos_extremum]) - \n",
    "        np.mean(arr_x[nearest_below]))\n",
    "    return FWHM\n"
   ]
  },
  {
   "cell_type": "code",
   "execution_count": null,
   "metadata": {},
   "outputs": [],
   "source": [
    "def plot_pol_histogram(frb_I, frb_Q, frb_U, factor=8):\n",
    "\n",
    "    nx = frb_I.shape[1]//factor\n",
    "    ny = frb_I.shape[0]//factor\n",
    "    print(nx,ny)\n",
    "\n",
    "    I_bin = frb_I.reshape(nx, factor, ny, factor).sum(3).sum(1)\n",
    "    Q_bin = frb_Q.reshape(nx, factor, ny, factor).sum(3).sum(1)\n",
    "    U_bin = frb_U.reshape(nx, factor, ny, factor).sum(3).sum(1)\n",
    "\n",
    "    tot_bins = np.count_nonzero(I_bin.flatten())\n",
    "    print('Total number of nonzero bins:', tot_bins)\n",
    "    mask = I_bin > 1E-20\n",
    "    #print mask\n",
    "    print('Total number of masked bins:', sum(sum(mask)))\n",
    "\n",
    "    # angle between the polarization and horizontal axis\n",
    "    # (or angle between the magnetic field and vertical axis\n",
    "    psi = 0.5*np.arctan2(U_bin, Q_bin)\n",
    "    frac = np.sqrt(Q_bin**2+U_bin**2)/I_bin\n",
    "\n",
    "    fig = plt.figure(figsize=(9,3))\n",
    "\n",
    "    ax1 = fig.add_subplot(121)\n",
    "    null = ax1.hist(frac[mask].flatten()*100, range=(0,80), bins=40)\n",
    "    ax1.annotate('%s, %.2f Myr', % ('sim_name, '))\n",
    "    ax1.set_xlabel('Polarization fraction (%)')\n",
    "    ax1.set_xlim(0, 80)\n",
    "    #ax1.set_ylim(0, 1200)\n",
    "    #ax1.set_title(fitsfile.pathname.)\n",
    "\n",
    "    ax2  = fig.add_subplot(122)\n",
    "    n, bins, patches = ax2.hist(psi[mask].flatten(), \n",
    "                            bins=40, range=(-0.5*np.pi, 0.5*np.pi))\n",
    "                            #weights=I_bin[mask].flatten())\n",
    "    x_tick = np.linspace(-0.5, 0.5, 5, endpoint=True)\n",
    "    ax2.set_xlabel('Position Angle')\n",
    "\n",
    "    bin_center = (bins[1:]+bins[:-1])/2\n",
    "    fwhm = find_fwhm(bin_center, n)\n",
    "    ax2.annotate('FWHM=%.2f' % fwhm, (1,1), (0.7, 0.9), textcoords='axes fraction')\n",
    "\n",
    "\n",
    "    x_label = [r\"$-\\pi/2$\", r\"$-\\pi/4$\", r\"$0$\", r\"$+\\pi/4$\", r\"$+\\pi/2$\"]\n",
    "    ax2.set_xlim(-0.5*np.pi, 0.5*np.pi)\n",
    "    #ax2.set_ylim(0,1600)\n",
    "    ax2.set_xticks(x_tick*np.pi)\n",
    "    ax2.set_xticklabels(x_label)\n",
    "    #ax2.set_title(ds.basename + '  %.1f %s' % nu)\n",
    "\n",
    "    #maindir = os.path.join(file.pathname, 'pol_synchrotron_QU_nn_%s/' % ptype)\n",
    "    #histdir = os.path.join(maindir, 'histogram')\n",
    "    #fig.savefig(histdir + '/' + ds.basename)\n",
    "    plt.show()"
   ]
  },
  {
   "cell_type": "code",
   "execution_count": null,
   "metadata": {},
   "outputs": [],
   "source": [
    "for dir in dirs:\n",
    "    fitsfiles = rescan(dir, printlist=False)\n",
    "    fitsfile = fitsfiles[-4]\n",
    "\n",
    "    frb_I = pyfits.open(fitsfile.fullpath)[0].data\n",
    "    frb_Q = pyfits.open(fitsfile.fullpath.replace('_i_', '_q_'))[0].data\n",
    "    frb_U = pyfits.open(fitsfile.fullpath.replace('_i_', '_u_'))[0].data\n",
    "\n",
    "    plot_pol_histogram(frb_I, frb_Q, frb_U)"
   ]
  },
  {
   "cell_type": "code",
   "execution_count": null,
   "metadata": {},
   "outputs": [],
   "source": [
    "sum(n)"
   ]
  },
  {
   "cell_type": "code",
   "execution_count": null,
   "metadata": {},
   "outputs": [],
   "source": [
    "factor = 4\n",
    "nx = 2048/factor\n",
    "ny = 4096/factor\n",
    "\n",
    "I_bin = frb_I.reshape(nx, factor, ny, factor).sum(3).sum(1)\n",
    "Q_bin = frb_Q.reshape(nx, factor, ny, factor).sum(3).sum(1)\n",
    "U_bin = frb_U.reshape(nx, factor, ny, factor).sum(3).sum(1)\n",
    "\n",
    "# angle between the polarization and horizontal axis\n",
    "# (or angle between the magnetic field and vertical axis\n",
    "psi = 0.5*np.arctan2(U_bin, Q_bin)\n",
    "frac = np.sqrt(Q_bin**2+U_bin**2)/I_bin\n",
    "\n",
    "fig = plt.figure(figsize=(16,4))\n",
    "\n",
    "ax1 = fig.add_subplot(131)\n",
    "null = ax1.hist(frac[I_bin.nonzero()].flatten()*100, range=(0,80), bins=40)\n",
    "ax1.set_xlabel('Polarization fraction (%)')\n",
    "ax1.set_xlim(0, 80)\n",
    "#ax1.set_title(fitsfile.pathname.)\n",
    "\n",
    "ax2  = fig.add_subplot(132)\n",
    "n, bins, patches = ax2.hist(psi[I_bin.nonzero()].flatten(), \n",
    "                            bins=50, range=(-0.5*np.pi, 0.5*np.pi),\n",
    "                            weights=I_bin[I_bin.nonzero()].flatten())\n",
    "x_tick = np.linspace(-0.5, 0.5, 5, endpoint=True)\n",
    "ax2.set_xlabel('Position Angle')\n",
    "\n",
    "bin_center = (bins[1:]+bins[:-1])/2\n",
    "fwhm = find_fwhm(bin_center, n)\n",
    "ax2.annotate('FWHM=%.2f' % fwhm, (1,1), (0.7, 0.9), textcoords='axes fraction')\n",
    "\n",
    "\n",
    "x_label = [r\"$-\\pi/2$\", r\"$-\\pi/4$\", r\"$0$\", r\"$+\\pi/4$\", r\"$+\\pi/2$\"]\n",
    "ax2.set_xlim(-0.5*np.pi, 0.5*np.pi)\n",
    "ax2.set_xticks(x_tick*np.pi)\n",
    "ax2.set_xticklabels(x_label)\n",
    "#ax2.set_title(ds.basename + '  %.1f %s' % nu)\n",
    "\n",
    "\n",
    "ax3 = fig.add_subplot(133)\n",
    "null = ax3.hist(np.abs(psi[I_bin.nonzero()].flatten()), bins=25, range=(0.0, 0.5*np.pi))\n",
    "ax3.set_xlim(0.0, 0.5*np.pi)\n",
    "ax3.set_xticks([x_tick[2:]*np.pi])\n",
    "ax3.set_xticks(x_tick[2:]*np.pi)\n",
    "ax3.set_xticklabels(x_label[2:])\n",
    "\n",
    "#maindir = os.path.join(file.pathname, 'pol_synchrotron_QU_nn_%s/' % ptype)\n",
    "#histdir = os.path.join(maindir, 'histogram')\n",
    "#fig.savefig(histdir + '/' + ds.basename)\n",
    "plt.show()"
   ]
  },
  {
   "cell_type": "code",
   "execution_count": null,
   "metadata": {},
   "outputs": [],
   "source": [
    "\n",
    "plt.show()\n"
   ]
  },
  {
   "cell_type": "code",
   "execution_count": null,
   "metadata": {
    "collapsed": false
   },
   "outputs": [],
   "source": [
    "for dir in dirs:\n",
    "    maindir = os.path.join(dir, 'pol_synchrotron_QU_nn_%s/' % ptype)\n",
    "    histdir = os.path.join(maindir, 'histogram')\n",
    "    for subdir in [maindir, histdir]:\n",
    "        if not os.path.exists(subdir):\n",
    "            os.mkdir(subdir)"
   ]
  }
 ],
 "metadata": {
  "kernelspec": {
   "display_name": "Python 3",
   "language": "python",
   "name": "python3"
  },
  "language_info": {
   "codemirror_mode": {
    "name": "ipython",
    "version": 3
   },
   "file_extension": ".py",
   "mimetype": "text/x-python",
   "name": "python",
   "nbconvert_exporter": "python",
   "pygments_lexer": "ipython3",
   "version": "3.6.1"
  }
 },
 "nbformat": 4,
 "nbformat_minor": 2
}
