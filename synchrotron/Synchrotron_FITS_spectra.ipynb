{
 "cells": [
  {
   "cell_type": "code",
   "execution_count": null,
   "metadata": {
    "collapsed": false
   },
   "outputs": [],
   "source": [
    "#%pdb\n",
    "%matplotlib inline\n",
    "import matplotlib\n",
    "matplotlib.rcParams['font.family'] = 'stixgeneral'\n",
    "matplotlib.rcParams['figure.dpi'] = 150\n",
    "import matplotlib.pyplot as plt\n",
    "import os\n",
    "import yt\n",
    "yt.mylog.setLevel(\"ERROR\")\n",
    "import numpy as np\n",
    "from synchrotron.yt_synchrotron_emissivity import StokesFieldName, synchrotron_fits_filename\n",
    "import pyfits"
   ]
  },
  {
   "cell_type": "code",
   "execution_count": null,
   "metadata": {},
   "outputs": [],
   "source": [
    "dir = '/d/d5/ychen/2015_production_runs/1022_h1_10Myr/'\n",
    "ds = yt.load(dir+'data/MHD_Jet_10Myr_hdf5_plt_cnt_0100')\n",
    "ptype = 'lobe'\n",
    "proj_axis = 'x'\n",
    "fitsname = synchrotron_fits_filename(ds, dir, ptype, proj_axis)\n",
    "print(fitsname)\n",
    "#hdulist = pyfits.open(fitsname)\n",
    "times = {100:'1.6 Myr', 200:'3.2 Myr', 600:'9.5 Myr',\n",
    "         910:'57 Myr', 1050:'101 Myr', 1380:'300 Myr', 1700:'500 Myr'}"
   ]
  },
  {
   "cell_type": "code",
   "execution_count": null,
   "metadata": {},
   "outputs": [],
   "source": [
    "nus = np.array([100,150,300,600,1400,8000])\n",
    "fitsname = '/d/d5/ychen/2015_production_runs/1022_h1_10Myr/cos_synchrotron_QU_nn_lobe/fits/synchrotron_lobe_%04d.fits'\n",
    "for fno in [100, 200, 600, 910, 1050, 1380, 1700]:\n",
    "    hdulist = pyfits.open(fitsname % fno)\n",
    "    fluxes = []\n",
    "    for nu in [(nu, 'MHz') for nu in nus]:\n",
    "        stokes = StokesFieldName(ptype, nu, proj_axis, field_type='flash')\n",
    "        field = stokes.I[1]\n",
    "        fluxes.append(np.sum(hdulist[field].data))\n",
    "    plt.plot(nus, fluxes, 'x-', label=times[fno])\n",
    "    if fno in [1700]:\n",
    "        powerlaw = fluxes[0]*(nus/100)**(-0.5)\n",
    "        plt.plot(nus, powerlaw, ':', lw=1, label=r'$\\nu^{-0.5}$')\n",
    "        powerlaw = fluxes[0]*(nus/100)**(-1)\n",
    "        plt.plot(nus, powerlaw, ':', lw=1, label=r'$\\nu^{-1}$')\n",
    "\n",
    "plt.xlabel('Frequency (MHz)')\n",
    "plt.semilogx()\n",
    "plt.ylabel('Flux')\n",
    "plt.semilogy()\n",
    "plt.legend()\n",
    "plt.grid()\n",
    "plt.show()"
   ]
  },
  {
   "cell_type": "code",
   "execution_count": null,
   "metadata": {},
   "outputs": [],
   "source": [
    "nus = np.array([100,150,300,600,1400,8000])\n",
    "dirs = ['fits_linear', 'fits_log', 'fits_emis', 'fits_gamc']\n",
    "\n",
    "fitsname = '/d/d5/ychen/2015_production_runs/1022_h1_10Myr/cos_synchrotron_QU_nn_lobe/%s/synchrotron_lobe_0910.fits'\n",
    "for dir in dirs:\n",
    "    hdulist = pyfits.open(fitsname % dir)\n",
    "    fluxes = []\n",
    "    for nu in [(nu, 'MHz') for nu in nus]:\n",
    "        stokes = StokesFieldName(ptype, nu, proj_axis, field_type='flash')\n",
    "        field = stokes.I[1]\n",
    "        mask = hdulist[field].data < 1.0E0\n",
    "        fluxes.append(np.sum(hdulist[field].data[mask]))\n",
    "    fluxes = np.array(fluxes)\n",
    "    fluxes /= fluxes[0]\n",
    "    plt.plot(nus, fluxes, 'x-', label=dir.split('_')[-1])\n",
    "\n",
    "powerlaw = fluxes[0]*(nus/100)**(-0.5)\n",
    "plt.plot(nus, powerlaw, '--', lw=1, label=r'$\\nu^{-0.5}$')\n",
    "powerlaw = fluxes[0]*(nus/100)**(-1)\n",
    "plt.plot(nus, powerlaw, '-.', lw=1, label=r'$\\nu^{-1}$')\n",
    "powerlaw = fluxes[0]*(nus/100)**(-1.5)\n",
    "plt.plot(nus, powerlaw, ':', lw=1, label=r'$\\nu^{-1.5}$')\n",
    "\n",
    "plt.xlabel('Frequency (MHz)')\n",
    "plt.semilogx()\n",
    "plt.ylabel('Flux')\n",
    "plt.semilogy()\n",
    "plt.legend()\n",
    "plt.grid()\n",
    "plt.show()"
   ]
  },
  {
   "cell_type": "code",
   "execution_count": null,
   "metadata": {},
   "outputs": [],
   "source": [
    "nus = np.array([100,150,300,600,1400,8000])\n",
    "fitsname = '/d/d5/ychen/2015_production_runs/1022_h1_10Myr/cos_synchrotron_QU_nn_lobe/fits_linear/synchrotron_lobe_1_0_2_%04d.fits'\n",
    "for fno in [100, 200, 600, 910, 1050, 1380, 1700]:\n",
    "    hdulist = pyfits.open(fitsname % fno)\n",
    "    fluxes = []\n",
    "    for nu in [(nu, 'MHz') for nu in nus]:\n",
    "        stokes = StokesFieldName(ptype, nu, [1,0,2], field_type='flash')\n",
    "        field = stokes.I[1]\n",
    "        fluxes.append(np.sum(hdulist[field].data))\n",
    "    fluxes = np.array(fluxes)\n",
    "    fluxes /= fluxes[0]\n",
    "    plt.plot(nus, fluxes, 'x-', label=times[fno])\n",
    "    if fno in [1700]:\n",
    "        powerlaw = fluxes[0]*(nus/100)**(-0.5)\n",
    "        plt.plot(nus, powerlaw, ':', lw=1, label=r'$\\nu^{-0.5}$')\n",
    "        powerlaw = fluxes[0]*(nus/100)**(-1)\n",
    "        plt.plot(nus, powerlaw, ':', lw=1, label=r'$\\nu^{-1}$')\n",
    "\n",
    "plt.xlabel('Frequency (MHz)')\n",
    "plt.semilogx()\n",
    "plt.ylabel('Flux')\n",
    "plt.semilogy()\n",
    "plt.legend()\n",
    "plt.grid()\n",
    "plt.show()"
   ]
  },
  {
   "cell_type": "code",
   "execution_count": null,
   "metadata": {
    "collapsed": false
   },
   "outputs": [],
   "source": []
  }
 ],
 "metadata": {
  "kernelspec": {
   "display_name": "Python 3",
   "language": "python",
   "name": "python3"
  },
  "language_info": {
   "codemirror_mode": {
    "name": "ipython",
    "version": 3
   },
   "file_extension": ".py",
   "mimetype": "text/x-python",
   "name": "python",
   "nbconvert_exporter": "python",
   "pygments_lexer": "ipython3",
   "version": "3.6.1"
  }
 },
 "nbformat": 4,
 "nbformat_minor": 1
}
