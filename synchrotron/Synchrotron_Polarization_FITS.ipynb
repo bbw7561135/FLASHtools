{
 "cells": [
  {
   "cell_type": "code",
   "execution_count": null,
   "metadata": {},
   "outputs": [],
   "source": [
    "#%pdb\n",
    "%matplotlib inline\n",
    "import matplotlib.pyplot as plt\n",
    "import os\n",
    "import yt\n",
    "yt.mylog.setLevel(\"INFO\")\n",
    "import numpy as np\n",
    "from yt_synchrotron_emissivity import *\n",
    "from yt import FITSImageData\n",
    "from yt.visualization.volume_rendering.off_axis_projection import off_axis_projection\n",
    "from astropy.wcs import WCS\n",
    "from astropy import units as u"
   ]
  },
  {
   "cell_type": "code",
   "execution_count": null,
   "metadata": {
    "collapsed": false
   },
   "outputs": [],
   "source": [
    "fname = '/d/d5/ychen/2015_production_runs/1022_h1_10Myr/data/MHD_Jet_10Myr_hdf5_plt_cnt_1050_synchrotron_gc32'\n",
    "\n",
    "# Assumed distance to the object\n",
    "dist_obj = 165.95*yt.units.Mpc\n",
    "# Assumed coordinate of the object\n",
    "coord = [229.5, 42.82]\n",
    "\n",
    "nus = [(150, 'MHz'), (1400, 'MHz')]\n",
    "zoom_fac = 8\n",
    "#proj_axis = [1,0,2]\n",
    "proj_axis = 'x'\n",
    "ptype = 'lobe'\n",
    "gc = 32"
   ]
  },
  {
   "cell_type": "code",
   "execution_count": null,
   "metadata": {},
   "outputs": [],
   "source": [
    "ds_sync = yt.load(fname)\n",
    "ds_sync.field_list"
   ]
  },
  {
   "cell_type": "code",
   "execution_count": null,
   "metadata": {
    "collapsed": false
   },
   "outputs": [],
   "source": [
    "fields = []\n",
    "\n",
    "width = ds_sync.domain_width[1:]/zoom_fac\n",
    "#res = ds_sync.domain_dimensions[1:]*ds_sync.refine_by**ds_sync.index.max_level//zoom_fac\n",
    "res = [512, 1024] if zoom_fac == 8 else [1024, 2048]\n",
    "\n",
    "rad = yt.units.rad\n",
    "cdelt1 = (width[0]/dist_obj/res[0]*rad).in_units('deg')\n",
    "cdelt2 = (width[1]/dist_obj/res[1]*rad).in_units('deg')\n",
    "\n",
    "# Setting up wcs header\n",
    "w = WCS(naxis=2)\n",
    "# reference pixel coordinate\n",
    "w.wcs.crpix = [res[0]/2,res[1]/2]\n",
    "# sizes of the pixel in degrees\n",
    "w.wcs.cdelt = [cdelt1.base, cdelt2.base]\n",
    "# converting ra and dec into degrees\n",
    "w.wcs.crval = coord\n",
    "# the units of the axes are in degrees\n",
    "w.wcs.cunit = ['deg']*2\n",
    "w.wcs.equinox = 2000\n",
    "wcs_header = w.to_header()\n",
    "\n",
    "# Assuming beam area = 1 pixel^2\n",
    "beam_area = cdelt1*cdelt2\n",
    "beam_axis = np.sqrt(beam_area/2/np.pi)*2*np.sqrt(2*np.log(2))\n",
    "# Major and minor beam axes\n",
    "beam_axis = float(beam_axis.in_units('deg').v)\n",
    "\n",
    "header_dict = {\n",
    "           'CTYPE1': 'RA---SIN',\n",
    "           'CTYPE2': 'DEC--SIN',\n",
    "           'CROTA1': (0, 'Rotation in degrees.'),\n",
    "           'CROTA2': (0, 'Rotation in degrees.'),\n",
    "           'CTYPE3': 'FREQ',\n",
    "           'CUNIT3': 'Hz',\n",
    "           'BMAJ': (beam_axis, 'Beam major axis (deg)'),\n",
    "           'BMIN': (beam_axis, 'Beam minor axis (deg)'),\n",
    "           'BPA': (0.0, 'Beam position angle (deg)')\n",
    "          }"
   ]
  },
  {
   "cell_type": "code",
   "execution_count": null,
   "metadata": {
    "collapsed": false
   },
   "outputs": [],
   "source": [
    "for nu in nus:\n",
    "    stokes = StokesFieldName(ptype, nu, proj_axis, field_type='flash')\n",
    "    fields += stokes.IQU\n",
    "    #fields.append(stokes.I)\n",
    "    ds_sync.unit_registry.add('beam', float(beam_area.in_units('rad**2').v),\n",
    "                      dimensions=yt.units.dimensions.solid_angle, tex_repr='beam')\n",
    "    for field in stokes.IQU:\n",
    "        ds_sync.field_info[field].units = 'Jy/cm/arcsec**2'\n",
    "        ds_sync.field_info[field].output_units = 'Jy/cm/arcsec**2'\n",
    "if proj_axis in ['x', 'y', 'z']:\n",
    "    prj = ds_sync.proj(stokes.I, proj_axis)\n",
    "    frb = prj.to_frb(width[0], res, height=width[1])\n",
    "    fits_image = FITSImageData(frb, fields=fields, wcs=w)\n",
    "else:\n",
    "    buf = {}\n",
    "    width = ds_sync.coordinates.sanitize_width(proj_axis, width, (1.0, 'unitary'))\n",
    "    wd = tuple(w.in_units('code_length').v for w in width)\n",
    "    for field in fields:\n",
    "        buf[field] = off_axis_projection(ds_sync, [0,0,0], proj_axis, wd,\n",
    "                        res, field, north_vector=[1,0,0], num_threads=0).swapaxes(0,1)\n",
    "    fits_image = FITSImageData(buf, fields=fields, wcs=w)\n",
    "for nu in nus:\n",
    "    stokes = StokesFieldName(ptype, nu, proj_axis, field_type='flash')\n",
    "    field = stokes.I[1]\n",
    "    fits_image[field].data.units.registry.add('beam', float(beam_area.in_units('rad**2').v),\n",
    "                      dimensions=yt.units.dimensions.solid_angle, tex_repr='beam')\n",
    "    fits_image.set_unit(field, 'Jy/beam')\n",
    "    nu = yt.YTQuantity(*nu)\n",
    "    header_dict.update({\n",
    "           'OBJECT': 'Simulation %i %s' % (nu.v, nu.units),\n",
    "           'CRVAL3': int(nu.in_units('Hz').v)\n",
    "            })\n",
    "    fits_image[field].header.update(header_dict)\n",
    "    fits_image[field].header.update(wcs_header)\n",
    "#    fits_proj = FITSProjection(ds_sync, proj_axis, fields,\n",
    "#            center=[0,0,0], width=width, image_res=res)\n",
    "#else:\n",
    "#    fits_proj = FITSOffAxisProjection(ds_sync, proj_axis, fields,\n",
    "#            center=[0,0,0], north_vector=[1,0,0], width=width, image_res=res)"
   ]
  },
  {
   "cell_type": "code",
   "execution_count": null,
   "metadata": {},
   "outputs": [],
   "source": [
    "fitsfname = synchrotron_fits_filename(ds, dir, ptype, proj_axis)\n",
    "fits_image.writeto(fitsfname, clobber=True)"
   ]
  },
  {
   "cell_type": "code",
   "execution_count": null,
   "metadata": {},
   "outputs": [],
   "source": [
    "header_dict"
   ]
  },
  {
   "cell_type": "code",
   "execution_count": null,
   "metadata": {},
   "outputs": [],
   "source": [
    "yt.mylog.setLevel('WARNING')\n",
    "proj_axis = [1,0,2]\n",
    "for fnumber in ['0600', '0910', '1050']:\n",
    "    fitsfname = '/d/d5/ychen/2015_production_runs/1022_h1_10Myr/cos_synchrotron_QU_nn_lobe/fits_24_freq/synchrotron_lobe_1_0_2_%s.fits' % fnumber\n",
    "    fitsds = yt.load(fitsfname)\n",
    "    fitsds.wcs_2d = fitsds.wcs.celestial\n",
    "\n",
    "    from itertools import chain\n",
    "    nus =[(nu, 'MHz') for nu in chain(range(100,200,25), range(200,900,50), range(900,1500,100))]\n",
    "    #nus = [(100, 'MHz')]\n",
    "\n",
    "    fields = []\n",
    "    for nu in nus:\n",
    "        stokes = StokesFieldName(ptype, nu, proj_axis, field_type='flash')\n",
    "        fields += [stokes.I[1]]\n",
    "    slc = yt.SlicePlot(fitsds, 'z', fields)\n",
    "    slc.set_buff_size(fitsds.domain_dimensions[0:2])\n",
    "\n",
    "    for nu in nus:\n",
    "        stokes = StokesFieldName(ptype, nu, proj_axis, field_type='flash')\n",
    "        field = stokes.I[1]\n",
    "        norm = yt.YTQuantity(*nu).in_units('GHz').v**0.5\n",
    "        cmap = plt.cm.hot\n",
    "        cmap.set_bad('k')\n",
    "        slc.set_cmap(field, cmap)\n",
    "        slc.set_log(field, True)\n",
    "        slc.set_zlim(field, 1E-5/norm, 1E-1/norm)\n",
    "    slc.save(os.path.dirname(fitsfname))"
   ]
  },
  {
   "cell_type": "code",
   "execution_count": null,
   "metadata": {
    "collapsed": false
   },
   "outputs": [],
   "source": []
  }
 ],
 "metadata": {
  "kernelspec": {
   "display_name": "Python 3",
   "language": "python",
   "name": "python3"
  },
  "language_info": {
   "codemirror_mode": {
    "name": "ipython",
    "version": 3
   },
   "file_extension": ".py",
   "mimetype": "text/x-python",
   "name": "python",
   "nbconvert_exporter": "python",
   "pygments_lexer": "ipython3",
   "version": "3.6.1"
  }
 },
 "nbformat": 4,
 "nbformat_minor": 1
}
