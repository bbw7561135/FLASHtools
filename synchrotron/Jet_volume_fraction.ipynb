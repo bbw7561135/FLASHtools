{
 "cells": [
  {
   "cell_type": "code",
   "execution_count": null,
   "metadata": {},
   "outputs": [],
   "source": [
    "import yt\n",
    "import numpy as np\n",
    "import matplotlib\n",
    "matplotlib.rcParams['figure.dpi'] = 150\n",
    "import matplotlib.pyplot as plt\n",
    "\n",
    "#ds = yt.load('/d/d5/ychen/2015_production_runs/0529_h1_00/data/MHD_Jet_hdf5_plt_cnt_0600')\n",
    "ds = yt.load('/d/d5/ychen/2015_production_runs/1022_h1_10Myr/data/MHD_Jet_10Myr_hdf5_plt_cnt_0910')\n"
   ]
  },
  {
   "cell_type": "code",
   "execution_count": null,
   "metadata": {},
   "outputs": [],
   "source": [
    "from synchrotron.yt_synchrotron_emissivity import _jet_volume_fraction\n",
    "ds.add_field(('gas', 'jet_volume_fraction'), function=_jet_volume_fraction,\n",
    "             display_name=\"Jet Volume Fraction\", sampling_type='cell')\n",
    "plot = yt.SlicePlot(ds, 'x', 'jet_volume_fraction', center=ds.arr([0.01,0.01,0.01], input_units='kpc'), width=[(60, 'kpc'), (120, 'kpc')])\n",
    "\n",
    "plot.set_zlim('jet_volume_fraction', 1E-2, 1E0)\n",
    "plot.show()"
   ]
  },
  {
   "cell_type": "code",
   "execution_count": null,
   "metadata": {},
   "outputs": [],
   "source": [
    "plot.set_zlim('jet_volume_fraction', 5E-2, 1E0)\n",
    "plot.show()"
   ]
  },
  {
   "cell_type": "code",
   "execution_count": null,
   "metadata": {},
   "outputs": [],
   "source": [
    "ad = ds.all_data()\n",
    "null = plt.hist(np.log10(ad['jet_volume_fraction']), range=(-2,0.00), bins=100, log=True)"
   ]
  },
  {
   "cell_type": "code",
   "execution_count": null,
   "metadata": {},
   "outputs": [],
   "source": [
    "plt.scatter(np.log10(ad['flash', 'jet ']), np.log10(ad['jet_volume_fraction']), s=1, lw=0)"
   ]
  },
  {
   "cell_type": "code",
   "execution_count": null,
   "metadata": {},
   "outputs": [],
   "source": [
    "plot.set_zlim('jet_volume_fraction', 1E-1, 1E0)\n",
    "#plot.set_buff_size((200,200))\n",
    "plot.set_axes_unit('kpc')"
   ]
  },
  {
   "cell_type": "code",
   "execution_count": null,
   "metadata": {},
   "outputs": [],
   "source": [
    "plot = yt.SlicePlot(ds, 'x', 'jet ', center=ds.arr([0.01,0.01,0.01], input_units='kpc'), width=[(60, 'kpc'), (120, 'kpc')])\n",
    "plot.set_zlim('jet ', 1E-10, 1E0)\n",
    "plot.set_log('jet ', True)\n",
    "#plot.set_cmap('jet ', 'RdBu_r')\n",
    "#plot.set_buff_size((200,200))"
   ]
  },
  {
   "cell_type": "code",
   "execution_count": null,
   "metadata": {
    "collapsed": false
   },
   "outputs": [],
   "source": [
    "data = ds.all_data()\n",
    "\n",
    "from yt.units import g, cm, Kelvin\n",
    "mH = yt.utilities.physical_constants.mass_hydrogen\n",
    "k  = yt.utilities.physical_constants.boltzmann_constant\n",
    "\n",
    "rhoCore = ds.parameters['sim_rhocore']*g/cm**3\n",
    "rCore   = ds.parameters['sim_rcore']*cm\n",
    "densitybeta = ds.parameters['sim_densitybeta']\n",
    "Tout    = ds.parameters['sim_tout']*Kelvin\n",
    "Tcore   = ds.parameters['sim_tcore']*Kelvin\n",
    "rCoreT  = ds.parameters['sim_rcoret']*cm\n",
    "gammaICM= ds.parameters['sim_gammaicm']\n",
    "mu      = ds.parameters['sim_mu']\n",
    "\n",
    "r = data['index', 'spherical_radius']\n",
    "\n",
    "density0 = rhoCore*(1.0 + (r/rCore)**2)**(-1.5*densitybeta)\n",
    "T0 = Tout*(1.0+(r/rCoreT)**3)/(Tout/Tcore+(r/rCoreT)**3)\n",
    "P0 = density0/mu/mH*k*T0\n",
    "icm_mass_fraction = 1.0 - data['flash', 'jet ']\n",
    "P = data['gas', 'pressure']\n",
    "density = data['gas', 'density']\n",
    "\n",
    "icm_volume_fraction = (P0/P)**(1/gammaICM)*icm_mass_fraction*density/density0\n",
    "\n",
    "#icm_volume_fraction = np.where(icm_volume_fraction < 1.0, icm_volume_fraction, 1.0)\n"
   ]
  },
  {
   "cell_type": "code",
   "execution_count": null,
   "metadata": {},
   "outputs": [],
   "source": [
    "null = plt.hist(np.log10(1-icm_volume_fraction), range=(-3,0.05), bins=100, log=True)"
   ]
  },
  {
   "cell_type": "code",
   "execution_count": null,
   "metadata": {},
   "outputs": [],
   "source": [
    "data = ds.all_data()\n",
    "fig, (ax1, ax2) = plt.subplots(nrows=1, ncols=2)\n",
    "null = ax1.hist(np.log10(data['flash', 'jet ']), range=(-10.02,0), bins=100, log=True)\n",
    "null = ax2.hist(np.log10(data['flash', 'jet ']), range=(-9.9,0), bins=100, log=False)"
   ]
  },
  {
   "cell_type": "code",
   "execution_count": null,
   "metadata": {},
   "outputs": [],
   "source": [
    "#mask = data['flash', 'jet '] < 0.0\n",
    "max(data['flash', 'jet '])"
   ]
  },
  {
   "cell_type": "code",
   "execution_count": null,
   "metadata": {},
   "outputs": [],
   "source": [
    "plt.scatter(np.log10(data['flash', 'jet ']), np.log10(1-icm_volume_fraction), s=1, lw=0)"
   ]
  },
  {
   "cell_type": "code",
   "execution_count": null,
   "metadata": {},
   "outputs": [],
   "source": [
    "mask = icm_mass_fraction == 1.00\n",
    "icm_mass_fraction[mask]"
   ]
  },
  {
   "cell_type": "code",
   "execution_count": null,
   "metadata": {},
   "outputs": [],
   "source": [
    "np.where(icm_volume_fraction > 1.0)"
   ]
  },
  {
   "cell_type": "code",
   "execution_count": null,
   "metadata": {
    "collapsed": false
   },
   "outputs": [],
   "source": []
  }
 ],
 "metadata": {
  "kernelspec": {
   "display_name": "Python 3",
   "language": "python",
   "name": "python3"
  },
  "language_info": {
   "codemirror_mode": {
    "name": "ipython",
    "version": 3
   },
   "file_extension": ".py",
   "mimetype": "text/x-python",
   "name": "python",
   "nbconvert_exporter": "python",
   "pygments_lexer": "ipython3",
   "version": "3.6.1"
  }
 },
 "nbformat": 4,
 "nbformat_minor": 2
}
