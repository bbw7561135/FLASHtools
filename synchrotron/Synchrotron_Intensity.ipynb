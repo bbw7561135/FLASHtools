{
 "cells": [
  {
   "cell_type": "code",
   "execution_count": null,
   "metadata": {
    "collapsed": false
   },
   "outputs": [],
   "source": [
    "#%pdb\n",
    "%matplotlib inline\n",
    "import matplotlib\n",
    "matplotlib.rcParams['font.family'] = 'stixgeneral'\n",
    "matplotlib.rcParams['figure.dpi'] = 150\n",
    "import matplotlib.pyplot as plt\n",
    "import os\n",
    "import yt\n",
    "yt.mylog.setLevel(\"ERROR\")\n",
    "import numpy as np\n",
    "from synchrotron.yt_synchrotron_emissivity import *\n",
    "from mpl_toolkits.axes_grid1 import AxesGrid, ImageGrid\n",
    "import pyfits"
   ]
  },
  {
   "cell_type": "code",
   "execution_count": null,
   "metadata": {
    "collapsed": false
   },
   "outputs": [],
   "source": [
    "def setup_cl(dirs):\n",
    "    # Set up colors and label names\n",
    "    colors = {}\n",
    "    labels = {}\n",
    "    for dirname in dirs:\n",
    "        if 'M3_h1' in dirname:\n",
    "            colors[dirname] = 'pink'\n",
    "            labels[dirname] = 'low Mach (3)'\n",
    "        elif 'h1' in dirname:\n",
    "            colors[dirname] = 'r'\n",
    "            labels[dirname] = 'helical'\n",
    "        elif 'h0' in dirname:\n",
    "            colors[dirname] = 'b'\n",
    "            labels[dirname] = 'poloidal'\n",
    "        elif 'hinf' in dirname:\n",
    "            colors[dirname] = 'g'\n",
    "            labels[dirname] = 'toroidal'\n",
    "        elif 'hydro' in dirname:\n",
    "            colors[dirname] = 'k'\n",
    "            labels[dirname] = 'hydro'\n",
    "        elif 'M24_b01' in dirname:\n",
    "            colors[dirname] = 'purple'\n",
    "            labels[dirname] = 'low beta (0.01)'\n",
    "    return colors, labels"
   ]
  },
  {
   "cell_type": "code",
   "execution_count": null,
   "metadata": {},
   "outputs": [],
   "source": [
    "#dirs = ['/home/ychen/data/00only_0605_hinf/',\\\n",
    "#        '/home/ychen/data/00only_0529_h1/',\\\n",
    "#        '/home/ychen/data/00only_0605_h0/',]\n",
    "\n",
    "dirs = ['/d/d5/ychen/2015_production_runs/0204_hinf_10Myr/',\\\n",
    "        '/d/d5/ychen/2015_production_runs/1022_h1_10Myr/',\\\n",
    "        '/d/d5/ychen/2015_production_runs/0204_h0_10Myr/',]\n",
    "\n",
    "\n",
    "filenumbers = [100, 200, 600, 910, 1050]\n",
    "\n",
    "labels = ['toroidal', 'helical', 'poloidal']\n",
    "\n",
    "ptype = 'lobe'\n",
    "zoom_fac = 6\n",
    "proj_axis = 'x'\n",
    "nu = (1400, 'MHz')\n",
    "extend_cells = 32\n",
    "res = (256, 128)\n",
    "\n",
    "stokes = StokesFieldName(ptype, nu, proj_axis, field_type='flash')\n",
    "\n",
    "field = stokes.I[1]\n",
    "\n",
    "data = {}\n",
    "for j, dir in enumerate(dirs):\n",
    "    times = np.zeros(len(filenumbers))\n",
    "    I_totals = np.zeros(len(filenumbers))\n",
    "    for i, filenumber in enumerate(filenumbers):\n",
    "\n",
    "        # Load the data and create a single plot\n",
    "        ds = yt.load(os.path.join(dir, 'data/MHD_Jet_10Myr_hdf5_plt_cnt_%04d' % filenumber))\n",
    "        times[i] = ds.current_time.in_units('Myr')\n",
    "        print(dir, filenumber, ds.current_time.in_units('Myr'))\n",
    "        \n",
    "        \n",
    "#         ds_sync = yt.load(synchrotron_file_name(ds, extend_cells=extend_cells))\n",
    "#         ds_sync.field_list\n",
    "#         ds_sync.field_info[field].units = 'Jy/cm/arcsec**2'\n",
    "#         ds_sync.field_info[field].output_units = 'Jy/cm/arcsec**2'\n",
    "        \n",
    "#         box = ds_sync.box(ds.domain_left_edge/zoom_fac, ds.domain_right_edge/zoom_fac)\n",
    "#         I_total = np.sum(box[field]*box['cell_volume'])\n",
    "#        print(I_total)\n",
    "#        I_totals[i] = I_total\n",
    "\n",
    "        fitsname = synchrotron_fits_filename(ds, dir, ptype, proj_axis)\n",
    "        if not os.path.isfile(fitsname): continue\n",
    "        ds_fits = yt.load(fitsname)\n",
    "\n",
    "        ad = ds_fits.all_data()\n",
    "        I_totals[i] = np.sum(ad[field])\n",
    "    data[dir] = (times, I_totals)\n",
    "    #plt.plot(times, I_total, label=dir.split('/')[-1])\n",
    "\n",
    "\n",
    "#     if field not in ds_sync.field_list: continue\n",
    "#     if proj_axis in ['x','y','z']:\n",
    "#         p = yt.ProjectionPlot(ds_sync, proj_axis, field, center=[0,0,0], width=width, max_level=6)\n",
    "#     else:\n",
    "#         p = yt.OffAxisProjectionPlot(ds_sync, proj_axis, field, center=[0,0,0], width=width, north_vector=[0,1,0])\n",
    "    #p.set_buff_size(res)\n"
   ]
  },
  {
   "cell_type": "code",
   "execution_count": null,
   "metadata": {
    "collapsed": false
   },
   "outputs": [],
   "source": [
    "data_x = data.copy()"
   ]
  },
  {
   "cell_type": "code",
   "execution_count": null,
   "metadata": {},
   "outputs": [],
   "source": [
    "colors, labels = setup_cl(dirs)\n",
    "for dir, (time, I_total) in data_x.items():\n",
    "    plt.plot(time, I_total, 'o-', label=labels[dir]+' x', c=colors[dir])\n",
    "plt.legend()\n",
    "plt.semilogy()\n",
    "plt.xlabel('time (Myr)')\n",
    "plt.ylabel('Total Synchrotron Intensity')\n",
    "plt.title('150MHz')"
   ]
  },
  {
   "cell_type": "code",
   "execution_count": null,
   "metadata": {},
   "outputs": [],
   "source": [
    "\n",
    "colors, labels = setup_cl(dirs)\n",
    "for dir, (time, I_total) in data_x.items():\n",
    "    plt.plot(time, I_total, 'o-', label=labels[dir]+' x', c=colors[dir])\n",
    "for dir, (time, I_total) in data_30.items():\n",
    "    plt.plot(time, I_total, '^:', label=labels[dir]+' 30 deg', c=colors[dir])\n",
    "plt.plot(time, 2E6/time)\n",
    "plt.legend()\n",
    "plt.semilogy()\n",
    "plt.semilogx()\n",
    "plt.xlabel('time (Myr)')\n",
    "plt.ylabel('Total Synchrotron Intensity')\n",
    "plt.title('150MHz')"
   ]
  },
  {
   "cell_type": "code",
   "execution_count": null,
   "metadata": {},
   "outputs": [],
   "source": [
    "colors, labels = setup_cl(dirs)\n",
    "for dir, (time, I_total) in data_x.items():\n",
    "    plt.plot(time, I_total, 'o-', label=labels[dir]+' x', c=colors[dir])\n",
    "for dir, (time, I_total) in data_30.items():\n",
    "    plt.plot(time, I_total, '^:', label=labels[dir]+' 30 deg', c=colors[dir])\n",
    "plt.legend()\n",
    "plt.semilogy()\n",
    "plt.xlabel('time (Myr)')\n",
    "plt.ylabel('Total Synchrotron Intensity')\n",
    "plt.title('1400MHz')"
   ]
  },
  {
   "cell_type": "code",
   "execution_count": null,
   "metadata": {
    "collapsed": false
   },
   "outputs": [],
   "source": []
  }
 ],
 "metadata": {
  "kernelspec": {
   "display_name": "Python 3",
   "language": "python",
   "name": "python3"
  },
  "language_info": {
   "codemirror_mode": {
    "name": "ipython",
    "version": 3
   },
   "file_extension": ".py",
   "mimetype": "text/x-python",
   "name": "python",
   "nbconvert_exporter": "python",
   "pygments_lexer": "ipython3",
   "version": "3.6.1"
  }
 },
 "nbformat": 4,
 "nbformat_minor": 1
}
