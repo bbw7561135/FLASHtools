{
 "cells": [
  {
   "cell_type": "code",
   "execution_count": null,
   "metadata": {
    "collapsed": false
   },
   "outputs": [],
   "source": [
    "#%pdb\n",
    "%matplotlib inline\n",
    "import matplotlib.pyplot as plt\n",
    "import os\n",
    "import yt\n",
    "yt.mylog.setLevel(\"INFO\")\n",
    "import numpy as np\n",
    "from yt_synchrotron_emissivity import *\n",
    "from mpl_toolkits.axes_grid1 import AxesGrid"
   ]
  },
  {
   "cell_type": "code",
   "execution_count": null,
   "metadata": {
    "collapsed": false
   },
   "outputs": [],
   "source": [
    "fname = '/d/d5/ychen/2015_production_runs/1022_h1_10Myr/data/MHD_Jet_10Myr_hdf5_plt_cnt_0910_synchrotron_peak_gc8'\n",
    "#ds = yt.load(fname)\n",
    "#setup_part_file(ds)\n",
    "#ds.current_time.in_units('Myr')\n",
    "#data = ds.all_data()"
   ]
  },
  {
   "cell_type": "code",
   "execution_count": null,
   "metadata": {},
   "outputs": [],
   "source": [
    "ptype = 'lobe'\n",
    "proj_axis = [1,0,2]\n",
    "nus = [(150, 'MHz'), (1400, 'MHz')]\n",
    "#nus = [(150, 'MHz')]\n",
    "zoom_fac = 8\n",
    "extend_cells=8\n",
    "#pars = add_synchrotron_emissivity(ds, ptype=ptype, nu=nu)\n",
    "#pars = add_synchrotron_dtau_emissivity(ds, ptype=ptype, nu=nu, proj_axis=proj_axis)\n",
    "stokes = StokesFieldName(ptype, nus[0], proj_axis, field_type='flash')"
   ]
  },
  {
   "cell_type": "code",
   "execution_count": null,
   "metadata": {},
   "outputs": [],
   "source": [
    "ds_sync = yt.load(fname)\n",
    "ad = ds_sync.all_data()\n"
   ]
  },
  {
   "cell_type": "code",
   "execution_count": null,
   "metadata": {},
   "outputs": [],
   "source": [
    "null = plt.hist(np.log10(ad[stokes.I]), range=(-30,-23))"
   ]
  },
  {
   "cell_type": "code",
   "execution_count": null,
   "metadata": {},
   "outputs": [],
   "source": [
    "plot = yt.SlicePlot(ds_sync, 'x', stokes.I).zoom(8)\n",
    "plot.set_zlim(stokes.I, 1E-28, 1E-23)\n",
    "plot.show()"
   ]
  },
  {
   "cell_type": "code",
   "execution_count": null,
   "metadata": {},
   "outputs": [],
   "source": [
    "#ds_sync = yt.load(synchrotron_file_name(ds, extend_cells=extend_cells))\n",
    "ds_sync = yt.load(fname)\n",
    "ds_sync.field_list\n",
    "#ds_sync.coordinates.x_axis['x'] = 2\n",
    "#ds_sync.coordinates.x_axis[0] = 2\n",
    "#ds_sync.coordinates.y_axis['x'] = 1\n",
    "#ds_sync.coordinates.y_axis[0] = 1\n",
    "#ds_sync.field_units\n",
    "beam_area = yt.YTQuantity(0.023, 'arcsec**2')\n",
    "for nu in nus:\n",
    "    stokes = StokesFieldName(ptype, nu, proj_axis, field_type='flash')\n",
    "    for field in stokes.IQU:\n",
    "        ds_sync.unit_registry.add('beam', float(beam_area.in_units('rad**2').v), dimensions=yt.units.dimensions.solid_angle)\n",
    "        ds_sync.field_info[field].units = 'Jy/cm/arcsec**2'\n",
    "        ds_sync.field_info[field].output_units = 'Jy/cm/beam'"
   ]
  },
  {
   "cell_type": "code",
   "execution_count": null,
   "metadata": {},
   "outputs": [],
   "source": [
    "projs = {}\n",
    "width = ds_sync.domain_width[[1,2]]/zoom_fac\n",
    "#res = ds_sync.domain_dimensions[1:]*ds_sync.refine_by**ds_sync.index.max_level//zoom_fac//2\n",
    "res = (1200, 2400)\n",
    "for nu in nus:\n",
    "    stokes = StokesFieldName(ptype, nu, proj_axis, field_type='flash')\n",
    "    projs[nu] = yt.ProjectionPlot(ds_sync, proj_axis, stokes.IQU, center=[0,0,0], width=width).set_buff_size(res)\n",
    "    "
   ]
  },
  {
   "cell_type": "code",
   "execution_count": null,
   "metadata": {
    "collapsed": false
   },
   "outputs": [],
   "source": [
    "stokes = StokesFieldName(ptype, nus[0], proj_axis, field_type='flash')\n",
    "frb = projs[nus[0]].frb[stokes.I]\n",
    "print(frb.mean())\n",
    "beam_area = yt.YTQuantity(0.023, 'arcsec**2')\n",
    "\n",
    "frb.units.registry.add('beam', float(beam_area.in_units('rad**2').v), dimensions=yt.units.dimensions.solid_angle)\n",
    "print(frb.in_units('Jy/beam').mean())\n",
    "prj = ds_sync.proj(stokes.I, 'x')"
   ]
  },
  {
   "cell_type": "code",
   "execution_count": null,
   "metadata": {},
   "outputs": [],
   "source": [
    "prj[stokes.I].mean()"
   ]
  },
  {
   "cell_type": "code",
   "execution_count": null,
   "metadata": {},
   "outputs": [],
   "source": [
    "prjfrb = prj.to_frb(width[0], (1200, 2400), height=width[1])\n",
    "prjfrb[stokes.I].mean()"
   ]
  },
  {
   "cell_type": "code",
   "execution_count": null,
   "metadata": {
    "scrolled": false
   },
   "outputs": [],
   "source": [
    "frb_I = {}\n",
    "for nu, proj in projs.items():\n",
    "    stokes = StokesFieldName(ptype, nu, proj_axis, field_type='flash')\n",
    "    norm = yt.YTQuantity(*nu).in_units('GHz').value**0.5\n",
    "    #proj.set_figure_size(15)\n",
    "    #proj.set_font_size(36)\n",
    "    for field in [stokes.I]:\n",
    "        proj.set_zlim(field, 1E-3/norm, 1E1/norm)\n",
    "        cmap = plt.cm.hot\n",
    "        cmap.set_bad('k')\n",
    "        proj.set_cmap(field, cmap)\n",
    "\n",
    "    for field in [stokes.Q, stokes.U]:\n",
    "        proj.set_zlim(field, -5, 5)\n",
    "        proj.set_cmap(field, 'seismic')\n",
    "    proj._recreate_frb()\n",
    "    frb_I[nu] = proj.frb.data[stokes.I].v\n",
    "    frb_Q = proj.frb.data[stokes.Q].v\n",
    "    frb_U = proj.frb.data[stokes.U].v\n",
    "    #proj.annotate_timestamp(corner='upper_left', time_format=\"{time:6.3f} {units}\",\n",
    "    #                   time_unit='Myr', draw_inset_box=True)\n",
    "    proj.annotate_clear()\n",
    "    #proj.annotate_polline(frb_I[nu], frb_Q, frb_U, factor=25, scale=15)\n",
    "    #proj.annotate_contour(stokes.I, clim=(1E-3/norm, 4E0/norm))\n",
    "    proj.set_axes_unit('kpc')\n",
    "    #proj.set_figure_size(15)\n",
    "    proj.show()"
   ]
  },
  {
   "cell_type": "code",
   "execution_count": null,
   "metadata": {},
   "outputs": [],
   "source": [
    "from scipy.ndimage import gaussian_filter\n",
    "import matplotlib\n",
    "matplotlib.rcParams['font.family'] = 'stixgeneral'\n",
    "sigma = 1\n",
    "nu1, nu2 = nus\n",
    "I1 = gaussian_filter(frb_I[nu1], sigma)\n",
    "I2 = gaussian_filter(frb_I[nu2], sigma)\n",
    "alpha = np.log10(I2/I1)/np.log10(1400/150)\n",
    "alpha = np.ma.masked_where(I2<1E-3, np.array(alpha))\n",
    "ext = ds.arr([-0.5*width[0], 0.5*width[0], -0.5*width[1], 0.5*width[1]])\n",
    "plt.figure(figsize=(6,10), dpi=150)\n",
    "cmap = plt.cm.jet\n",
    "cmap.set_bad('navy')\n",
    "plt.imshow(alpha, cmap=cmap, vmin=-1.5, vmax=-0.5, extent=ext.in_units('kpc'), origin='lower', aspect='equal')\n",
    "plt.xlabel('z (kpc)')\n",
    "plt.ylabel('y (kpc)')\n",
    "plt.axes().tick_params(direction='in')\n",
    "cb = plt.colorbar(fraction=0.10, pad=0, aspect=50)\n",
    "cb.set_label('Spectral Index (%s) (1.4GHz/150MHz)' % ptype)\n",
    "cb.ax.tick_params(direction='in')"
   ]
  },
  {
   "cell_type": "code",
   "execution_count": null,
   "metadata": {},
   "outputs": [],
   "source": [
    "width/2 - width"
   ]
  },
  {
   "cell_type": "code",
   "execution_count": null,
   "metadata": {},
   "outputs": [],
   "source": [
    "from yt.utilities.fits_image import FITSProjection\n",
    "fieldi = ('nn_emissivity_i_%s_%%.1f%%s' % ptype) % nu\n",
    "#fits_proj = FITSProjection(ds, proj_axis, [fieldi, fieldq, fieldu], center=[0,0,0], width=((40,'kpc'),(80,'kpc')))\n",
    "width = ds.domain_width[1:]/8\n",
    "res = ds.domain_dimensions[1:]*ds.refine_by**ds.index.max_level//8\n",
    "fits_proj = FITSProjection(ds, proj_axis, fieldi, center=[0,0,0], width=width, image_res=res)\n"
   ]
  },
  {
   "cell_type": "code",
   "execution_count": null,
   "metadata": {
    "collapsed": false
   },
   "outputs": [],
   "source": [
    "fits_proj.writeto('emissivity_i_600_1.4GHz.fits')"
   ]
  },
  {
   "cell_type": "code",
   "execution_count": null,
   "metadata": {},
   "outputs": [],
   "source": [
    "\n",
    "frb = proj.frb.data[stokes.U]\n",
    "fig = plt.figure(figsize=(8,16))\n",
    "plt.imshow(gaussian_filter(frb, 8), cmap='seismic', vmin=-5, vmax=5)\n",
    "print(frb.shape)"
   ]
  },
  {
   "cell_type": "code",
   "execution_count": null,
   "metadata": {},
   "outputs": [],
   "source": [
    "yt.visualization.fixed_resolution_filters.filter_registry"
   ]
  },
  {
   "cell_type": "code",
   "execution_count": null,
   "metadata": {},
   "outputs": [],
   "source": [
    "frb_I = proj.frb.data[stokes.I].v\n",
    "frb_Q = proj.frb.data[stokes.Q].v\n",
    "frb_U = proj.frb.data[stokes.U].v\n",
    "#null = plt.hist(np.log10(arri.flatten()), range=(-15,3), bins=100)\n",
    "\n",
    "sigma = 8\n",
    "\n",
    "frb_I = gaussian_filter(frb_I, 8)\n",
    "frb_Q = gaussian_filter(frb_Q, 8)\n",
    "frb_U = gaussian_filter(frb_U, 8)\n",
    "\n",
    "factor = 1\n",
    "nx = frb_I.shape[1]//factor\n",
    "ny = frb_I.shape[0]//factor\n",
    "\n",
    "I_bin = frb_I.reshape(ny, factor, nx, factor).sum(3).sum(1)\n",
    "Q_bin = frb_Q.reshape(ny, factor, nx, factor).sum(3).sum(1)\n",
    "U_bin = frb_U.reshape(ny, factor, nx, factor).sum(3).sum(1)\n",
    "\n",
    "psi = 0.5*np.arctan2(U_bin, Q_bin)\n",
    "frac = np.sqrt(Q_bin**2+U_bin**2)/I_bin\n",
    "#print len(psi.flatten()[psi.flatten().nonzero()])\n",
    "#null = plt.hist(np.abs(psi.flatten())[psi.flatten().nonzero()], bins=50)\n",
    "#plt.xlim(0, 0.5*np.pi)"
   ]
  },
  {
   "cell_type": "code",
   "execution_count": null,
   "metadata": {},
   "outputs": [],
   "source": [
    "fig = plt.figure(figsize=(16,4))\n",
    "\n",
    "ax1 = fig.add_subplot(131)\n",
    "null = ax1.hist(frac[I_bin.nonzero()].flatten()*100, range=(0,80), bins=40,\n",
    "                                  weights=I_bin[I_bin.nonzero()].flatten() )\n",
    "ax1.set_xlim(0,80)\n",
    "ax1.set_xlabel('Polarization fraction (%)')\n",
    "#ax1.set_xlim(0, 80)\n",
    "\n",
    "ax2  = fig.add_subplot(132)\n",
    "null = ax2.hist(psi[I_bin.nonzero()].flatten(), bins=50, range=(-0.5*np.pi, 0.5*np.pi),\n",
    "                                  weights=I_bin[I_bin.nonzero()].flatten() )\n",
    "x_tick = np.linspace(-0.5, 0.5, 5, endpoint=True)\n",
    "\n",
    "x_label = [r\"$-\\pi/2$\", r\"$-\\pi/4$\", r\"$0$\", r\"$+\\pi/4$\", r\"$+\\pi/2$\"]\n",
    "ax2.set_xlim(-0.5*np.pi, 0.5*np.pi)\n",
    "ax2.set_xticks(x_tick*np.pi)\n",
    "ax2.set_xticklabels(x_label)\n",
    "ax2.set_title(ds.basename + '  %.1f %s' % nu)\n",
    "\n",
    "ax3 = fig.add_subplot(133)\n",
    "null = ax3.hist(np.abs(psi[I_bin.nonzero()].flatten()), bins=25, range=(0.0, 0.5*np.pi))\n",
    "ax3.set_xlim(0.0, 0.5*np.pi)\n",
    "ax3.set_xticks([x_tick[2:]*np.pi])\n",
    "ax3.set_xticks(x_tick[2:]*np.pi)\n",
    "ax3.set_xticklabels(x_label[2:])"
   ]
  },
  {
   "cell_type": "code",
   "execution_count": null,
   "metadata": {},
   "outputs": [],
   "source": [
    "fig = plt.figure(figsize=(15,20))\n",
    "plt.imshow(psi)\n",
    "plt.colorbar()"
   ]
  },
  {
   "cell_type": "code",
   "execution_count": null,
   "metadata": {
    "collapsed": false
   },
   "outputs": [],
   "source": [
    "field = fieldi\n",
    "xx0, xx1 = plot.xlim\n",
    "print xx0, xx1\n",
    "yy0, yy1 = plot.ylim\n",
    "print plot.plots\n",
    "\n",
    "factor = 10.0\n",
    "nx = plot.plots[field].image._A.shape[0] / factor\n",
    "ny = plot.plots[field].image._A.shape[1] / factor\n",
    "X,Y = np.meshgrid(np.linspace(xx0,xx1,nx,endpoint=True),\\\n",
    "                  np.linspace(yy0,yy1,ny,endpoint=True))\n",
    "\n",
    "#frb_U = X\n",
    "#frb_Q = Y\n",
    "#frb_I = np.sqrt(X*X+Y*Y)\n",
    "\n",
    "psi = 0.5*np.arctan(frb_U[::factor,::factor]/frb_Q[::factor,::factor])\n",
    "frac = np.sqrt(frb_Q[::factor,::factor]**2+frb_U[::factor,::factor]**2)/frb_I[::factor,::factor]\n",
    "#null = plt.hist(frac.flatten(), range=(0,5), bins=100)"
   ]
  },
  {
   "cell_type": "code",
   "execution_count": null,
   "metadata": {
    "scrolled": false
   },
   "outputs": [],
   "source": [
    "convolved_image = frb_I\n",
    "convolved_image_q = frb_Q\n",
    "convolved_image_u = frb_U\n",
    "# First, we plot the background image\n",
    "fig = plt.figure(figsize=(8,16))\n",
    "i_plot = fig.add_subplot(111)\n",
    "i_plot.imshow(np.log10(convolved_image+1e-3), vmin=-1, vmax=1, origin='lower')\n",
    "\n",
    "# ranges of the axis\n",
    "xx0, xx1 = i_plot.get_xlim()\n",
    "yy0, yy1 = i_plot.get_ylim()\n",
    "\n",
    "# binning factor\n",
    "factor = [32, 32]\n",
    "\n",
    "# re-binned number of points in each axis\n",
    "nx_new = convolved_image.shape[1] // factor[0]\n",
    "ny_new = convolved_image.shape[0] // factor[1]\n",
    "\n",
    "# These are the positions of the quivers\n",
    "X,Y = np.meshgrid(np.linspace(xx0,xx1,nx_new,endpoint=True),\n",
    "                  np.linspace(yy0,yy1,ny_new,endpoint=True))\n",
    "\n",
    "# bin the data\n",
    "I_bin = convolved_image.reshape(nx_new, factor[0], ny_new, factor[1]).sum(3).sum(1)\n",
    "Q_bin = convolved_image_q.reshape(nx_new, factor[0], ny_new, factor[1]).sum(3).sum(1)\n",
    "U_bin = convolved_image_u.reshape(nx_new, factor[0], ny_new, factor[1]).sum(3).sum(1)\n",
    "\n",
    "# polarization angle\n",
    "psi = 0.5*np.arctan2(U_bin, Q_bin)\n",
    "\n",
    "# polarization fraction\n",
    "frac = np.sqrt(Q_bin**2+U_bin**2)/I_bin\n",
    "\n",
    "# mask for low signal area\n",
    "mask = I_bin < 0.1\n",
    "\n",
    "frac[mask] = 0\n",
    "psi[mask] = 0\n",
    "\n",
    "pixX = frac*np.cos(psi) # X-vector \n",
    "pixY = frac*np.sin(psi) # Y-vector\n",
    "\n",
    "# keyword arguments for quiverplots\n",
    "quiveropts = dict(headlength=0, headwidth=1, pivot='middle')\n",
    "i_plot.quiver(X, Y, pixX, pixY, scale=8, **quiveropts)\n",
    "plt.show()"
   ]
  },
  {
   "cell_type": "code",
   "execution_count": null,
   "metadata": {
    "collapsed": false
   },
   "outputs": [],
   "source": [
    "\n",
    "plot.save()"
   ]
  },
  {
   "cell_type": "code",
   "execution_count": null,
   "metadata": {
    "collapsed": false
   },
   "outputs": [],
   "source": [
    "p = plot.plots[fieldi]\n",
    "quiveropts = dict(headlength=code0, headwidth=1, pivot='middle')#, scale=3, \n",
    "    #linewidth=.5, units='xy', width=.05, headwidth=1)v\n",
    "p.axes.cla()\n",
    "p.axes.quiver(X,Y,frac*np.sin(psi),frac*np.cos(psi), **quiveropts)\n",
    "#p.show()\n",
    "plot.show()"
   ]
  },
  {
   "cell_type": "code",
   "execution_count": null,
   "metadata": {
    "collapsed": false
   },
   "outputs": [],
   "source": [
    "code0 = ds.quan(0, 'code_length')"
   ]
  },
  {
   "cell_type": "code",
   "execution_count": null,
   "metadata": {
    "collapsed": false
   },
   "outputs": [],
   "source": [
    "plot.zoom(64)\n",
    "plot.annotate_grids()\n",
    "plot.annotate_particles((0.5, 'kpc'), col='white', ptype='jetp')\n",
    "plot.set_zlim(field, 1E-1, 1E3)\n",
    "plot.set_cmap(field, cmap)\n",
    "plot.show()"
   ]
  },
  {
   "cell_type": "code",
   "execution_count": null,
   "metadata": {
    "collapsed": false
   },
   "outputs": [],
   "source": [
    "ptype = 'all'\n",
    "#B = np.array([data[(ptype, 'particle_magx')], data[(ptype, 'particle_magy')], data[(ptype, 'particle_magz')]])\\\n",
    "B_cut = 1E-20\n",
    "Bvec = np.array([data[('flash', 'magx')], data[('flash', 'magy')], data[('flash', 'magz')]])\\\n",
    "    *np.sqrt(4.0*np.pi)\n",
    "print Bvec.shape\n",
    "#B = B[:,np.nonzero(B2)][:,0,:]\n",
    "#print B.shape"
   ]
  },
  {
   "cell_type": "code",
   "execution_count": null,
   "metadata": {
    "collapsed": false
   },
   "outputs": [],
   "source": [
    "B[:,1]\n",
    "B2 = np.sum(B*B, axis=0)\n",
    "print B2.shape\n",
    "flag = B2 > B_cut**2\n",
    "print flag.shape\n",
    "print B.shape\n",
    "print B[:,flag].shape\n",
    "#print B[:,np.nonzero(B2)].shape\n",
    "#print B[:,np.nonzero(B2)][:,0,:].shape"
   ]
  },
  {
   "cell_type": "code",
   "execution_count": null,
   "metadata": {
    "collapsed": false
   },
   "outputs": [],
   "source": [
    "import matplotlib.pyplot as plt\n",
    "plt.hist(np.log10(B2[B2>0.0]), bins=40)#, range=(2E-8, 1E-7))\n",
    "\n",
    "#print cross\n",
    "#print np.sum(cross*cross, axis=1)\n",
    "#print np.sum(B*B, axis=0)"
   ]
  },
  {
   "cell_type": "code",
   "execution_count": null,
   "metadata": {
    "collapsed": false
   },
   "outputs": [],
   "source": [
    "for proj_axis in ['x', 'y', 'z']:\n",
    "    if proj_axis=='x': los = [1.,0.,0.]\n",
    "    elif proj_axis=='y': los = [0.,1.,0.]\n",
    "    elif proj_axis=='z': los = [0.,0.,1.]\n",
    "\n",
    "    cross = np.cross(los, B, axisb=0)\n",
    "    sina = np.sqrt(np.sum(cross*cross, axis=1)/np.sum(B*B, axis=0))\n",
    "    #print sina.shape\n",
    "    #print \"sin(alpha)=\", sina\n",
    "    a = np.arcsin(sina)/np.pi*180\n",
    "    #print 'alpha=', a\n",
    "    dummy = plt.hist(a, bins=40, alpha=0.5, label=proj_axis)\n",
    "plt.xlabel('B position angle (deg)')\n",
    "plt.legend(loc=2)"
   ]
  },
  {
   "cell_type": "code",
   "execution_count": null,
   "metadata": {
    "collapsed": false
   },
   "outputs": [],
   "source": [
    "\n",
    "from mpl_toolkits.mplot3d import Axes3D\n",
    "fig = plt.figure()\n",
    "ax = fig.add_subplot(111, projection='3d')\n",
    "\n",
    "xs, ys, zs = zip([0,0,0], LOS)\n",
    "ax.plot(xs, ys, zs)\n",
    "xs, ys, zs = zip([0,0,0], B0/np.sqrt(np.sum(B0*B0)))\n",
    "ax.plot(xs, ys, zs)\n",
    "\n",
    "\n",
    "\n",
    "ax.set_xlim(-1,1)\n",
    "ax.set_ylim(-1,1)\n",
    "ax.set_zlim(-1,1)"
   ]
  },
  {
   "cell_type": "code",
   "execution_count": null,
   "metadata": {
    "collapsed": false
   },
   "outputs": [],
   "source": [
    "Bvec = np.array([data[('flash', 'magx')], data[('flash', 'magy')], data[('flash', 'magz')]])\\\n",
    "    *np.sqrt(4.0*np.pi)\n",
    "print Bvec.shape\n",
    "los = np.array([1.,0.,0.])\n",
    "print los.shape"
   ]
  },
  {
   "cell_type": "code",
   "execution_count": null,
   "metadata": {
    "collapsed": false
   },
   "outputs": [],
   "source": [
    "B2 = np.sum(Bvec*Bvec, axis=0)\n",
    "mask = B2>0.0\n",
    "Bvec = Bvec[:,mask]\n",
    "print Bvec.shape\n",
    "print np.inner(Bvec.transpose(),los)"
   ]
  },
  {
   "cell_type": "code",
   "execution_count": null,
   "metadata": {
    "collapsed": false
   },
   "outputs": [],
   "source": [
    "inner = np.inner(Bvec.transpose(), los)\n",
    "print inner.shape\n",
    "inner.reshape((inner.shape[0], 1))\n",
    "print inner\n",
    "print (inner.reshape((-1, 1))*los).shape\n",
    "\n",
    "#Bproj = Bvec - *los"
   ]
  },
  {
   "cell_type": "code",
   "execution_count": null,
   "metadata": {
    "collapsed": false
   },
   "outputs": [],
   "source": [
    "Bvec.transpose() - np.inner(Bvec.transpose(), los).reshape((-1,1))*los"
   ]
  },
  {
   "cell_type": "code",
   "execution_count": null,
   "metadata": {
    "collapsed": false
   },
   "outputs": [],
   "source": [
    "from mpl_toolkits.axes_grid1 import AxesGrid\n",
    "dirs = ['/home/ychen/data/0only_0605_hinf/',\\\n",
    "        '/home/ychen/data/0only_0529_h1/',\\\n",
    "        '/home/ychen/data/0only_0605_h0/']\n",
    "\n",
    "labels = ['toroidal', 'helical', 'poloidal', 'hydro']\n",
    "ptype = 'lobe'\n",
    "pol = 'i'\n",
    "nu = (150, 'MHz')\n",
    "proj_axis = 'x'\n",
    "norm = yt.YTQuantity(*nu).in_units('GHz').value**0.5\n",
    "field = ('deposit', ('nn_emissivity_%s_%s_%%.1f%%s' % (pol, ptype)) % nu)\n",
    "center=(0.0,0.0,0.0)\n",
    "\n",
    "fig = plt.figure()\n",
    "\n",
    "grid = AxesGrid(fig, (0.075,0.075,0.85,0.85),\n",
    "                nrows_ncols = (1, 4),\n",
    "                axes_pad = 0.05,\n",
    "                label_mode = \"L\",\n",
    "                share_all = True,\n",
    "                cbar_location=\"right\",\n",
    "                cbar_mode=\"single\",\n",
    "                cbar_size=\"5%\",\n",
    "                cbar_pad=\"0%\")\n",
    "\n",
    "for i, dir in enumerate(dirs):\n",
    "    # Load the data and create a single plot\n",
    "    ds = yt.load(os.path.join(dir, 'MHD_Jet_hdf5_plt_cnt_0640'))# load data\n",
    "    pars = add_synchrotron_pol_emissivity(ds, ptype=ptype, nu=nu, proj_axis=proj_axis)\n",
    "    \n",
    "    p=yt.ProjectionPlot(ds, proj_axis, field, center=center, origin='center-domain',\\\n",
    "                              width=((40,'kpc'), (80,'kpc')),)\n",
    "    # Ensure the colorbar limits match for all plots\n",
    "    p.set_zlim(field, 1E-3/norm, 1E1/norm)\n",
    "    cmap = plt.cm.hot\n",
    "    cmap.set_bad('k')\n",
    "    p.set_cmap(field, cmap)\n",
    "    p.annotate_text((0.75, 0.95), labels[i], coord_system='axis', text_args={'color':'grey'})\n",
    "    p.set_buff_size((200,400))\n",
    "    p.set_font_size(9)\n",
    "    \n",
    "    if i == 0:\n",
    "        p.annotate_timestamp(0.05, 0.95, time_format=\"{time:6.3f} {units}\", time_unit='Myr', text_args={'color':'grey'})\n",
    "    \n",
    "\n",
    "    # This forces the ProjectionPlot to redraw itself on the AxesGrid axes.\n",
    "    plot = p.plots[field]\n",
    "    plot.figure = fig\n",
    "    plot.axes = grid[i].axes\n",
    "    plot.cax = grid.cbar_axes[i]\n",
    "\n",
    "    # Finally, this actually redraws the plot.\n",
    "    p._setup_plots()\n",
    "    p.plots[field].axes.set_xticks([-10,0,10,20])\n",
    "    p.plots[field].axes.set_xticklabels([-10,0,10,20])\n",
    "\n",
    "fig.set_figwidth(10)\n",
    "fig.set_figheight(5)\n",
    "fig.savefig('compare_4_synchrotron_lobe_I_64.pdf')"
   ]
  },
  {
   "cell_type": "code",
   "execution_count": null,
   "metadata": {
    "collapsed": false
   },
   "outputs": [],
   "source": []
  }
 ],
 "metadata": {
  "kernelspec": {
   "display_name": "Python 3",
   "language": "python",
   "name": "python3"
  },
  "language_info": {
   "codemirror_mode": {
    "name": "ipython",
    "version": 3
   },
   "file_extension": ".py",
   "mimetype": "text/x-python",
   "name": "python",
   "nbconvert_exporter": "python",
   "pygments_lexer": "ipython3",
   "version": "3.6.1"
  }
 },
 "nbformat": 4,
 "nbformat_minor": 1
}
