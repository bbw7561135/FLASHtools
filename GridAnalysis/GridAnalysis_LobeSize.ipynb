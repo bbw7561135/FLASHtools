{
 "cells": [
  {
   "cell_type": "code",
   "execution_count": null,
   "metadata": {
    "collapsed": false
   },
   "outputs": [],
   "source": [
    "%matplotlib inline\n",
    "import yt\n",
    "import logging\n",
    "logging.getLogger('yt').setLevel(logging.ERROR)\n",
    "import numpy as np\n",
    "import matplotlib\n",
    "matplotlib.rcParams['savefig.dpi'] = 150\n",
    "import matplotlib.pyplot as plt\n",
    "import multiprocessing\n",
    "import sys\n",
    "sys.path.append('/home/ychen/lib/util')\n",
    "import util\n",
    "#dss = yt.load('/home/ychen/d9/FLASH4/stampede/0529_L45_M10_b1_h1/MHD_Jet_hdf5_plt_cnt*')"
   ]
  },
  {
   "cell_type": "code",
   "execution_count": null,
   "metadata": {
    "collapsed": false
   },
   "outputs": [],
   "source": [
    "def rescan(dir, printlist=False):\n",
    "    files = util.scan_files(dir, '*hdf5_plt_cnt_[0-9][0-9][0-9][0-9]', \\\n",
    "                             printlist=printlist, walk=True)\n",
    "    return files\n",
    "\n",
    "dir = '/home/ychen/d9/FLASH4/stampede/0529_L45_M10_b1_h1/'\n",
    "files = rescan(dir, printlist=True)"
   ]
  },
  {
   "cell_type": "code",
   "execution_count": null,
   "metadata": {
    "collapsed": false
   },
   "outputs": [],
   "source": [
    "ds = yt.load(files[100].fullpath)\n",
    "ad = ds.all_data()\n",
    "zlim = (ds.domain_left_edge[2]/8.0, ds.domain_right_edge[2]/8.0)\n",
    "print zlim[0].in_units('kpc')"
   ]
  },
  {
   "cell_type": "code",
   "execution_count": null,
   "metadata": {
    "collapsed": false
   },
   "outputs": [],
   "source": [
    "prof = yt.create_profile(ad, 'z', ['dens'], extrema={'z': zlim}, n_bins=20, logs={'z': False})"
   ]
  },
  {
   "cell_type": "code",
   "execution_count": null,
   "metadata": {
    "collapsed": false
   },
   "outputs": [],
   "source": [
    "plt.plot(prof.x, prof['dens'])"
   ]
  },
  {
   "cell_type": "code",
   "execution_count": null,
   "metadata": {
    "collapsed": false
   },
   "outputs": [],
   "source": [
    "#sp = ds.sphere([0.0,0.0,0.0], (60, 'kpc'))\n",
    "prof = yt.create_profile(ad, 'z', ['jet ', 'pressure', 'temperature'], \\\n",
    "                         logs={'z': False}, weight_field=None, extrema={'z': zlim})\n",
    "prof_wf = yt.create_profile(ad, 'z', ['jet ', 'pressure', 'temperature'], \\\n",
    "                         logs={'z': False}, weight_field='cell_mass', extrema={'z': zlim})"
   ]
  },
  {
   "cell_type": "code",
   "execution_count": null,
   "metadata": {
    "collapsed": false
   },
   "outputs": [],
   "source": [
    "fig, ax1 = plt.subplots()\n",
    "ax1.plot(prof.x, prof['jet '], c='r', label='pressure')\n",
    "ax1.plot(prof_wf.x, prof_wf['jet '], c='b', label='pressure')\n",
    "ax1.semilogy()\n",
    "ax1.set_ylim(1E-11, 1E6)"
   ]
  },
  {
   "cell_type": "code",
   "execution_count": null,
   "metadata": {
    "collapsed": false
   },
   "outputs": [],
   "source": [
    "for (z, j) in reversed(zip(prof.x, prof['jet '])):\n",
    "    if j > 1E4:\n",
    "        print z, j\n",
    "        break"
   ]
  },
  {
   "cell_type": "code",
   "execution_count": null,
   "metadata": {
    "collapsed": false,
    "scrolled": false
   },
   "outputs": [],
   "source": [
    "dirs = [\n",
    "        '/home/ychen/data/0only_0605_h0/',\\\n",
    "        '/home/ychen/data/0only_0602_hydro/',\\\n",
    "        '/home/ychen/data/0only_0529_h1/',\\\n",
    "        '/home/ychen/data/0only_0605_hinf/',\\\n",
    "        '/home/ychen/data/0only_0204_h0_10Myr/',\\\n",
    "        '/home/ychen/data/0only_0413_hydro_10Myr/',\\\n",
    "        '/home/ychen/data/0only_1022_h1_10Myr/',\\\n",
    "        '/home/ychen/data/0only_0204_hinf_10Myr/']\n",
    "\n",
    "colors = {}\n",
    "labels = {}\n",
    "for dirname in dirs:\n",
    "    if 'h1' in dirname:\n",
    "        colors[dirname] = 'r'\n",
    "        labels[dirname] = 'helical'\n",
    "    elif 'h0' in dirname:\n",
    "        colors[dirname] = 'b'\n",
    "        labels[dirname] = 'poloidal'\n",
    "    elif 'hinf' in dirname:\n",
    "        colors[dirname] = 'g'\n",
    "        labels[dirname] = 'toroidal'\n",
    "    else:\n",
    "        colors[dirname] = 'grey'\n",
    "        labels[dirname] = 'hydro'\n",
    "\n",
    "for dir in dirs:\n",
    "    data = np.loadtxt(dir+'GridAnalysis_LobeSize.txt')\n",
    "    label = labels[dir]\n",
    "    if '10Myr' in dir:\n",
    "        plt.fill_between(data[:,1], data[:,2], -data[:,3],\\\n",
    "                         facecolor=colors[dir], lw=1, edgecolor=colors[dir], alpha=0.7)\n",
    "        #plt.plot(data[:,1], data[:,2], c=colors[dir])\n",
    "    else:\n",
    "        plt.fill_between(data[:,1], data[:,2], -data[:,3],\\\n",
    "                         facecolor=colors[dir], lw=1, edgecolor=colors[dir], alpha=0.7, label=label)\n",
    "    plt.fill_between(data[:,1], data[:,4], -data[:,5],\\\n",
    "                     facecolor=colors[dir], lw=1, linestyle=':', edgecolor=colors[dir], alpha=0.3)\n",
    "plt.legend(loc=4)\n",
    "plt.ylabel('z (kpc)')\n",
    "plt.xlabel('t (Myr)')\n",
    "plt.xlim(0,100)\n",
    "#plt.semilogx()"
   ]
  },
  {
   "cell_type": "code",
   "execution_count": null,
   "metadata": {
    "collapsed": false
   },
   "outputs": [],
   "source": [
    "dirs = [\n",
    "        '/home/ychen/data/0only_0529_h1/',\\\n",
    "        '/home/ychen/data/0only_0605_hinf/',\\\n",
    "        '/home/ychen/data/0only_0602_hydro/',\\\n",
    "        '/home/ychen/data/0only_0605_h0/']\n",
    "\n",
    "colors = {}\n",
    "for dirname in dirs:\n",
    "    if 'h1' in dirname:\n",
    "        colors[dirname] = 'r'\n",
    "        labels[dirname] = 'helical'\n",
    "    elif 'h0' in dirname:\n",
    "        colors[dirname] = 'b'\n",
    "        labels[dirname] = 'poloidal'\n",
    "    elif 'hinf' in dirname:\n",
    "        colors[dirname] = 'g'\n",
    "        labels[dirname] = 'toroidal'\n",
    "    elif 'hydro' in dirname:\n",
    "        colors[dirname] = 'grey'\n",
    "        labels[dirname] = 'hydro'\n",
    "\n",
    "for dir in dirs:\n",
    "    data = np.loadtxt(dir+'GridAnalysis_LobeSize.txt')\n",
    "    #label = dir[28:-1]\n",
    "    label = labels[dir]\n",
    "    plt.fill_between(data[:,1], data[:,2], -data[:,3],\\\n",
    "                     facecolor=colors[dir], lw=1, edgecolor=colors[dir], alpha=0.8, label=label)\n",
    "    plt.fill_between(data[:,1], data[:,4], -data[:,5],\\\n",
    "                     facecolor=colors[dir], lw=1, linestyle=':', edgecolor=colors[dir], alpha=0.3)\n",
    "\n",
    "plt.legend(loc=4)\n",
    "plt.ylabel('z (kpc)')\n",
    "plt.xlabel('t (Myr)')\n",
    "#plt.axvline(10, ls=':', c='grey')"
   ]
  },
  {
   "cell_type": "code",
   "execution_count": null,
   "metadata": {
    "collapsed": false
   },
   "outputs": [],
   "source": [
    "#upfilter = ad['z'] > 0.0\n",
    "kpc = yt.units.kpc.in_units('cm')\n",
    "leftedge = [-30*kpc, -30*kpc, 0.0]\n",
    "rightedge = [ 30*kpc, 30*kpc, 60*kpc]\n",
    "upbox = ds.box(leftedge, rightedge)"
   ]
  },
  {
   "cell_type": "code",
   "execution_count": null,
   "metadata": {
    "collapsed": false
   },
   "outputs": [],
   "source": []
  },
  {
   "cell_type": "code",
   "execution_count": null,
   "metadata": {
    "collapsed": false
   },
   "outputs": [],
   "source": [
    "np.sum(upbox['jet ']*upbox['cell_mass']*upbox['z'])/np.sum(upbox['jet ']*upbox['cell_mass'])"
   ]
  },
  {
   "cell_type": "code",
   "execution_count": null,
   "metadata": {
    "collapsed": false
   },
   "outputs": [],
   "source": [
    "fig, ax1 = plt.subplots()\n",
    "ax1.plot(prof_p.x, prof_p['pressure'], c='b', label='pressure')\n",
    "plt.legend(loc=2)\n",
    "ax2 = ax1.twinx()\n",
    "ax2.plot(prof_t.x, prof_t['temperature'], c='r', label='temperature')\n",
    "plt.legend(loc=1)\n",
    "#plot = yt.ProfilePlot.from_profiles([prof_p, prof_t], labels=['pressure', 'temperature'])"
   ]
  },
  {
   "cell_type": "code",
   "execution_count": null,
   "metadata": {
    "collapsed": false
   },
   "outputs": [],
   "source": [
    "plt.plot(prof[0].x[1:], (prof[0]['temperature'][1:]-prof[0]['temperature'][0:-1])/)"
   ]
  },
  {
   "cell_type": "code",
   "execution_count": null,
   "metadata": {
    "collapsed": false
   },
   "outputs": [],
   "source": []
  },
  {
   "cell_type": "code",
   "execution_count": null,
   "metadata": {
    "collapsed": false
   },
   "outputs": [],
   "source": []
  }
 ],
 "metadata": {
  "kernelspec": {
   "display_name": "Python 2",
   "language": "python",
   "name": "python2"
  },
  "language_info": {
   "codemirror_mode": {
    "name": "ipython",
    "version": 2
   },
   "file_extension": ".py",
   "mimetype": "text/x-python",
   "name": "python",
   "nbconvert_exporter": "python",
   "pygments_lexer": "ipython2",
   "version": "2.7.10"
  }
 },
 "nbformat": 4,
 "nbformat_minor": 0
}
