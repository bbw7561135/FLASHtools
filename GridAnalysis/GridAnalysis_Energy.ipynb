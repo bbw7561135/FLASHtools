{
 "cells": [
  {
   "cell_type": "code",
   "execution_count": null,
   "metadata": {
    "collapsed": false
   },
   "outputs": [],
   "source": [
    "import yt\n",
    "import logging\n",
    "import numpy as np\n",
    "import matplotlib\n",
    "matplotlib.rcParams['savefig.dpi'] = 150\n",
    "import matplotlib.pyplot as plt\n",
    "import multiprocessing\n",
    "logging.getLogger('yt').setLevel(logging.ERROR)\n",
    "dss = yt.load('/home/ychen/d9/FLASH4/stampede/0529_L45_M10_b1_h1/MHD_Jet_hdf5_plt_cnt*')"
   ]
  },
  {
   "cell_type": "code",
   "execution_count": null,
   "metadata": {
    "collapsed": false
   },
   "outputs": [],
   "source": [
    "end=100\n",
    "ds = dss[end]\n",
    "ad = ds.all_data()\n",
    "print ad.center\n",
    "print ad.right_edge\n",
    "print ad.left_edge\n",
    "print ds.field_list\n",
    "#for field in ds.derived_field_list:\n",
    "#    if True:\n",
    "#        print field"
   ]
  },
  {
   "cell_type": "code",
   "execution_count": null,
   "metadata": {
    "collapsed": false
   },
   "outputs": [],
   "source": [
    "center = [0.0,0.0,0.0]\n",
    "radius = (1.5E23, 'code_length')\n",
    "sp = ds.sphere(center, radius)\n",
    "#print sqrt(sp['velocity_x']**2+sp['velocity_y']**2+sp['velocity_z']**2)\n",
    "#print sp['velocity_magnitude']\n",
    "plt.hist(np.log2(sp['cell_volume']/sp['cell_volume'].min()), bins=8)"
   ]
  },
  {
   "cell_type": "code",
   "execution_count": null,
   "metadata": {
    "collapsed": false
   },
   "outputs": [],
   "source": [
    "#print sp['thermal_energy']\n",
    "print sp['kinetic_energy']/sp['density']\n",
    "print\n",
    "#print sp['thermal_energy'] + sp['kinetic_energy']/sp['density']\n",
    "#print sp['total_energy']\n",
    "print sp['pressure']\n",
    "print sp['pressure']/sp['density']/(1.6666-1)"
   ]
  },
  {
   "cell_type": "code",
   "execution_count": null,
   "metadata": {
    "collapsed": false
   },
   "outputs": [],
   "source": [
    "print sum(sp['thermal_energy']*sp['density']*sp['cell_volume']) + sum(sp['kinetic_energy']*sp['cell_volume'])\n",
    "print sum(sp['thermal_energy']*sp['cell_mass']) + sum(sp['kinetic_energy']*sp['cell_volume'])\n",
    "print sum(sp['thermal_energy']*sp['cell_mass']) + sum(sp['kinetic_energy']/sp['density']*sp['cell_mass'])"
   ]
  },
  {
   "cell_type": "code",
   "execution_count": null,
   "metadata": {
    "collapsed": false
   },
   "outputs": [],
   "source": [
    "Eth = sum(sp['pressure']/sp['density']/(1.6666-1)*sp['cell_mass'])\n",
    "Ekin = sum(sp['kinetic_energy']/sp['density']*sp['cell_mass'])\n",
    "\n",
    "Etot = Eth + Ekin\n",
    "print Etot"
   ]
  },
  {
   "cell_type": "code",
   "execution_count": null,
   "metadata": {
    "collapsed": false
   },
   "outputs": [],
   "source": [
    "plot = yt.SlicePlot(dss[120], 'x', 'jet ', center=(0,0,0))\n",
    "plot.annotate_sphere(center, radius)\n",
    "plot.zoom(8)\n",
    "plot.show()"
   ]
  },
  {
   "cell_type": "code",
   "execution_count": null,
   "metadata": {
    "collapsed": false
   },
   "outputs": [],
   "source": [
    "ts = []\n",
    "Ekins, Eths, Etots, Emags = [], [], [], []"
   ]
  },
  {
   "cell_type": "code",
   "execution_count": null,
   "metadata": {
    "collapsed": false
   },
   "outputs": [],
   "source": [
    "for ds in dss[0:120:10]:\n",
    "    print ds\n",
    "    sp = ds.sphere(center, radius)\n",
    "    \n",
    "    \n",
    "    Eth = sum(sp['pressure']/(1.6666-1)*sp['cell_volume']*sp['jet '])\n",
    "    Ekin = sum(sp['kinetic_energy']*sp['cell_volume']*sp['jet '])\n",
    "    Emag = sum(sp['magnetic_pressure']*sp['cell_volume']*sp['jet '])\n",
    "    Etot = Eth + Ekin\n",
    "    t = ds.current_time\n",
    "    ts.append(t)\n",
    "    Eths.append(Eth)\n",
    "    Ekins.append(Ekin)\n",
    "    Etots.append(Etot)\n",
    "    Emags.append(Emag)"
   ]
  },
  {
   "cell_type": "code",
   "execution_count": null,
   "metadata": {
    "collapsed": false
   },
   "outputs": [],
   "source": [
    "print ts"
   ]
  },
  {
   "cell_type": "code",
   "execution_count": null,
   "metadata": {
    "collapsed": false
   },
   "outputs": [],
   "source": [
    "plt.plot(np.array(ts)/3.154E13, (np.array(Etots)-np.array(Etots[0]))/np.array(Emags), label='total E')\n",
    "plt.plot(np.array(ts)/3.154E13, (np.array(Ekins)-np.array(Ekins[0]))/np.array(Emags), label='kinetic E')\n",
    "plt.plot(np.array(ts)/3.154E13, (np.array(Eths)-np.array(Eths[0]))/np.array(Emags), label='thermal E')\n",
    "#plt.plot(ts/3.154E13, (np.array(Emags)-np.array(Emags[0]))*30, label='magnetic E')\n",
    "plt.legend(loc=0)\n",
    "plt.xlim(0,25)\n",
    "plt.xlabel('t (Myr)')\n",
    "plt.ylabel('E/Emag')\n",
    "#plt.title('h1')"
   ]
  },
  {
   "cell_type": "code",
   "execution_count": null,
   "metadata": {
    "collapsed": false
   },
   "outputs": [],
   "source": [
    "Etots_arr = np.array(Etots)\n",
    "Emags_arr = np.array(Emags)\n",
    "Eths_arr = np.array(Eths)\n",
    "ts_arr = np.array(ts)\n",
    "Ps = (Etots_arr[1:-1]-Etots_arr[0:-2])/(ts_arr[1:-1]-ts_arr[0:-2])\n",
    "plt.plot(ts[:-2], Ps)\n",
    "#plt.plot(ts[:-2], (Eths_arr/Emags_arr/100.0)[:-2])\n",
    "plt.ylabel('erg')\n",
    "plt.xlabel('s')\n",
    "print Ps"
   ]
  },
  {
   "cell_type": "code",
   "execution_count": null,
   "metadata": {
    "collapsed": false
   },
   "outputs": [],
   "source": [
    "plt.plot(ts, Emags)"
   ]
  },
  {
   "cell_type": "code",
   "execution_count": null,
   "metadata": {
    "collapsed": false
   },
   "outputs": [],
   "source": []
  }
 ],
 "metadata": {
  "kernelspec": {
   "display_name": "Python 2",
   "language": "python",
   "name": "python2"
  },
  "language_info": {
   "codemirror_mode": {
    "name": "ipython",
    "version": 2
   },
   "file_extension": ".py",
   "mimetype": "text/x-python",
   "name": "python",
   "nbconvert_exporter": "python",
   "pygments_lexer": "ipython2",
   "version": "2.7.10"
  }
 },
 "nbformat": 4,
 "nbformat_minor": 0
}
