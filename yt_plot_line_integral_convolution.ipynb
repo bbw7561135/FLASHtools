{
 "cells": [
  {
   "cell_type": "code",
   "execution_count": null,
   "metadata": {},
   "outputs": [],
   "source": [
    "%matplotlib inline\n",
    "import os\n",
    "import util\n",
    "import numpy as np\n",
    "import yt\n",
    "import logging\n",
    "logging.getLogger('yt').setLevel(logging.WARNING)\n",
    "import matplotlib\n",
    "matplotlib.rcParams['figure.dpi'] = 100\n",
    "from matplotlib import pyplot as plt\n",
    "\n",
    "#def _jetmomentum_z(field, data):\n",
    "#    return data['gas', 'density'] * data['gas', 'velocity_z'] * data['flash', 'jet ']\n",
    "\n",
    "#yt.add_field( 'jetmomentum_z', function=_jetmomentum_z, units='g/cm**2/s', take_log=False)\n"
   ]
  },
  {
   "cell_type": "code",
   "execution_count": null,
   "metadata": {},
   "outputs": [],
   "source": [
    "dir ='/home/ychen/data/0only_0529_h1/'\n",
    "regex = 'data/MHD_Jet*_plt_cnt_???0'\n",
    "\n",
    "fields_grid = ['density', 'velocity_z']\n",
    "\n",
    "ts = yt.DatasetSeries(os.path.join(dir,regex))\n",
    "\n",
    "ds = ts[60]\n"
   ]
  },
  {
   "cell_type": "code",
   "execution_count": null,
   "metadata": {},
   "outputs": [],
   "source": []
  },
  {
   "cell_type": "code",
   "execution_count": null,
   "metadata": {},
   "outputs": [],
   "source": [
    "proj_axis = 'x'\n",
    "field = 'magnetic_field_strength'\n",
    "center=(0.0,0.0,0.0)\n",
    "#LeftEdge = yt.YTArray([-80, -80, -160], 'kpc')\n",
    "#RightEdge = yt.YTArray([80, 80, 160], 'kpc')\n",
    "#if False:\n",
    "ds = ts[63]\n",
    "plot = yt.SlicePlot(ds, 'x', field, center=center)\n",
    "plot.zoom(12)\n",
    "plot.set_buff_size((512,1024))\n",
    "#plot.set_figure_size(6)\n",
    "#plot.annotate_grids()\n",
    "#plot.set_cmap('density', 'gist_heat_r')\n",
    "#plot.set_log(field, False)\n",
    "plot.annotate_timestamp(0.05, 0.95, time_format=\"{time:6.3f} {units}\", time_unit='Myr', text_args={'color':'w'})\n",
    "#plot.set_zlim(field, 1E3, 3E9)\n",
    "#plot.set_cmap(field, 'algae')\n",
    "plot.show()"
   ]
  },
  {
   "cell_type": "code",
   "execution_count": null,
   "metadata": {
    "scrolled": false
   },
   "outputs": [],
   "source": [
    "plot.annotate_clear()\n",
    "plot.annotate_line_integral_convolution('magnetic_field_y', 'magnetic_field_z', lim=(0.25,0.65), \\\n",
    "                                        cmap='binary', alpha=0.8, kernellen=32)#, const_alpha=True)\n",
    "#plot.annotate_quiver('velocity_y', 'velocity_z', 30, scale=1E10)\n",
    "#plot.annotate_velocity(15, scale=3E9)\n",
    "#plot.annotate_streamlines('velocity_y', 'velocity_z', factor=4, density=4)\n",
    "#plot.set_log(field, False)\n",
    "\n",
    "#plot.zoom(8)\n",
    "plot.show()"
   ]
  },
  {
   "cell_type": "code",
   "execution_count": null,
   "metadata": {
    "collapsed": false
   },
   "outputs": [],
   "source": []
  }
 ],
 "metadata": {
  "kernelspec": {
   "display_name": "Python 3",
   "language": "python",
   "name": "python3"
  },
  "language_info": {
   "codemirror_mode": {
    "name": "ipython",
    "version": 3
   },
   "file_extension": ".py",
   "mimetype": "text/x-python",
   "name": "python",
   "nbconvert_exporter": "python",
   "pygments_lexer": "ipython3",
   "version": "3.6.1"
  }
 },
 "nbformat": 4,
 "nbformat_minor": 1
}
