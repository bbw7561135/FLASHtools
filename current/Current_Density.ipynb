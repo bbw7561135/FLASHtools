{
 "cells": [
  {
   "cell_type": "code",
   "execution_count": null,
   "metadata": {},
   "outputs": [],
   "source": [
    "import yt\n",
    "\n",
    "dir = '/home/ychen/data/0only_0314_h1_nojiggle/'\n",
    "ds = yt.load(dir+'MHD_Jet_nojiggle_hdf5_plt_cnt_0010')"
   ]
  },
  {
   "cell_type": "code",
   "execution_count": null,
   "metadata": {},
   "outputs": [],
   "source": [
    "le = ds.domain_left_edge/16\n",
    "re = ds.domain_right_edge/16\n",
    "box = ds.box(le, re)\n",
    "plot = yt.SlicePlot(ds, 'x', fields=['current_density_z'], data_source=box, width=((5, 'kpc'), (10, 'kpc')))"
   ]
  },
  {
   "cell_type": "code",
   "execution_count": null,
   "metadata": {},
   "outputs": [],
   "source": [
    "plot.set_width(((3, 'kpc'), (6, 'kpc')))\n",
    "plot.set_cmap('current_density_z', 'RdBu')\n",
    "plot.set_zlim('current_density_z', -1E-14, 1E-14)\n",
    "plot.set_log('current_density_z', True, linthresh=1E-17)\n",
    "plot.annotate_grids()\n",
    "plot.show()"
   ]
  },
  {
   "cell_type": "code",
   "execution_count": null,
   "metadata": {
    "collapsed": false
   },
   "outputs": [],
   "source": [
    "import numpy as np\n",
    "\n",
    "from yt.fields.derived_field import ValidateSpatial\n",
    "from yt.funcs import just_one\n",
    "from yt.units import dimensions\n",
    "\n",
    "c = yt.physical_constants.c\n",
    "mu_0 = yt.physical_constants.mu_0\n",
    "\n",
    "ftype = 'gas'\n",
    "unit_system = ds.unit_system\n",
    "\n",
    "sl_left = slice(None, -2, None)\n",
    "sl_right = slice(2, None, None)\n",
    "div_fac = 2.0\n",
    "sl_center = slice(1, -1, None)\n",
    "\n",
    "j_factors = {dimensions.magnetic_field_cgs/dimensions.length: 4.0*np.pi/c,\n",
    "             dimensions.magnetic_field_mks/dimensions.length: mu_0}\n",
    "\n",
    "def _current_density_x(field, data):\n",
    "    f  = (data[ftype, \"magnetic_field_z\"][sl_center,sl_right,sl_center] -\n",
    "          data[ftype, \"magnetic_field_z\"][sl_center,sl_left,sl_center]) \\\n",
    "          / (div_fac*just_one(data[\"index\", \"dy\"]))\n",
    "    f -= (data[ftype, \"magnetic_field_y\"][sl_center,sl_center,sl_right] -\n",
    "          data[ftype, \"magnetic_field_y\"][sl_center,sl_center,sl_left]) \\\n",
    "          / (div_fac*just_one(data[\"index\", \"dz\"]))\n",
    "    new_field = data.ds.arr(np.zeros_like(data[ftype, \"magnetic_field_z\"],\n",
    "                                          dtype=np.float64), f.units)\n",
    "    new_field[sl_center, sl_center, sl_center] = f\n",
    "    return new_field/j_factors[new_field.units.dimensions]\n",
    "\n",
    "def _current_density_y(field, data):\n",
    "    f  = (data[ftype, \"magnetic_field_x\"][sl_center,sl_center,sl_right] -\n",
    "          data[ftype, \"magnetic_field_x\"][sl_center,sl_center,sl_left]) \\\n",
    "          / (div_fac*just_one(data[\"index\", \"dz\"]))\n",
    "    f -= (data[ftype, \"magnetic_field_z\"][sl_right,sl_center,sl_center] -\n",
    "          data[ftype, \"magnetic_field_z\"][sl_left,sl_center,sl_center]) \\\n",
    "          / (div_fac*just_one(data[\"index\", \"dx\"]))\n",
    "    new_field = data.ds.arr(np.zeros_like(data[ftype, \"magnetic_field_z\"],\n",
    "                                          dtype=np.float64), f.units)\n",
    "    new_field[sl_center, sl_center, sl_center] = f\n",
    "    return new_field/j_factors[new_field.units.dimensions]\n",
    "\n",
    "def _current_density_z(field, data):\n",
    "    f  = (data[ftype, \"magnetic_field_y\"][sl_right,sl_center,sl_center] -\n",
    "          data[ftype, \"magnetic_field_y\"][sl_left,sl_center,sl_center]) \\\n",
    "          / (div_fac*just_one(data[\"index\", \"dx\"]))\n",
    "    f -= (data[ftype, \"magnetic_field_x\"][sl_center,sl_right,sl_center] -\n",
    "          data[ftype, \"magnetic_field_x\"][sl_center,sl_left,sl_center]) \\\n",
    "          / (div_fac*just_one(data[\"index\", \"dy\"]))\n",
    "    new_field = data.ds.arr(np.zeros_like(data[ftype, \"magnetic_field_z\"],\n",
    "                                          dtype=np.float64), f.units)\n",
    "    new_field[sl_center, sl_center, sl_center] = f\n",
    "    return new_field/j_factors[new_field.units.dimensions]\n",
    "\n",
    "curl_validators = [ValidateSpatial(1,\n",
    "                        [(ftype, \"magnetic_field_x\"),\n",
    "                         (ftype, \"magnetic_field_y\"),\n",
    "                         (ftype, \"magnetic_field_z\")])]\n",
    "# Determine the correct unit for the current density\n",
    "if dimensions.current_mks in unit_system.base_units:\n",
    "    current_density_unit = unit_system[\"current_mks\"]/unit_system[\"length\"]**2\n",
    "else:\n",
    "    current_density_unit = unit_system[\"current_cgs\"]/unit_system[\"length\"]**2\n",
    "for ax in 'xyz':\n",
    "    n = \"current_density_%s\" % ax\n",
    "    ds.add_field((ftype, n), sampling_type=\"cell\", \n",
    "                       function=eval(\"_%s\" % n),\n",
    "                       units=current_density_unit,\n",
    "                       validators=curl_validators,\n",
    "                       force_override=True)\n"
   ]
  },
  {
   "cell_type": "code",
   "execution_count": null,
   "metadata": {
    "collapsed": false
   },
   "outputs": [],
   "source": [
    "data = ds.index.grids[100]\n",
    "f  = (data[ftype, \"magnetic_field_y\"][sl_right,sl_center,sl_center] -\n",
    "          data[ftype, \"magnetic_field_y\"][sl_left,sl_center,sl_center]) \\\n",
    "          / (div_fac*just_one(data[\"index\", \"dx\"]))\n",
    "f -= (data[ftype, \"magnetic_field_x\"][sl_center,sl_right,sl_center] -\n",
    "      data[ftype, \"magnetic_field_x\"][sl_center,sl_left,sl_center]) \\\n",
    "      / (div_fac*just_one(data[\"index\", \"dy\"]))\n",
    "new_field = data.ds.arr(np.zeros_like(data[ftype, \"magnetic_field_z\"],\n",
    "                                      dtype=np.float64), f.units)"
   ]
  },
  {
   "cell_type": "code",
   "execution_count": null,
   "metadata": {},
   "outputs": [],
   "source": [
    "j_factors"
   ]
  },
  {
   "cell_type": "code",
   "execution_count": null,
   "metadata": {},
   "outputs": [],
   "source": [
    "le = ds.domain_left_edge/16\n",
    "re = ds.domain_right_edge/16\n",
    "box = ds.box(le, re)\n",
    "plot = yt.SlicePlot(ds, 'x', fields=['current_density_z'], data_source=box)"
   ]
  },
  {
   "cell_type": "code",
   "execution_count": null,
   "metadata": {},
   "outputs": [],
   "source": [
    "plot.zoom(32)\n",
    "plot.show()"
   ]
  },
  {
   "cell_type": "code",
   "execution_count": null,
   "metadata": {
    "scrolled": false
   },
   "outputs": [],
   "source": [
    "plot = yt.SlicePlot(ds, 'x', fields=['current_density_x'], data_source=box).zoom(32)\n",
    "plot.show()"
   ]
  },
  {
   "cell_type": "code",
   "execution_count": null,
   "metadata": {},
   "outputs": [],
   "source": [
    "plot = yt.SlicePlot(ds, 'x', fields=['current_density_y'], data_source=box).zoom(32)\n",
    "plot.show()"
   ]
  },
  {
   "cell_type": "code",
   "execution_count": null,
   "metadata": {},
   "outputs": [],
   "source": [
    "plot = yt.SlicePlot(ds, 'x', fields=['current_density_magnitude'], data_source=box).zoom(32)\n",
    "plot.set_zlim('current_density_magnitude', 1E-18, 1E-13)\n",
    "plot.show()"
   ]
  },
  {
   "cell_type": "code",
   "execution_count": null,
   "metadata": {},
   "outputs": [],
   "source": [
    "import yt\n",
    "import numpy as np\n",
    "from yt.frontends.stream.api import load_uniform_grid\n",
    "ddims = (16,16,16)\n",
    "data1 = {\"magnetic_field_x\":(np.random.random(size=ddims),\"T\"),\n",
    "         \"magnetic_field_y\":(np.random.random(size=ddims),\"T\"),\n",
    "         \"magnetic_field_z\":(np.random.random(size=ddims),\"T\")}\n",
    "data2 = {}\n",
    "for field in data1:\n",
    "    data2[field] = (data1[field][0]*1E4, \"gauss\")\n",
    "ds1 = load_uniform_grid(data1, ddims, unit_system=\"cgs\")\n",
    "ds2 = load_uniform_grid(data1, ddims, unit_system=\"mks\")"
   ]
  },
  {
   "cell_type": "code",
   "execution_count": null,
   "metadata": {},
   "outputs": [],
   "source": [
    "dd1 = ds1.all_data()\n",
    "j_cgs = dd1['current_density_x']*dd1['dy']*dd1['dz']\n",
    "j_cgs.in_units('statA')"
   ]
  },
  {
   "cell_type": "code",
   "execution_count": null,
   "metadata": {},
   "outputs": [],
   "source": [
    "dd2 = ds2.all_data()\n",
    "j_mks = dd2['current_density_x']*dd2['dy']*dd2['dz']\n",
    "j_mks.in_units('A')"
   ]
  },
  {
   "cell_type": "code",
   "execution_count": null,
   "metadata": {},
   "outputs": [],
   "source": [
    "j_mks.to_equivalent('statA', 'CGS')"
   ]
  },
  {
   "cell_type": "code",
   "execution_count": null,
   "metadata": {},
   "outputs": [],
   "source": [
    "dd1['x'].in_units('cm')"
   ]
  },
  {
   "cell_type": "code",
   "execution_count": null,
   "metadata": {},
   "outputs": [],
   "source": [
    "dd2['x'].in_units('m')"
   ]
  },
  {
   "cell_type": "code",
   "execution_count": null,
   "metadata": {
    "collapsed": false
   },
   "outputs": [],
   "source": [
    "from yt.testing import assert_almost_equal\n",
    "\n",
    "assert_almost_equal(j_cgs.to_equivalent('A', 'SI'), j_mks, 12)"
   ]
  },
  {
   "cell_type": "code",
   "execution_count": null,
   "metadata": {
    "collapsed": false
   },
   "outputs": [],
   "source": [
    "assert_almost_equal(j_mks.to_equivalent('statA', 'CGS'), j_cgs, 3)"
   ]
  },
  {
   "cell_type": "code",
   "execution_count": null,
   "metadata": {
    "collapsed": false
   },
   "outputs": [],
   "source": [
    "from yt.units import dimensions\n",
    "from yt.utilities.physical_constants import mu_0, c\n",
    "j_factors = {dimensions.magnetic_field_cgs/dimensions.length: c*4.0*np.pi,\n",
    "             dimensions.magnetic_field_mks/dimensions.length: 1.0/mu_0}"
   ]
  },
  {
   "cell_type": "code",
   "execution_count": null,
   "metadata": {
    "collapsed": false
   },
   "outputs": [],
   "source": [
    "I = yt.units.A"
   ]
  },
  {
   "cell_type": "code",
   "execution_count": null,
   "metadata": {},
   "outputs": [],
   "source": [
    "I.to_equivalent('statA', 'CGS')"
   ]
  },
  {
   "cell_type": "code",
   "execution_count": null,
   "metadata": {
    "collapsed": false
   },
   "outputs": [],
   "source": []
  }
 ],
 "metadata": {
  "kernelspec": {
   "display_name": "Python 3",
   "language": "python",
   "name": "python3"
  },
  "language_info": {
   "codemirror_mode": {
    "name": "ipython",
    "version": 3
   },
   "file_extension": ".py",
   "mimetype": "text/x-python",
   "name": "python",
   "nbconvert_exporter": "python",
   "pygments_lexer": "ipython3",
   "version": "3.6.1"
  }
 },
 "nbformat": 4,
 "nbformat_minor": 2
}
