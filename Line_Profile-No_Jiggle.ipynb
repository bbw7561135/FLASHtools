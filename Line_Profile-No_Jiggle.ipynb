{
 "cells": [
  {
   "cell_type": "code",
   "execution_count": null,
   "metadata": {
    "collapsed": false,
    "scrolled": false
   },
   "outputs": [],
   "source": [
    "%matplotlib inline\n",
    "import util\n",
    "import numpy as np\n",
    "from matplotlib import pyplot as plt\n",
    "import matplotlib\n",
    "matplotlib.rcParams['figure.dpi'] = 150\n",
    "import os\n",
    "import yt\n",
    "import logging\n",
    "logging.getLogger('yt').setLevel(logging.ERROR)\n",
    "from scipy.signal import find_peaks_cwt\n",
    "from tools import setup_cl"
   ]
  },
  {
   "cell_type": "code",
   "execution_count": null,
   "metadata": {
    "scrolled": false
   },
   "outputs": [],
   "source": [
    "# Scan for files\n",
    "#\n",
    "dirs = ['/home/ychen/data/0only_0525_hinf_nojiggle/',\\\n",
    "        '/home/ychen/data/0only_0314_h1_nojiggle/',\\\n",
    "        '/home/ychen/data/0only_0330_h0_nojiggle/',\\\n",
    "        #'/home/ychen/data/0only_0518_hydro_nojiggle/'\n",
    "       ]\n",
    "\n",
    "colors, labels = setup_cl(dirs)\n",
    "\n",
    "def rescan(dir, printlist=False):\n",
    "    files = util.scan_files(dir, '*hdf5_plt_cnt_[0-9][0-9][0-9][0-9]', printlist=printlist)\n",
    "    return files\n",
    "for dir in dirs:\n",
    "    files = rescan(dir, False)\n",
    "    print(files[-1])\n",
    "\n",
    "#ds = yt.load(files[21].fullpath)\n",
    "#print(ds.basename)"
   ]
  },
  {
   "cell_type": "code",
   "execution_count": null,
   "metadata": {
    "scrolled": false
   },
   "outputs": [],
   "source": [
    "fno = '0320'\n",
    "\n",
    "profs = {}\n",
    "\n",
    "#zlim = ((-40, 'kpc'), (40, 'kpc'))\n",
    "fields = ['velocity_z', 'density', 'pressure', 'cylindrical_radial_velocity', 'magnetic_pressure']\n",
    "#figdir = os.join(dir, 'profiles/')\n",
    "#for f in files[50:51]:\n",
    "for dir in dirs:\n",
    "    ds = yt.load(os.path.join(dir, 'MHD_Jet_nojiggle_hdf5_plt_cnt_%s' % fno))# load data\n",
    "    print(dir, ds, ds.current_time.in_units('Myr'))\n",
    "    disk = ds.disk([0,0,0], [0,0,1], (0.25, 'kpc'), (80, 'kpc'))\n",
    "    profs[dir] = yt.create_profile(disk, 'z', fields, n_bins=400, logs={'z': False}, weight_field='cell_mass')"
   ]
  },
  {
   "cell_type": "code",
   "execution_count": null,
   "metadata": {
    "scrolled": false
   },
   "outputs": [],
   "source": [
    "for dir, prof in profs.items():\n",
    "    fig, ax = plt.subplots(figsize=(12,8))\n",
    "    ax.plot(prof.x.in_units('kpc'), np.abs(prof['velocity_z'])/3E9, '-', ms=3, label='|vz|/0.1c')\n",
    "    ax.plot(prof.x.in_units('kpc'), prof['cylindrical_radial_velocity']/3E8, '--', ms=3, label='|vr|/0.01c')\n",
    "    p0 = 1.17E-9\n",
    "    ax.plot(prof.x.in_units('kpc'), prof['pressure']/p0, '-', ms=3,  label='pressure/(%.2e dyne/cm**2)' % p0)\n",
    "    rho0 = 1.69E-26\n",
    "    ax.plot(prof.x.in_units('kpc'), prof['density']/rho0, '-x', ms=3, label='density/(%.2e g/cm**3)' % rho0)\n",
    "    #ax.plot(prof.x.in_units('kpc')[peaks], prof['density'][peaks]/1E-26, 'x', ms=15, label='peaks')\n",
    "    #plt.plot(zs, vzs, '-', label=label, \\\n",
    "    #         alpha=float(ds.basename[-4:])/1400)#, c='b')\n",
    "    plt.ylim(-0.5,2.0)\n",
    "    plt.hlines(0, -40, 40, linestyle=':')\n",
    "    plt.xlim(-40, 40)\n",
    "    plt.legend(loc=2, fontsize='small')\n",
    "    peaks = find_peaks_cwt(prof['density'], np.arange(1,10))\n",
    "    print(prof.x.in_units('kpc')[peaks])\n",
    "    plt.vlines(prof.x.in_units('kpc')[peaks], -0.5, 2.0, color='grey', linestyle=':')\n",
    "    plt.title('%s  %.2f Myr' % (labels[dir], ds.current_time.in_units('Myr')))\n",
    "    plt.show()\n",
    "    #plt.annotate('%.2f Myr' % ds.current_time.in_units('Myr'), (1,1), xytext=(0.80, 0.9), textcoords='axes fraction')\n",
    "    #plt.savefig(figdir+'vz_p_jet_%iMyr_cell_mass.png' % ds.current_time.in_units('Myr'))"
   ]
  },
  {
   "cell_type": "code",
   "execution_count": null,
   "metadata": {
    "scrolled": false
   },
   "outputs": [],
   "source": [
    "from scipy.signal import find_peaks_cwt\n",
    "peaks = find_peaks_cwt(prof['density'], np.arange(1,15))\n",
    "print(peaks)\n",
    "print(prof.x.in_units('kpc')[peaks])"
   ]
  },
  {
   "cell_type": "code",
   "execution_count": null,
   "metadata": {
    "scrolled": false
   },
   "outputs": [],
   "source": [
    "fig, ax = plt.subplots(figsize=(12,8))\n",
    "ax.plot(prof.x.in_units('kpc'), np.abs(prof['velocity_z'])/3E9, '-x', ms=3, label='|vz|/0.1c')\n",
    "ax.plot(prof.x.in_units('kpc'), prof['cylindrical_radial_velocity']/3E8, '--', ms=3, label='|vr|/0.01c')\n",
    "ax.plot(prof.x.in_units('kpc'), prof['pressure']/1E-9, '-^', ms=3,  label='pressure/(1E-9 dyne/cm**2)')\n",
    "ax.plot(prof.x.in_units('kpc'), prof['density']/1E-26, 'o-', ms=3, label='density/(1E-26 g/cm**3)')\n",
    "#ax.plot(prof.x.in_units('kpc')[peaks], prof['density'][peaks]/1E-26, 'x', ms=15, label='peaks')\n",
    "#plt.plot(zs, vzs, '-', label=label, \\\n",
    "#         alpha=float(ds.basename[-4:])/1400)#, c='b')\n",
    "plt.ylim(-0.5,1.8)\n",
    "plt.hlines(0, -40, 40, linestyle=':')\n",
    "plt.xlim(-40, 40)\n",
    "plt.legend(loc=2, fontsize='small')\n",
    "plt.vlines(prof.x.in_units('kpc')[peaks], -0.5, 1.8, color='grey', linestyle=':')\n",
    "#plt.text(40,1.1, '%.2f Myr\\ncell mass weighted' % ds.current_time.in_units('Myr'))\n",
    "#plt.annotate('%.2f Myr' % ds.current_time.in_units('Myr'), (1,1), xytext=(0.80, 0.9), textcoords='axes fraction')\n",
    "#plt.savefig(figdir+'vz_p_jet_%iMyr_cell_mass.png' % ds.current_time.in_units('Myr'))"
   ]
  },
  {
   "cell_type": "code",
   "execution_count": null,
   "metadata": {
    "scrolled": false
   },
   "outputs": [],
   "source": [
    "fno = '0320'\n",
    "\n",
    "profs = {}\n",
    "\n",
    "#zlim = ((-40, 'kpc'), (40, 'kpc'))\n",
    "fields = ['magnetic_pressure', 'magnetic_field_poloidal', 'magnetic_field_toroidal', 'magnetic_field_z']\n",
    "#figdir = os.join(dir, 'profiles/')\n",
    "#for f in files[50:51]:\n",
    "for dir in dirs:\n",
    "    ds = yt.load(os.path.join(dir, 'MHD_Jet_nojiggle_hdf5_plt_cnt_%s' % fno))# load data\n",
    "    print(dir, ds, ds.current_time.in_units('Myr'))\n",
    "    disk = ds.disk([0,0,0], [0,0,1], (0.25, 'kpc'), (100, 'kpc'))\n",
    "    profs[dir] = yt.create_profile(disk, 'z', fields, n_bins=400, logs={'z': False}, weight_field='cell_volume')"
   ]
  },
  {
   "cell_type": "code",
   "execution_count": null,
   "metadata": {},
   "outputs": [],
   "source": [
    "fig, ax = plt.subplots(figsize=(10,6))\n",
    "for dir, prof in profs.items():\n",
    "    ax.plot(prof.x.in_units('kpc'), np.abs(prof['magnetic_pressure']), '-', ms=3, label=labels[dir], c=colors[dir])\n",
    "plt.hlines(0, -40, 40, linestyle=':')\n",
    "plt.ylim(1E-13, 1.5E-9)\n",
    "plt.semilogy()\n",
    "plt.xlim(-50, 50)\n",
    "plt.legend(loc=2)\n",
    "plt.title('Magnetic Pressure at %.2f Myr' % (ds.current_time.in_units('Myr')))\n",
    "plt.show()"
   ]
  },
  {
   "cell_type": "code",
   "execution_count": null,
   "metadata": {},
   "outputs": [],
   "source": [
    "fig, ax = plt.subplots(figsize=(10,6))\n",
    "for dir, prof in profs.items():\n",
    "    ax.plot(prof.x.in_units('kpc'), np.abs(prof['magnetic_field_toroidal']), '-', ms=3, label=labels[dir], c=colors[dir])\n",
    "plt.hlines(0, -40, 40, linestyle=':')\n",
    "plt.ylim(1E-11, 1E-3)\n",
    "plt.semilogy()\n",
    "plt.xlim(-50, 50)\n",
    "plt.legend(loc=2)\n",
    "plt.title('Toroidal Magnetic Fields at %.2f Myr' % (ds.current_time.in_units('Myr')))\n",
    "plt.show()"
   ]
  },
  {
   "cell_type": "code",
   "execution_count": null,
   "metadata": {},
   "outputs": [],
   "source": [
    "fig, ax = plt.subplots(figsize=(10,6))\n",
    "for dir, prof in profs.items():\n",
    "    ax.plot(prof.x.in_units('kpc'), np.abs(prof['magnetic_field_poloidal']), '-', ms=3, \n",
    "            label=labels[dir], c=colors[dir], alpha=0.7)\n",
    "plt.hlines(0, -40, 40, linestyle=':')\n",
    "plt.ylim(1E-11, 1E-3)\n",
    "plt.semilogy()\n",
    "plt.xlim(-50, 50)\n",
    "plt.legend(loc=2)\n",
    "plt.title('Poloidal Magnetic Fields at %.2f Myr' % (ds.current_time.in_units('Myr')))\n",
    "plt.show()"
   ]
  },
  {
   "cell_type": "code",
   "execution_count": null,
   "metadata": {},
   "outputs": [],
   "source": [
    "fig, ax = plt.subplots(figsize=(10,6))\n",
    "for dir, prof in profs.items():\n",
    "    ax.plot(prof.x.in_units('kpc'), np.abs(prof['magnetic_field_z']), '-', ms=3, label=labels[dir], c=colors[dir])\n",
    "plt.hlines(0, -40, 40, linestyle=':')\n",
    "plt.ylim(1E-10, 1E-3)\n",
    "plt.semilogy()\n",
    "plt.xlim(-50, 50)\n",
    "plt.legend(loc=2)\n",
    "plt.title('Bz at %.2f Myr' % (ds.current_time.in_units('Myr')))\n",
    "plt.show()"
   ]
  },
  {
   "cell_type": "code",
   "execution_count": null,
   "metadata": {
    "collapsed": false
   },
   "outputs": [],
   "source": []
  }
 ],
 "metadata": {
  "kernelspec": {
   "display_name": "Python 3",
   "language": "python",
   "name": "python3"
  },
  "language_info": {
   "codemirror_mode": {
    "name": "ipython",
    "version": 3
   },
   "file_extension": ".py",
   "mimetype": "text/x-python",
   "name": "python",
   "nbconvert_exporter": "python",
   "pygments_lexer": "ipython3",
   "version": "3.6.1"
  }
 },
 "nbformat": 4,
 "nbformat_minor": 1
}
