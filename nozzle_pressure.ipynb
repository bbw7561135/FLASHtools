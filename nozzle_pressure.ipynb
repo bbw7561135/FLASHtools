{
 "cells": [
  {
   "cell_type": "code",
   "execution_count": null,
   "metadata": {
    "collapsed": false
   },
   "outputs": [],
   "source": [
    "%matplotlib inline\n",
    "import os\n",
    "import sys\n",
    "sys.path.append('/home/ychen/lib/util')\n",
    "import util\n",
    "import numpy as np\n",
    "import logging\n",
    "from matplotlib import pyplot as plt\n",
    "import yt\n",
    "#from yt.imods import *\n",
    "logging.getLogger('yt').setLevel(logging.ERROR)\n",
    "from tools import read_par\n",
    "\n",
    "# Scan for files\n",
    "dir = '/d/d9/ychen/FLASH4/MHD_Jet_3D/0429_test'\n",
    "pars = read_par(dir)\n",
    "\n",
    "def rescan(printlist=False):\n",
    "    files = util.scan_files(dir, '*hdf5_plt_cnt_[0-9][0-9][0-9][0-9]', printlist=printlist)\n",
    "    return files\n",
    "files = rescan(True)\n",
    "\n",
    "\n",
    "pos0 = [0.0, 0.0, 0.0]\n",
    "pos1 = [0.0, \\\n",
    "        pars['nozzleRadius']+0.5*pars['rFeatherOut'], \\\n",
    "        0.0]\n",
    "pos2 = [0.0, \\\n",
    "        0.5*(pars['rFeatherIn']+pars['nozzleRadius']), \\\n",
    "        pars['zTorInj']+0.5*pars['zFeather']]\n",
    "#pos3 = [0.0, 1.5E21, 4.5E21]\n",
    "pos3 = [0.0, \\\n",
    "        0.5*(pars['rFeatherIn']+pars['nozzleRadius']), \\\n",
    "        pars['zTorInj']+1.5*pars['zFeather']]\n",
    "\n",
    "vecX = pars['nozzleVecX']\n",
    "vecY = pars['nozzleVecY']\n",
    "vecZ = pars['nozzleVecZ']\n",
    "\n",
    "norm = np.sqrt(vecX**2+vecY**2+vecZ**2)\n",
    "R = np.array([ [vecZ, vecY], [-vecY, vecZ] ])/norm\n",
    "\n",
    "nR = pars['nozzleRadius']\n",
    "nL = pars['nozzleHalfL']\n",
    "\n",
    "HydroNozzleY = np.array([-nR, nR,  nR, -nR])\n",
    "HydroNozzleZ = np.array([ nL, nL, -nL, -nL])\n",
    "nozzleCoords = [ np.dot(R, np.array([y,z])) for (y,z) in zip(HydroNozzleY,HydroNozzleZ) ]\n"
   ]
  },
  {
   "cell_type": "code",
   "execution_count": null,
   "metadata": {
    "collapsed": false
   },
   "outputs": [],
   "source": [
    "def sliceplot(field, zoom_fac):#, zlim1, zlim2):\n",
    "    alldata = ds.all_data()\n",
    "\n",
    "    mi, ma = alldata.quantities.extrema(field)\n",
    "    print field, mi, ma\n",
    "    slice = yt.SlicePlot(ds, 'x', field, center=center)#, width=(1.2E20,1.2E20))\n",
    "    if field in ['magnetic_field_x', 'magnetic_field_y', 'magnetic_field_z',\\\n",
    "                 'velocity_x', 'velocity_y', 'velocity_z', 'magx', 'magy', 'magz']:\n",
    "        slice.set_cmap(field, 'RdBu_r')\n",
    "        slice.set_log(field, False)\n",
    "    if field in ['magnetic_field_x']:\n",
    "        slice.set_zlim(field, -3.0E-5, 3.0E-5)\n",
    "    if field in ['velocity_y']:\n",
    "        slice.set_zlim(field, -3.0E8, 3.0E8)\n",
    "    slice.annotate_grids(edgecolors='black')\n",
    "    slice.zoom(zoom_fac)\n",
    "    slice.annotate_timestamp(0.15, 0.95, normalized=True, format=\"{time:3.1e} {units}\")\n",
    "    slice.annotate_marker(pos0, marker='o', plot_args={'color':'white', 'edgecolor':'k'})\n",
    "    slice.annotate_marker(pos1, marker='o', plot_args={'color':'white', 'edgecolor':'k'})\n",
    "    slice.annotate_marker(pos2, marker='o', plot_args={'color':'white', 'edgecolor':'k'})\n",
    "    slice.annotate_marker(pos3, marker='o', plot_args={'color':'white', 'edgecolor':'k'})\n",
    "    for pos in nozzleCoords:\n",
    "        slice.annotate_marker(pos, marker='o', plot_args={'color':'white', 'edgecolor':'black'})\n",
    "\n",
    "    slice.show()\n",
    "    #slice.save(file.pathname)\n",
    "    return slice\n",
    "\n",
    "\n",
    "#center = (-4.69E20,4.03e+21,  1.45e+22)\n",
    "center = (0, 0, 0)\n",
    "for file in files[-1:]:\n",
    "    print file.fullpath\n",
    "    ds = yt.load(file.fullpath)\n",
    "    print ds.current_time\n",
    "    slice = sliceplot('magnetic_field_x', 2)\n",
    "    slice = sliceplot('velocity_z', 2)\n",
    "    slice = sliceplot('velocity_y', 2)\n",
    "    "
   ]
  },
  {
   "cell_type": "code",
   "execution_count": null,
   "metadata": {
    "collapsed": false
   },
   "outputs": [],
   "source": [
    "posA = [pos3[0], pos3[1], 2*pos3[2]]\n",
    "posB = [pos3[0], pos3[1], -2*pos3[2]]\n",
    "\n",
    "ray = ds.ray( posA, posB )\n",
    "zs = np.linspace(posA[2], posB[2], len(ray['magnetic_field_x']))\n",
    "\n",
    "plt.plot(zs, ray['magnetic_field_x'], color='red', label='Bx')\n",
    "plt.ylim(-0.000008, 0.000008)\n",
    "plt.legend(loc=2)\n",
    "plt.twinx().plot(zs, ray['velocity_z'], color='blue', label='Vz')\n",
    "plt.plot(zs, ray['velocity_y']*10, color='green', label='Vy')\n",
    "plt.axhline(y=0)\n",
    "plt.axvline(x=pos2[2])\n",
    "plt.axvline(x=pos3[2])\n",
    "plt.legend()\n",
    "\n",
    "print pos2"
   ]
  },
  {
   "cell_type": "code",
   "execution_count": null,
   "metadata": {
    "collapsed": false
   },
   "outputs": [],
   "source": [
    "ts = []\n",
    "P0s, P1s, P2s, P3s, Ps = [], [], [], [], []\n",
    "rho0s = []\n",
    "\n",
    "By0s, Bz0s, Bz1s, Bx2s, Bz2s, Bz3s = [], [], [], [], [], []\n",
    "Ppols, Ptor2s, Ptor3s = [], [], []\n",
    "\n",
    "for file in files[2:]:\n",
    "    #print file\n",
    "    ds = yt.load(file.fullpath)\n",
    "    ts.append(ds.current_time)\n",
    "\n",
    "    rho0 = ds.find_field_values_at_point('density', pos0)\n",
    "    P0 = ds.find_field_values_at_point('pressure', pos0)\n",
    "    P1 = ds.find_field_values_at_point('pressure', pos1)\n",
    "    P2 = ds.find_field_values_at_point('pressure', pos2)\n",
    "    P3 = ds.find_field_values_at_point('pressure', pos3)\n",
    "    rho0s.append(rho0)\n",
    "    P0s.append(P0)\n",
    "    P1s.append(P1)\n",
    "    P2s.append(P2)\n",
    "    P3s.append(P3)\n",
    "    Ps.append((P1+P2+P3)/3.0)\n",
    "    \n",
    "    Bz0 = ds.find_field_values_at_point('magnetic_field_z', pos0)\n",
    "    By0 = ds.find_field_values_at_point('magnetic_field_y', pos0)\n",
    "    Bz1 = ds.find_field_values_at_point('magnetic_field_z', pos1)\n",
    "    Bx2 = ds.find_field_values_at_point('magnetic_field_x', pos2)\n",
    "    By2 = ds.find_field_values_at_point('magnetic_field_y', pos2)\n",
    "    Bz2 = ds.find_field_values_at_point('magnetic_field_z', pos2)\n",
    "    Bx3 = ds.find_field_values_at_point('magnetic_field_x', pos3)\n",
    "    By3 = ds.find_field_values_at_point('magnetic_field_y', pos3)\n",
    "    Bz3 = ds.find_field_values_at_point('magnetic_field_z', pos3)\n",
    "    Bz0s.append(Bz0)\n",
    "    Bx2s.append(Bx2)\n",
    "    Bz1s.append(Bz1)\n",
    "    Bz2s.append(Bz2)\n",
    "    Bz3s.append(Bz3)\n",
    "    Ppols.append((Bz0**2+By0**2)/8.0/np.pi)\n",
    "    Ptor2s.append((Bx2**2+By2**2)/8.0/np.pi)\n",
    "    Ptor3s.append((Bx3**2+By3**2)/8.0/np.pi)"
   ]
  },
  {
   "cell_type": "code",
   "execution_count": null,
   "metadata": {
    "collapsed": false
   },
   "outputs": [],
   "source": [
    "plt.plot(ts, P0s, '*-', label='nozzle')\n",
    "#plt.plot(ts, Ps, 'o-', label='P')\n",
    "plt.plot(ts, P1s, '.:', label='P1')\n",
    "plt.plot(ts, P2s, '.:', label='P2')\n",
    "plt.plot(ts, P3s, '.:', label='P3')\n",
    "\n",
    "#plt.axhline(y=1.86E-6)\n",
    "plt.legend(loc=0)\n",
    "plt.xlabel('t')\n",
    "plt.ylabel('pressure')\n",
    "#plt.ylim(0,1.0E-6)\n",
    "#plt.semilogy()"
   ]
  },
  {
   "cell_type": "code",
   "execution_count": null,
   "metadata": {
    "collapsed": false
   },
   "outputs": [],
   "source": [
    "plt.plot(ts, Ppols, '*-', label='Ppol_nozzle')\n",
    "plt.plot(ts, Ptor2s, '.:', label='Ptor2')\n",
    "plt.plot(ts, Ptor3s, '.:', label='Ptor3')\n",
    "#plt.plot(ts, Bzs, 'o-', label='Bz')\n",
    "\n",
    "\n",
    "#plt.axhline(y=1.86E-6)\n",
    "plt.legend(loc=0)\n",
    "plt.xlabel('t')\n",
    "plt.ylabel('magnetic_field')\n",
    "#plt.semilogy()"
   ]
  },
  {
   "cell_type": "code",
   "execution_count": null,
   "metadata": {
    "collapsed": false
   },
   "outputs": [],
   "source": [
    "Ppols = np.array(Ppols)\n",
    "Ptor2s = np.array(Ptor2s)\n",
    "Ptor3s = np.array(Ptor3s)\n",
    "P0s = np.array(P0s)\n",
    "beta = pars['sim_betaJet']\n",
    "#beta = 20\n",
    "plt.plot(ts, P0s, 'o-', label='Pgas')\n",
    "plt.plot(ts, Ppols*beta, '*-', label='Ppol')\n",
    "plt.plot(ts, Ptor2s*beta, '^-', label='Ptor2')\n",
    "plt.plot(ts, Ptor3s*beta, 'v-', label='Ptor3')\n",
    "plt.legend()\n",
    "plt.show()"
   ]
  },
  {
   "cell_type": "code",
   "execution_count": null,
   "metadata": {
    "collapsed": false
   },
   "outputs": [],
   "source": [
    "#plt.plot(ts, P0s/(Ppols+Ptors))\n",
    "plt.plot(ts, Ptor2s/Ppols, 'o-', label='tor2')\n",
    "plt.plot(ts, Ptor3s/Ppols, 'o-', label='tor3')\n",
    "pars['sim_helicityJet'] = 1\n",
    "plt.axhline(y=pars['sim_helicityJet'])\n",
    "plt.ylim(0.0,1.5)\n",
    "plt.legend()"
   ]
  },
  {
   "cell_type": "code",
   "execution_count": null,
   "metadata": {
    "collapsed": false
   },
   "outputs": [],
   "source": [
    "# pressure\n",
    "\n",
    "PI = np.pi\n",
    "g = 1.6666\n",
    "v = 3.0E9\n",
    "r = 7.5E20\n",
    "L = 1.0E45\n",
    "sim_rhoAmbient = 1.67E-25\n",
    "\n",
    "A = 2.0*PI*r*r\n",
    "\n",
    "t0 = (A*v)**1.25*(sim_rhoAmbient*g/(g-1)/L)**0.75*0.227082*2.0\n",
    "print 't0 = %e' % t0\n",
    "time = np.linspace(0, r/v*2000, 1000)\n",
    "\n",
    "tcut = np.array([t if t > t0 else t0 for t in time])\n",
    "pressure = tcut**(-0.8)*0.305454*sim_rhoAmbient**0.6*((g-1)/g*L)**0.4\n",
    "\n",
    "\n",
    "\n",
    "\n",
    "#plt.plot(time, P1s, '.:', label='P1')\n",
    "#plt.plot(time, P2s, '.:', label='P2')\n",
    "#plt.plot(time, P3s, '.:', label='P3')\n",
    "plt.plot(time, pressure, '-')#, label='theory')\n",
    "#plt.plot(ts, P0s, '*-')\n",
    "#plt.axvline(x=t0, ls=':')\n",
    "plt.legend(loc=0)\n",
    "#plt.semilogy()\n",
    "#plt.ylim(0.0, P0*20.0)"
   ]
  },
  {
   "cell_type": "code",
   "execution_count": null,
   "metadata": {
    "collapsed": false
   },
   "outputs": [],
   "source": [
    "# density\n",
    "density = 2.0/v/v*(L/(A*v) - g/(g-1.0)*pressure)\n",
    "plt.plot(time, density, '-', label='Jet density')\n",
    "#plt.plot(ts, rho0s, '*-')\n",
    "#plt.axhline(y=sim_rhoAmbient, label='Ambient density')\n",
    "#plt.semilogy()\n",
    "print '%e' % (L/(r*r*PI*2*v))\n",
    "print '%e' % (g/(g-1.0)*pressure[0])"
   ]
  },
  {
   "cell_type": "code",
   "execution_count": null,
   "metadata": {
    "collapsed": false
   },
   "outputs": [],
   "source": [
    "# Mach number\n",
    "Ms = v/np.sqrt(g*pressure/density)\n",
    "plt.plot(time, Ms, '-', label='Mach Number')\n",
    "print Ms[0]"
   ]
  },
  {
   "cell_type": "code",
   "execution_count": null,
   "metadata": {
    "collapsed": false
   },
   "outputs": [],
   "source": [
    "ekin = 0.5*density*v*v\n",
    "eth = g/(g-1.0)*pressure\n",
    "plt.plot(time, ekin, label='kinetic e')\n",
    "plt.plot(time, eth, label='thermal e')\n",
    "plt.semilogy()\n",
    "plt.legend()"
   ]
  },
  {
   "cell_type": "code",
   "execution_count": null,
   "metadata": {
    "collapsed": false
   },
   "outputs": [],
   "source": [
    "t0 = (3.0/4.0/PI*A*v)**0.5*(A*v/L*g/(g-1.0)*sim_rhoAmbient/9.0)**0.75*2\n",
    "print 't0 = %e' % t0\n",
    "time = np.linspace(0, r/v*200, 1000)\n",
    "\n",
    "tcut = np.array([t if t > t0 else t0 for t in time])\n",
    "\n",
    "pressure = sim_rhoAmbient*(3.0/4.0/PI*A*v)**(2.0/3.0)*1.0/9.0*tcut**(-4.0/3.0)\n",
    "plt.plot(time, pressure, '-')"
   ]
  },
  {
   "cell_type": "code",
   "execution_count": null,
   "metadata": {
    "collapsed": false
   },
   "outputs": [],
   "source": [
    "density = 2.0/v/v*(L/(A*v) - g/(g-1.0)*pressure)\n",
    "plt.plot(time, density, '-', label='Jet density')"
   ]
  },
  {
   "cell_type": "code",
   "execution_count": null,
   "metadata": {
    "collapsed": false
   },
   "outputs": [],
   "source": [
    "# Mach number\n",
    "Ms = v/np.sqrt(g*pressure/density)\n",
    "plt.plot(time, Ms, '-', label='Mach Number')\n",
    "print Ms[0]"
   ]
  },
  {
   "cell_type": "code",
   "execution_count": null,
   "metadata": {
    "collapsed": false
   },
   "outputs": [],
   "source": [
    "ekin = 0.5*density*v*v\n",
    "eth = g/(g-1.0)*pressure\n",
    "plt.plot(time, ekin, label='kinetic e')\n",
    "plt.plot(time, eth, label='thermal e')\n",
    "plt.semilogy()\n",
    "plt.legend()"
   ]
  },
  {
   "cell_type": "code",
   "execution_count": null,
   "metadata": {
    "collapsed": false
   },
   "outputs": [],
   "source": [
    "PI = np.pi\n",
    "g = 1.3333\n",
    "v = 3.0E9\n",
    "r = 7.5E20\n",
    "bf =1.875E20\n",
    "L = 1.0E45\n",
    "\n",
    "M = np.linspace(0.5, 20, 100)\n",
    "density = 0.5*L/PI/v**3/( 0.5*r*r*(1+1/M**2/(g-1)) + r*bf*(0.3125+1/M**2/(g-1)) + bf*bf*(0.06056+0.29736/M**2/(g-1)) )\n",
    "pressure = v*v*density/M**2/g\n",
    "\n",
    "\n",
    "plt.plot(M, pressure, label='pressure')\n",
    "plt.semilogy()\n",
    "plt.axhline(2.5E-10, ls=':', color='b')\n",
    "plt.xlabel('M')\n",
    "plt.ylabel('pressure')\n",
    "plt.legend(loc=3)\n",
    "\n",
    "\n",
    "plt.twinx()\n",
    "plt.plot(M, density, label='density', color='r')\n",
    "plt.semilogy()\n",
    "plt.axhline(8.6E-26, ls=':', color='r')\n",
    "plt.ylabel('density')\n",
    "plt.legend(loc=1)"
   ]
  },
  {
   "cell_type": "code",
   "execution_count": null,
   "metadata": {
    "collapsed": false
   },
   "outputs": [],
   "source": [
    "kineticE = 0.5*density*v*v\n",
    "thermalE = g/(g-1.0)*pressure\n",
    "\n",
    "plt.plot(M, thermalE, label='thermal energy $E_{th}$')\n",
    "plt.semilogy()\n",
    "plt.xlabel('M')\n",
    "plt.plot(M, kineticE, label='kinetic energy $E_k$')\n",
    "\n",
    "plt.semilogy()\n",
    "#plt.axvline(1.0/np.sqrt(g-1), ls=':', color='k')\n",
    "plt.legend(loc=2)\n",
    "\n",
    "plt.twinx()\n",
    "plt.plot(M, kineticE/thermalE, color='r', label='$E_k/E_{th}$')\n",
    "plt.plot(M, M, color='r', ls=':')\n",
    "plt.legend(loc=1)"
   ]
  },
  {
   "cell_type": "code",
   "execution_count": null,
   "metadata": {
    "collapsed": false
   },
   "outputs": [],
   "source": [
    "sim_initMach = 5\n",
    "sim_mach = 10\n",
    "sim_tOn = 1.0E10\n",
    "sim_duration = 1.58E15\n",
    "time = np.linspace(0, 1.6E13, 999)\n",
    "\n",
    "t1 = sim_duration/100.0\n",
    "\n",
    "\n",
    "M = sim_initMach + (sim_mach-sim_initMach)*cos(PI*( 0.5*(time-sim_tOn-t1)/t1))\n",
    "density = L/PI/v**3/( 0.5*r*r*(1+1/M**2/(g-1)) + r*bf*(0.3125+1/M**2/(g-1)) + bf*bf*(0.06056+0.29736/M**2/(g-1)) )\n",
    "pressure = v*v*density/M**2/g\n",
    "\n",
    "plt.plot(time, M, label='Mach', c='b')\n",
    "plt.twinx()\n",
    "plt.plot(time, pressure, c='r', label='pressure')\n",
    "plt.twinx()\n",
    "plt.plot(time, density, c='g', label='density')"
   ]
  },
  {
   "cell_type": "code",
   "execution_count": null,
   "metadata": {
    "collapsed": false
   },
   "outputs": [],
   "source": [
    "sim_velJet = 3.0E9\n",
    "\n",
    "time = np.linspace(1.56E15, 1.60E15, 999)\n",
    "#theta = 0.5*(time-sim_tOn-sim_duration+t1)/t1\n",
    "#plt.plot(time, theta)\n",
    "velocity = sim_velJet*cos(PI*( 0.5*(time-sim_tOn-sim_duration)/t1))\n",
    "plt.plot(time, velocity)"
   ]
  },
  {
   "cell_type": "code",
   "execution_count": null,
   "metadata": {
    "collapsed": false
   },
   "outputs": [],
   "source": []
  }
 ],
 "metadata": {
  "kernelspec": {
   "display_name": "Python 2",
   "language": "python",
   "name": "python2"
  },
  "language_info": {
   "codemirror_mode": {
    "name": "ipython",
    "version": 2
   },
   "file_extension": ".py",
   "mimetype": "text/x-python",
   "name": "python",
   "nbconvert_exporter": "python",
   "pygments_lexer": "ipython2",
   "version": "2.7.10"
  }
 },
 "nbformat": 4,
 "nbformat_minor": 0
}
