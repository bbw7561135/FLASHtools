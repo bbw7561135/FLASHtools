{
 "cells": [
  {
   "cell_type": "code",
   "execution_count": null,
   "metadata": {},
   "outputs": [],
   "source": [
    "import yt\n",
    "import matplotlib.pyplot as plt\n",
    "#ds = yt.load('/d/d9/ychen/FLASH4/20180311_oblique_shock/bw_2d_mhd_hdf5_chk_0001')\n",
    "#ds = yt.load('/d/d9/ychen/FLASH4/20180310_BrioWu/bw_2d_mhd_hdf5_chk_0001')\n",
    "ds = yt.load('/d/d9/ychen/FLASH4/20180321_shock/shock_2d_hdf5_plt_cnt_0002')"
   ]
  },
  {
   "cell_type": "code",
   "execution_count": null,
   "metadata": {},
   "outputs": [],
   "source": [
    "fields = ['density', 'pressure']\n",
    "plot = yt.SlicePlot(ds, 'z', fields, width=(1,0.2), origin='native')\n",
    "plot.show()"
   ]
  },
  {
   "cell_type": "code",
   "execution_count": null,
   "metadata": {},
   "outputs": [],
   "source": [
    "plot = yt.SlicePlot(ds, 'z', 'sound_speed', width=(1,0.2), origin='native')\n",
    "plot.set_log('sound_speed', False)"
   ]
  },
  {
   "cell_type": "code",
   "execution_count": null,
   "metadata": {},
   "outputs": [],
   "source": [
    "plot = yt.SlicePlot(ds, 'z', ['velocity_%s' % ax for ax in ['x', 'y']], width=(1,0.2), origin='native')\n",
    "plot.set_log('velocity_x', False)"
   ]
  },
  {
   "cell_type": "code",
   "execution_count": null,
   "metadata": {},
   "outputs": [],
   "source": [
    "plot = yt.SlicePlot(ds, 'z', 'mach_number', width=(1,0.2))\n",
    "plot.set_log('mach_number', False)"
   ]
  },
  {
   "cell_type": "code",
   "execution_count": null,
   "metadata": {},
   "outputs": [],
   "source": [
    "plot = yt.SlicePlot(ds, 'z', 'shok', width=(1,0.2), origin='native')\n",
    "plot.annotate_grids()\n",
    "#plot.annotate_cell_edges(alpha=0.1)\n",
    "plot.set_log('shok', False)"
   ]
  },
  {
   "cell_type": "code",
   "execution_count": null,
   "metadata": {},
   "outputs": [],
   "source": [
    "plot = yt.SlicePlot(ds, 'z', 'shks', width=(1,0.2), origin='native')\n",
    "plot.annotate_grids()\n",
    "plot.annotate_cell_edges(alpha=0.1)\n",
    "plot.set_log('shks', False)"
   ]
  },
  {
   "cell_type": "code",
   "execution_count": null,
   "metadata": {},
   "outputs": [],
   "source": [
    "print(ds)\n",
    "ds.field_list\n",
    "ds.dimensionality = 3\n",
    "xl = 0.4\n",
    "xr = 0.6\n",
    "sl = ds.r[xl:xr,0.5,0.5]\n",
    "sl['shok']"
   ]
  },
  {
   "cell_type": "code",
   "execution_count": null,
   "metadata": {},
   "outputs": [],
   "source": [
    "fig = plt.figure(figsize=(10,4))\n",
    "fields = ['density', 'pressure', 'velocity_x', 'sound_speed', 'shks', 'shok']\n",
    "for fi in fields:\n",
    "    plt.plot(sl['x'], sl[fi], '.-', label=fi)\n",
    "plt.semilogy()\n",
    "plt.ylim(1E-1, 2E1)\n",
    "plt.legend()\n",
    "plt.twinx()\n",
    "for fi in ['shok']:\n",
    "    dx = sl['x'][1:]-sl['x'][:-1]\n",
    "    left = sl['x'][:-1]\n",
    "    plt.bar(left, sl[fi][:-1], dx, label=fi, color='y', alpha=0.2)\n",
    "plt.legend(loc=2)"
   ]
  },
  {
   "cell_type": "code",
   "execution_count": null,
   "metadata": {},
   "outputs": [],
   "source": [
    "import numpy as np\n",
    "np.sqrt(((sl['shks']+1)*(sl['gamc']+1)+(sl['gamc']-1))/2/sl['gamc'])"
   ]
  },
  {
   "cell_type": "code",
   "execution_count": null,
   "metadata": {},
   "outputs": [],
   "source": [
    "import numpy as np\n",
    "np.sqrt(sl['shks']*(sl['gamc']+1)/2/sl['gamc']+1)"
   ]
  },
  {
   "cell_type": "code",
   "execution_count": null,
   "metadata": {},
   "outputs": [],
   "source": [
    "g = 5/3\n",
    "np.sqrt(1/3*(g+1)/2/g+1)"
   ]
  },
  {
   "cell_type": "code",
   "execution_count": null,
   "metadata": {},
   "outputs": [],
   "source": [
    "sl['shks']"
   ]
  },
  {
   "cell_type": "code",
   "execution_count": null,
   "metadata": {},
   "outputs": [],
   "source": [
    "sl['pressure']"
   ]
  },
  {
   "cell_type": "code",
   "execution_count": null,
   "metadata": {},
   "outputs": [],
   "source": [
    "np.sqrt(sl['pressure']/sl['density']*sl['gamc'])"
   ]
  },
  {
   "cell_type": "code",
   "execution_count": null,
   "metadata": {},
   "outputs": [],
   "source": [
    "np.sqrt(30*5/3)"
   ]
  },
  {
   "cell_type": "code",
   "execution_count": null,
   "metadata": {},
   "outputs": [],
   "source": [
    "gamma = 1.6666\n",
    "((1*(gamma+1)+(gamma-1))/2/gamma)"
   ]
  },
  {
   "cell_type": "code",
   "execution_count": null,
   "metadata": {
    "collapsed": false
   },
   "outputs": [],
   "source": []
  }
 ],
 "metadata": {
  "kernelspec": {
   "display_name": "Python 3",
   "language": "python",
   "name": "python3"
  },
  "language_info": {
   "codemirror_mode": {
    "name": "ipython",
    "version": 3
   },
   "file_extension": ".py",
   "mimetype": "text/x-python",
   "name": "python",
   "nbconvert_exporter": "python",
   "pygments_lexer": "ipython3",
   "version": "3.6.1"
  }
 },
 "nbformat": 4,
 "nbformat_minor": 2
}
