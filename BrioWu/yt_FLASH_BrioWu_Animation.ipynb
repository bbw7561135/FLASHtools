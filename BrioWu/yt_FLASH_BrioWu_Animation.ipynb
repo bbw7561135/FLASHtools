{
 "cells": [
  {
   "cell_type": "code",
   "execution_count": null,
   "metadata": {
    "collapsed": false
   },
   "outputs": [],
   "source": [
    "import yt\n",
    "import sys\n",
    "import matplotlib\n",
    "matplotlib.rcParams['figure.dpi'] = 150\n",
    "import matplotlib.pyplot as plt\n",
    "from matplotlib import animation\n",
    "from matplotlib.animation import FuncAnimation\n",
    "from matplotlib import rc_context\n",
    "from tempfile import NamedTemporaryFile\n",
    "from IPython.display import display, HTML\n",
    "import numpy as np\n",
    "import base64\n",
    "\n",
    "yt.mylog.setLevel(\"ERROR\")\n",
    "\n",
    "IMG_TAG = \"\"\"<img src=\"data:image/gif;base64,{0}\" alt=\"some_text\">\"\"\"\n",
    " \n",
    "def anim_to_gif(anim):\n",
    "    data=\"0\"\n",
    "    with NamedTemporaryFile(suffix='.gif') as f:\n",
    "        anim.save(f.name, writer='imagemagick', fps=10);\n",
    "        print(f.name)\n",
    "        data = open(f.name, \"rb\").read()\n",
    "        #print(data)\n",
    "        data = base64.b64encode(data).decode()\n",
    "        #print(data)\n",
    "    return IMG_TAG.format(data)\n",
    " \n",
    "def display_animation(anim):\n",
    "    plt.close(anim._fig)\n",
    "    return display(HTML(anim_to_gif(anim)))"
   ]
  },
  {
   "cell_type": "code",
   "execution_count": null,
   "metadata": {
    "collapsed": false
   },
   "outputs": [],
   "source": [
    "ts = yt.load('/d/d9/ychen/FLASH4/20180310_BrioWu/bw_2d_hdf5_plt_cnt_*')\n",
    "#ts = yt.load('/d/d9/ychen/FLASH4/20180321_shock/oblique_shock_2d_hdf5_plt_cnt_*')"
   ]
  },
  {
   "cell_type": "code",
   "execution_count": null,
   "metadata": {
    "collapsed": false
   },
   "outputs": [],
   "source": [
    "field = 'density'\n",
    "mi, ma = 1E-1, 1E1\n",
    "log = True\n",
    "\n",
    "plot = yt.SlicePlot(ts[0], 'z', field, width=(1,0.2), origin='native')\n",
    "plot.set_zlim(field, mi, ma)\n",
    "plot.set_log(field, log)\n",
    "\n",
    "fig = plot.plots[field].figure\n",
    "\n",
    "# animate must accept an integer frame number. We use the frame number\n",
    "# to identify which dataset in the time series we want to load\n",
    "def animate(i):\n",
    "    ds = ts[i]\n",
    "    sys.stdout.write('\\r%s' % ds.basename)\n",
    "    plot._switch_ds(ds)\n",
    "\n",
    "anim = FuncAnimation(fig, animate, frames=15)"
   ]
  },
  {
   "cell_type": "code",
   "execution_count": null,
   "metadata": {},
   "outputs": [],
   "source": [
    "display_animation(anim)"
   ]
  },
  {
   "cell_type": "code",
   "execution_count": null,
   "metadata": {},
   "outputs": [],
   "source": [
    "field = 'pressure'\n",
    "mi, ma = 1E0, 1E1\n",
    "log = True\n",
    "\n",
    "plot = yt.SlicePlot(ts[0], 'z', field, width=(1,0.2), origin='native')\n",
    "plot.set_zlim(field, mi, ma)\n",
    "plot.set_log(field, log)\n",
    "\n",
    "fig = plot.plots[field].figure\n",
    "\n",
    "# animate must accept an integer frame number. We use the frame number\n",
    "# to identify which dataset in the time series we want to load\n",
    "def animate(i):\n",
    "    ds = ts[i]\n",
    "    sys.stdout.write('\\r%s' % ds.basename)\n",
    "    plot._switch_ds(ds)\n",
    "\n",
    "anim = FuncAnimation(fig, animate, frames=15)"
   ]
  },
  {
   "cell_type": "code",
   "execution_count": null,
   "metadata": {},
   "outputs": [],
   "source": [
    "display_animation(anim)"
   ]
  },
  {
   "cell_type": "code",
   "execution_count": null,
   "metadata": {},
   "outputs": [],
   "source": [
    "ds = ts[100]\n",
    "print(ds)\n",
    "ds.field_list\n",
    "ds.dimensionality = 3\n",
    "xl = 0.0\n",
    "xr = 0.9\n",
    "sl = ds.r[xl:xr,0.5,0.5]\n",
    "sl['shok']"
   ]
  },
  {
   "cell_type": "code",
   "execution_count": null,
   "metadata": {},
   "outputs": [],
   "source": [
    "fig = plt.figure(figsize=(10,4))\n",
    "fields = ['density', 'pressure', 'velocity_x', 'sound_speed', 'shks', 'shok']\n",
    "ln = {}\n",
    "for fi in fields:\n",
    "    ln[fi], = plt.plot(sl['x'], sl[fi], '.-', label=fi)\n",
    "#ln['entropy'], = plt.plot(sl['x'], sl['pres']/sl['dens']**(sl['gamc']+1), '.-', label='entropy')\n",
    "plt.semilogy()\n",
    "plt.ylim(1E-1, 1E1)\n",
    "plt.legend()\n",
    "shok = sl['shok']\n",
    "shok_begins, = np.where(shok[1:] - shok[:-1] == 1.0)\n",
    "shok_ends, = np.where(shok[1:] - shok[:-1] == -1.0)\n",
    "dx = sl['x'][1:]-sl['x'][:-1]\n",
    "xx = []\n",
    "widths = []\n",
    "for s0, s1 in zip(shok_begins, shok_ends):\n",
    "    xx.append(sl['x'][s0]+0.5*dx[s0])\n",
    "    widths.append(sl['x'][s1]-sl['x'][s0])\n",
    "bars = plt.bar(xx, [1E3]*len(xx), widths, color='y', alpha=0.2, bottom=1E-1)\n",
    "for i, (x, width) in enumerate(zip(xx,widths)):\n",
    "    bars.patches[i].set_x(x)\n",
    "    bars.patches[i].set_width(width)\n",
    "text = plt.text(0.03, 0.90, 't=%.4f' % ds.current_time,\n",
    "    horizontalalignment='left', verticalalignment='center',\n",
    "    transform=plt.axes().transAxes)\n",
    "plt.legend(loc=1)\n"
   ]
  },
  {
   "cell_type": "code",
   "execution_count": null,
   "metadata": {
    "collapsed": false
   },
   "outputs": [],
   "source": [
    "def animate(i):\n",
    "    ds = ts[i]\n",
    "    sys.stdout.write('\\r%s' % ds.basename)\n",
    "    ds.field_list\n",
    "    ds.dimensionality = 3\n",
    "    sl = ds.r[xl:xr,0.5,0.5]\n",
    "    for fi in fields:\n",
    "        ln[fi].set_data(sl['x'], sl[fi])\n",
    "    xx = np.zeros(len(shok_begins))\n",
    "    widths = np.zeros(len(shok_begins))\n",
    "    shok = sl['shok']\n",
    "    shok_begins, = np.where(shok[1:] - shok[:-1] == 1.0)\n",
    "    shok_ends, = np.where(shok[1:] - shok[:-1] == -1.0)\n",
    "    dx = sl['x'][1:]-sl['x'][:-1]\n",
    "    for i, (s0, s1) in enumerate(zip(shok_begins, shok_ends)):\n",
    "        xx[i] = sl['x'][s0]+0.5*dx[s0]\n",
    "        widths[i] = sl['x'][s1]-sl['x'][s0]\n",
    "    for i, (x, width) in enumerate(zip(xx,widths)):\n",
    "        bars.patches[i].set_x(x)\n",
    "        bars.patches[i].set_width(width)\n",
    "    text.set_text('t=%.4f' % ds.current_time)\n",
    "\n",
    "anim = FuncAnimation(fig, animate, frames=100)"
   ]
  },
  {
   "cell_type": "code",
   "execution_count": null,
   "metadata": {},
   "outputs": [],
   "source": [
    "display_animation(anim)"
   ]
  },
  {
   "cell_type": "code",
   "execution_count": null,
   "metadata": {},
   "outputs": [],
   "source": [
    "np.sqrt(sl['shks']*(sl['gamc']+1)/2/sl['gamc']+1)"
   ]
  },
  {
   "cell_type": "code",
   "execution_count": null,
   "metadata": {},
   "outputs": [],
   "source": [
    "sl['velocity_x']"
   ]
  },
  {
   "cell_type": "code",
   "execution_count": null,
   "metadata": {},
   "outputs": [],
   "source": [
    "0.1/0.05"
   ]
  },
  {
   "cell_type": "code",
   "execution_count": null,
   "metadata": {},
   "outputs": [],
   "source": [
    "sl['pres']/sl['dens']**(sl['gamc']+1)"
   ]
  },
  {
   "cell_type": "code",
   "execution_count": null,
   "metadata": {
    "collapsed": false
   },
   "outputs": [],
   "source": [
    "hok_begins, = np.where(shok[1:] - shok[:-1] == 1.0)\n",
    "shok_ends, = np.where(shok[1:] - shok[:-1] == -1.0)"
   ]
  }
 ],
 "metadata": {
  "kernelspec": {
   "display_name": "Python 3",
   "language": "python",
   "name": "python3"
  },
  "language_info": {
   "codemirror_mode": {
    "name": "ipython",
    "version": 3
   },
   "file_extension": ".py",
   "mimetype": "text/x-python",
   "name": "python",
   "nbconvert_exporter": "python",
   "pygments_lexer": "ipython3",
   "version": "3.6.1"
  }
 },
 "nbformat": 4,
 "nbformat_minor": 2
}
