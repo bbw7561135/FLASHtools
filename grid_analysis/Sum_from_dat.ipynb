{
 "cells": [
  {
   "cell_type": "code",
   "execution_count": null,
   "metadata": {
    "collapsed": false
   },
   "outputs": [],
   "source": [
    "import numpy as np\n",
    "import os\n",
    "import matplotlib\n",
    "matplotlib.rcParams['figure.dpi'] = 150\n",
    "import matplotlib.pyplot as plt\n",
    "from tools import setup_cl"
   ]
  },
  {
   "cell_type": "code",
   "execution_count": null,
   "metadata": {
    "collapsed": false
   },
   "outputs": [],
   "source": [
    "def get_dat(dirname):\n",
    "    datfnames = ['MHD_Jet.dat', 'MHD_Jet_10Myr.dat', 'MHD_Jet_nojiggle.dat']\n",
    "    for datfname in datfnames:\n",
    "        if os.path.isfile(os.path.join(dirname, datfname)):\n",
    "            data = np.genfromtxt(os.path.join(dirname, datfname))\n",
    "            break\n",
    "    Emags = data[:,8]\n",
    "    Ekins = data[:,6]\n",
    "    mask = np.logical_and(Emags < 7E58, Ekins < 2E59)\n",
    "\n",
    "    tt = data[mask,0]\n",
    "    Masses = data[mask,1]\n",
    "    Etots = data[mask,5]\n",
    "    Ekins = data[mask,6]\n",
    "    Eints = data[mask,7] \n",
    "    Emags = Emags[mask]\n",
    "\n",
    "    \n",
    "    Ptots = (Etots[1:]-Etots[:-1])/(tt[1:]-tt[:-1])\n",
    "    Pkins = (Ekins[1:]-Ekins[:-1])/(tt[1:]-tt[:-1])\n",
    "    Pints = (Eints[1:]-Eints[:-1])/(tt[1:]-tt[:-1])\n",
    "    \n",
    "    #print max(Ptots), max(Pkins), max(Pints)\n",
    "    return tt, Masses, Etots, Ekins, Eints, Emags, Ptots, Pkins, Pints"
   ]
  },
  {
   "cell_type": "code",
   "execution_count": null,
   "metadata": {},
   "outputs": [],
   "source": [
    "dirnames = ['/home/ychen/data/0only_0605_hinf',\n",
    "            '/home/ychen/data/0only_0529_h1',\n",
    "            '/home/ychen/data/0only_0605_h0',\n",
    "            \n",
    "            '/home/ychen/data/0only_0204_hinf_10Myr',\n",
    "            '/home/ychen/data/0only_1022_h1_10Myr',\n",
    "            '/home/ychen/data/0only_0204_h0_10Myr',\n",
    "            ]\n",
    "\n",
    "table = []\n",
    "for dirname in dirnames:\n",
    "    table.append(get_dat(dirname))"
   ]
  },
  {
   "cell_type": "code",
   "execution_count": null,
   "metadata": {},
   "outputs": [],
   "source": [
    "colors, labels = setup_cl(dirnames)\n",
    "plt.figure(figsize=(6,3))\n",
    "for dir, data in zip(dirnames, table):\n",
    "    tt, Masses, Etots, Ekins, Eints, Emags, Ptots, Pkins, Pints = get_dat(dir)\n",
    "    if '10Myr' not in dir:\n",
    "        plt.plot(tt[:]/3.154E13, Ekins, c=colors[dir], label=labels[dir], lw=1, alpha=1)\n",
    "    else:\n",
    "        plt.plot(tt[:]/3.154E13, Ekins, c=colors[dir], lw=1, alpha=1)\n",
    "plt.ylim(0, 1.5E59)\n",
    "#plt.semilogx()\n",
    "plt.xlim(0, 100)\n",
    "plt.legend()\n",
    "plt.xlabel('time (Myr)')\n",
    "plt.ylabel('Total Kinetic Energy')"
   ]
  },
  {
   "cell_type": "code",
   "execution_count": null,
   "metadata": {},
   "outputs": [],
   "source": [
    "colors, labels = setup_cl(dirnames)\n",
    "plt.figure(figsize=(6,3))\n",
    "for dir, data in zip(dirnames, table):\n",
    "    tt, Masses, Etots, Ekins, Eints, Emags, Ptots, Pkins, Pints = get_dat(dir)\n",
    "    if '10Myr' not in dir:\n",
    "        Eint0 = Eints[0]\n",
    "        plt.plot(tt[:]/3.154E13, Eints-Eint0, c=colors[dir], label=labels[dir], lw=1, alpha=0.7)\n",
    "    else:\n",
    "        plt.plot(tt[:]/3.154E13, Eints-Eint0, c=colors[dir], lw=1, alpha=0.7)\n",
    "plt.ylim(0, 6E59)\n",
    "#plt.semilogx()\n",
    "plt.xlim(0, 100)\n",
    "plt.legend()\n",
    "plt.xlabel('time (Myr)')\n",
    "plt.ylabel('Total Internal Energy')"
   ]
  },
  {
   "cell_type": "code",
   "execution_count": null,
   "metadata": {},
   "outputs": [],
   "source": [
    "colors, labels = setup_cl(dirnames)\n",
    "plt.figure(figsize=(6,3))\n",
    "for dir, data in zip(dirnames, table):\n",
    "    tt, Masses, Etots, Ekins, Eints, Emags, Ptots, Pkins, Pints = data\n",
    "    if '10Myr' not in dir:\n",
    "        plt.plot(tt[:]/3.154E13, Emags, c=colors[dir], label=labels[dir], lw=1, markersize=0, alpha=1)\n",
    "    else:\n",
    "        plt.plot(tt[:]/3.154E13, Emags, c=colors[dir], lw=1, markersize=0, alpha=1)\n",
    "plt.ylim(0, 4E57)\n",
    "#plt.semilogx()\n",
    "plt.xlim(0, 20)\n",
    "plt.legend()\n",
    "plt.xlabel('time (Myr)')\n",
    "plt.ylabel('Total Magnetic Energy')"
   ]
  },
  {
   "cell_type": "code",
   "execution_count": null,
   "metadata": {},
   "outputs": [],
   "source": [
    "dirnames = [\n",
    "    '/home/ychen/data/0only_0525_hinf_nojiggle/',\n",
    "    '/home/ychen/data/0only_0314_h1_nojiggle/',\n",
    "    '/home/ychen/data/0only_0330_h0_nojiggle/',\n",
    "]\n",
    "table = []\n",
    "for dirname in dirnames:\n",
    "    table.append(get_dat(dirname))"
   ]
  },
  {
   "cell_type": "code",
   "execution_count": null,
   "metadata": {},
   "outputs": [],
   "source": [
    "colors, labels = setup_cl(dirnames)\n",
    "plt.figure(figsize=(6,3))\n",
    "for dir, data in zip(dirnames, table):\n",
    "    tt, Masses, Etots, Ekins, Eints, Emags, Ptots, Pkins, Pints = data\n",
    "    if '10Myr' not in dir:\n",
    "        plt.plot(tt[:]/3.154E13, Emags, c=colors[dir], label=labels[dir], lw=0, marker='.', markersize=1, alpha=1)\n",
    "    else:\n",
    "        plt.plot(tt[:]/3.154E13, Emags, c=colors[dir], lw=0, marker='.', markersize=1, alpha=1)\n",
    "plt.ylim(0, 2E57)\n",
    "#plt.semilogx()\n",
    "plt.xlim(0, 5)\n",
    "plt.legend()\n",
    "plt.xlabel('time (Myr)')\n",
    "plt.ylabel('Total Magnetic Energy')"
   ]
  },
  {
   "cell_type": "code",
   "execution_count": null,
   "metadata": {},
   "outputs": [],
   "source": [
    "colors, labels = setup_cl(dirnames)\n",
    "plt.figure(figsize=(6,3))\n",
    "for dir, data in zip(dirnames, table):\n",
    "    tt, Masses, Etots, Ekins, Eints, Emags, Ptots, Pkins, Pints = data\n",
    "    if '10Myr' not in dir:\n",
    "        plt.plot(tt[:]/3.154E13, Ekins, c=colors[dir], label=labels[dir], lw=0, marker='.', markersize=1, alpha=0.7)\n",
    "    else:\n",
    "        plt.plot(tt[:]/3.154E13, Ekins, c=colors[dir], lw=0, marker='.', markersize=1, alpha=0.7)\n",
    "plt.ylim(0, 1E59)\n",
    "#plt.semilogx()\n",
    "plt.xlim(0, 8)\n",
    "plt.legend()\n",
    "plt.xlabel('time (Myr)')\n",
    "plt.ylabel('Total Kinetic Energy')"
   ]
  },
  {
   "cell_type": "code",
   "execution_count": null,
   "metadata": {},
   "outputs": [],
   "source": [
    "colors, labels = setup_cl(dirnames)\n",
    "plt.figure(figsize=(6,3))\n",
    "for dir, data in zip(dirnames, table):\n",
    "    tt, Masses, Etots, Ekins, Eints, Emags, Ptots, Pkins, Pints = data\n",
    "    if '10Myr' not in dir:\n",
    "        plt.plot(tt[:]/3.154E13, Eints-Eints[0], c=colors[dir], label=labels[dir], lw=0, marker='.', markersize=1, alpha=0.7)\n",
    "    else:\n",
    "        plt.plot(tt[:]/3.154E13, Eints-Eints[0], c=colors[dir], lw=0, marker='.', markersize=1, alpha=0.7)\n",
    "#plt.ylim(0, 1E59)\n",
    "#plt.semilogx()\n",
    "plt.xlim(0, 8)\n",
    "plt.legend()\n",
    "plt.xlabel('time (Myr)')\n",
    "plt.ylabel('Total Internal Energy')"
   ]
  },
  {
   "cell_type": "code",
   "execution_count": null,
   "metadata": {
    "collapsed": false
   },
   "outputs": [],
   "source": []
  }
 ],
 "metadata": {
  "kernelspec": {
   "display_name": "Python 3",
   "language": "python",
   "name": "python3"
  },
  "language_info": {
   "codemirror_mode": {
    "name": "ipython",
    "version": 3
   },
   "file_extension": ".py",
   "mimetype": "text/x-python",
   "name": "python",
   "nbconvert_exporter": "python",
   "pygments_lexer": "ipython3",
   "version": "3.6.1"
  }
 },
 "nbformat": 4,
 "nbformat_minor": 2
}
