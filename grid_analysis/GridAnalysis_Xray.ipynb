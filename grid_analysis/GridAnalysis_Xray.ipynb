{
 "cells": [
  {
   "cell_type": "code",
   "execution_count": null,
   "metadata": {
    "collapsed": false
   },
   "outputs": [],
   "source": [
    "%matplotlib inline\n",
    "import yt\n",
    "import logging\n",
    "logging.getLogger('yt').setLevel(logging.ERROR)\n",
    "import numpy as np\n",
    "import matplotlib\n",
    "matplotlib.rcParams['figure.dpi'] = 150\n",
    "import matplotlib.pyplot as plt\n",
    "from tools import setup_cl\n"
   ]
  },
  {
   "cell_type": "code",
   "execution_count": null,
   "metadata": {
    "scrolled": false
   },
   "outputs": [],
   "source": [
    "dirs = [\n",
    "        '/home/ychen/data/0only_1110_h0_rerun/',\n",
    "        '/home/ychen/data/0only_0602_hydro/',\n",
    "        '/home/ychen/data/0only_0529_h1/',\n",
    "        '/home/ychen/data/0only_0605_hinf/',\n",
    "        '/home/ychen/data/0only_1212_h0_10Myr_rerun/',\n",
    "        '/home/ychen/data/0only_0413_hydro_10Myr/',\n",
    "        '/home/ychen/data/0only_1022_h1_10Myr/',\n",
    "        '/home/ychen/data/0only_0204_hinf_10Myr/']\n",
    "\n",
    "colors, labels = setup_cl(dirs)\n",
    "\n",
    "for dir in dirs:\n",
    "    data = np.loadtxt(dir+'GridAnalysis_Xray_100kpc.txt')\n",
    "    label = labels[dir]\n",
    "    if '10Myr' in dir:\n",
    "        plt.plot(data[:,1], data[:,2], color=colors[dir])\n",
    "        #plt.fill_between(data[:,1], data[:,2], data[:,3],\\\n",
    "        #                 facecolor=colors[dir], lw=1, linestyle=':', edgecolor=colors[dir], alpha=0.3)\n",
    "        #plt.plot(data[:,1], data[:,2], c=colors[dir])\n",
    "    else:\n",
    "        plt.plot(data[:,1], data[:,2], color=colors[dir], label=label)\n",
    "    #plt.fill_between(data[:,1], data[:,4], -data[:,5],\\\n",
    "    #                 facecolor=colors[dir], lw=1, linestyle=':', edgecolor=colors[dir], alpha=0.3)\n",
    "\n",
    "handles, labels = plt.axes().get_legend_handles_labels()\n",
    "# reverse the order\n",
    "plt.legend(handles[::-1], labels[::-1], loc=1)\n",
    "\n",
    "#plt.ylabel('z (kpc)')\n",
    "plt.xlabel('t (Myr)')\n",
    "plt.xlim(0,500)\n",
    "plt.axvline(10, ls=':', lw=1, alpha=0.5)\n",
    "plt.ylim(2.30E44,2.55E44)\n",
    "#plt.savefig('LobeSize_20Myr.pdf')\n",
    "#plt.semilogx()"
   ]
  },
  {
   "cell_type": "code",
   "execution_count": null,
   "metadata": {},
   "outputs": [],
   "source": [
    "colors, labels = setup_cl(dirs)\n",
    "for dir in dirs:\n",
    "    data = np.loadtxt(dir+'GridAnalysis_Xray_100kpc.txt')\n",
    "    label = labels[dir]\n",
    "    if '10Myr' in dir:\n",
    "        plt.plot(data[:,1], data[:,3]/data[:,2], color=colors[dir])\n",
    "    else:\n",
    "        plt.plot(data[:,1], data[:,3]/data[:,2], color=colors[dir], label=label)\n",
    "    #plt.fill_between(data[:,1], data[:,4], -data[:,5],\\\n",
    "    #                 facecolor=colors[dir], lw=1, linestyle=':', edgecolor=colors[dir], alpha=0.3)\n",
    "\n",
    "handles, labels = plt.axes().get_legend_handles_labels()\n",
    "# reverse the order\n",
    "plt.legend(handles[::-1], labels[::-1], loc=1)\n",
    "\n",
    "#plt.ylabel('z (kpc)')\n",
    "plt.xlabel('t (Myr)')\n",
    "plt.xlim(0,100)\n",
    "plt.ylim(0.99995, 1)"
   ]
  },
  {
   "cell_type": "code",
   "execution_count": null,
   "metadata": {
    "collapsed": false
   },
   "outputs": [],
   "source": []
  }
 ],
 "metadata": {
  "kernelspec": {
   "display_name": "Python 3",
   "language": "python",
   "name": "python3"
  },
  "language_info": {
   "codemirror_mode": {
    "name": "ipython",
    "version": 3
   },
   "file_extension": ".py",
   "mimetype": "text/x-python",
   "name": "python",
   "nbconvert_exporter": "python",
   "pygments_lexer": "ipython3",
   "version": "3.6.1"
  }
 },
 "nbformat": 4,
 "nbformat_minor": 1
}
