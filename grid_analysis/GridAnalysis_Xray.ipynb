{
 "cells": [
  {
   "cell_type": "code",
   "execution_count": null,
   "metadata": {
    "collapsed": false
   },
   "outputs": [],
   "source": [
    "%matplotlib inline\n",
    "import yt\n",
    "import logging\n",
    "logging.getLogger('yt').setLevel(logging.ERROR)\n",
    "import numpy as np\n",
    "import matplotlib\n",
    "matplotlib.rcParams['figure.dpi'] = 150\n",
    "import matplotlib.pyplot as plt\n",
    "import multiprocessing\n",
    "import sys\n",
    "sys.path.append('/home/ychen/lib/util')\n",
    "import util\n"
   ]
  },
  {
   "cell_type": "code",
   "execution_count": null,
   "metadata": {
    "collapsed": false
   },
   "outputs": [],
   "source": [
    "def setup_cl(dirs):\n",
    "    # Set up colors and label names\n",
    "    colors = {}\n",
    "    labels = {}\n",
    "    for dirname in dirs:\n",
    "        if 'M3_h1' in dirname:\n",
    "            colors[dirname] = 'pink'\n",
    "            labels[dirname] = 'low Mach (3)'\n",
    "        elif 'h1' in dirname:\n",
    "            colors[dirname] = 'r'\n",
    "            labels[dirname] = 'helical'\n",
    "        elif 'h0' in dirname:\n",
    "            colors[dirname] = 'b'\n",
    "            labels[dirname] = 'poloidal'\n",
    "        elif 'hinf' in dirname:\n",
    "            colors[dirname] = 'g'\n",
    "            labels[dirname] = 'toroidal'\n",
    "        elif 'hydro' in dirname:\n",
    "            colors[dirname] = 'k'\n",
    "            labels[dirname] = 'hydro'\n",
    "        elif 'M24_b01' in dirname:\n",
    "            colors[dirname] = 'purple'\n",
    "            labels[dirname] = 'low beta (0.01)'\n",
    "    return colors, labels"
   ]
  },
  {
   "cell_type": "code",
   "execution_count": null,
   "metadata": {
    "scrolled": false
   },
   "outputs": [],
   "source": [
    "dirs = [\n",
    "        '/home/ychen/data/0only_0605_h0/',\n",
    "        '/home/ychen/data/0only_0602_hydro/',\n",
    "        '/home/ychen/data/0only_0529_h1/',\n",
    "        '/home/ychen/data/0only_0605_hinf/',\n",
    "        '/home/ychen/data/0only_0204_h0_10Myr/',\n",
    "        '/home/ychen/data/0only_0413_hydro_10Myr/',\n",
    "        '/home/ychen/data/0only_1022_h1_10Myr/',\n",
    "        '/home/ychen/data/0only_0204_hinf_10Myr/']\n",
    "\n",
    "colors, labels = setup_cl(dirs)\n",
    "\n",
    "for dir in dirs:\n",
    "    data = np.loadtxt(dir+'GridAnalysis_Xray.txt')\n",
    "    label = labels[dir]\n",
    "    if '10Myr' in dir:\n",
    "        plt.plot(data[:,1], data[:,2], color=colors[dir])\n",
    "        #plt.plot(data[:,1], data[:,2], c=colors[dir])\n",
    "    else:\n",
    "        plt.plot(data[:,1], data[:,2], color=colors[dir], label=label)\n",
    "    #plt.fill_between(data[:,1], data[:,4], -data[:,5],\\\n",
    "    #                 facecolor=colors[dir], lw=1, linestyle=':', edgecolor=colors[dir], alpha=0.3)\n",
    "\n",
    "handles, labels = plt.axes().get_legend_handles_labels()\n",
    "# reverse the order\n",
    "plt.legend(handles[::-1], labels[::-1], loc=1)\n",
    "\n",
    "#plt.ylabel('z (kpc)')\n",
    "plt.xlabel('t (Myr)')\n",
    "plt.xlim(0,100)\n",
    "plt.vlines(10, 2.83E44, 3E44, linestyles=':', lw=1, alpha=0.5)\n",
    "#plt.ylim(0,50)\n",
    "#plt.savefig('LobeSize_20Myr.pdf')\n",
    "#plt.semilogx()"
   ]
  },
  {
   "cell_type": "code",
   "execution_count": null,
   "metadata": {
    "collapsed": false
   },
   "outputs": [],
   "source": []
  }
 ],
 "metadata": {
  "kernelspec": {
   "display_name": "Python 3",
   "language": "python",
   "name": "python3"
  },
  "language_info": {
   "codemirror_mode": {
    "name": "ipython",
    "version": 3
   },
   "file_extension": ".py",
   "mimetype": "text/x-python",
   "name": "python",
   "nbconvert_exporter": "python",
   "pygments_lexer": "ipython3",
   "version": "3.6.1"
  }
 },
 "nbformat": 4,
 "nbformat_minor": 1
}
