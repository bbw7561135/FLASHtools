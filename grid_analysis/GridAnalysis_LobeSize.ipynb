{
 "cells": [
  {
   "cell_type": "code",
   "execution_count": null,
   "metadata": {
    "collapsed": false
   },
   "outputs": [],
   "source": [
    "%matplotlib inline\n",
    "import yt\n",
    "import logging\n",
    "logging.getLogger('yt').setLevel(logging.ERROR)\n",
    "import numpy as np\n",
    "import matplotlib\n",
    "matplotlib.rcParams['figure.dpi'] = 150\n",
    "import matplotlib.pyplot as plt\n",
    "import multiprocessing\n",
    "import sys\n",
    "sys.path.append('/home/ychen/lib/util')\n",
    "import util\n",
    "from tools import setup_cl\n",
    "#dss = yt.load('/home/ychen/d9/FLASH4/stampede/0529_L45_M10_b1_h1/MHD_Jet_hdf5_plt_cnt*')"
   ]
  },
  {
   "cell_type": "code",
   "execution_count": null,
   "metadata": {
    "collapsed": false
   },
   "outputs": [],
   "source": [
    "def rescan(dir, printlist=False):\n",
    "    files = util.scan_files(dir, '*hdf5_plt_cnt_[0-9][0-9][0-9][0-9]', \\\n",
    "                             printlist=printlist, walk=True)\n",
    "    return files\n",
    "\n",
    "dir = '/home/ychen/d9/FLASH4/stampede/0529_L45_M10_b1_h1/data/'\n",
    "files = rescan(dir, printlist=True)"
   ]
  },
  {
   "cell_type": "code",
   "execution_count": null,
   "metadata": {},
   "outputs": [],
   "source": [
    "ds = yt.load(files[100].fullpath)\n",
    "ad = ds.all_data()\n",
    "zlim = (ds.domain_left_edge[2]/8.0, ds.domain_right_edge[2]/8.0)\n",
    "print zlim[0].in_units('kpc')"
   ]
  },
  {
   "cell_type": "code",
   "execution_count": null,
   "metadata": {
    "collapsed": false
   },
   "outputs": [],
   "source": [
    "#sp = ds.sphere([0.0,0.0,0.0], (60, 'kpc'))\n",
    "prof = yt.create_profile(ad, 'z', ['jet ', 'pressure', 'temperature'], \\\n",
    "                         logs={'z': False}, weight_field=None, extrema={'z': zlim})\n",
    "prof_wf = yt.create_profile(ad, 'z', ['jet ', 'pressure', 'temperature'], \\\n",
    "                         logs={'z': False}, weight_field='cell_mass', extrema={'z': zlim})"
   ]
  },
  {
   "cell_type": "code",
   "execution_count": null,
   "metadata": {},
   "outputs": [],
   "source": [
    "fig, ax1 = plt.subplots()\n",
    "ax1.plot(prof.x, prof['jet '], c='r', label='pressure')\n",
    "ax1.plot(prof_wf.x, prof_wf['jet '], c='b', label='pressure')\n",
    "ax1.semilogy()\n",
    "ax1.set_ylim(1E-11, 1E6)"
   ]
  },
  {
   "cell_type": "code",
   "execution_count": null,
   "metadata": {
    "scrolled": false
   },
   "outputs": [],
   "source": [
    "dirs = [\n",
    "        '/home/ychen/data/0only_1110_h0_rerun/',\\\n",
    "        '/home/ychen/data/0only_0602_hydro/',\\\n",
    "        '/home/ychen/data/0only_0529_h1/',\\\n",
    "        '/home/ychen/data/0only_0605_hinf/']\n",
    "#        '/home/ychen/data/0only_1212_h0_10Myr_rerun/',\\\n",
    "#        '/home/ychen/data/0only_0413_hydro_10Myr/',\\\n",
    "#        '/home/ychen/data/0only_1022_h1_10Myr/',\\\n",
    "#        '/home/ychen/data/0only_0204_hinf_10Myr/']\n",
    "\n",
    "colors, labels = setup_cl(dirs)\n",
    "\n",
    "tt = np.linspace(0, 5, 100)\n",
    "\n",
    "for dir in dirs:\n",
    "    data = np.loadtxt(dir+'GridAnalysis_LobeSize.txt')\n",
    "    label = labels[dir]\n",
    "    if '10Myr' in dir:\n",
    "        plt.fill_between(data[:,1], data[:,2], -data[:,3],\\\n",
    "                         facecolor=colors[dir], lw=1, edgecolor=colors[dir], alpha=0.8, label=label)\n",
    "        #plt.plot(data[:,1], data[:,2], c=colors[dir])\n",
    "    else:\n",
    "        plt.fill_between(data[:,1], data[:,2], -data[:,3],\\\n",
    "                         facecolor=colors[dir], lw=1, edgecolor=colors[dir], alpha=0.8, label=label)\n",
    "    #plt.fill_between(data[:,1], data[:,4], -data[:,5],\\\n",
    "    #                 facecolor=colors[dir], lw=1, linestyle=':', edgecolor=colors[dir], alpha=0.3)\n",
    "plt.plot(tt, 10*tt, ':', c='orange', label='10 kpc / Myr')\n",
    "plt.plot(tt, 8*tt, '--', c='cyan', label='8 kpc / Myr')\n",
    "plt.legend(loc=4)\n",
    "\n",
    "handles, labels = plt.axes().get_legend_handles_labels()\n",
    "# reverse the order\n",
    "plt.legend(handles[::-1], labels[::-1], loc=4)\n",
    "plt.grid(ls='--', alpha=0.5)\n",
    "plt.ylabel('z (kpc)')\n",
    "plt.xlabel('t (Myr)')\n",
    "plt.xlim(0,20)\n",
    "plt.ylim(0,50)\n",
    "plt.savefig('LobeSize_20Myr.pdf')\n",
    "#plt.semilogx()\n",
    "#plt.semilogy()"
   ]
  },
  {
   "cell_type": "code",
   "execution_count": null,
   "metadata": {
    "scrolled": false
   },
   "outputs": [],
   "source": [
    "dirs = [\n",
    "#        '/home/ychen/data/0only_1110_h0_rerun/',\\\n",
    "#        '/home/ychen/data/0only_0602_hydro/',\\\n",
    "#        '/home/ychen/data/0only_0529_h1/',\\\n",
    "#        '/home/ychen/data/0only_0605_hinf/',\\\n",
    "        '/home/ychen/data/0only_1212_h0_10Myr_rerun/',\\\n",
    "        '/home/ychen/data/0only_0413_hydro_10Myr/',\\\n",
    "        '/home/ychen/data/0only_1022_h1_10Myr/',\\\n",
    "        '/home/ychen/data/0only_0204_hinf_10Myr/']\n",
    "\n",
    "colors, labels = setup_cl(dirs)\n",
    "\n",
    "tt = np.linspace(0, 5, 100)\n",
    "\n",
    "for dir in dirs:\n",
    "    data = np.loadtxt(dir+'GridAnalysis_LobeSize.txt')\n",
    "    label = labels[dir]\n",
    "    if '10Myr' in dir:\n",
    "        plt.fill_between(data[:,1], data[:,2], -data[:,3],\\\n",
    "                         facecolor=colors[dir], lw=1, edgecolor=colors[dir], alpha=0.8, label=label)\n",
    "        #plt.plot(data[:,1], data[:,2], c=colors[dir])\n",
    "    else:\n",
    "        plt.fill_between(data[:,1], data[:,2], -data[:,3],\\\n",
    "                         facecolor=colors[dir], lw=1, edgecolor=colors[dir], alpha=0.8, label=label)\n",
    "    #plt.fill_between(data[:,1], data[:,4], -data[:,5],\\\n",
    "    #                 facecolor=colors[dir], lw=1, linestyle=':', edgecolor=colors[dir], alpha=0.3)\n",
    "#plt.plot(tt, 10*tt, ':', c='orange', label='10 kpc / Myr')\n",
    "#plt.plot(tt, 8*tt, '--', c='cyan', label='8 kpc / Myr')\n",
    "plt.legend(loc=4)\n",
    "\n",
    "handles, labels = plt.axes().get_legend_handles_labels()\n",
    "# reverse the order\n",
    "plt.legend(handles[::-1], labels[::-1], loc=4)\n",
    "\n",
    "\n",
    "\n",
    "plt.ylabel('z (kpc)')\n",
    "plt.xlabel('t (Myr)')\n",
    "plt.xlim(0.2,100)\n",
    "plt.ylim(2,80)\n",
    "plt.semilogx()\n",
    "plt.semilogy()\n",
    "xticks = [0.3, 1,3,10,30,100]\n",
    "plt.xticks(xticks, xticks)\n",
    "yticks = [3,10,30,80]\n",
    "plt.yticks(yticks, yticks)\n",
    "plt.grid(ls='--', alpha=0.5)\n",
    "\n",
    "plt.savefig('LobeSize_100Myr.pdf')"
   ]
  },
  {
   "cell_type": "code",
   "execution_count": null,
   "metadata": {},
   "outputs": [],
   "source": [
    "data[:3]"
   ]
  },
  {
   "cell_type": "code",
   "execution_count": null,
   "metadata": {
    "scrolled": false
   },
   "outputs": [],
   "source": [
    "dirs = [\n",
    "        '/home/ychen/data/0only_0605_h0/',\\\n",
    "        '/home/ychen/data/0only_1110_h0_rerun/']\n",
    "\n",
    "# Set up colors and label names\n",
    "colors = {}\n",
    "labels = {}\n",
    "for dirname in dirs:\n",
    "    if '0605_h0' in dirname:\n",
    "        colors[dirname] = 'b'\n",
    "        labels[dirname] = 'poloidal'\n",
    "    elif '1110_h0_rerun' in dirname:\n",
    "        colors[dirname] = 'cyan'\n",
    "        labels[dirname] = 'poloidal (rerun)'\n",
    "\n",
    "fig = plt.figure(figsize=(8,6))\n",
    "for dir in dirs:\n",
    "    data = np.loadtxt(dir+'GridAnalysis_LobeSize.txt')\n",
    "    label = labels[dir]\n",
    "    tt = data[:,1]\n",
    "    zEdge1 = data[:,2]\n",
    "    zEdge2 = -data[:,3]\n",
    "    rEdge1 = data[:,6]\n",
    "    rEdge2 = data[:,7]\n",
    "    plt.fill_between(tt, zEdge1, zEdge2,\\\n",
    "                         facecolor=colors[dir], lw=1, edgecolor=colors[dir], alpha=0.7, label=label+' zEdge')\n",
    "    plt.fill_between(tt, rEdge1, rEdge2,\\\n",
    "                     facecolor=colors[dir], lw=1, linestyle=':', edgecolor=colors[dir], alpha=0.3, label=label+' rEdge')\n",
    "plt.legend(loc=2)\n",
    "plt.ylabel('Edge (kpc)')\n",
    "plt.xlabel('t (Myr)')\n",
    "plt.xlim(0,20)\n",
    "plt.ylim(0,50)\n",
    "#plt.semilogx()"
   ]
  },
  {
   "cell_type": "code",
   "execution_count": null,
   "metadata": {
    "scrolled": false
   },
   "outputs": [],
   "source": [
    "dirs = [\n",
    "        '/home/ychen/data/0only_0602_hydro/',\\\n",
    "        '/home/ychen/data/0only_0529_h1/',\\\n",
    "        '/home/ychen/data/0only_0605_hinf/',\\\n",
    "        '/home/ychen/data/0only_1106_M3_h1/',\\\n",
    "        '/home/ychen/data/0only_1204_M24_b01/',\\\n",
    "        '/home/ychen/data/0only_1110_h0_rerun/']\n",
    "fig = plt.figure(figsize=(8,6))\n",
    "for dir in dirs:\n",
    "    data = np.loadtxt(dir+'GridAnalysis_LobeSize.txt')\n",
    "    #label = dir[28:-1]\n",
    "    label = labels[dir]\n",
    "    plt.fill_between(data[:,1], data[:,2], -data[:,3],\\\n",
    "                     facecolor=colors[dir], lw=1, edgecolor=colors[dir], alpha=0.8, label=label)\n",
    "    #plt.fill_between(data[:,1], data[:,4], -data[:,5],\\\n",
    "    #                 facecolor=colors[dir], lw=1, linestyle=':', edgecolor=colors[dir], alpha=0.3)\n",
    "\n",
    "plt.legend(loc=2)\n",
    "plt.ylabel('zEdge (kpc)')\n",
    "plt.xlabel('t (Myr)')\n",
    "plt.savefig('LobsSize_and_LobeCenter.pdf')\n",
    "#plt.axvline(10, ls=':', c='grey')"
   ]
  },
  {
   "cell_type": "code",
   "execution_count": null,
   "metadata": {},
   "outputs": [],
   "source": [
    "dirs = [\n",
    "        '/home/ychen/data/0only_0602_hydro/',\\\n",
    "        '/home/ychen/data/0only_0529_h1/',\\\n",
    "        '/home/ychen/data/0only_0605_hinf/',\\\n",
    "        '/home/ychen/data/0only_1106_M3_h1/',\\\n",
    "        '/home/ychen/data/0only_1204_M24_b01/',\\\n",
    "        '/home/ychen/data/0only_1110_h0_rerun/']\n",
    "\n",
    "fig = plt.figure(figsize=(8,6))\n",
    "for dir in dirs:\n",
    "    data = np.loadtxt(dir+'GridAnalysis_LobeSize.txt')\n",
    "    #label = dir[28:-1]\n",
    "    label = labels[dir]\n",
    "    tt = data[:,1]\n",
    "    zEdge1 = data[:,2]\n",
    "    zEdge2 = -data[:,3]\n",
    "    zEdge = (zEdge1+zEdge2)/2.0\n",
    "    rEdge1 = data[:,6]\n",
    "    rEdge2 = data[:,7]\n",
    "    rEdge = (rEdge1+rEdge2)/2.0\n",
    "    zrRatio = zEdge/rEdge\n",
    "    plt.plot(tt, zrRatio, lw=1, color=colors[dir], label=label)\n",
    "\n",
    "plt.legend(loc=1)\n",
    "plt.ylabel('zEdge/rEdge')\n",
    "plt.xlabel('t (Myr)')\n",
    "plt.ylim(2, 5)\n",
    "#plt.savefig('LobsSize_and_LobeCenter.pdf')\n",
    "#plt.axvline(10, ls=':', c='grey')"
   ]
  },
  {
   "cell_type": "code",
   "execution_count": null,
   "metadata": {
    "collapsed": false
   },
   "outputs": [],
   "source": [
    "#upfilter = ad['z'] > 0.0\n",
    "kpc = yt.units.kpc.in_units('cm')\n",
    "leftedge = [-30*kpc, -30*kpc, 0.0]\n",
    "rightedge = [ 30*kpc, 30*kpc, 60*kpc]\n",
    "upbox = ds.box(leftedge, rightedge)"
   ]
  },
  {
   "cell_type": "code",
   "execution_count": null,
   "metadata": {},
   "outputs": [],
   "source": []
  },
  {
   "cell_type": "code",
   "execution_count": null,
   "metadata": {},
   "outputs": [],
   "source": [
    "np.sum(upbox['jet ']*upbox['cell_mass']*upbox['z'])/np.sum(upbox['jet ']*upbox['cell_mass'])"
   ]
  },
  {
   "cell_type": "code",
   "execution_count": null,
   "metadata": {},
   "outputs": [],
   "source": [
    "fig, ax1 = plt.subplots()\n",
    "ax1.plot(prof_p.x, prof_p['pressure'], c='b', label='pressure')\n",
    "plt.legend(loc=2)\n",
    "ax2 = ax1.twinx()\n",
    "ax2.plot(prof_t.x, prof_t['temperature'], c='r', label='temperature')\n",
    "plt.legend(loc=1)\n",
    "#plot = yt.ProfilePlot.from_profiles([prof_p, prof_t], labels=['pressure', 'temperature'])"
   ]
  },
  {
   "cell_type": "code",
   "execution_count": null,
   "metadata": {},
   "outputs": [],
   "source": [
    "plt.plot(prof[0].x[1:], (prof[0]['temperature'][1:]-prof[0]['temperature'][0:-1])/)"
   ]
  },
  {
   "cell_type": "code",
   "execution_count": null,
   "metadata": {},
   "outputs": [],
   "source": []
  },
  {
   "cell_type": "code",
   "execution_count": null,
   "metadata": {
    "collapsed": false
   },
   "outputs": [],
   "source": []
  }
 ],
 "metadata": {
  "kernelspec": {
   "display_name": "Python 3",
   "language": "python",
   "name": "python3"
  },
  "language_info": {
   "codemirror_mode": {
    "name": "ipython",
    "version": 3
   },
   "file_extension": ".py",
   "mimetype": "text/x-python",
   "name": "python",
   "nbconvert_exporter": "python",
   "pygments_lexer": "ipython3",
   "version": "3.6.1"
  }
 },
 "nbformat": 4,
 "nbformat_minor": 1
}
