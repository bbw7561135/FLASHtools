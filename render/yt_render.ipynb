{
 "cells": [
  {
   "cell_type": "code",
   "execution_count": null,
   "metadata": {
    "collapsed": false
   },
   "outputs": [],
   "source": [
    "%matplotlib inline\n",
    "import numpy as np\n",
    "import yt\n",
    "yt.enable_parallelism()\n"
   ]
  },
  {
   "cell_type": "code",
   "execution_count": null,
   "metadata": {
    "collapsed": false
   },
   "outputs": [],
   "source": [
    "import sys\n",
    "sys.path.append('/home/ychen/lib/util')\n",
    "import util\n",
    "import numpy as np\n",
    "#import matplotlib\n",
    "import logging\n",
    "from matplotlib import pyplot as plt\n",
    "import yt\n",
    "yt.enable_parallelism()\n",
    "import os\n",
    "os.environ[\"OMP_NUM_THREADS\"] = \"8\"\n",
    "\n",
    "from tools import read_par, calcNozzleCoords\n",
    "\n",
    "mu = 1.67E-24\n",
    "k = 1.38E-16\n",
    "T = 1.0E7\n",
    "v = 0.1*3.0E10\n",
    "mag = 5.0E-5\n",
    "\n",
    "Extrema = { 'density': (1.0E-4*mu, 1.0E-2*mu), 'pressure':(1.0E-3*k*T, 1.0E1*k*T),'temperature': (1.0E1*T, 1.0E4*T),\\\n",
    "            'magnetic_field_x': (-mag, mag), 'magnetic_field_y': (-mag, mag), 'magnetic_field_z':(-mag,mag),\\\n",
    "            'velocity_x':(-v,v), 'velocity_y': (-v,v), 'velocity_z':(-v,v),\\\n",
    "            'ism ': (0.0, 1.0), 'jet ': (0.0, 1.0), 'magnetic_pressure': (1E-13, 1.0E-7),\\\n",
    "            'dens': (1.0E-5*mu, 1.0E1*mu), 'pres':(1.0E-5*k*T, 1.0E0*k*T),'temp': (10.0*T, 1.0E4*T),\\\n",
    "            'magx': (-mag, mag), 'magy': (-mag, mag), 'magz':(-mag,mag),\\\n",
    "            'velx': (-v,v), 'vely': (-v,v), 'velz':(-v,v),\\\n",
    "            'magp': (1E-20, 1.0E-7)\\\n",
    "}\n",
    "\n",
    "logfield = { 'dens': True, 'pres': True, 'temp': True,\\\n",
    "             'velx': False, 'vely': False, 'velz': False,\\\n",
    "             'magx': False, 'magy': False, 'magz': False,\\\n",
    "             'ism ': False, 'jet ': False, 'magp': True,\\\n",
    "             'density': True, 'pressure': True, 'temperature': True,\\\n",
    "             'velocity_x': False, 'velocity_y': False, 'velocity_z': False,\\\n",
    "             'magnetic_field_x': False, 'magnetic_field_y': False, 'magnetic_field_z': False,\\\n",
    "             'magnetic_pressure': True}\n",
    "\n",
    "# Scan for files\n",
    "\n",
    "dir = '/home/ychen/d9/FLASH4/2015_production_runs/0529_L45_M10_b1_h1/'\n",
    "pars = read_par(dir)\n",
    "\n",
    "def rescan(printlist=False):\n",
    "    files = util.scan_files(dir, '*hdf5_plt_cnt_[0-9][0-9][0-9][0-9]', printlist=printlist)\n",
    "    return files\n",
    "files = rescan(True)"
   ]
  },
  {
   "cell_type": "code",
   "execution_count": null,
   "metadata": {
    "collapsed": false
   },
   "outputs": [],
   "source": [
    "def render_field(ds, field, width=[1.0,1.0,1.0], L=None, l_max=None):\n",
    "    # \"cheat\" and tell yt that your dataset is periodic\n",
    "    ds.periodicity = (True, True, True)\n",
    "    # Find the bounds in log space of for your field\n",
    "    dd = ds.all_data()\n",
    "    if field in Extrema:\n",
    "        mi, ma = Extrema[field]\n",
    "    else:\n",
    "        print 'Finding Extrema'\n",
    "        mi, ma = dd.quantities[\"Extrema\"](field)[0]\n",
    "    print \"**** Rendering field:%15s: Min=%.3e Max=%.3e\" % (field, mi, ma)\n",
    "    if mi == ma: return\n",
    "    \n",
    "    log_scale = logfield[field]\n",
    "    if log_scale:\n",
    "        mi,ma = np.log10(mi), np.log10(ma)\n",
    "    #mi = 0 if mi < 0 else mi\n",
    "\n",
    "    # Instantiate the ColorTransferfunction.\n",
    "    tf = yt.ColorTransferFunction((mi,ma))\n",
    "    #tf.show()\n",
    "\n",
    "    # Set up the camera parameters: center, looking direction, width, resolution\n",
    "    #c = (pf.domain_right_edge + pf.domain_left_edge)/2.0 + np.array([-0.1/pf[\"unitary\"], 0.0, 0.0])\n",
    "    c = (ds.domain_right_edge + ds.domain_left_edge)/2.0\n",
    "    # Line of Sight\n",
    "    L = np.array([0.0, 0.0, 1.0]) if L is None else L\n",
    "    print 'Line of Sight: ', L\n",
    "    W = [width[0]*(pars['xmax']-pars['xmin']),\\\n",
    "         width[1]*(pars['ymax']-pars['ymin']),\\\n",
    "         width[2]*(pars['zmax']-pars['zmin'])]\n",
    "    #W = ds.quan(0.2, 'unitary')\n",
    "    \n",
    "    N = 512\n",
    "\n",
    "    # Create a camera object\n",
    "    #print 'Creating a downsampling AMRKDTree l_max=%i' % l_max\n",
    "    #kd = AMRKDTree(pf, l_max=l_max)\n",
    "    print 'Creating a camera object, l_max=%i' % l_max\n",
    "    cam = ds.camera(c, L, W, N, tf, fields = [field], log_fields = [log_scale], max_level=l_max, no_ghost=False)\n",
    "\n",
    "    # Now let's add some isocontours, and take a snapshot, saving the image\n",
    "    # to a file.\n",
    "    tf.add_layers(40, 0.1)\n",
    "    print 'Creating snapshot'\n",
    "    #fname = '%s_L%.0f%.0f%.0f_rendering.png' % (field, L[0], L[1], L[2])\n",
    "    im = cam.snapshot(num_threads=8)\n",
    "    cam.show()\n",
    "    return cam\n",
    "\n",
    "#    for L in [np.array([0,0,1.]), np.array([1.,0,0]), np.array([0,1.,0]), np.array([1.,1.,1.,])]:\n",
    "ds = yt.load(files[10].fullpath)\n",
    "logging.getLogger().setLevel(logging.INFO)\n",
    "L = np.array([0.,1.,0.2])\n",
    "width = [0.5, 0.5, 0.5]\n",
    "render = render_field(ds, 'density', width=width, L=L, l_max=4)"
   ]
  },
  {
   "cell_type": "code",
   "execution_count": null,
   "metadata": {
    "collapsed": false
   },
   "outputs": [],
   "source": []
  }
 ],
 "metadata": {
  "kernelspec": {
   "display_name": "Python 2",
   "language": "python",
   "name": "python2"
  },
  "language_info": {
   "codemirror_mode": {
    "name": "ipython",
    "version": 2
   },
   "file_extension": ".py",
   "mimetype": "text/x-python",
   "name": "python",
   "nbconvert_exporter": "python",
   "pygments_lexer": "ipython2",
   "version": "2.7.10"
  }
 },
 "nbformat": 4,
 "nbformat_minor": 0
}
