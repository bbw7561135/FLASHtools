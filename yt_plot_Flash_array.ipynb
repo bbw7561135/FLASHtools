{
 "cells": [
  {
   "cell_type": "code",
   "execution_count": null,
   "metadata": {
    "collapsed": false
   },
   "outputs": [],
   "source": [
    "%matplotlib inline\n",
    "import yt\n",
    "import logging\n",
    "logging.getLogger('yt').setLevel(logging.ERROR)\n",
    "import numpy as np\n",
    "import matplotlib\n",
    "matplotlib.rcParams['font.family'] = 'stixgeneral'\n",
    "matplotlib.rcParams['savefig.dpi'] = 150\n",
    "import matplotlib.pyplot as plt\n",
    "import os\n",
    "from mpl_toolkits.axes_grid1 import AxesGrid"
   ]
  },
  {
   "cell_type": "code",
   "execution_count": null,
   "metadata": {},
   "outputs": [],
   "source": [
    "dirs = ['/home/ychen/data/0only_0605_hinf/',\\\n",
    "        '/home/ychen/data/0only_0529_h1/',\\\n",
    "        '/home/ychen/data/0only_0605_h0/',\\\n",
    "        '/home/ychen/data/0only_0602_hydro/']\n",
    "\n",
    "labels = ['toroidal', 'helical', 'poloidal', 'hydro']\n",
    "\n",
    "proj_axis = 'x'\n",
    "field = 'density'\n",
    "center=(0.0,0.0,0.0)\n",
    "fig = plt.figure()\n",
    "\n",
    "grid = AxesGrid(fig, (0.075,0.075,0.85,0.85),\n",
    "                nrows_ncols = (1, 4),\n",
    "                axes_pad = 0.05,\n",
    "                label_mode = \"L\",\n",
    "                share_all = True,\n",
    "                cbar_location=\"right\",\n",
    "                cbar_mode=\"single\",\n",
    "                cbar_size=\"5%\",\n",
    "                cbar_pad=\"0%\")\n",
    "\n",
    "for i, dir in enumerate(dirs):\n",
    "    # Load the data and create a single plot\n",
    "    ds = yt.load(os.path.join(dir, 'data/MHD_Jet_hdf5_plt_cnt_0630'))# load data\n",
    "    p=yt.SlicePlot(ds, proj_axis, field, center=center, origin='center-domain',\\\n",
    "                              width=((40,'kpc'), (80,'kpc')),)\n",
    "    # Ensure the colorbar limits match for all plots\n",
    "    p.set_zlim('density', 3E-28, 2E-25)\n",
    "    p.set_cmap(field, 'arbre')\n",
    "    p.annotate_text((0.05, 0.95), labels[i], coord_system='axis', text_args={'color':'k'})\n",
    "    p.set_buff_size((400,800))\n",
    "    p.set_font_size(9)\n",
    "    \n",
    "    if i == 0:\n",
    "        p.annotate_timestamp(0.70, 0.95, time_format=\"{time:6.2f} {units}\", time_unit='Myr', text_args={'color':'k'})\n",
    "    \n",
    "\n",
    "    # This forces the ProjectionPlot to redraw itself on the AxesGrid axes.\n",
    "    plot = p.plots[field]\n",
    "    plot.figure = fig\n",
    "    plot.axes = grid[i].axes\n",
    "    plot.cax = grid.cbar_axes[i]\n",
    "\n",
    "    # Finally, this actually redraws the plot.\n",
    "    p._setup_plots()\n",
    "    p.plots[field].axes.set_xticks([-10,0,10,20])\n",
    "    p.plots[field].axes.set_xticklabels([-10,0,10,20])"
   ]
  },
  {
   "cell_type": "code",
   "execution_count": null,
   "metadata": {},
   "outputs": [],
   "source": [
    "for i, ax in enumerate(grid.axes_all):\n",
    "    ax.tick_params(axis='x', color='grey')\n",
    "    ax.tick_params(axis='y', color='grey')\n",
    "    #ax.set_ylim(-6, 6)\n",
    "    #ax.set_yticks([-5,0,5])\n",
    "    #ax.set_yticklabels([-5,0,5])\n",
    "    #ax.set_xlim(0,width[0].in_units('kpc').v)\n",
    "    #ax.set_xticks(np.arange(0,50,5))\n",
    "    #ax.set_xticklabels([0, '', 10, '', 20, '', 30, '', 40, ''])\n",
    "    ax.minorticks_off()\n",
    "    ax.tick_params(axis='x', color='grey')\n",
    "    ax.tick_params(axis='y', color='grey')\n",
    "    ax.grid(ls='--', alpha=0.5)\n",
    "    if i == 0:\n",
    "        ax.set_xlabel('y (kpc)')\n",
    "        ax.set_ylabel('z (kpc)')\n",
    "    else:\n",
    "        ax.set_xlabel('y (kpc)')\n",
    "        ax.set_ylabel('')\n",
    "fig.set_figwidth(10)\n",
    "fig.set_figheight(5)\n",
    "fig.savefig('compare_4_density_630.pdf', bbox_inches='tight')\n",
    "fig"
   ]
  },
  {
   "cell_type": "code",
   "execution_count": null,
   "metadata": {
    "collapsed": false
   },
   "outputs": [],
   "source": []
  }
 ],
 "metadata": {
  "kernelspec": {
   "display_name": "Python 3",
   "language": "python",
   "name": "python3"
  },
  "language_info": {
   "codemirror_mode": {
    "name": "ipython",
    "version": 3
   },
   "file_extension": ".py",
   "mimetype": "text/x-python",
   "name": "python",
   "nbconvert_exporter": "python",
   "pygments_lexer": "ipython3",
   "version": "3.6.1"
  }
 },
 "nbformat": 4,
 "nbformat_minor": 1
}
