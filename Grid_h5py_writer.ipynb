{
 "cells": [
  {
   "cell_type": "code",
   "execution_count": null,
   "metadata": {
    "collapsed": false
   },
   "outputs": [],
   "source": [
    "%matplotlib inline\n",
    "import h5py\n",
    "import numpy as np\n",
    "import matplotlib.pyplot as plt\n",
    "import os\n",
    "import yt\n",
    "import logging\n",
    "logging.getLogger('yt').setLevel(logging.ERROR)\n",
    "from yt_synchrotron_emissivity import *\n",
    "from particle_filters import *\n",
    "from yt.utilities.file_handler import HDF5FileHandler\n",
    "from yt.funcs import mylog\n",
    "\n",
    "def setup_part_file(ds):\n",
    "    filename = os.path.join(ds.directory,ds.basename)\n",
    "    ds._particle_handle = HDF5FileHandler(filename.replace('plt_cnt', 'part')+'_updated')\n",
    "    ds.particle_filename = filename.replace('plt_cnt', 'part')+'_updated'\n",
    "    mylog.info('Changed particle files to:' + ds.particle_filename)\n",
    "    \n",
    "dir = '/home/ychen/d9/FLASH4/2015_production_runs/0529_L45_M10_b1_h1/'\n",
    "fname = dir + '/MHD_Jet_hdf5_plt_cnt_0630'\n",
    "\n",
    "f = h5py.File(fname, 'r')\n",
    "\n",
    "ds = yt.load(fname)\n",
    "setup_part_file(ds)"
   ]
  },
  {
   "cell_type": "code",
   "execution_count": null,
   "metadata": {
    "collapsed": false
   },
   "outputs": [],
   "source": [
    "def prep_field_data(ds, field):\n",
    "    #print(field)\n",
    "    offset = 1\n",
    "    data = np.zeros([ds.index.num_grids, *ds.index.grid_dimensions[0]], dtype='float32')\n",
    "    for g in ds.index.grids:\n",
    "        #print(g)\n",
    "        if np.nan in g[field].v or np.inf in g[field].v:\n",
    "            print(g[field].v)\n",
    "        data[g.id-offset] = np.nan_to_num(g[field].v.transpose())\n",
    "    #print(data[g.id-offset])\n",
    "    return data"
   ]
  },
  {
   "cell_type": "code",
   "execution_count": null,
   "metadata": {
    "collapsed": false
   },
   "outputs": [],
   "source": [
    "f.values()"
   ]
  },
  {
   "cell_type": "code",
   "execution_count": null,
   "metadata": {
    "collapsed": false
   },
   "outputs": [],
   "source": [
    "for name, value in f.items():\n",
    "    print('%26s' % name, value)"
   ]
  },
  {
   "cell_type": "code",
   "execution_count": null,
   "metadata": {
    "collapsed": false
   },
   "outputs": [],
   "source": [
    "field_list = [field.decode() for field in f['unknown names'].value[:,0]]\n",
    "print(field_list)"
   ]
  },
  {
   "cell_type": "code",
   "execution_count": null,
   "metadata": {
    "collapsed": false
   },
   "outputs": [],
   "source": [
    "'dens' in field_list"
   ]
  },
  {
   "cell_type": "code",
   "execution_count": null,
   "metadata": {
    "collapsed": false
   },
   "outputs": [],
   "source": [
    "for name, v in f.items():\n",
    "    #print(name)\n",
    "    if name not in field_list:\n",
    "        print(v)"
   ]
  },
  {
   "cell_type": "code",
   "execution_count": null,
   "metadata": {
    "collapsed": false
   },
   "outputs": [],
   "source": [
    "from numpy.testing import assert_array_equal\n",
    "\n",
    "def check_grids():\n",
    "    for grid in ds.index.grids:\n",
    "        h5id = grid.id-1\n",
    "        #print(f['gid']).value[h5id]\n",
    "        assert_array_equal(f['dens'].value[h5id], grid['dens'].v.transpose())\n",
    "\n",
    "%timeit check_grids()"
   ]
  },
  {
   "cell_type": "code",
   "execution_count": null,
   "metadata": {
    "collapsed": false
   },
   "outputs": [],
   "source": [
    "ptype = 'lobe'\n",
    "proj_axis = [1,0,1]\n",
    "nu = (150, 'MHz')\n",
    "#pars = add_synchrotron_emissivity(ds, ptype=ptype, nu=nu)\n",
    "pars = add_synchrotron_dtau_emissivity(ds, ptype=ptype, nu=nu, proj_axis=proj_axis)\n",
    "fields = []\n",
    "for pol in ['i', 'q', 'u']:\n",
    "    field = ('deposit', ('nn_emissivity_%s_%s_%%.1f%%s' % (pol, ptype)) % nu)\n",
    "    fields.append(field)"
   ]
  },
  {
   "cell_type": "code",
   "execution_count": null,
   "metadata": {
    "collapsed": false
   },
   "outputs": [],
   "source": [
    "g = ds.index.grids[0]\n",
    "print(field)\n",
    "g[field]"
   ]
  },
  {
   "cell_type": "code",
   "execution_count": null,
   "metadata": {},
   "outputs": [],
   "source": [
    "orig_field_list = [field.decode() for field in f['unknown names'].value[:,0]]\n",
    "print(orig_field_list)\n",
    "\n",
    "write_fields = np.array([f for ptype, f in fields])\n",
    "#write_fields = np.array(['density'])\n",
    "print(write_fields.shape)\n",
    "print(write_fields)"
   ]
  },
  {
   "cell_type": "code",
   "execution_count": null,
   "metadata": {},
   "outputs": [],
   "source": [
    "if type(proj_axis) is str:\n",
    "    postfix = ('_synchrotron_%%.1f%%s_%s' % proj_axis) % nu\n",
    "elif type(proj_axis) is list:\n",
    "    postfix = ('_synchrotron_%%.1f%%s_%.1f_%.1f_%.1f' % tuple(proj_axis)) % nu\n",
    "\n",
    "h5fw = h5py.File(f.filename+postfix, 'w')\n",
    "print('Writing to ', f.filename+postfix)\n",
    "for name, v in f.items():\n",
    "    #print(name)\n",
    "    if name in orig_field_list:\n",
    "        #print('Skip %s' % name)\n",
    "        pass\n",
    "    elif name == 'unknown names':\n",
    "        bnames = [f.encode('utf8') for f in write_fields]\n",
    "        h5fw.create_dataset('unknown names', data=bnames)\n",
    "    else:\n",
    "        h5fw.create_dataset(v.name, v.shape, v.dtype, v.value)\n",
    "for field in write_fields:\n",
    "    data = prep_field_data(ds, field)\n",
    "    fieldname = field[1] if type(field) is tuple else field\n",
    "    print('writing field: %s' % fieldname)\n",
    "    h5fw.create_dataset(fieldname, data.shape, data.dtype, data)\n",
    "h5fw.close()"
   ]
  },
  {
   "cell_type": "code",
   "execution_count": null,
   "metadata": {
    "collapsed": false
   },
   "outputs": [],
   "source": [
    "h5fw.close()"
   ]
  },
  {
   "cell_type": "code",
   "execution_count": null,
   "metadata": {
    "collapsed": false
   },
   "outputs": [],
   "source": [
    "g = ds.index.grids[0]"
   ]
  },
  {
   "cell_type": "code",
   "execution_count": null,
   "metadata": {
    "collapsed": false
   },
   "outputs": [],
   "source": [
    "h5fr = h5py.File(f.filename+postfix, 'r')\n",
    "for name, value in h5fr.items():\n",
    "    print('%26s' % name, value)\n",
    "h5fr.close()"
   ]
  },
  {
   "cell_type": "code",
   "execution_count": null,
   "metadata": {
    "collapsed": false
   },
   "outputs": [],
   "source": [
    "ds2 = yt.load(f.filename+postfix)\n",
    "ds2.field_list"
   ]
  },
  {
   "cell_type": "code",
   "execution_count": null,
   "metadata": {
    "collapsed": false
   },
   "outputs": [],
   "source": [
    "from numpy.testing import assert_array_equal\n",
    "\n",
    "assert_array_equal(ds2.all_data()['density'].v, ds.all_data()['dens'].v)"
   ]
  },
  {
   "cell_type": "code",
   "execution_count": null,
   "metadata": {},
   "outputs": [],
   "source": [
    "yt.ProjectionPlot(ds2, 'x', ('flash','nn_emissivity_i_lobe_150.0MHz')).zoom(16)"
   ]
  },
  {
   "cell_type": "code",
   "execution_count": null,
   "metadata": {
    "collapsed": false
   },
   "outputs": [],
   "source": []
  }
 ],
 "metadata": {
  "kernelspec": {
   "display_name": "Python 3",
   "language": "python",
   "name": "python3"
  },
  "language_info": {
   "codemirror_mode": {
    "name": "ipython",
    "version": 3
   },
   "file_extension": ".py",
   "mimetype": "text/x-python",
   "name": "python",
   "nbconvert_exporter": "python",
   "pygments_lexer": "ipython3",
   "version": "3.6.1"
  }
 },
 "nbformat": 4,
 "nbformat_minor": 2
}
