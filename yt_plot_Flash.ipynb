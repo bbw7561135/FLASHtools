{
 "cells": [
  {
   "cell_type": "code",
   "execution_count": null,
   "metadata": {
    "collapsed": false
   },
   "outputs": [],
   "source": [
    "%matplotlib inline\n",
    "import os\n",
    "import sys\n",
    "sys.path.append('/home/ychen/lib/util')\n",
    "import util\n",
    "import numpy as np\n",
    "#import matplotlib\n",
    "import yt\n",
    "yt.mylog.setLevel(\"INFO\")\n",
    "import matplotlib\n",
    "matplotlib.rcParams['figure.dpi'] = 150\n",
    "from matplotlib import pyplot as plt\n",
    "from plotSlices import plotSliceField\n",
    "from tools import calcDen0 #,read_par, calcNozzleCoords\n",
    "from particles.particle_filters import *\n",
    "\n",
    "#def _jetmomentum_z(field, data):\n",
    "#    return data['gas', 'density'] * data['gas', 'velocity_z'] * data['flash', 'jet ']\n",
    "\n",
    "#yt.add_field( 'jetmomentum_z', function=_jetmomentum_z, units='g/cm**2/s', take_log=False)\n"
   ]
  },
  {
   "cell_type": "code",
   "execution_count": null,
   "metadata": {},
   "outputs": [],
   "source": [
    "#dir = '/home/ychen/data/0only_1204_M24_b01'\n",
    "#dir = '/home/ychen/data/0only_1022_h1_10Myr'\n",
    "#dir ='/home/ychen/d9/FLASH4/stampede/0314_L45_M10_b1_h1_nojiggle/'\n",
    "#dir ='/home/ychen/data/0only_1106_M3_h1/'\n",
    "#dir ='/home/ychen/d9/FLASH4/2015_production_runs/1022_L45_M10_b1_h1_10Myr/'\n",
    "#dir ='/home/ychen/d9/FLASH4/Gravity_test/0627_tree_gravity/'\n",
    "dir = '/home/ychen/data/0only_0529_h1/data/'\n",
    "#dir = '/d/d5/ychen/2015_production_runs/1022_h1_10Myr/data'\n",
    "#dir = '/home/ychen/Mount/engels2/data/1212_L45_M10_b1_h0_10Myr/'\n",
    "fields_grid = ['density', 'velocity_z']\n",
    "\n",
    "def rescan(printlist=False):\n",
    "    files = util.scan_files(dir, '*hdf5_chk_[0-9][0-9][0-9][0-9]', printlist=printlist, walk=True)\n",
    "    return files\n",
    "\n",
    "files = rescan(True)\n",
    "#for f in ds.derived_field_list:\n",
    "#for f in ds.field_list:\n",
    "#    print f\n",
    "ds = yt.load(files[0].fullpath)\n",
    "#ds.index"
   ]
  },
  {
   "cell_type": "code",
   "execution_count": null,
   "metadata": {},
   "outputs": [],
   "source": [
    "#ds.derived_field_list\n",
    "box = ds.box(ds.domain_left_edge/16, ds.domain_right_edge/16)\n",
    "plot = yt.SlicePlot(ds, 'x', fields=['current_density_z'], data_source=box).zoom(16)\n",
    "plot.show()"
   ]
  },
  {
   "cell_type": "code",
   "execution_count": null,
   "metadata": {},
   "outputs": [],
   "source": [
    "ds.derived_field_list"
   ]
  },
  {
   "cell_type": "code",
   "execution_count": null,
   "metadata": {},
   "outputs": [],
   "source": [
    "plot.show()"
   ]
  },
  {
   "cell_type": "code",
   "execution_count": null,
   "metadata": {},
   "outputs": [],
   "source": [
    "for f in files[-40:-39]:\n",
    "    ds = yt.load(f.fullpath)\n",
    "    plot = yt.SlicePlot(ds, 'x', fields=['mach_number'], width=(20, 'kpc'))\n",
    "    plot.set_zlim('mach_number', 2, 10)\n",
    "    plot.set_log('mach_number', False)\n",
    "    plot.show()"
   ]
  },
  {
   "cell_type": "code",
   "execution_count": null,
   "metadata": {},
   "outputs": [],
   "source": [
    "plot.annotate_grids()"
   ]
  },
  {
   "cell_type": "code",
   "execution_count": null,
   "metadata": {},
   "outputs": [],
   "source": [
    "ds.periodicity = (True, True, True)\n",
    "ad = ds.all_data()\n",
    "ptype = 'io'\n",
    "ds.add_particle_filter(ptype)\n",
    "xfield = (ptype, 'particle_position_y')\n",
    "yfield = (ptype, 'particle_position_z')\n",
    "cfield = (ptype, 'particle_type')\n",
    "plot = yt.ParticlePhasePlot(ad, xfield, yfield, cfield)\n",
    "plot.show()\n"
   ]
  },
  {
   "cell_type": "code",
   "execution_count": null,
   "metadata": {},
   "outputs": [],
   "source": [
    "plot.zoom(16)\n",
    "plot.show()"
   ]
  },
  {
   "cell_type": "code",
   "execution_count": null,
   "metadata": {},
   "outputs": [],
   "source": [
    "ds1 = yt.load(files[3].fullpath)\n",
    "ds2 = yt.load(files[-2].fullpath)\n",
    "for key in ds1.parameters.iterkeys():\n",
    "    if ds1.parameters[key] != ds2.parameters[key]:\n",
    "        print '%20s %10.3e %10.3e' % (key, ds1.parameters[key], ds2.parameters[key])\n",
    "        #print key, ds1.parameters[key], ds2.parameters[key]\n",
    "#key = 'nozzlevecy'"
   ]
  },
  {
   "cell_type": "code",
   "execution_count": null,
   "metadata": {},
   "outputs": [],
   "source": [
    "ds = yt.load(files[-1].fullpath)\n",
    "\n",
    "#box = ds.box(ds.domain_left_edge, ds.domain_right_edge)\n",
    "#total_mass = sum(box['cell_mass'])\n",
    "box = ds.box(ds.domain_left_edge/16, ds.domain_right_edge/16)\n",
    "#total_mass_8 = sum(box['cell_mass'])\n",
    "\n",
    "nbin = 40\n",
    "vlim = (0,4.0E9)\n",
    "null = plt.hist(box['velocity_magnitude'], bins=nbin, range=vlim, label='Bulk Velocity', alpha=0.3)\n",
    "#null = plt.hist(np.abs(box['velocity_z']), bins=nbin, range=vlim, label='|Z Velocity|', alpha=0.3)\n",
    "null = plt.hist(box['alfven_speed'], bins=nbin, range=vlim, label='Alfven Speed', alpha=0.5)\n",
    "#null = plt.hist(box['sound_speed'], bins=nbin, range=vlim, label='Sound Speed', alpha=0.5)\n",
    "plt.ylim(0, 5E5)\n",
    "plt.legend()"
   ]
  },
  {
   "cell_type": "code",
   "execution_count": null,
   "metadata": {},
   "outputs": [],
   "source": [
    "print max(box['sound_speed'])\n",
    "print max(box['alfven_speed'])\n",
    "print max(box['velocity_magnitude'])"
   ]
  },
  {
   "cell_type": "code",
   "execution_count": null,
   "metadata": {},
   "outputs": [],
   "source": [
    "field = 'dens'\n",
    "proj_axis = 'z'\n",
    "center = (0,0,0)\n",
    "ds = yt.load(files[6].fullpath)\n",
    "print ds\n",
    "ad = ds.all_data()\n",
    "neg_partdens = ad['particle_dens'] < 0\n",
    "xx = ad['particle_posx'][neg_partdens]\n",
    "yy = ad['particle_posy'][neg_partdens]\n",
    "zz = ad['particle_posz'][neg_partdens]\n",
    "\n",
    "for x,y,z in zip(xx,yy,zz):\n",
    "    center = (x,y,z)\n",
    "    print center\n",
    "    plot=yt.SlicePlot(ds, proj_axis, field, center=center, origin='center-domain',\\\n",
    "                              width=((10,'kpc'), (10,'kpc')))\n",
    "    plot.annotate_marker(center, marker='o', plot_args={'color':'None', 'edgecolor':'white', 's':50, 'lw':1})\n",
    "    plot.show()\n",
    "\n",
    "#plot.set_log(field, False)\n",
    "#plot.set_zlim(field, -4E9, 4E9)\n",
    "#plot.set_zlim(field, 1E-12, 5E-9)\n",
    "#plot.set_cmap(field, 'seismic')\n",
    "#plot.show()"
   ]
  },
  {
   "cell_type": "code",
   "execution_count": null,
   "metadata": {},
   "outputs": [],
   "source": [
    "proj_axis = 'x'\n",
    "ptype = 'jetp'\n",
    "fields = ['magnetic_field_strength']\n",
    "#center=([0.,2.,25.],'kpc')\n",
    "center=(0.0,0.0,0.0)\n",
    "LeftEdge = yt.YTArray([-80, -80, -160], 'kpc')\n",
    "RightEdge = yt.YTArray([80, 80, 160], 'kpc')\n",
    "#if False:\n",
    "for file in files[-1:]:\n",
    "    ds = yt.load(file.fullpath)\n",
    "    ds.add_particle_filter(ptype)\n",
    "    ds.periodicity = (True, True, True)\n",
    "    #data = ds.box(LeftEdge, RightEdge)\n",
    "    #data = ds.all_data()\n",
    "    #nozzleCoords = calcNozzleCoords(pars, ds.current_time.value, proj_axis=proj_axis)\n",
    "    for field in fields:\n",
    "        if field in ['particle_gamc']:\n",
    "            xfield = (ptype, 'particle_position_y')\n",
    "            yfield = (ptype, 'particle_position_z')\n",
    "            cfield = (ptype, 'particle_gamc')\n",
    "            plot = yt.ParticlePlot(ds, xfield, yfield, cfield)#, width=((40,'kpc'),(80,'kpc')))\n",
    "            plot.set_zlim(cfield, 1E2, 1E5)\n",
    "            plot.set_cmap(cfield, 'algae')\n",
    "        else:\n",
    "            #plot=yt.SlicePlot(ds, proj_axis, field, center=center, width=((30,'kpc'),(50,'kpc')), origin='center-domain')\n",
    "            plot=yt.SlicePlot(ds, proj_axis, field, center=center, origin='center-domain')#,\\\n",
    "                              #width=((40,'kpc'), (80,'kpc')))\n",
    "        if field in ['magnetic_field_x', 'velocity_z']:\n",
    "            plot.set_log(field, False)\n",
    "            plot.set_cmap(field, 'seismic')\n",
    "        if field in ['magnetic_field_x', 'magnetic_field_z']:    \n",
    "            plot.set_zlim(field, -5E-5, 5E-5)\n",
    "        if field == 'shok':\n",
    "            plot.set_log('shok', False)\n",
    "            plot.set_zlim('shok', 0, 1)\n",
    "            plot.set_cmap('shok', 'gist_heat_r')\n",
    "        if field == 'jet ':\n",
    "            plot.set_log('jet ', True)\n",
    "            plot.set_zlim('jet ', 1E-10, 1.0)\n",
    "            plot.set_cmap('jet ', 'gist_heat')\n",
    "        #else:\n",
    "        #    plot.set_cmap(field, 'algae')\n",
    "        plot.zoom(4)\n",
    "        plot.set_figure_size(6)\n",
    "        #plot.annotate_grids()\n",
    "        #plot.set_cmap('density', 'gist_heat_r')\n",
    "        #plot.set_log(field, False)\n",
    "        #plot.set_zlim('velocity_z', -3E9, 3E9)\n",
    "        plot.annotate_timestamp(0.05, 0.95, time_format=\"{time:6.3f} {units}\", time_unit='Myr', text_args={'color':'k'})\n",
    "        #plot.annotate_line_integral_convolution('magnetic_field_y', 'magnetic_field_z', \\\n",
    "        #                                        lim=(0.4,0.65), cmap='binary', alpha=0.8)#, const_alpha=True)\n",
    "        plot.set_zlim('magnetic_field_strength', 1E-6, 1E-5)\n",
    "        #plot.set_zlim('magnetic_pressure', 2.5e-14, 2.5e-11)\n",
    "        #plot.set_zlim('pressure', 1.0e-12, 2e-9)\n",
    "        #plot.set_zlim('density', 1.0e-28, 1e-25)\n",
    "        #plot.show()\n",
    "        #slab_width=3E21\n",
    "        #plot.annotate_particles(slab_width, col=ad['all', 'particle_gamc'], alpha=0.5)\n",
    "        \n",
    "        \n",
    "        #plot=plotSliceField(ds, proj_axis=proj_axis, field=field, center=center, zoom_fac=2,\\\n",
    "        #               plotgrid=True,plotvelocity=False,\\\n",
    "        #               savepath=None,\\\n",
    "        #               show=False)\n",
    "        #plot.annotate_quiver('velocity_y', 'velocity_z', 30, scale=1E10)\n",
    "        #plot.annotate_velocity(15, scale=1E10)\n",
    "        #plot.set_log(field, False)\n",
    "        \n",
    "        #plot.zoom(8)\n",
    "        #plot.set_buff_size((2,4))\n",
    "        plot.show()"
   ]
  },
  {
   "cell_type": "code",
   "execution_count": null,
   "metadata": {},
   "outputs": [],
   "source": [
    "plot.set_zlim(field, 1E-6, 1E-4)\n",
    "plot.set_cmap(field, 'arbre')\n"
   ]
  },
  {
   "cell_type": "code",
   "execution_count": null,
   "metadata": {},
   "outputs": [],
   "source": [
    "width = ds.domain_width[1:]/4\n",
    "print(width.v)\n",
    "fitsslice = yt.FITSSlice(ds, proj_axis, field, center=center, width=width.v, image_res=(1024,2048))\n",
    "fitsslice.writeto('magnetic_field_strength_1380.fits', clobber=True)"
   ]
  },
  {
   "cell_type": "code",
   "execution_count": null,
   "metadata": {},
   "outputs": [],
   "source": [
    "from yt_synchrotron_emissivity import *\n",
    "nu = (150, 'MHz')\n",
    "norm = yt.YTQuantity(*nu).in_units('GHz').value**0.5\n",
    "print add_synchrotron_pol_emissivity(ds, ptype=ptype, nu=nu, proj_axis=proj_axis)\n",
    "pol = 'i'\n",
    "field = ('deposit', ('nn_emissivity_%s_%s_%%.1f%%s' % (pol, ptype)) % nu)\n",
    "plot = yt.SlicePlot(ds, proj_axis, field, center=[0,0,0], width=((40,'kpc'),(80,'kpc')))\n",
    "plot.annotate_grids(alpha=0.1)\n",
    "plot.set_zlim(field,1E-30,1E-22)\n",
    "plot.set_figure_size(6)\n",
    "plot.show()"
   ]
  },
  {
   "cell_type": "code",
   "execution_count": null,
   "metadata": {},
   "outputs": [],
   "source": [
    "proj = yt.ProjectionPlot(ds, proj_axis, field, center=[0,0,0], width=((40,'kpc'),(80,'kpc')))\n",
    "cmap = plt.cm.hot\n",
    "cmap.set_bad('k')\n",
    "proj.set_cmap(field, cmap)\n",
    "proj.set_figure_size(6)\n",
    "proj.set_zlim(field, 1E-3/norm, 1E1/norm)\n",
    "proj.annotate_timestamp(corner='upper_left', time_format=\"{time:6.3f} {units}\", time_unit='Myr')\n",
    "proj.show()"
   ]
  },
  {
   "cell_type": "code",
   "execution_count": null,
   "metadata": {},
   "outputs": [],
   "source": [
    "proj.save('MHD_Jet_hdf5_plt_cnt_0640_Projection_x_nn_emissivity_i_lobe_150MHz.pdf')"
   ]
  },
  {
   "cell_type": "code",
   "execution_count": null,
   "metadata": {
    "scrolled": false
   },
   "outputs": [],
   "source": [
    "ad = ds.all_data()\n",
    "filter = ad['index', 'z'] > 0\n",
    "mass_weighted_z = sum(ad['flash', 'jet '][filter]*ad['cell_mass'][filter]*ad['index', 'z'][filter])\\\n",
    "                  /sum(ad['flash', 'jet '][filter]*ad['cell_mass'][filter])\n",
    "print mass_weighted_z"
   ]
  },
  {
   "cell_type": "code",
   "execution_count": null,
   "metadata": {},
   "outputs": [],
   "source": [
    "ds = yt.load(files[20].fullpath)\n",
    "ad = ds.all_data()\n",
    "tag = ad['all', 'particle_tag']\n",
    "filter = np.logical_and((tag % 20 == 0), (ad['all', 'particle_shok']==0))\n",
    "y = ad['all', 'particle_position_y'][filter]/3.08567758E21\n",
    "z = ad['all', 'particle_position_z'][filter]/3.08567758E21\n",
    "gamc = np.log10(np.abs(ad['all', 'particle_gamc'][filter]))\n",
    "#plt.hist(tag, bins=140)\n",
    "#plt.scatter(ad['all', 'particle_tadd'], ad['all', 'particle_tag'], s=1,linewidth=0)\n",
    "fig=plt.figure(figsize=(5,8))\n",
    "ax=fig.add_subplot(111)\n",
    "ax.set_xlim(-30,30)\n",
    "ax.set_ylim(-60,60)\n",
    "ax.annotate('%6.3f Myr' % (float(ds.current_time)/3.15569E13),\\\n",
    "            (1,0), xytext=(0.05, 0.96),  textcoords='axes fraction',\\\n",
    "            horizontalalignment='left', verticalalignment='center')\n",
    "sc=ax.scatter(y,z,s=1,c=gamc,linewidth=0,cmap='algae',vmin=2,vmax=5,alpha=0.8)\n",
    "cb=plt.colorbar(sc)\n",
    "cb.set_label(u'log $\\gamma_c$')\n",
    "cb.set_ticks([2,3,4,5])\n",
    "cb.set_ticklabels\n",
    "plt.show()"
   ]
  },
  {
   "cell_type": "code",
   "execution_count": null,
   "metadata": {},
   "outputs": [],
   "source": [
    "p = plot.plots['gas', 'density']\n",
    "print p.image._A.shape\n"
   ]
  },
  {
   "cell_type": "code",
   "execution_count": null,
   "metadata": {
    "collapsed": false
   },
   "outputs": [],
   "source": [
    "#fields = ['dens', 'pres', 'temp', 'magp', 'magx', 'magy', 'magz', 'velx', 'vely', 'velz', 'jet ']\n",
    "#fields = ['density', 'pressure', 'temperature', 'velocity_y', 'velocity_z', 'jet ', 'magnetic_field_x', \\\n",
    "#          'magnetic_field_y', 'magnetic_field_z', 'magnetic_pressure']\n",
    "#fields = ['magnetic_field_x', 'magnetic_field_y', 'magnetic_field_z']\n",
    "#fields = ['magx', 'magy', 'magz', 'magp']\n",
    "#fields = ['magy']\n",
    "#fields = ['pres', 'temp']\n",
    "#fields = ['pressure']\n",
    "fields = ['density']\n",
    "#fields = ['velocity_y']\n",
    "\n",
    "def plotfile(file):\n",
    "    try:\n",
    "        ds = yt.load(file.fullpath)\n",
    "        print \"Plotting %s\" % file.fullpath\n",
    "        plotSlices(ds, zoom_fac=1, center=\"c\", fields=fields, proj_axes=['x'], drawnozzle=True,\\\n",
    "                   plotgrid=fields_grid, savepath=os.path.join(dir, 'figures'))\n",
    "    except KeyboardInterrupt:\n",
    "        print 'KeyboardInterrupt catched...'\n",
    "        raise Exception\n",
    "\n",
    "nProcessor = multiprocessing.cpu_count()\n",
    "pool = multiprocessing.Pool(nProcessor-2)\n",
    "print nProcessor\n",
    "\n",
    "files = rescan()\n",
    "\n",
    "pool.map(plotfile, files[:])\n",
    "#for f in files[-1:]:\n",
    "#    plotSlices(f)\n",
    "\n",
    "pool.close()\n",
    "pool.join()"
   ]
  },
  {
   "cell_type": "code",
   "execution_count": null,
   "metadata": {},
   "outputs": [],
   "source": [
    "from mpl_toolkits.axes_grid1 import AxesGrid\n",
    "\n",
    "fn = files[20].fullpath\n",
    "ds = yt.load(fn) # load data\n",
    "\n",
    "fig = plt.figure(figsize=(20,15))\n",
    "\n",
    "# See http://matplotlib.org/mpl_toolkits/axes_grid/api/axes_grid_api.html\n",
    "# These choices of keyword arguments produce two colorbars, both drawn on the\n",
    "# right hand side.  This means there are only two colorbar axes, one for Density\n",
    "# and another for temperature.  In addition, axes labels will be drawn for all\n",
    "# plots.\n",
    "grid = AxesGrid(fig, (0.075,0.075,0.85,0.85),\n",
    "                nrows_ncols = (2, 1),\n",
    "                axes_pad = 0.0,\n",
    "                label_mode = \"L\",\n",
    "                share_all = True,\n",
    "                cbar_location=\"right\",\n",
    "                cbar_mode=\"edge\",\n",
    "                cbar_size=\"5%\",\n",
    "                cbar_pad=\"0%\")\n",
    "\n",
    "fields = ['density', 'temperature']\n",
    "centers = [(0.0,0.0,20*3.086E21), (0.0,0.0,-20*3.086E21)]\n",
    "for i, (field, center) in enumerate(zip(fields, centers)):\n",
    "    # Load the data and create a single plot\n",
    "    p = yt.SlicePlot(ds, 'x', field, center=center, width=(60*3.086E21, 40*3.086E21))#, origin='native')\n",
    "    p.set_cmap(field, 'algae')\n",
    "    #p.set_origin('native')\n",
    "\n",
    "    # This forces the ProjectionPlot to redraw itself on the AxesGrid axes.\n",
    "    plot = p.plots[field]\n",
    "    plot.figure = fig\n",
    "    plot.axes = grid[i].axes\n",
    "\n",
    "\n",
    "    # Since there are only two colorbar axes, we need to make sure we don't try\n",
    "    # to set the temperature colorbar to cbar_axes[4], which would if we used i\n",
    "    # to index cbar_axes, yielding a plot without a temperature colorbar.\n",
    "    # This unecessarily redraws the Density colorbar three times, but that has\n",
    "    # no effect on the final plot.\n",
    "    if field == 'density':\n",
    "        plot.cax = grid.cbar_axes[0]\n",
    "    elif field == 'temperature':\n",
    "        plot.cax = grid.cbar_axes[1]\n",
    "\n",
    "    # Finally, redraw the plot.\n",
    "    p._setup_plots()\n",
    "\n",
    "plt.show()"
   ]
  },
  {
   "cell_type": "code",
   "execution_count": null,
   "metadata": {
    "collapsed": false
   },
   "outputs": [],
   "source": []
  }
 ],
 "metadata": {
  "kernelspec": {
   "display_name": "Python 3",
   "language": "python",
   "name": "python3"
  },
  "language_info": {
   "codemirror_mode": {
    "name": "ipython",
    "version": 3
   },
   "file_extension": ".py",
   "mimetype": "text/x-python",
   "name": "python",
   "nbconvert_exporter": "python",
   "pygments_lexer": "ipython3",
   "version": "3.6.1"
  }
 },
 "nbformat": 4,
 "nbformat_minor": 1
}
