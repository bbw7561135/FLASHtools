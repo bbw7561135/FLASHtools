{
 "cells": [
  {
   "cell_type": "code",
   "execution_count": null,
   "metadata": {
    "collapsed": false
   },
   "outputs": [],
   "source": [
    "import os\n",
    "import sys\n",
    "import matplotlib\n",
    "matplotlib.rcParams['savefig.dpi'] = 100\n",
    "\n",
    "from tempfile import NamedTemporaryFile\n",
    "import matplotlib.pyplot as plt\n",
    "from matplotlib import animation\n",
    "from IPython.display import display, HTML\n",
    "import numpy as np\n",
    "import base64\n",
    "\n",
    "IMG_TAG = \"\"\"<img src=\"data:image/gif;base64,{0}\" alt=\"some_text\">\"\"\"\n",
    " \n",
    "def anim_to_gif(anim):\n",
    "    data=\"0\"\n",
    "    with NamedTemporaryFile(suffix='.gif') as f:\n",
    "        anim.save(f.name, writer='imagemagick', fps=10);\n",
    "        print(f.name)\n",
    "        data = open(f.name, \"rb\").read()\n",
    "        #print(data)\n",
    "        data = base64.b64encode(data).decode()\n",
    "        #print(data)\n",
    "    return IMG_TAG.format(data)\n",
    " \n",
    "def display_animation(anim):\n",
    "    plt.close(anim._fig)\n",
    "    return display(HTML(anim_to_gif(anim)))"
   ]
  },
  {
   "cell_type": "code",
   "execution_count": null,
   "metadata": {},
   "outputs": [],
   "source": [
    "dirname='/d/d9/ychen/2018_production_runs/20180802_L438_rc10_beta07/'\n",
    "simtitle = dirname.split('/')[-1]\n",
    "nozzledata = np.genfromtxt(os.path.join(dirname, 'nozzleVec.dat'))\n",
    "print(nozzledata.shape)\n",
    "nstep = nozzledata[:,0]\n",
    "ttnoz = nozzledata[:,1]\n",
    "xx = nozzledata[:,2]\n",
    "yy = nozzledata[:,3]\n",
    "zz = nozzledata[:,4]\n",
    "thetas = np.arccos(zz)/np.pi*180\n",
    "phis = np.arctan2(yy, xx)"
   ]
  },
  {
   "cell_type": "code",
   "execution_count": null,
   "metadata": {},
   "outputs": [],
   "source": [
    "endstep = 150000\n",
    "dstep = 1000\n",
    "\n",
    "# Create new Figure and an Axes which fills it.\n",
    "fig = plt.figure(figsize=(6,6))\n",
    "ax = plt.subplot(111, polar=True)\n",
    "\n",
    "line, = ax.plot(phis[:endstep], thetas[:endstep], alpha=0.6)\n",
    "ax.set_title(simtitle,loc='left')\n",
    "ax.set_rlim(0,12)\n",
    "\n",
    "\n",
    "\n",
    "\n",
    "def update(step):\n",
    "    sys.stdout.write('\\r step: %6i / %6i' % (step, endstep))\n",
    "    line.set_xdata(phis[:step])\n",
    "    line.set_ydata(thetas[:step])\n",
    "    time_prv = ttnoz[step-dstep]/3.15569E13\n",
    "    time = ttnoz[step]/3.15569E13\n",
    "    tmyr = int(time)\n",
    "    if time_prv < tmyr and time > tmyr:\n",
    "        arg = np.argmin(abs(ttnoz-tmyr*3.15569E13))\n",
    "        ax.scatter(phis[arg], thetas[arg], marker='x', color='r', s=4)\n",
    "        ax.annotate('%i Myr' % tmyr, xy=(phis[arg], thetas[arg]), size=6, bbox=dict(facecolor='w', lw=0, alpha=0.6))\n",
    "   \n",
    "    \n",
    "ani = animation.FuncAnimation(fig, update, frames=range(0, endstep, dstep), interval=10)\n",
    "\n",
    "display_animation(ani)"
   ]
  },
  {
   "cell_type": "code",
   "execution_count": null,
   "metadata": {
    "collapsed": false
   },
   "outputs": [],
   "source": []
  }
 ],
 "metadata": {
  "kernelspec": {
   "display_name": "Python 3",
   "language": "python",
   "name": "python3"
  },
  "language_info": {
   "codemirror_mode": {
    "name": "ipython",
    "version": 3
   },
   "file_extension": ".py",
   "mimetype": "text/x-python",
   "name": "python",
   "nbconvert_exporter": "python",
   "pygments_lexer": "ipython3",
   "version": "3.6.1"
  }
 },
 "nbformat": 4,
 "nbformat_minor": 1
}
