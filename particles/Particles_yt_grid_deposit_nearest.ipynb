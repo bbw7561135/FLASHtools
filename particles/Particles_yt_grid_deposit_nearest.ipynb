{
 "cells": [
  {
   "cell_type": "code",
   "execution_count": null,
   "metadata": {
    "collapsed": false
   },
   "outputs": [],
   "source": [
    "import numpy as np\n",
    "import util\n",
    "import matplotlib\n",
    "matplotlib.rcParams['savefig.dpi'] = 150\n",
    "import matplotlib.pyplot as plt\n",
    "import yt\n",
    "import logging\n",
    "logging.getLogger('yt').setLevel(logging.WARNING)\n",
    "from yt.utilities.logger import ytLogger as mylog\n",
    "print yt.__version__\n"
   ]
  },
  {
   "cell_type": "code",
   "execution_count": null,
   "metadata": {
    "collapsed": false
   },
   "outputs": [],
   "source": [
    "from particle_filters import *\n",
    "\n",
    "def setup_part_file(ds):\n",
    "    filename = os.path.join(ds.directory,ds.basename)\n",
    "    ds._particle_handle = HDF5FileHandler(filename.replace('plt_cnt', 'part')+'_updated')\n",
    "    ds.particle_filename = filename.replace('plt_cnt', 'part')+'_updated'\n",
    "    mylog.info('Changed particle files to:' + ds.particle_filename)\n",
    "\n",
    "fname = '/home/ychen/d9/FLASH4/2015_production_runs/0529_L45_M10_b1_h1/MHD_Jet_hdf5_plt_cnt_0620'\n",
    "ds = yt.load(fname, particle_filename=fname.replace('plt_cnt', 'part'))\n",
    "\n",
    "ptype = 'lobe'\n",
    "ds.add_particle_filter(ptype)\n",
    "\n",
    "#ad = ds.all_data()\n"
   ]
  },
  {
   "cell_type": "code",
   "execution_count": null,
   "metadata": {
    "collapsed": false
   },
   "outputs": [],
   "source": [
    "deposited_field = ds.add_deposited_particle_field((ptype, 'particle_dens'), \\\n",
    "                                                  method='nearest', extend_cells=1)"
   ]
  },
  {
   "cell_type": "code",
   "execution_count": null,
   "metadata": {
    "collapsed": false
   },
   "outputs": [],
   "source": [
    "print grid.LeftEdge\n",
    "print ds.domain_left_edge\n",
    "print np.maximum(grid.LeftEdge, ds.domain_left_edge)"
   ]
  },
  {
   "cell_type": "code",
   "execution_count": null,
   "metadata": {
    "collapsed": false
   },
   "outputs": [],
   "source": [
    "n = 2\n",
    "grid = ds.index.grids[1000]\n",
    "level = grid.Level\n",
    "print \n",
    "LeftEdge = grid.LeftEdge - grid.dds*n\n",
    "print LeftEdge\n",
    "dims = grid.ActiveDimensions + np.array([n,n,n])*2\n",
    "print dims\n"
   ]
  },
  {
   "cell_type": "code",
   "execution_count": null,
   "metadata": {
    "collapsed": false
   },
   "outputs": [],
   "source": [
    "plot = yt.SlicePlot(ds, 'x', deposited_field, center=(0,0,0))\n",
    "plot.zoom(16)\n",
    "plot.annotate_clear()\n",
    "plot.annotate_grids(linewidth=0.5, alpha=0.3, edgecolors='white')\n",
    "plot.set_cmap(deposited_field, 'algae')\n",
    "plot.set_zlim(deposited_field, 1E-28, 1E-26)\n",
    "plot.annotate_particles(width=(0.25, 'kpc'), ptype='lobe')\n",
    "ds.add_particle_filter('fast')\n",
    "plot.annotate_particles(width=(0.25, 'kpc'), ptype='fast', col='b')\n",
    "plot.show()"
   ]
  },
  {
   "cell_type": "code",
   "execution_count": null,
   "metadata": {
    "collapsed": false
   },
   "outputs": [],
   "source": [
    "plot.annotate_clear()\n",
    "plot.annotate_grids(linewidth=0.5, alpha=0.3, edgecolors='white')\n",
    "plot.annotate_particles(width=(0.25, 'kpc'), ptype='lobe')\n",
    "ds.add_particle_filter('fast')\n",
    "plot.annotate_particles(width=(0.25, 'kpc'), ptype='fast', col='b')\n",
    "plot.show()"
   ]
  },
  {
   "cell_type": "code",
   "execution_count": null,
   "metadata": {
    "collapsed": false
   },
   "outputs": [],
   "source": [
    "plot.annotate_clear()\n",
    "plot.annotate_grids(linewidth=0.5, alpha=0.3, edgecolors='white')\n",
    "plot.annotate_particles(width=(0.25, 'kpc'), ptype='lobe')\n",
    "ds.add_particle_filter('fast')\n",
    "plot.annotate_particles(width=(0.25, 'kpc'), ptype='fast', col='b')\n",
    "plot.show()"
   ]
  },
  {
   "cell_type": "code",
   "execution_count": null,
   "metadata": {
    "collapsed": false
   },
   "outputs": [],
   "source": [
    "plot = yt.SlicePlot(ds, 'x', deposited_field, center=(0,0,0))\n",
    "plot.zoom(16)\n",
    "plot.annotate_clear()\n",
    "plot.annotate_grids(linewidth=0.5, alpha=0.3, edgecolors='white')\n",
    "plot.set_cmap(deposited_field, 'algae')\n",
    "plot.set_zlim(deposited_field, 1E-28, 1E-26)\n",
    "plot.set_log(deposited_field, True)"
   ]
  },
  {
   "cell_type": "code",
   "execution_count": null,
   "metadata": {
    "collapsed": false
   },
   "outputs": [],
   "source": [
    "plot.annotate_clear()\n",
    "plot.annotate_grids(linewidth=0.5, alpha=0.3, edgecolors='white')\n",
    "plot.annotate_particles(width=(0.25, 'kpc'), ptype='fast', )\n",
    "plot.show()"
   ]
  },
  {
   "cell_type": "code",
   "execution_count": null,
   "metadata": {
    "collapsed": false
   },
   "outputs": [],
   "source": [
    "plot = yt.SlicePlot(ds, 'x', 'density', center=(0,0,0))\n",
    "plot.zoom(16)\n",
    "plot.annotate_clear()\n",
    "plot.annotate_grids(linewidth=0.5, alpha=0.3, edgecolors='white')\n",
    "plot.set_cmap('density', 'algae')\n",
    "plot.set_zlim('density', 1E-28, 1E-26)\n",
    "plot.show()"
   ]
  },
  {
   "cell_type": "code",
   "execution_count": null,
   "metadata": {
    "collapsed": false
   },
   "outputs": [],
   "source": [
    "deposited_field = ds.add_deposited_particle_field(('jetp', 'particle_dens'), \\\n",
    "                                                  method='cic',\\\n",
    "                                                 weight_field='particle_one')"
   ]
  },
  {
   "cell_type": "code",
   "execution_count": null,
   "metadata": {
    "collapsed": false
   },
   "outputs": [],
   "source": [
    "plot = yt.SlicePlot(ds, 'x', deposited_field, center=(0,0,0))\n",
    "plot.zoom(16)\n",
    "plot.annotate_clear()\n",
    "plot.annotate_grids(linewidth=0.5, alpha=0.3, edgecolors='white')\n",
    "plot.set_cmap(deposited_field, 'algae')\n",
    "plot.set_zlim(deposited_field, 1E-28, 1E-26)\n",
    "plot.set_log(deposited_field, True)\n",
    "#plot.annotate_particles(width=(0.5, 'kpc'), ptype='jetp')\n",
    "plot.show()"
   ]
  },
  {
   "cell_type": "code",
   "execution_count": null,
   "metadata": {
    "collapsed": false
   },
   "outputs": [],
   "source": [
    "g = ds.index.grids[5000].Parent.Parent"
   ]
  },
  {
   "cell_type": "code",
   "execution_count": null,
   "metadata": {
    "collapsed": false
   },
   "outputs": [],
   "source": [
    "from yt_synchrotron_emissivity import *\n",
    "from yt.utilities.file_handler import HDF5FileHandler\n",
    "\n",
    "filename = ds.particle_filename\n",
    "ds._particle_handle = HDF5FileHandler(filename.replace('plt_cnt', 'part')+'_updated')\n",
    "ds.particle_filename = filename.replace('plt_cnt', 'part')+'_updated'\n",
    "\n",
    "print ds"
   ]
  },
  {
   "cell_type": "code",
   "execution_count": null,
   "metadata": {
    "collapsed": false
   },
   "outputs": [],
   "source": [
    "ds.field_list"
   ]
  },
  {
   "cell_type": "code",
   "execution_count": null,
   "metadata": {
    "collapsed": false
   },
   "outputs": [],
   "source": [
    "add_synchrotron_dtau_emissivity(ds, ptype='jetp', nu =(1400, 'MHz'), proj_axis='x')"
   ]
  },
  {
   "cell_type": "code",
   "execution_count": null,
   "metadata": {
    "collapsed": false
   },
   "outputs": [],
   "source": [
    "lobe = ds.known_filters['lobe']"
   ]
  },
  {
   "cell_type": "code",
   "execution_count": null,
   "metadata": {
    "collapsed": false
   },
   "outputs": [],
   "source": [
    "ds.derived_field_list"
   ]
  },
  {
   "cell_type": "code",
   "execution_count": null,
   "metadata": {
    "collapsed": false
   },
   "outputs": [],
   "source": [
    "g.RightEdge.in_units('kpc')"
   ]
  },
  {
   "cell_type": "code",
   "execution_count": null,
   "metadata": {
    "collapsed": false
   },
   "outputs": [],
   "source": []
  }
 ],
 "metadata": {
  "kernelspec": {
   "display_name": "Python 2",
   "language": "python",
   "name": "python2"
  },
  "language_info": {
   "codemirror_mode": {
    "name": "ipython",
    "version": 2
   },
   "file_extension": ".py",
   "mimetype": "text/x-python",
   "name": "python",
   "nbconvert_exporter": "python",
   "pygments_lexer": "ipython2",
   "version": "2.7.10"
  }
 },
 "nbformat": 4,
 "nbformat_minor": 0
}
