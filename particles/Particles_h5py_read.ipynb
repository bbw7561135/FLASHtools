{
 "cells": [
  {
   "cell_type": "code",
   "execution_count": null,
   "metadata": {
    "collapsed": false
   },
   "outputs": [],
   "source": [
    "%matplotlib inline\n",
    "import h5py\n",
    "import numpy as np\n",
    "import matplotlib.pyplot as plt\n",
    "dir = '/home/ychen/d9/FLASH4/2015_production_runs/0529_L45_M10_b1_h1/'\n",
    "f = h5py.File(dir+'MHD_Jet_hdf5_part_0600', 'r')"
   ]
  },
  {
   "cell_type": "code",
   "execution_count": null,
   "metadata": {
    "collapsed": false
   },
   "outputs": [],
   "source": [
    "f.values()\n",
    "val = f.values()[-2]"
   ]
  },
  {
   "cell_type": "code",
   "execution_count": null,
   "metadata": {},
   "outputs": [],
   "source": [
    "particles = []\n",
    "#colname = ['den0','dens','gamc','magx','magy','magz','tadd','tau','blk','posx','posy','posz','proc','tag','velx','vely','velz']\n",
    "colname = [item[0].strip() for item in f.values()[5]]\n",
    "print colname\n",
    "for value_particle in val.value:\n",
    "    particle = dict(zip(colname, value_particle))\n",
    "    particles.append(particle)\n",
    "particles.sort(key=lambda p:p['tag'])"
   ]
  },
  {
   "cell_type": "code",
   "execution_count": null,
   "metadata": {},
   "outputs": [],
   "source": [
    "fields = ['tag', 'proc', 'tadd', 'den0', 'dens', 'gamc', 'tau', 'posz']\n",
    "\n",
    "print ('%11s'*len(fields)) %  tuple(fields)\n",
    "for par in particles[-7600:-7590]:\n",
    "    B2 = par['magx']*par['magx'] + par['magy']*par['magy'] + par['magz']*par['magz']\n",
    "    strfmt = '%11.3e'*len(fields)\n",
    "    field_values = [par[field] for field in fields]\n",
    "    print strfmt % tuple(field_values)"
   ]
  },
  {
   "cell_type": "code",
   "execution_count": null,
   "metadata": {},
   "outputs": [],
   "source": [
    "f[\"particle names\"][:]"
   ]
  },
  {
   "cell_type": "code",
   "execution_count": null,
   "metadata": {
    "collapsed": false
   },
   "outputs": [],
   "source": [
    "import h5py\n",
    "dir = '/home/ychen/d9/FLASH4/2016_test/1028_metal_test/'\n",
    "f = h5py.File(dir+'MHD_Jet_hdf5_part_0001', 'r')"
   ]
  },
  {
   "cell_type": "code",
   "execution_count": null,
   "metadata": {},
   "outputs": [],
   "source": [
    "for key, values in f.items():\n",
    "    print(key, values)"
   ]
  },
  {
   "cell_type": "code",
   "execution_count": null,
   "metadata": {},
   "outputs": [],
   "source": [
    "print(f['particle names'].value)\n",
    "print(f['tracer particles'][:100,10])\n"
   ]
  },
  {
   "cell_type": "code",
   "execution_count": null,
   "metadata": {},
   "outputs": [],
   "source": [
    "ds = f.values()[6]\n",
    "id = 9193\n",
    "\n",
    "print 'coordinates = ', f.get('coordinates').value[id]\n",
    "print 'refine level = ', f.get('refine level').value[id]\n",
    "print 'which child = ', f.get('which child').value[id]\n",
    "print f.get('gid').value[id]\n",
    "print f.get('gsurr_blks').value[id][:,:,:,0]\n"
   ]
  },
  {
   "cell_type": "code",
   "execution_count": null,
   "metadata": {
    "collapsed": false
   },
   "outputs": [],
   "source": [
    "tags = np.array([p['tag'] for p in particles])\n",
    "tadds = np.array([p['tadd'] for p in particles])\n",
    "denss = np.array([p['dens'] for p in particles])\n",
    "den0s = np.array([p['den0'] for p in particles])\n",
    "\n",
    "newtags = np.array([p['tadd']+p['tag'] for p in particles])"
   ]
  },
  {
   "cell_type": "code",
   "execution_count": null,
   "metadata": {},
   "outputs": [],
   "source": [
    "mask = np.where(denss < 0)\n",
    "print np.count_nonzero(mask)\n",
    "plt.scatter(denss[mask], tadds[mask])\n",
    "plt.xlim(-1E-26,0)"
   ]
  },
  {
   "cell_type": "code",
   "execution_count": null,
   "metadata": {},
   "outputs": [],
   "source": [
    "print len(tags)\n",
    "print len(set(tags))\n",
    "print len(set(newtags))"
   ]
  },
  {
   "cell_type": "code",
   "execution_count": null,
   "metadata": {},
   "outputs": [],
   "source": [
    "plt.figure(figsize=(6,4))\n",
    "plt.scatter(tadds, tags, lw=0, s=1)"
   ]
  },
  {
   "cell_type": "code",
   "execution_count": null,
   "metadata": {},
   "outputs": [],
   "source": [
    "import util\n",
    "import pickle\n",
    "import h5py\n",
    "import numpy as np\n",
    "dir = '/home/ychen/d9/FLASH4/2015_production_runs/0529_L45_M10_b1_h1/'\n",
    "\n",
    "def rescan(printlist=False):\n",
    "    files = util.scan_files(dir, '*hdf5_part_[0-9][0-9][0-9][0-9]', printlist=printlist)\n",
    "    return files\n",
    "files = rescan(True)"
   ]
  },
  {
   "cell_type": "code",
   "execution_count": null,
   "metadata": {
    "collapsed": false
   },
   "outputs": [],
   "source": [
    "# Velocity threshold\n",
    "v_thres = 0.01*3E10\n",
    "\n",
    "# Particles that leave the jet\n",
    "particles_leave = {}\n",
    "\n",
    "for f in files[:]:\n",
    "    h5f = h5py.File(f.fullpath, 'r')\n",
    "    colname = [item[0].strip() for item in h5f['particle names']]\n",
    "    tag  = colname.index('tag')\n",
    "    tadd = colname.index('tadd')\n",
    "    dens = colname.index('dens')\n",
    "    tau  = colname.index('tau')\n",
    "    shok = colname.index('shok')\n",
    "    velx = colname.index('velx')\n",
    "    vely = colname.index('vely')\n",
    "    velz = colname.index('velz')\n",
    "    \n",
    "    \n",
    "    # Fields to be written in the output file\n",
    "    fields = [tadd, tag, dens, tau]\n",
    "    \n",
    "    val = h5f['tracer particles']\n",
    "    \n",
    "    # Go through the list of particles\n",
    "    for part in val.value:\n",
    "        vx = part[velx]\n",
    "        vy = part[vely]\n",
    "        vz = part[velz]\n",
    "        vel_magnitude = np.sqrt(vx*vx+vy*vy+vz*vz)\n",
    "        #if part[shok] > 0.01:\n",
    "        #    if part[shok] < 1.0:\n",
    "        #        print par[shok]\n",
    "        #    next\n",
    "        \n",
    "        # Record new particles that just leave the jet\n",
    "        if (part[tag], part[tadd]) not in particles_leave and vel_magnitude < v_thres:\n",
    "            particles_leave[(part[tag], part[tadd])] = [part[field] for field in fields]\n",
    "\n",
    "    # Collect particle values to a list of dictionaries\n",
    "    #particles = []\n",
    "    #for value_particle in val.value:\n",
    "    #    particle = dict(zip(colname, value_particle))\n",
    "    #    particles.append(particle)\n",
    "        \n",
    "    # Go through the list of particles\n",
    "    #for part in particles:\n",
    "    #    newtag = part['tadd']+part['tag']\n",
    "    #    if part['shok'] > 0.01:\n",
    "    #        if part['shok'] < 1.0: \n",
    "    #            print part['shok']\n",
    "    #        next\n",
    "        # Record new particles that just leave the jet\n",
    "    #    if newtag not in particles_leave and part['velz'] < v_thres:\n",
    "    #        particles_leave[newtag] = [part[field] for field in fields]\n",
    "    #print f, '%6i : %6i' % (len(particles), len(particles_leave))\n",
    "\n",
    "#particles_leave = np.array([[key[0] + key[1]] + value for key, value in particles_leave.iteritems()])\n",
    "pickle.dump(particles_leave, open('%s_particles_leave.pickle' % dir.split('/')[-2], 'wb'))"
   ]
  },
  {
   "cell_type": "code",
   "execution_count": null,
   "metadata": {},
   "outputs": [],
   "source": [
    "read = pickle.load(open('%s_particles_leave.pickle' % dir.split('/')[-2], 'r'))\n",
    "print read.shape"
   ]
  },
  {
   "cell_type": "code",
   "execution_count": null,
   "metadata": {},
   "outputs": [],
   "source": [
    "h5f = h5py.File(files[64].fullpath, 'r')\n",
    "val = h5f['tracer particles']\n",
    "vx = val.value[:,velx]\n",
    "vy = val.value[:,vely]\n",
    "vz = val.value[:,velz]\n",
    "vel_magnitude = np.sqrt(vx*vx+vy*vy+vz*vz)\n",
    "\n",
    "print val.value[vel_magnitude < v_thres].shape\n",
    "\n",
    "read = pickle.load(open('%s_particles_leave.pickle' % dir.split('/')[-2], 'r'))\n",
    "print read.shape"
   ]
  },
  {
   "cell_type": "code",
   "execution_count": null,
   "metadata": {},
   "outputs": [],
   "source": [
    "h5f = h5py.File(files[64].fullpath, 'r')\n",
    "val = h5f['tracer particles']\n",
    "print val.shape"
   ]
  },
  {
   "cell_type": "code",
   "execution_count": null,
   "metadata": {},
   "outputs": [],
   "source": [
    "for f in files[::10]:\n",
    "    print f\n",
    "    h5f = h5py.File(f.fullpath, 'r')\n",
    "    val = h5f['tracer particles']\n",
    "    newtagss = val.value[:,tag]+val.value[:,tadd]\n",
    "    ind = np.where(np.in1d(newtagss, read[:,0], invert=True))[0]\n",
    "    if ind.shape[0]>0:\n",
    "        print ind.shape\n",
    "    np.where(val.value[ind,velz] > v_thres)"
   ]
  },
  {
   "cell_type": "code",
   "execution_count": null,
   "metadata": {},
   "outputs": [],
   "source": [
    "ind = np.where(np.in1d(read[:,2], 12212.0))[0]\n",
    "read[ind,1]"
   ]
  },
  {
   "cell_type": "code",
   "execution_count": null,
   "metadata": {
    "collapsed": false
   },
   "outputs": [],
   "source": [
    "f = files[65]\n",
    "h5f = h5py.File(f.fullpath, 'r')\n",
    "colname = [item[0].strip() for item in h5f['particle names']]\n",
    "val = h5f['tracer particles']"
   ]
  },
  {
   "cell_type": "code",
   "execution_count": null,
   "metadata": {},
   "outputs": [],
   "source": [
    "val.value[np.where(np.in1d(val.value[:,tag], 31947.0))[0], tadd]"
   ]
  },
  {
   "cell_type": "code",
   "execution_count": null,
   "metadata": {},
   "outputs": [],
   "source": [
    "ind = np.where(np.in1d(read[:,2], 1878.0))[0]\n",
    "print ind\n",
    "print read[ind,1]"
   ]
  },
  {
   "cell_type": "code",
   "execution_count": null,
   "metadata": {},
   "outputs": [],
   "source": [
    "indices = np.where(np.logical_and(np.in1d(read[:,1], tadds), np.in1d(read[:,2], tags)))[0]\n",
    "indices.argsort\n",
    "print sorted(indices)\n",
    "print indices.shape"
   ]
  },
  {
   "cell_type": "code",
   "execution_count": null,
   "metadata": {},
   "outputs": [],
   "source": [
    "print newtags\n",
    "d = np.abs(read[:,0]-newtags[:,np.newaxis])\n",
    "\n",
    "indices = np.where(np.any(np.isclose(d, 0.0), axis=0))[0]\n",
    "#indices = np.where(np.isclose(read[:,0], 2.0))[0]\n",
    "print indices\n",
    "print indices.shape\n",
    "print read[indices,0]"
   ]
  },
  {
   "cell_type": "code",
   "execution_count": null,
   "metadata": {},
   "outputs": [],
   "source": [
    "aa = np.array([2,4,1,3])\n",
    "bb = np.array([1,3,4,2])\n",
    "for a in aa:\n",
    "    print np.where(bb==a)[0][0]"
   ]
  },
  {
   "cell_type": "code",
   "execution_count": null,
   "metadata": {},
   "outputs": [],
   "source": [
    "#newtag = read[-1,0]\n",
    "if newtag in read[:,0]:\n",
    "    indices = np.where(np.in1d(read[:,0], newtag))[0][0]\n",
    "    print indices\n",
    "else:\n",
    "    print 'nothing'"
   ]
  },
  {
   "cell_type": "code",
   "execution_count": null,
   "metadata": {},
   "outputs": [],
   "source": [
    "read[indices,:]"
   ]
  },
  {
   "cell_type": "code",
   "execution_count": null,
   "metadata": {
    "collapsed": false
   },
   "outputs": [],
   "source": [
    "den1 = read[indices,3]\n",
    "tau1 = read[indices,4]"
   ]
  },
  {
   "cell_type": "code",
   "execution_count": null,
   "metadata": {},
   "outputs": [],
   "source": [
    "tau1"
   ]
  },
  {
   "cell_type": "code",
   "execution_count": null,
   "metadata": {},
   "outputs": [],
   "source": [
    "l"
   ]
  },
  {
   "cell_type": "code",
   "execution_count": null,
   "metadata": {
    "collapsed": false
   },
   "outputs": [],
   "source": []
  }
 ],
 "metadata": {
  "kernelspec": {
   "display_name": "Python 3",
   "language": "python",
   "name": "python3"
  },
  "language_info": {
   "codemirror_mode": {
    "name": "ipython",
    "version": 3
   },
   "file_extension": ".py",
   "mimetype": "text/x-python",
   "name": "python",
   "nbconvert_exporter": "python",
   "pygments_lexer": "ipython3",
   "version": "3.6.1"
  }
 },
 "nbformat": 4,
 "nbformat_minor": 1
}
