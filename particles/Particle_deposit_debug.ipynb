{
 "cells": [
  {
   "cell_type": "code",
   "execution_count": null,
   "metadata": {},
   "outputs": [],
   "source": [
    "import yt\n",
    "from synchrotron.yt_synchrotron_emissivity import StokesFieldName, setup_part_file\n",
    "from particle_filters import *\n",
    "ptype = 'lobe'\n",
    "nu = (100, 'MHz')\n",
    "ds = yt.load('/d/d5/ychen/2015_production_runs/0529_h1_00/data/MHD_Jet_hdf5_plt_cnt_0600_synchrotron_peak_gamc_gc32')\n",
    "print(setup_part_file(ds))\n",
    "ds.add_particle_filter(ptype)\n",
    "stokes = StokesFieldName(ptype, nu, 'x', field_type='flash')\n",
    "#res = ds.domain_dimensions[1:]*ds.refine_by**ds.index.max_level//zoom_fac//2\n",
    "kpc = yt.units.kpc"
   ]
  },
  {
   "cell_type": "code",
   "execution_count": null,
   "metadata": {},
   "outputs": [],
   "source": [
    "plot = yt.SlicePlot(ds, 'x', stokes.I, center=ds.arr([0.01,0.01,0.01], input_units='kpc'), width=[(60, 'kpc'), (120, 'kpc')])\n",
    "plot.set_log(stokes.I, True)\n",
    "plot.set_zlim(stokes.I, 1E-28, 1E-20)\n",
    "#plot.set_buff_size((200,200))\n",
    "plot.set_axes_unit('kpc')\n",
    "plot.annotate_grids(linewidth=0.5, alpha=0.5)#, draw_ids=True)\n",
    "plot.annotate_particles(p_size=4, width=(0.25, 'kpc'), ptype='lobe')\n",
    "#plot.annotate_cell_edges(alpha=0.1)\n",
    "plot.show()"
   ]
  },
  {
   "cell_type": "code",
   "execution_count": null,
   "metadata": {},
   "outputs": [],
   "source": [
    "\n",
    "plot.annotate_clear()\n",
    "plot.show()"
   ]
  },
  {
   "cell_type": "code",
   "execution_count": null,
   "metadata": {},
   "outputs": [],
   "source": [
    "import yt\n",
    "from synchrotron.yt_synchrotron_emissivity import StokesFieldName, setup_part_file\n",
    "from particle_filters import *\n",
    "ptype = 'lobe'\n",
    "nu = (100, 'MHz')\n",
    "#ds = yt.load('/d/d5/ychen/2015_production_runs/1022_h1_10Myr/data/MHD_Jet_10Myr_hdf5_plt_cnt_0910_synchrotron_peak_gamc_gc32')\n",
    "ds = yt.load('/d/d5/ychen/2015_production_runs/0529_h1_00/data/MHD_Jet_hdf5_plt_cnt_0600_synchrotron_peak_gamc_gc32')\n",
    "print(setup_part_file(ds))\n",
    "ds.add_particle_filter(ptype)\n",
    "stokes = StokesFieldName(ptype, nu, 'x', field_type='flash')\n",
    "#res = ds.domain_dimensions[1:]*ds.refine_by**ds.index.max_level//zoom_fac//2\n",
    "kpc = yt.units.kpc\n",
    "plot = yt.SlicePlot(ds, 'x', 'lobe_nnw_gamc_dtau', center=ds.arr([0.01,0.01,0.01], input_units='kpc'), width=[(60, 'kpc'), (120, 'kpc')])\n"
   ]
  },
  {
   "cell_type": "code",
   "execution_count": null,
   "metadata": {},
   "outputs": [],
   "source": [
    "plot.set_zlim('lobe_nnw_gamc_dtau', 1E3, 1E6)\n",
    "#plot.annotate_particles(p_size=4, width=(0.25, 'kpc'), ptype='lobe')\n",
    "plot.show()"
   ]
  },
  {
   "cell_type": "code",
   "execution_count": null,
   "metadata": {},
   "outputs": [],
   "source": [
    "plot.set_zlim(stokes.I, 1E-28, 1E-22)"
   ]
  },
  {
   "cell_type": "code",
   "execution_count": null,
   "metadata": {},
   "outputs": [],
   "source": [
    "plot = yt.SlicePlot(ds, 'x', stokes.I, center=ds.arr([0.01,0.01,0.01], input_units='kpc'), width=[(60, 'kpc'), (60, 'kpc')])\n",
    "plot.set_log(stokes.I, True)\n",
    "plot.set_zlim(stokes.I, 1E-28, 1E-6)\n",
    "#plot.set_buff_size((200,200))1\n",
    "plot.set_axes_unit('kpc')\n",
    "plot.annotate_grids(linewidth=0.5, alpha=0.5)#, draw_ids=True)\n",
    "plot.annotate_particles(p_size=4, width=(0.25, 'kpc'), ptype='lobe')\n",
    "#plot.annotate_cell_edges(alpha=0.1)\n",
    "plot.show()"
   ]
  },
  {
   "cell_type": "code",
   "execution_count": null,
   "metadata": {},
   "outputs": [],
   "source": [
    "plot = yt.SlicePlot(ds, 'x', stokes.I, center=ds.arr([0.01,0.0,0.0], input_units='kpc'), width=[(60, 'kpc'), (120, 'kpc')])\n",
    "plot.set_log(stokes.I, True)\n",
    "plot.set_zlim(stokes.I, 1E-28, 1E-20)\n",
    "#plot.set_buff_size((200,200))\n",
    "plot.set_axes_unit('kpc')\n",
    "plot.annotate_grids(linewidth=0.5, alpha=0.5)#, draw_ids=True)\n",
    "plot.annotate_particles(p_size=4, width=(0.25, 'kpc'), ptype='lobe')\n",
    "#plot.annotate_cell_edges(alpha=0.1)\n",
    "plot.show()"
   ]
  },
  {
   "cell_type": "code",
   "execution_count": null,
   "metadata": {},
   "outputs": [],
   "source": [
    "plot = yt.SlicePlot(ds, 'x', stokes.I, center=ds.arr([0.1,0.1,40], input_units='kpc'), width=[(10, 'kpc'), (10, 'kpc')],)\n",
    "plot.set_log(stokes.I, True)\n",
    "plot.set_zlim(stokes.I, 1E-30, 1E-20)\n",
    "#plot.set_buff_size((200,200))\n",
    "plot.set_axes_unit('kpc')\n",
    "plot.annotate_grids()#, draw_ids=True)\n",
    "plot.annotate_particles(p_size=4, width=(0.25, 'kpc'), ptype='lobe')\n",
    "#plot.annotate_cell_edges(alpha=0.1)\n",
    "plot.show()"
   ]
  },
  {
   "cell_type": "code",
   "execution_count": null,
   "metadata": {
    "scrolled": false
   },
   "outputs": [],
   "source": [
    "plot = yt.SlicePlot(ds, 'x', stokes.I, center=ds.arr([0.1,0.1,40], input_units='kpc'), width=[(10, 'kpc'), (10, 'kpc')],)\n",
    "plot.set_log(stokes.I, True)\n",
    "plot.set_zlim(stokes.I, 1E-30, 1E-20)\n",
    "#plot.set_buff_size((200,200))\n",
    "plot.set_axes_unit('kpc')\n",
    "plot.annotate_grids()#, draw_ids=True)\n",
    "plot.annotate_particles(p_size=4, width=(0.25, 'kpc'), ptype='lobe')\n",
    "#plot.annotate_cell_edges(alpha=0.1)\n",
    "plot.show()"
   ]
  },
  {
   "cell_type": "code",
   "execution_count": null,
   "metadata": {},
   "outputs": [],
   "source": [
    "import yt\n",
    "from synchrotron.yt_synchrotron_emissivity import setup_part_file\n",
    "ds = yt.load('/d/d5/ychen/2015_production_runs/1022_h1_10Myr/data/MHD_Jet_10Myr_hdf5_plt_cnt_0910')\n",
    "setup_part_file(ds)\n",
    "plot = yt.SlicePlot(ds, 'x', 'magnetic_field_strength', center=ds.arr([0.01,0.01,0.01], input_units='kpc'), width=[(60, 'kpc'), (120, 'kpc')])\n",
    "plot.show()"
   ]
  },
  {
   "cell_type": "code",
   "execution_count": null,
   "metadata": {},
   "outputs": [],
   "source": [
    "plot.annotate_clear()\n",
    "plot.set_zlim('magnetic_field_strength', 1E-7, 2E-5)\n",
    "#plot.set_buff_size((200,200))\n",
    "plot.set_axes_unit('kpc')\n",
    "#plot.annotate_grids(linewidth=0.5, alpha=0.2)#, draw_ids=True)\n",
    "#plot.annotate_particles(p_size=4, width=(0.25, 'kpc'), ptype='lobe')"
   ]
  },
  {
   "cell_type": "code",
   "execution_count": null,
   "metadata": {},
   "outputs": [],
   "source": [
    "from synchrotron.yt_synchrotron_emissivity import _jet_volume_fraction\n",
    "ds = yt.load('/d/d5/ychen/2015_production_runs/1022_h1_10Myr/data/MHD_Jet_10Myr_hdf5_plt_cnt_0910')\n",
    "ds.add_field(('gas', 'jet_volume_fraction'), function=_jet_volume_fraction,\n",
    "             display_name=\"Jet Volume Fraction\", sampling_type='cell')\n",
    "plot = yt.SlicePlot(ds, 'x', 'jet_volume_fraction', center=ds.arr([0.01,0.01,0.01], input_units='kpc'), width=[(60, 'kpc'), (120, 'kpc')])\n",
    "plot.set_zlim('jet_volume_fraction', 1E-5, 1E0)\n",
    "#plot.set_buff_size((200,200))\n",
    "plot.set_axes_unit('kpc')\n",
    "#plot.annotate_grids(linewidth=0.5, alpha=0.2)#, draw_ids=True)\n",
    "#plot.annotate_particles(p_size=4, width=(0.25, 'kpc'), ptype='lobe')"
   ]
  },
  {
   "cell_type": "code",
   "execution_count": null,
   "metadata": {},
   "outputs": [],
   "source": [
    "plot = yt.SlicePlot(ds, 'x', 'jet ', center=ds.arr([0.01,0.01,0.01], input_units='kpc'), width=[(60, 'kpc'), (120, 'kpc')])\n",
    "plot.set_zlim('jet ', 1E-5, 1E0)\n",
    "plot.show()"
   ]
  },
  {
   "cell_type": "code",
   "execution_count": null,
   "metadata": {},
   "outputs": [],
   "source": [
    "import matplotlib.pyplot as plt\n",
    "ad = ds.all_data()\n",
    "plt.hist(np.log10(ad['jet_volume_fraction']), bins='auto', range=(-5, 0))"
   ]
  },
  {
   "cell_type": "code",
   "execution_count": null,
   "metadata": {},
   "outputs": [],
   "source": [
    "import matplotlib.pyplot as plt\n",
    "ad = ds.all_data()\n",
    "ptype = 'lobe'\n",
    "print(ds.add_particle_filter(ptype))\n",
    "tag = ad[ptype, 'particle_tag']\n",
    "filter = np.abs(ad[ptype, 'particle_position_x']) < 0.25*yt.units.kpc.in_units('cm').v\n",
    "y = ad[ptype, 'particle_position_y'][filter]/3.08567758E21\n",
    "z = ad[ptype, 'particle_position_z'][filter]/3.08567758E21\n",
    "c = np.log10(ad[ptype, 'particle_gamc'][filter])\n",
    "#plt.hist(tag, bins=140)\n",
    "#plt.scatter(ad['all', 'particle_tadd'], ad['all', 'particle_tag'], s=1,linewidth=0)\n",
    "fig=plt.figure(figsize=(10,10))\n",
    "ax=fig.add_subplot(111)\n",
    "ax.set_xlim(-30,30)\n",
    "ax.set_ylim(-60,60)\n",
    "\n",
    "ax.annotate('%6.3f Myr' % (float(ds.current_time)/3.15569E13),\\\n",
    "            (1,0), xytext=(0.05, 0.96),  textcoords='axes fraction',\\\n",
    "            horizontalalignment='left', verticalalignment='center')\n",
    "sc=ax.scatter(y,z,s=5,c=c,linewidth=0,cmap='arbre', vmin=2,vmax=3.5,alpha=0.8)\n",
    "cb=plt.colorbar(sc)\n",
    "cb.set_label('gamc')\n",
    "plt.show()"
   ]
  },
  {
   "cell_type": "code",
   "execution_count": null,
   "metadata": {},
   "outputs": [],
   "source": [
    "print(ad['all', 'particle_tag'].shape)\n",
    "print(ad['jet', 'particle_tag'].shape)\n",
    "print(ad['jetp', 'particle_tag'].shape)\n",
    "print(ad['lobe', 'particle_tag'].shape)"
   ]
  },
  {
   "cell_type": "code",
   "execution_count": null,
   "metadata": {},
   "outputs": [],
   "source": [
    "ds_flash = yt.load('/home/ychen/data/0only_0529_h1/MHD_Jet_hdf5_plt_cnt_0500', \n",
    "             particle_filename='/home/ychen/data/0only_0529_h1/MHD_Jet_hdf5_part_0500_updated' )\n",
    "\n",
    "kpc = yt.units.kpc\n",
    "plot = yt.SlicePlot(ds_flash, 'x', 'velocity_magnitude', center=ds.arr([0,0,0], input_units='kpc'),\n",
    "                    width=[(30, 'kpc'), (60, 'kpc')])\n",
    "plot.set_axes_unit('kpc')\n",
    "plot.annotate_grids(linewidth=0.5, alpha=0.5)#, draw_ids=True)\n",
    "#plot.annotate_particles(p_size=4, width=(0.25, 'kpc'), ptype='lobe')\n",
    "#plot.annotate_cell_edges(alpha=0.1)\n",
    "plot.show()"
   ]
  },
  {
   "cell_type": "code",
   "execution_count": null,
   "metadata": {},
   "outputs": [],
   "source": [
    "ad = ds_flash.all_data()\n",
    "lobe_ad = ad.cut_region([\"obj['velocity_magnitude'] < 3.0e8\"])\n",
    "plot = yt.SlicePlot(ds_flash, 'x', 'velocity_magnitude', center=ds.arr([0,0,0], input_units='kpc'),\n",
    "                    width=[(30, 'kpc'), (60, 'kpc')], data_source=lobe_ad)\n",
    "\n",
    "plot.show()"
   ]
  },
  {
   "cell_type": "code",
   "execution_count": null,
   "metadata": {},
   "outputs": [],
   "source": [
    "ad = ds_flash.all_data()\n",
    "lobe1_ad = ad.cut_region([\"obj['velocity_magnitude'] < 1.5e9\"])\n",
    "plot = yt.SlicePlot(ds_flash, 'x', 'velocity_magnitude', center=ds.arr([0,0,0], input_units='kpc'),\n",
    "                    width=[(30, 'kpc'), (60, 'kpc')], data_source=lobe1_ad)\n",
    "plot.show()"
   ]
  },
  {
   "cell_type": "code",
   "execution_count": null,
   "metadata": {},
   "outputs": [],
   "source": [
    "from synchrotron.yt_synchrotron_emissivity import _jet_volume_fraction\n",
    "ds_flash.add_field(('gas', 'jet_volume_fraction'), function=_jet_volume_fraction,\n",
    "              display_name=\"Jet Volume Fraction\", sampling_type='cell')\n",
    "plot = yt.SlicePlot(ds_flash, 'x', 'jet ', center=ds.arr([0,0,0], input_units='kpc'),\n",
    "                    width=[(30, 'kpc'), (60, 'kpc')])\n",
    "plot.set_zlim('jet ', 1E-2, 1)\n",
    "plot.show()"
   ]
  },
  {
   "cell_type": "code",
   "execution_count": null,
   "metadata": {},
   "outputs": [],
   "source": [
    "plot = yt.SlicePlot(ds, 'x', vstokes.I, center=ds.arr([0,0,0], input_units='kpc'), width=(2, 'kpc'))\n",
    "#plot.set_log(stokes.I, True)\n",
    "#plot.set_zlim(stokes.I, 1E-28, 1E-20)\n",
    "plot.set_axes_unit('kpc')\n",
    "#plot.set_buff_size((200,200))\n",
    "plot.annotate_grids(linewidth=0.5, alpha=0.5, draw_ids=True)\n",
    "plot.annotate_particles(p_size=4, width=(0.25, 'kpc'), ptype='lobe')\n",
    "#plot.annotate_cell_edges(alpha=0.1)\n",
    "plot.show()"
   ]
  },
  {
   "cell_type": "code",
   "execution_count": null,
   "metadata": {
    "collapsed": false
   },
   "outputs": [],
   "source": [
    "ds.field_list"
   ]
  },
  {
   "cell_type": "code",
   "execution_count": null,
   "metadata": {},
   "outputs": [],
   "source": [
    "\n",
    "g = ds.index.grids[119376]\n",
    "g['lobe', 'particle_gamc']"
   ]
  },
  {
   "cell_type": "code",
   "execution_count": null,
   "metadata": {},
   "outputs": [],
   "source": [
    "plot_zoom = yt.SlicePlot(ds, 'y', stokes.I, center=ds.arr([0,1-0.15,2.5-0.15], input_units='kpc'), width=(2, 'kpc'))\n",
    "plot_zoom.set_log(stokes.I, True)\n",
    "plot_zoom.set_zlim(stokes.I, 1E-28, 1E-20)\n",
    "plot.set_buff_size((200,200))\n",
    "plot_zoom.set_axes_unit('kpc')\n",
    "plot_zoom.annotate_clear()\n",
    "plot_zoom.annotate_grids(linewidth=0.5, alpha=0.5, draw_ids=True)\n",
    "plot_zoom.annotate_particles(p_size=4, width=(0.25, 'kpc'), ptype=ptype)\n",
    "#plot.annotate_cell_edges(alpha=0.1)\n",
    "plot_zoom.show()"
   ]
  },
  {
   "cell_type": "code",
   "execution_count": null,
   "metadata": {},
   "outputs": [],
   "source": [
    "extend_cells=32\n",
    "g = ds.index.grids[5852]\n",
    "print(g)\n",
    "print(g.LeftEdge.in_units('kpc'))\n",
    "print(g.RightEdge.in_units('kpc'))\n",
    "print(g.dds.in_units('kpc'))\n",
    "stokes = StokesFieldName(ptype, (150, 'MHz'), 'x', field_type='flash')\n",
    "I = g[stokes.I]\n",
    "ad = ds.all_data()\n",
    "for j, pos in enumerate(ad[ptype, 'particle_position']):\n",
    "    continue_loop = False\n",
    "    for i in [0,1,2]:\n",
    "        if pos[i] < g.LeftEdge[i] - extend_cells*g.dds[i] or pos[i] > g.RightEdge[i] + extend_cells*g.dds[i]:\n",
    "            continue_loop = True\n",
    "    if continue_loop:\n",
    "        continue\n",
    "    else:\n",
    "        print(j, pos.in_units('kpc'))\n",
    "print(g[ptype, 'particle_den0'])"
   ]
  },
  {
   "cell_type": "code",
   "execution_count": null,
   "metadata": {},
   "outputs": [],
   "source": [
    "print(g[stokes.I])"
   ]
  },
  {
   "cell_type": "code",
   "execution_count": null,
   "metadata": {},
   "outputs": [],
   "source": [
    "import yt\n",
    "from synchrotron.yt_synchrotron_emissivity import add_synchrotron_dtau_emissivity, StokesFieldName\n",
    "ptype = 'lobe'\n",
    "nu = (100, 'MHz')\n",
    "ds_flash = yt.load('/d/d5/ychen/2015_production_runs/1022_h1_10Myr/data/MHD_Jet_10Myr_hdf5_plt_cnt_0910',\n",
    "             particle_filename='/d/d5/ychen/2015_production_runs/1022_h1_10Myr/data/MHD_Jet_10Myr_hdf5_part_0910_updated') \n",
    "stokesd = StokesFieldName(ptype, nu, 'x')\n",
    "add_synchrotron_dtau_emissivity(ds_flash, ptype=ptype, nu=nu, proj_axis='x', extend_cells=8)"
   ]
  },
  {
   "cell_type": "code",
   "execution_count": null,
   "metadata": {},
   "outputs": [],
   "source": [
    "plot = yt.SlicePlot(ds_flash, 'x', 'lobe_nnw_gamc-').zoom(8)\n",
    "plot.show()"
   ]
  },
  {
   "cell_type": "code",
   "execution_count": null,
   "metadata": {},
   "outputs": [],
   "source": [
    "g = ds_flash.index.grids[21004]\n",
    "print(g.id)\n",
    "left_edge = g.LeftEdge - 64*g.dds\n",
    "right_edge = g.RightEdge + 64*g.dds\n",
    "box = ds_flash.box(left_edge, right_edge)\n",
    "\n",
    "box['lobe', 'particle_sync_spec_100.0MHz']\n",
    "#g['deposit', 'lobe_nn_sync_spec_150.0MHz']\n"
   ]
  },
  {
   "cell_type": "code",
   "execution_count": null,
   "metadata": {},
   "outputs": [],
   "source": [
    "g['deposit', 'lobe_nnw_sync_spec_100.0MHz']\n",
    "#g['deposit', 'nn_emissivity_i_lobe_100.0MHz_x']"
   ]
  },
  {
   "cell_type": "code",
   "execution_count": null,
   "metadata": {},
   "outputs": [],
   "source": [
    "g = ds.index.grids[21004]\n",
    "print(g.id)\n",
    "g['flash', 'nn_emissivity_i_lobe_100.0MHz_x']"
   ]
  },
  {
   "cell_type": "code",
   "execution_count": null,
   "metadata": {},
   "outputs": [],
   "source": [
    "np.exp(np.log(np.float32(np.finfo(np.float64).tiny)))"
   ]
  },
  {
   "cell_type": "code",
   "execution_count": null,
   "metadata": {
    "collapsed": false
   },
   "outputs": [],
   "source": [
    "\n",
    "plot = yt.SlicePlot(ds_flash, 'z', stokesd.I, center=ds_flash.arr([0,1-0.15,2.5-0.15], input_units='kpc'), width=(2, 'kpc'))\n",
    "plot.set_log(stokesd.I, True)\n",
    "plot.set_zlim(stokesd.I, 1E-28, 1E-20)\n",
    "#plot.set_buff_size((200,200))\n",
    "plot.set_axes_unit('kpc')\n",
    "plot.annotate_grids(linewidth=0.5, alpha=0.5)#, draw_ids=True)\n",
    "plot.annotate_particles(p_size=4, width=(0.25, 'kpc'), ptype='lobe')\n",
    "#plot.annotate_cell_edges(alpha=0.1)\n",
    "plot.show()"
   ]
  },
  {
   "cell_type": "code",
   "execution_count": null,
   "metadata": {},
   "outputs": [],
   "source": [
    "fields = ['pressure', 'magnetic_pressure']\n",
    "p = yt.SlicePlot(ds_flash, 'z', fields, center=ds.arr([0,1-0.15,2.5-0.15], input_units='kpc'), width=(2, 'kpc'))\n",
    "p.show()"
   ]
  },
  {
   "cell_type": "code",
   "execution_count": null,
   "metadata": {
    "collapsed": false
   },
   "outputs": [],
   "source": [
    "ad = ds_flash.all_data()\n",
    "#print(ad[ptype, 'particle_gamc'])\n",
    "deposit_field = 'particle_sync_spec_%s' % stokesd.nu_str\n",
    "#print(ad[ptype, deposit_field])\n",
    "field_name = \"%s_nn_%s\" % (ptype, deposit_field.replace('particle_', ''))\n",
    "#print(ad['deposit', field_name])"
   ]
  },
  {
   "cell_type": "code",
   "execution_count": null,
   "metadata": {
    "collapsed": false
   },
   "outputs": [],
   "source": [
    "p = yt.SlicePlot(ds_flash, 'z', field_name, center=ds_flash.arr([0,1-0.15,2.5-0.15], input_units='kpc'), width=(2, 'kpc'))\n",
    "p.annotate_particles(p_size=10, width=(2, 'kpc'), ptype=ptype)\n",
    "p.annotate_grids(alpha=0.5, draw_ids=True)\n",
    "p.show()"
   ]
  },
  {
   "cell_type": "code",
   "execution_count": null,
   "metadata": {
    "collapsed": false
   },
   "outputs": [],
   "source": [
    "import yt.geometry.particle_deposit as particle_deposit\n",
    "cls = particle_deposit.deposit_nearest\n",
    "g_flash = ds_flash.index.grids[5852]\n",
    "op = cls(tuple(g_flash.ActiveDimensions[::-1]), 'cubic')\n"
   ]
  },
  {
   "cell_type": "code",
   "execution_count": null,
   "metadata": {},
   "outputs": [],
   "source": [
    "import numpy as np\n",
    "ds_flash.add_particle_filter(ptype)\n",
    "ad = ds_flash.all_data()\n",
    "fields = [ad[ptype, deposit_field]]\n",
    "fields = [np.ascontiguousarray(f) for f in fields]"
   ]
  },
  {
   "cell_type": "code",
   "execution_count": null,
   "metadata": {},
   "outputs": [],
   "source": [
    "g_flash = ds_flash.index.grids[5852]\n",
    "print(g_flash)\n",
    "op.initialize()\n",
    "op.process_grid(g_flash, ad[ptype, 'particle_position'], fields, extend_cells=32)"
   ]
  },
  {
   "cell_type": "code",
   "execution_count": null,
   "metadata": {},
   "outputs": [],
   "source": [
    "print(g_flash.LeftEdge)\n",
    "center = (g_flash.LeftEdge + g_flash.dds*7.5)\n",
    "print(g_flash.RightEdge)\n",
    "print(g_flash.dds, np.sum(8*8*g_flash.dds**2))\n",
    "dist = center.v - np.array([-1.5e+21, 9.5e+20, 4.3e+21])\n",
    "print(np.sum(dist*dist))"
   ]
  },
  {
   "cell_type": "code",
   "execution_count": null,
   "metadata": {},
   "outputs": [],
   "source": [
    "import matplotlib.pyplot as plt\n",
    "vals = op.finalize()\n",
    "null = plt.hist(np.log10(vals.flatten()), bins=50)"
   ]
  },
  {
   "cell_type": "code",
   "execution_count": null,
   "metadata": {},
   "outputs": [],
   "source": [
    "g_flash = ds_flash.index.grids[5851]\n",
    "print(g_flash)\n",
    "tuple(g.ActiveDimensions[::-1])"
   ]
  },
  {
   "cell_type": "code",
   "execution_count": null,
   "metadata": {},
   "outputs": [],
   "source": [
    "\n",
    "print(g_flash[ptype, 'particle_gamc'])\n",
    "deposit_field = 'particle_sync_spec_%s' % stokesd.nu_str\n",
    "print(g_flash[ptype, deposit_field])\n",
    "field_name = \"%s_nn_%s\" % (ptype, deposit_field.replace('particle_', ''))\n",
    "print(g_flash[stokesd.I].v)"
   ]
  },
  {
   "cell_type": "code",
   "execution_count": null,
   "metadata": {},
   "outputs": [],
   "source": [
    "data = g\n",
    "los = np.array([1,0,0])\n",
    "los = los/np.sqrt(np.sum(los*los))\n",
    "Bvec = np.array([data[(ptype, 'particle_magx')],\\\n",
    "                 data[(ptype, 'particle_magy')],\\\n",
    "                 data[(ptype, 'particle_magz')]])/np.sqrt(4.0*np.pi)\n",
    "cross = np.cross(los, Bvec, axisb=0)\n",
    "Bsina = np.sqrt(np.sum(cross*cross, axis=-1))\n",
    "Bsina = data.apply_units(Bsina, 'gauss')\n",
    "e = yt.physical_constants.elementary_charge\n",
    "me = yt.physical_constants.mass_electron\n",
    "c = yt.physical_constants.c\n",
    "den1 = data[(ptype, 'particle_den1')]\n",
    "dtau = data[(ptype, 'particle_dtau')]\n",
    "gamc = (np.abs(data[(ptype, 'particle_dens')] / den1))**(1./3.)/dtau\n",
    "print(gamc)\n",
    "nuc = 3.0*gamc**2*e*Bsina/(4.0*np.pi*me*c) \n",
    "print(nuc.in_units('MHz'))"
   ]
  },
  {
   "cell_type": "code",
   "execution_count": null,
   "metadata": {},
   "outputs": [],
   "source": [
    "import matplotlib.pyplot as plt\n",
    "import numpy as np\n",
    "ad = ds.all_data()\n",
    "null =plt.hist(np.log10(ad['particle_den0']), bins=40, range=(-25.85, -25.7))\n",
    "from tools import calcDen0\n",
    "print(calcDen0(g))"
   ]
  },
  {
   "cell_type": "code",
   "execution_count": null,
   "metadata": {
    "collapsed": false
   },
   "outputs": [],
   "source": [
    "g = ds.index.grids[-1]"
   ]
  },
  {
   "cell_type": "code",
   "execution_count": null,
   "metadata": {},
   "outputs": [],
   "source": [
    "ds.index.num_grids"
   ]
  },
  {
   "cell_type": "code",
   "execution_count": null,
   "metadata": {
    "collapsed": false
   },
   "outputs": [],
   "source": []
  }
 ],
 "metadata": {
  "kernelspec": {
   "display_name": "Python 3",
   "language": "python",
   "name": "python3"
  },
  "language_info": {
   "codemirror_mode": {
    "name": "ipython",
    "version": 3
   },
   "file_extension": ".py",
   "mimetype": "text/x-python",
   "name": "python",
   "nbconvert_exporter": "python",
   "pygments_lexer": "ipython3",
   "version": "3.6.1"
  }
 },
 "nbformat": 4,
 "nbformat_minor": 2
}
