{
 "cells": [
  {
   "cell_type": "code",
   "execution_count": null,
   "metadata": {
    "collapsed": false
   },
   "outputs": [],
   "source": [
    "import matplotlib.pyplot as plt\n",
    "import numpy as np\n",
    "e = 4.803E-10 #esu\n",
    "me = 9.109E-28 #g\n",
    "c = 2.998E10 #cm/s"
   ]
  },
  {
   "cell_type": "code",
   "execution_count": null,
   "metadata": {},
   "outputs": [],
   "source": [
    "xmin, xmax = -10, 10\n",
    "ymin, ymax = -10, 10\n",
    "nx, ny = 41, 41\n",
    "x = np.linspace(xmin,xmax,nx)\n",
    "y = np.linspace(ymin,ymax,ny)\n",
    "xx, yy = np.meshgrid(x,y)\n",
    "\n",
    "plt.imshow(xx, extent=(xmin,xmax,ymin,ymax), origin='lower')\n",
    "plt.colorbar()"
   ]
  },
  {
   "cell_type": "code",
   "execution_count": null,
   "metadata": {},
   "outputs": [],
   "source": [
    "B0 = 1E-5\n",
    "radius = 5\n",
    "B = B0*np.exp(-(xx**2+yy**2)/radius**2)\n",
    "\n",
    "plt.figure(figsize=(8,6))\n",
    "plt.imshow(B, extent=(xmin,xmax,ymin,ymax))\n",
    "plt.colorbar()\n",
    "plt.title('B')"
   ]
  },
  {
   "cell_type": "code",
   "execution_count": null,
   "metadata": {},
   "outputs": [],
   "source": [
    "P0 = 5E-10\n",
    "P = P0*np.power(10,np.cos(xx/5*np.pi))\n",
    "\n",
    "plt.figure(figsize=(8,6))\n",
    "plt.imshow(np.log10(P), extent=(xmin,xmax,ymin,ymax))\n",
    "plt.colorbar()\n",
    "plt.title('P')"
   ]
  },
  {
   "cell_type": "code",
   "execution_count": null,
   "metadata": {},
   "outputs": [],
   "source": [
    "plt.figure(figsize=(8,6))\n",
    "plt.imshow(np.log10(P*B**1.5), extent=(xmin,xmax,ymin,ymax))\n",
    "plt.colorbar()\n",
    "plt.title('P*B^1.5')"
   ]
  },
  {
   "cell_type": "code",
   "execution_count": null,
   "metadata": {
    "collapsed": false
   },
   "outputs": [],
   "source": [
    "def nn_deposit(positions, deposit_field):\n",
    "    grid = np.zeros((ny,nx))\n",
    "    distfield = np.inf*np.ones((ny,nx))\n",
    "    def process(pos, field_val):\n",
    "        for ix in range(nx):\n",
    "            for iy in range(ny):\n",
    "                dist = (x[ix]-pos[0])**2 + (y[iy]-pos[1])**2\n",
    "                if dist < distfield[iy,ix]:\n",
    "                    distfield[iy,ix] = dist\n",
    "                    grid[iy,ix] = field_val\n",
    "    \n",
    "    for ip, pos in enumerate(positions):\n",
    "        process(pos, deposit_field[ip])\n",
    "    return grid, distfield"
   ]
  },
  {
   "cell_type": "code",
   "execution_count": null,
   "metadata": {
    "collapsed": false
   },
   "outputs": [],
   "source": [
    "def nnw_deposit(positions, deposit_field, power):\n",
    "    nwpart = 10\n",
    "    nnfield = np.zeros((ny,nx,nwpart))\n",
    "    distfield = np.zeros((ny,nx,nwpart))\n",
    "    distarg = np.zeros((ny,nx,nwpart), dtype=int)\n",
    "    def process(pos, field_val):\n",
    "        for ix in range(nx):\n",
    "            for iy in range(ny):\n",
    "                wdist = 1.0/((x[ix]-pos[0])**power + (y[iy]-pos[1])**power)\n",
    "                if wdist < distfield[iy,ix,distarg[iy,ix,0]]:\n",
    "                    continue\n",
    "                for p in distarg[iy,ix,:]:\n",
    "                    if wdist > distfield[iy,ix,p]:\n",
    "                        distfield[iy,ix,p] = wdist\n",
    "                        nnfield[iy,ix,p] = field_val\n",
    "                        distarg[iy,ix,:] = np.argsort(distfield[iy,ix,:])\n",
    "                        break\n",
    "    \n",
    "    for ip, pos in enumerate(positions):\n",
    "        process(pos, deposit_field[ip])\n",
    "    nnw = np.sum(nnfield[:,:,:]*distfield[:,:,:], axis=-1)\n",
    "    distw = np.sum(distfield[:,:,:], axis=-1)\n",
    "\n",
    "    return nnw/distw"
   ]
  },
  {
   "cell_type": "code",
   "execution_count": null,
   "metadata": {
    "collapsed": false
   },
   "outputs": [],
   "source": [
    "vmin, vmax = -50, -34\n",
    "vmin2, vmax2 = -38, -34\n",
    "\n",
    "def plot_emission(field, particle_dtau):\n",
    "    fig = plt.figure(figsize=(16,6))\n",
    "    ax1 = fig.add_subplot(121)\n",
    "    im = ax1.imshow(np.log10(field), extent=(xmin,xmax,ymin,ymax), origin='lower', vmin=vmin, vmax=vmax)\n",
    "    cb1 = plt.colorbar(im)\n",
    "    sc1 = ax1.scatter(posx, posy, c=np.log10(particle_dtau), cmap='jet_r', edgecolors='w', vmin=vminp, vmax=vmaxp)\n",
    "    ax1.set_xlim(xmin, xmax)\n",
    "    ax1.set_ylim(ymin, ymax)\n",
    "\n",
    "    ax2 = fig.add_subplot(122)\n",
    "    im2 = ax2.imshow(np.log10(field), extent=(xmin,xmax,ymin,ymax), origin='lower', vmin=vmin2, vmax=vmax2)\n",
    "    cb2 = plt.colorbar(im2)\n",
    "    sc2 = ax2.scatter(posx, posy, c=np.log10(particle_dtau), cmap='jet_r', edgecolors='w', vmin=vminp, vmax=vmaxp)\n",
    "    ax2.set_xlim(xmin, xmax)\n",
    "    ax2.set_ylim(ymin, ymax)\n",
    "\n",
    "    return fig"
   ]
  },
  {
   "cell_type": "markdown",
   "metadata": {
    "collapsed": false
   },
   "source": [
    "## Generate Particles dtau values"
   ]
  },
  {
   "cell_type": "code",
   "execution_count": null,
   "metadata": {},
   "outputs": [],
   "source": [
    "npart = 50\n",
    "vminp, vmaxp = -6, -2\n",
    "posx = xmin + (xmax-xmin)*np.random.rand(npart)\n",
    "posy = ymin + (ymax-ymin)*np.random.rand(npart)\n",
    "#pfield = np.random.lognormal(mean=-30, sigma=50, size=npart)\n",
    "dtau = np.random.lognormal(mean=-8.6, sigma=2, size=npart)\n",
    "n, bins, patches = plt.hist(np.log10(dtau), range=(vminp,vmaxp), bins=20)\n",
    "\n",
    "bin_centers = 0.5 * (bins[:-1] + bins[1:])\n",
    "# scale values to interval [0,1]\n",
    "cols = bin_centers - min(bin_centers)\n",
    "cols /= max(cols)\n",
    "\n",
    "cm = plt.cm.get_cmap('jet_r')\n",
    "for col, p in zip(cols, patches):\n",
    "    plt.setp(p, 'facecolor', cm(col))\n",
    "\n",
    "plt.show()"
   ]
  },
  {
   "cell_type": "code",
   "execution_count": null,
   "metadata": {},
   "outputs": [],
   "source": [
    "fig = plt.figure(figsize=(10,6))\n",
    "ax = fig.add_subplot(111)\n",
    "im = ax.imshow(np.log10(P*B**1.5), extent=(xmin,xmax,ymin,ymax), origin='lower')\n",
    "cb1 = plt.colorbar(im)\n",
    "cb1.set_label(u'grid $\\log_{10}{PB^{3/2}}$')\n",
    "sc = ax.scatter(posx, posy, c=np.log10(dtau), cmap='jet_r', edgecolors='w', vmin=vminp, vmax=vmaxp)\n",
    "cb2 = plt.colorbar(sc)\n",
    "cb2.set_label(u'particle $\\log_{10}{dtau}}$')\n",
    "ax.set_xlim(xmin, xmax)\n",
    "ax.set_ylim(ymin, ymax)"
   ]
  },
  {
   "cell_type": "markdown",
   "metadata": {},
   "source": [
    "## Interpolate B and P values to particle positions"
   ]
  },
  {
   "cell_type": "code",
   "execution_count": null,
   "metadata": {
    "collapsed": false
   },
   "outputs": [],
   "source": [
    "from scipy.interpolate import interp2d\n",
    "B_inter_f = interp2d(x, y, B, kind='cubic')\n",
    "B_part = np.array([B_inter_f(px, py)[0] for (px, py) in zip(posx, posy)])\n",
    "P_inter_f = interp2d(x, y, P, kind='cubic')\n",
    "P_part = np.array([P_inter_f(px, py)[0] for (px, py) in zip(posx, posy)])\n",
    "#B_part = B_inter_f(posx, posy).diagonal() #not working"
   ]
  },
  {
   "cell_type": "code",
   "execution_count": null,
   "metadata": {},
   "outputs": [],
   "source": [
    "fig = plt.figure(figsize=(16,6))\n",
    "ax1 = fig.add_subplot(121)\n",
    "im1 = ax1.imshow(B, extent=(xmin,xmax,ymin,ymax), origin='lower', vmin=0, vmax=1E-5)\n",
    "sc1 = ax1.scatter(posx, posy, c=B_part, edgecolors='w', vmin=0, vmax=1E-5)\n",
    "cb1 = plt.colorbar(im1)\n",
    "ax1.set_xlim(xmin, xmax)\n",
    "ax1.set_ylim(ymin, ymax)\n",
    "ax1.set_title('B')\n",
    "\n",
    "ax2 = fig.add_subplot(122)\n",
    "im2 = ax2.imshow(P, extent=(xmin,xmax,ymin,ymax), origin='lower', vmin=0, vmax=5E-9)\n",
    "sc2 = ax2.scatter(posx, posy, c=P_part, edgecolors='w', vmin=0, vmax=5E-9)\n",
    "cb2 = plt.colorbar(im2)\n",
    "ax2.set_xlim(xmin, xmax)\n",
    "ax2.set_ylim(ymin, ymax)\n",
    "ax2.set_title('P')"
   ]
  },
  {
   "cell_type": "markdown",
   "metadata": {},
   "source": [
    "##  Nearest Neighbor - dtau"
   ]
  },
  {
   "cell_type": "code",
   "execution_count": null,
   "metadata": {},
   "outputs": [],
   "source": [
    "deposited, distfield = nn_deposit(zip(posx, posy), dtau)\n",
    "\n",
    "fig = plt.figure(figsize=(16,6))\n",
    "ax = fig.add_subplot(121)\n",
    "im = ax.imshow(np.log10(deposited), extent=(xmin,xmax,ymin,ymax), cmap='jet_r', origin='lower', vmin=vminp, vmax=vmaxp)\n",
    "cb1 = plt.colorbar(im)\n",
    "sc = ax.scatter(posx, posy, c=np.log10(dtau), cmap='jet_r', edgecolors='w', vmin=vminp, vmax=vmaxp)\n",
    "ax.set_xlim(xmin, xmax)\n",
    "ax.set_ylim(ymin, ymax)\n",
    "ax.set_title('dtau')\n",
    "\n",
    "ax2 = fig.add_subplot(122)\n",
    "im2 = ax2.imshow(np.log10(1/deposited), extent=(xmin,xmax,ymin,ymax), origin='lower', vmin=1, vmax=6)\n",
    "cb2 = plt.colorbar(im2)\n",
    "sc2 = ax2.scatter(posx, posy, c=np.log10(dtau), cmap='jet_r', edgecolors='w', vmin=vminp, vmax=vmaxp)\n",
    "ax2.set_xlim(xmin, xmax)\n",
    "ax2.set_ylim(ymin, ymax)\n",
    "ax2.set_title('gamc')\n"
   ]
  },
  {
   "cell_type": "markdown",
   "metadata": {},
   "source": [
    "##  Distance weighted - dtau"
   ]
  },
  {
   "cell_type": "code",
   "execution_count": null,
   "metadata": {},
   "outputs": [],
   "source": [
    "deposited_nnw = nnw_deposit(zip(posx, posy), dtau, 2)\n",
    "\n",
    "fig = plt.figure(figsize=(16,6))\n",
    "ax = fig.add_subplot(121)\n",
    "im = ax.imshow(np.log10(deposited_nnw), cmap='jet_r', extent=(xmin,xmax,ymin,ymax), origin='lower', vmin=vminp, vmax=vmaxp)\n",
    "cb1 = plt.colorbar(im)\n",
    "cb1.set_label('log dtau')\n",
    "sc = ax.scatter(posx, posy, c=np.log10(dtau), cmap='jet_r', edgecolors='w', vmin=vminp, vmax=vmaxp)\n",
    "#cb2 = plt.colorbar(sc)\n",
    "#cb2.set_label(u'$\\log_{10}{gmax}}$')\n",
    "ax.set_xlim(xmin, xmax)\n",
    "ax.set_ylim(ymin, ymax)\n",
    "ax.set_title('dtau')\n",
    "\n",
    "gamc = 1/deposited_nnw\n",
    "\n",
    "ax2 = fig.add_subplot(122)\n",
    "im2 = ax2.imshow(np.log10(gamc), cmap='jet', extent=(xmin,xmax,ymin,ymax), origin='lower', vmin=1, vmax=6)\n",
    "cb2 = plt.colorbar(im2)\n",
    "cb2.set_label('log gamc')\n",
    "sc2 = ax2.scatter(posx, posy, c=np.log10(dtau), cmap='jet_r', edgecolors='w', vmin=vminp, vmax=vmaxp)\n",
    "#cb2 = plt.colorbar(sc)\n",
    "#cb2.set_label(u'$\\log_{10}{gmax}}$')\n",
    "ax2.set_xlim(xmin, xmax)\n",
    "ax2.set_ylim(ymin, ymax)\n",
    "ax2.set_title('gamc')"
   ]
  },
  {
   "cell_type": "markdown",
   "metadata": {},
   "source": [
    "## Emission calculated with distance weighted dtau"
   ]
  },
  {
   "cell_type": "code",
   "execution_count": null,
   "metadata": {},
   "outputs": [],
   "source": [
    "nu = 1.5E8\n",
    "gamma_min = 10\n",
    "gamc = 1/deposited_nnw\n",
    "nuc = 3*gamc**2*e*B/(4*np.pi*me*c)\n",
    "fig = plt.figure(figsize=(16,5))\n",
    "ax = fig.add_subplot(121)\n",
    "im = ax.imshow(np.log10(nuc), cmap='jet', extent=(xmin,xmax,ymin,ymax), origin='lower', vmin=6, vmax=10)\n",
    "cb1 = plt.colorbar(im)\n",
    "cb1.set_label(r'grid $\\log \\nu_c$')\n",
    "sc1 = ax.scatter(posx, posy, c=np.log10(dtau), cmap='jet_r', edgecolors='w', vmin=vminp, vmax=vmaxp)\n",
    "cb2 = plt.colorbar(sc)\n",
    "cb2.set_label(u'particle $\\log_{10}{dtau}}$')\n",
    "ax.set_xlim(xmin, xmax)\n",
    "ax.set_ylim(ymin, ymax)\n",
    "\n",
    "norm = 3/8*B**1.5*e**3.5/(c**2.5*me**1.5*np.pi**0.5)\n",
    "N0 = P*3/me/c/c/(np.log(gamc/gamma_min))/4/np.pi\n",
    "sync_spec = N0*norm*nu**(-0.5)*np.exp(-nu/nuc)\n",
    "ax2 = fig.add_subplot(122)\n",
    "im2 = ax2.imshow(np.log10(sync_spec), extent=(xmin,xmax,ymin,ymax), origin='lower', vmin=vmin2, vmax=vmax2)\n",
    "cb2 = plt.colorbar(im2)\n",
    "cb2.set_label('emission at %.1e Hz' % nu)\n",
    "sc2 = ax2.scatter(posx, posy, c=np.log10(dtau), cmap='jet_r', edgecolors='w', vmin=vminp, vmax=vmaxp)\n",
    "ax2.set_xlim(xmin, xmax)\n",
    "ax2.set_ylim(ymin, ymax)"
   ]
  },
  {
   "cell_type": "code",
   "execution_count": null,
   "metadata": {},
   "outputs": [],
   "source": [
    "fig = plot_emission(sync_spec, dtau)"
   ]
  },
  {
   "cell_type": "code",
   "execution_count": null,
   "metadata": {},
   "outputs": [],
   "source": [
    "plt.hist(np.log10(sync_spec.flatten()+1E-100), range=(-80, -30))"
   ]
  },
  {
   "cell_type": "markdown",
   "metadata": {},
   "source": [
    "## Calculate Emission from Particles"
   ]
  },
  {
   "cell_type": "code",
   "execution_count": null,
   "metadata": {
    "collapsed": false
   },
   "outputs": [],
   "source": [
    "gamc = 1/dtau\n",
    "nuc = 3*gamc**2*e*B_part/(4*np.pi*me*c)\n",
    "norm = 3/8*B_part**1.5*e**3.5/(c**2.5*me**1.5*np.pi**0.5)\n",
    "N0 = P_part*3/me/c/c/(np.log(gamc/gamma_min))/4/np.pi\n",
    "sync_spec_part = N0*norm*nu**(-0.5)*np.exp(-nu/nuc)"
   ]
  },
  {
   "cell_type": "markdown",
   "metadata": {},
   "source": [
    "## Nearest neighbor - emission"
   ]
  },
  {
   "cell_type": "code",
   "execution_count": null,
   "metadata": {},
   "outputs": [],
   "source": [
    "deposited, distfield = nn_deposit(zip(posx, posy), sync_spec_part)\n",
    "fig = plot_emission(deposited, dtau)"
   ]
  },
  {
   "cell_type": "markdown",
   "metadata": {},
   "source": [
    "## Distance weighted - emission"
   ]
  },
  {
   "cell_type": "code",
   "execution_count": null,
   "metadata": {},
   "outputs": [],
   "source": [
    "deposited_nnw = nnw_deposit(zip(posx, posy), sync_spec_part, 2)\n",
    "fig = plot_emission(deposited_nnw, dtau)"
   ]
  },
  {
   "cell_type": "markdown",
   "metadata": {},
   "source": [
    "## Distance weighted - log emission"
   ]
  },
  {
   "cell_type": "code",
   "execution_count": null,
   "metadata": {},
   "outputs": [],
   "source": [
    "deposited_nnw = nnw_deposit(zip(posx, posy), np.log10(sync_spec_part+np.finfo(np.float64).tiny), 2)\n",
    "deposited_nnw = np.power(10, deposited_nnw)\n",
    "fig = plot_emission(deposited_nnw, dtau)"
   ]
  },
  {
   "cell_type": "markdown",
   "metadata": {
    "collapsed": false
   },
   "source": [
    "## Distance weighted - log dtau"
   ]
  },
  {
   "cell_type": "code",
   "execution_count": null,
   "metadata": {},
   "outputs": [],
   "source": [
    "deposited_nnw = nnw_deposit(zip(posx, posy), np.log10(dtau), 2)\n",
    "deposited_nnw = np.power(10, deposited_nnw)\n",
    "\n",
    "fig = plt.figure(figsize=(16,6))\n",
    "ax = fig.add_subplot(121)\n",
    "im = ax.imshow(np.log10(deposited_nnw), cmap='jet_r', extent=(xmin,xmax,ymin,ymax), origin='lower', vmin=vminp, vmax=vmaxp)\n",
    "cb1 = plt.colorbar(im)\n",
    "cb1.set_label('log dtau')\n",
    "sc = ax.scatter(posx, posy, c=np.log10(dtau), cmap='jet_r', edgecolors='w', vmin=vminp, vmax=vmaxp)\n",
    "#cb2 = plt.colorbar(sc)\n",
    "#cb2.set_label(u'$\\log_{10}{gmax}}$')\n",
    "ax.set_xlim(xmin, xmax)\n",
    "ax.set_ylim(ymin, ymax)\n",
    "ax.set_title('dtau')\n",
    "\n",
    "gamc = 1/deposited_nnw\n",
    "\n",
    "ax2 = fig.add_subplot(122)\n",
    "im2 = ax2.imshow(np.log10(gamc), cmap='jet', extent=(xmin,xmax,ymin,ymax), origin='lower', vmin=1, vmax=6)\n",
    "cb2 = plt.colorbar(im2)\n",
    "cb2.set_label('log gamc')\n",
    "sc2 = ax2.scatter(posx, posy, c=np.log10(dtau), cmap='jet_r', edgecolors='w', vmin=vminp, vmax=vmaxp)\n",
    "#cb2 = plt.colorbar(sc)\n",
    "#cb2.set_label(u'$\\log_{10}{gmax}}$')\n",
    "ax2.set_xlim(xmin, xmax)\n",
    "ax2.set_ylim(ymin, ymax)\n",
    "ax2.set_title('gamc')"
   ]
  },
  {
   "cell_type": "markdown",
   "metadata": {},
   "source": [
    "## Emission calculated with distance weighted log dtau"
   ]
  },
  {
   "cell_type": "code",
   "execution_count": null,
   "metadata": {},
   "outputs": [],
   "source": [
    "nu = 1.5E8\n",
    "gamma_min = 10\n",
    "gamc = 1/deposited_nnw\n",
    "nuc = 3*gamc**2*e*B/(4*np.pi*me*c)\n",
    "fig = plt.figure(figsize=(16,5))\n",
    "ax = fig.add_subplot(121)\n",
    "im = ax.imshow(np.log10(nuc), extent=(xmin,xmax,ymin,ymax), cmap='jet', origin='lower', vmin=6, vmax=10)\n",
    "cb1 = plt.colorbar(im)\n",
    "cb1.set_label(r'$\\log \\nu_c$')\n",
    "sc1 = ax.scatter(posx, posy, c=np.log10(dtau), cmap='jet_r', edgecolors='w', vmin=vminp, vmax=vmaxp)\n",
    "cb2 = plt.colorbar(sc)\n",
    "cb2.set_label(u'$\\log_{10}{dtau}}$')\n",
    "ax.set_xlim(xmin, xmax)\n",
    "ax.set_ylim(ymin, ymax)\n",
    "\n",
    "norm = 3/8*B**1.5*e**3.5/(c**2.5*me**1.5*np.pi**0.5)\n",
    "N0 = P*3/me/c/c/(np.log(gamc/gamma_min))/4/np.pi\n",
    "sync_spec = N0*norm*nu**(-0.5)*np.exp(-nu/nuc)\n",
    "ax2 = fig.add_subplot(122)\n",
    "im2 = ax2.imshow(np.log10(sync_spec), extent=(xmin,xmax,ymin,ymax), origin='lower', vmin=vmin2, vmax=vmax2)\n",
    "cb2 = plt.colorbar(im2)\n",
    "cb2.set_label('emission at %.1e Hz' % nu)\n",
    "sc2 = ax2.scatter(posx, posy, c=np.log10(dtau), cmap='jet_r', edgecolors='w', vmin=vminp, vmax=vmaxp)\n",
    "ax2.set_xlim(xmin, xmax)\n",
    "ax2.set_ylim(ymin, ymax)"
   ]
  },
  {
   "cell_type": "code",
   "execution_count": null,
   "metadata": {},
   "outputs": [],
   "source": [
    "fig = plot_emission(sync_spec, dtau)"
   ]
  },
  {
   "cell_type": "code",
   "execution_count": null,
   "metadata": {
    "collapsed": false
   },
   "outputs": [],
   "source": []
  }
 ],
 "metadata": {
  "kernelspec": {
   "display_name": "Python 3",
   "language": "python",
   "name": "python3"
  },
  "language_info": {
   "codemirror_mode": {
    "name": "ipython",
    "version": 3
   },
   "file_extension": ".py",
   "mimetype": "text/x-python",
   "name": "python",
   "nbconvert_exporter": "python",
   "pygments_lexer": "ipython3",
   "version": "3.6.1"
  }
 },
 "nbformat": 4,
 "nbformat_minor": 2
}
