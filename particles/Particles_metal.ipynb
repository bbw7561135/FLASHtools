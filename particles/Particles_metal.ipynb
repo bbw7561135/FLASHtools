{
 "cells": [
  {
   "cell_type": "code",
   "execution_count": null,
   "metadata": {
    "collapsed": false
   },
   "outputs": [],
   "source": [
    "%matplotlib inline\n",
    "import numpy as np\n",
    "import matplotlib\n",
    "matplotlib.rcParams['figure.dpi'] = 150\n",
    "import matplotlib.pyplot as plt\n",
    "import yt\n",
    "yt.mylog.setLevel(\"WARNING\")\n",
    "\n",
    "from particles.particle_filters import *"
   ]
  },
  {
   "cell_type": "code",
   "execution_count": null,
   "metadata": {},
   "outputs": [],
   "source": [
    "fname = '/home/ychen/data/0only_1212_h0_10Myr_rerun/data/MHD_Jet_10Myr_hdf5_plt_cnt_1000'\n",
    "ds = yt.load(fname)\n",
    "ds.add_particle_filter(\"metal\")\n",
    "#ds.add_particle_filter('jetp')"
   ]
  },
  {
   "cell_type": "code",
   "execution_count": null,
   "metadata": {
    "collapsed": false
   },
   "outputs": [],
   "source": [
    "f0 =  '/home/ychen/data/0only_1212_h0_10Myr_rerun/data/MHD_Jet_10Myr_hdf5_plt_cnt_0000'\n",
    "ds0 = yt.load(f0)\n",
    "ds0.add_particle_filter(\"metal\")\n",
    "ad0 = ds0.all_data()\n",
    "arr0 = np.argsort(ad0[('metal', 'particle_tag')])\n",
    "rr0 = ad0[('metal','particle_position_spherical_radius')].in_units('kpc')[arr0]"
   ]
  },
  {
   "cell_type": "code",
   "execution_count": null,
   "metadata": {},
   "outputs": [],
   "source": [
    "ds0.parameter_filename"
   ]
  },
  {
   "cell_type": "code",
   "execution_count": null,
   "metadata": {},
   "outputs": [],
   "source": [
    "ad = ds.all_data()\n",
    "arr = np.argsort(ad[('metal', 'particle_tag')])\n",
    "xx=ad[('metal', 'particle_posx')].in_units('kpc')[arr]\n",
    "yy=ad[('metal', 'particle_posy')].in_units('kpc')[arr]\n",
    "zz=ad[('metal', 'particle_posz')].in_units('kpc')[arr]\n",
    "\n",
    "filtr = np.abs(xx)<30\n",
    "\n",
    "plt.figure(figsize=(12,10))\n",
    "plt.scatter(yy[filtr][::3], zz[filtr][::3], c=rr0[filtr][::3], s=2, lw=0, vmax=80, vmin=0, cmap='gnuplot2_r')\n",
    "plt.colorbar() \n",
    "plt.xlim(-100,100)\n",
    "plt.ylim(-100,100)\n",
    "plt.xlabel('y (kpc)')\n",
    "plt.ylabel('z (kpc)')\n",
    "#plt.colormaps('initial radius (kpc)')"
   ]
  },
  {
   "cell_type": "code",
   "execution_count": null,
   "metadata": {
    "collapsed": false
   },
   "outputs": [],
   "source": [
    "rr = ds.all_data()[('metal','particle_position_spherical_radius')].in_units('kpc')[arr]\n",
    "drr = rr-rr0"
   ]
  },
  {
   "cell_type": "code",
   "execution_count": null,
   "metadata": {},
   "outputs": [],
   "source": [
    "from mpl_toolkits.axes_grid1 import make_axes_locatable\n",
    "fig = plt.figure(figsize=(5,7))\n",
    "\n",
    "ax = fig.add_subplot(111)\n",
    "\n",
    "divider = make_axes_locatable(ax)\n",
    "ax2 = divider.append_axes(\"bottom\", 1.3, pad=0.1, sharex=ax)\n",
    "\n",
    "for rlim in [(0,30), (30,60), (60,90)]:\n",
    "    mask = np.logical_and(rr0 > rlim[0], rr0 < rlim[1])\n",
    "    ax.scatter(drr[mask], rr0[mask], s=1, lw=0)\n",
    "    \n",
    "    null = ax2.hist(drr[mask], bins=65, range=(-5, 60),\n",
    "                    normed=True, histtype='step',\n",
    "                    label=r'%2i < $r_0$ < %2i' % rlim, alpha=0.9, log=True)\n",
    "ax.text(45, 85, '%.1f Myr' % ds.current_time.in_units('Myr'))\n",
    "ax.set_ylabel(r'initial radius $r_0$ (kpc)')\n",
    "\n",
    "ax2.legend()\n",
    "ax2.set_xlabel(r'$\\Delta r$ (kpc)')"
   ]
  },
  {
   "cell_type": "code",
   "execution_count": null,
   "metadata": {
    "collapsed": false
   },
   "outputs": [],
   "source": [
    "\n",
    "arr = np.array(ad[('metal', 'particle_tag')], dtype=int)-1"
   ]
  },
  {
   "cell_type": "code",
   "execution_count": null,
   "metadata": {},
   "outputs": [],
   "source": [
    "xx[arr]"
   ]
  },
  {
   "cell_type": "code",
   "execution_count": null,
   "metadata": {
    "collapsed": false
   },
   "outputs": [],
   "source": [
    "ptPerGrid = np.zeros(ds.index.num_grids, dtype=int)\n",
    "ptPerMass = np.zeros(ds.index.num_grids)\n",
    "ptPerVolume = np.zeros(ds.index.num_grids)\n",
    "level = np.zeros(ds.index.num_grids, dtype=int)\n",
    "rr = np.zeros(ds.index.num_grids)\n",
    "for i in range(ds.index.num_grids):\n",
    "    grid = ds.index.grids[i]\n",
    "    grid.set_field_parameter('center', ds.arr([0,0,0]))\n",
    "    ptPerGrid[i] = grid.NumberOfParticles\n",
    "    ptPerMass[i] = grid.NumberOfParticles/np.sum(grid['cell_mass'])\n",
    "    ptPerVolume[i] = grid.NumberOfParticles/np.sum(grid['cell_volume'].in_units('kpc**3'))\n",
    "    level[i] = grid.Level\n",
    "    rr[i] = grid['radius'][4,4,4].in_units('kpc')"
   ]
  },
  {
   "cell_type": "code",
   "execution_count": null,
   "metadata": {},
   "outputs": [],
   "source": [
    "#print ptPerMass\n",
    "#plt.scatter(level, ptPerGrid, s=1, lw=0)\n",
    "#plt.scatter(level, ptPerMass*1E42, s=1, lw=0, c='r')\n",
    "plt.scatter(rr, ptPerVolume, s=1, lw=0, c='r')\n",
    "plt.xlim(0,500)\n",
    "plt.xlabel('r (kpc)')\n",
    "plt.ylabel('# particles per kpc^3')"
   ]
  },
  {
   "cell_type": "code",
   "execution_count": null,
   "metadata": {
    "collapsed": false
   },
   "outputs": [],
   "source": [
    "kpc=yt.units.kpc.in_units('cm')\n",
    "ad = ds.all_data()\n",
    "sphere=ds.sphere(np.array([0,0,0]), 150*kpc)"
   ]
  },
  {
   "cell_type": "code",
   "execution_count": null,
   "metadata": {},
   "outputs": [],
   "source": [
    "print len(ad['particle_posz'])\n",
    "numParticle = len(sphere['particle_posz'])\n",
    "print numParticle\n",
    "volume = 3./4.*np.pi*100**3\n",
    "print volume\n",
    "print numParticle/volume\n",
    "print 'mass', sum(sphere['cell_mass'])\n",
    "print 'volume', sum(sphere['cell_volume'])"
   ]
  },
  {
   "cell_type": "code",
   "execution_count": null,
   "metadata": {},
   "outputs": [],
   "source": [
    "ad = ds.all_data()\n",
    "ad.set_field_parameter('center', ds.arr([0,0,0]))\n",
    "kpc = yt.units.kpc\n",
    "plt.hist(ad[('io', 'particle_radius')]/kpc.in_units('cm').v, bins=100\n",
    ")#, cumulative=True)\n",
    "#plt.scatter(ad['particle_tag'], ad['particle_blk'], c=ad['particle_proc'], s=1, lw=0)\n",
    "plt.xlabel('kpc')"
   ]
  }
 ],
 "metadata": {
  "kernelspec": {
   "display_name": "Python 3",
   "language": "python",
   "name": "python3"
  },
  "language_info": {
   "codemirror_mode": {
    "name": "ipython",
    "version": 3
   },
   "file_extension": ".py",
   "mimetype": "text/x-python",
   "name": "python",
   "nbconvert_exporter": "python",
   "pygments_lexer": "ipython3",
   "version": "3.6.1"
  }
 },
 "nbformat": 4,
 "nbformat_minor": 1
}
