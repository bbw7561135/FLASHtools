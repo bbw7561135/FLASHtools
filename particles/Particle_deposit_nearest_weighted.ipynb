{
 "cells": [
  {
   "cell_type": "code",
   "execution_count": null,
   "metadata": {
    "collapsed": false
   },
   "outputs": [],
   "source": [
    "import yt\n",
    "from synchrotron.yt_synchrotron_emissivity import StokesFieldName\n",
    "from particle_filters import *\n",
    "import matplotlib.pyplot as plt"
   ]
  },
  {
   "cell_type": "code",
   "execution_count": null,
   "metadata": {},
   "outputs": [],
   "source": [
    "ptype = 'lobe'\n",
    "nu = (150, 'MHz')\n",
    "ds = yt.load('/d/d5/ychen/2015_production_runs/1022_h1_10Myr/data/MHD_Jet_10Myr_hdf5_plt_cnt_1050', \n",
    "             particle_filename='/d/d5/ychen/2015_production_runs/1022_h1_10Myr/data/MHD_Jet_10Myr_hdf5_part_1060_updated' )\n",
    "ds.add_particle_filter(ptype) \n",
    "stokes = StokesFieldName(ptype, nu, 'x', field_type='flash')\n",
    "#res = ds.domain_dimensions[1:]*ds.refine_by**ds.index.max_level//zoom_fac//2\n",
    "kpc = yt.units.kpc"
   ]
  },
  {
   "cell_type": "code",
   "execution_count": null,
   "metadata": {},
   "outputs": [],
   "source": [
    "cmap = plt.cm.jet\n",
    "cmap.set_bad('navy')\n",
    "plot = yt.SlicePlot(ds, 'x', stokes.I, center=ds.arr([0,0,0], input_units='kpc'), width=[(75, 'kpc'), (150, 'kpc')])\n",
    "plot.set_cmap(stokes.I, cmap)\n",
    "plot.set_log(stokes.I, True)\n",
    "plot.set_zlim(stokes.I, 1E-28, 1E-20)\n",
    "plot.set_buff_size((800,1600))\n",
    "plot.set_axes_unit('kpc')"
   ]
  },
  {
   "cell_type": "code",
   "execution_count": null,
   "metadata": {},
   "outputs": [],
   "source": [
    "ds = yt.load('/d/d5/ychen/2015_production_runs/0529_h1_00/data/MHD_Jet_hdf5_plt_cnt_0100',\n",
    "            particle_filename='/d/d5/ychen/2015_production_runs/0529_h1_00/data/MHD_Jet_hdf5_part_0100_updated')\n",
    "#ds.add_particle_filter(ptype) \n",
    "plot = yt.SlicePlot(ds, 'x', 'density', center=ds.arr([0,0,0], input_units='kpc'), width=[(20, 'kpc'), (40, 'kpc')])\n",
    "#plot.annotate_clear()\n",
    "plot.annotate_grids()#, draw_ids=True)\n",
    "#plot.annotate_particles(p_size=4, width=(10, 'kpc'), ptype='lobe')\n",
    "#plot.annotate_cell_edges(alpha=0.1)\n",
    "plot.show()"
   ]
  },
  {
   "cell_type": "code",
   "execution_count": null,
   "metadata": {
    "collapsed": false
   },
   "outputs": [],
   "source": []
  },
  {
   "cell_type": "code",
   "execution_count": null,
   "metadata": {},
   "outputs": [],
   "source": [
    "ds.all_data()[stokes.I].min()"
   ]
  },
  {
   "cell_type": "code",
   "execution_count": null,
   "metadata": {},
   "outputs": [],
   "source": [
    "import yt\n",
    "from synchrotron.yt_synchrotron_emissivity import add_synchrotron_dtau_emissivity, StokesFieldName\n",
    "ptype = 'lobe'\n",
    "nu = (150, 'MHz')\n",
    "ds_flash = yt.load('/home/ychen/data/0only_0529_h1/MHD_Jet_hdf5_plt_cnt_0600', \n",
    "             particle_filename='/home/ychen/data/0only_0529_h1/MHD_Jet_hdf5_part_0600_updated' ) \n",
    "stokesd = StokesFieldName(ptype, nu, 'x')\n",
    "add_synchrotron_dtau_emissivity(ds_flash, ptype=ptype, nu=nu, proj_axis='x', extend_cells=32)"
   ]
  }
 ],
 "metadata": {
  "kernelspec": {
   "display_name": "Python 3",
   "language": "python",
   "name": "python3"
  },
  "language_info": {
   "codemirror_mode": {
    "name": "ipython",
    "version": 3
   },
   "file_extension": ".py",
   "mimetype": "text/x-python",
   "name": "python",
   "nbconvert_exporter": "python",
   "pygments_lexer": "ipython3",
   "version": "3.6.1"
  }
 },
 "nbformat": 4,
 "nbformat_minor": 2
}
