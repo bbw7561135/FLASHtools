{
 "cells": [
  {
   "cell_type": "code",
   "execution_count": null,
   "metadata": {
    "collapsed": false
   },
   "outputs": [],
   "source": [
    "%pdb\n",
    "import numpy as np\n",
    "import util\n",
    "import multiprocessing\n",
    "import matplotlib\n",
    "matplotlib.rcParams['savefig.dpi'] = 150\n",
    "import matplotlib.pyplot as plt\n",
    "import yt\n",
    "import logging\n",
    "logging.getLogger('yt').setLevel(logging.WARNING)\n",
    "from yt.utilities.logger import ytLogger as mylog\n",
    "print yt.__version__\n",
    "from yt.data_objects.particle_filters import add_particle_filter\n",
    "from yt.fields.derived_field import ValidateGridType\n",
    "from yt.fields.field_detector import FieldDetector\n",
    "\n",
    "def JetP(pfilter, data):\n",
    "    #filter = data[(\"all\", \"particle_shok\")] == 0\n",
    "    filter = np.logical_and((data[(\"io\", \"particle_shok\")] == 0), \n",
    "                            (data[(\"io\", \"particle_gamc\")] > 0.0))\n",
    "    return filter\n",
    "def xcenter_slice(pfilter, data):\n",
    "    filter = abs(data[(\"io\", 'particle_posx')]) < 3.08567758E21\n",
    "    return filter\n",
    "add_particle_filter(\"jetp\", function=JetP, filtered_type='io', requires=[\"particle_shok\"])\n",
    "add_particle_filter(\"xcenter\", function=xcenter_slice, filtered_type='io', requires=[\"particle_posx\"])"
   ]
  },
  {
   "cell_type": "code",
   "execution_count": null,
   "metadata": {
    "collapsed": false
   },
   "outputs": [],
   "source": [
    "fname = '/home/ychen/d9/FLASH4/2015_production_runs/0529_L45_M10_b1_h1/MHD_Jet_hdf5_plt_cnt_0620'\n",
    "ds = yt.load(fname, particle_filename=fname.replace('plt_cnt', 'part'))\n",
    "ad = ds.all_data()"
   ]
  },
  {
   "cell_type": "code",
   "execution_count": null,
   "metadata": {
    "collapsed": false
   },
   "outputs": [],
   "source": [
    "\n",
    "#def _particle_pressure(field, data):\n",
    "#    required = data['gas', 'pressure']\n",
    "#    mylog.debug(\"Mapping grid data to particles for %s in %s\" % (field, data))\n",
    "#    return data.ds.find_field_values_at_points(('gas', 'pressure'), data[ptype, 'particle_position'])\n",
    "#logging.getLogger('yt').setLevel(logging.INFO)\n",
    "#ds.add_field((ptype, 'particle_pressure'), function=_particle_pressure, particle_type=True, units='g/(cm*s**2)')\n",
    "\n",
    "me = yt.utilities.physical_constants.mass_electron #9.109E-28\n",
    "c  = yt.utilities.physical_constants.speed_of_light #2.998E10\n",
    "e  = yt.utilities.physical_constants.elementary_charge #4.803E-10 esu\n",
    "\n",
    "gamma_min = yt.YTQuantity(10, 'dimensionless')\n",
    "#nu = 1.5E8 # 150MHz\n",
    "\n",
    "def _synchrotron_emissivity(field, data):\n",
    "    ptype = 'io'\n",
    "    # To convert from FLASH \"none\" unit to cgs unit, times the B field from FLASH by sqrt(4*pi)\n",
    "    B = np.sqrt(data[(ptype, 'particle_magx')]**2+data[(ptype, 'particle_magy')]**2+data[(ptype, 'particle_magz')]**2)\\\n",
    "        *np.sqrt(4.0*np.pi)\n",
    "    B = data.apply_units(B, 'G')\n",
    "    nuc = 3.0*data[(ptype, 'particle_gamc')]**2*e*B/(4.0*np.pi*me*c)\n",
    "    nu = data.get_field_parameter(\"frequency\", default=yt.YTQuantity(1.4, 'GHz'))\n",
    "    #P = data[(ptype, 'particle_pressure')]\n",
    "    #P = data[(ptype, 'particle_dens')]*yt.YTQuantity(1, 'dyne/cm**2')\n",
    "    fit_const = 5.8\n",
    "    norm = 0.5*B**1.5*e**3.5/(c**2.5*me**1.5*(4.*np.pi)**0.5)\n",
    "    N0 = 3.0/me/c/c/(np.log(np.abs(data[(ptype, 'particle_gamc')]/gamma_min)))\n",
    "\n",
    "    return N0*norm*fit_const*nu**(-0.5)*np.exp(-nu/nuc)\n",
    "#logging.getLogger('yt').setLevel(logging.DEBUG)\n",
    "nu = yt.YTQuantity(1.4, 'GHz') # 1.4GHz\n",
    "ds.add_field(('io', 'particle_emissivity'), function=_synchrotron_emissivity, particle_type=True, \n",
    "             display_name=\"%s Emissivity\" % nu, force_override=True)\n",
    "\n",
    "ds.add_particle_filter('jetp')\n",
    "#ds.add_field(('jetp', 'particle_emissivity'), function=_synchrotron_emissivity, particle_type=True,\n",
    "              #units='erg/s/cm**3/Hz')"
   ]
  },
  {
   "cell_type": "code",
   "execution_count": null,
   "metadata": {
    "collapsed": false
   },
   "outputs": [],
   "source": [
    "logging.getLogger('yt').setLevel(logging.INFO)\n",
    "ad['jetp', 'particle_emissivity']\n",
    "#ds.find_field_values_at_points('pres', [[1E23,0.,0.],[1E22,0.,0.]])\n"
   ]
  },
  {
   "cell_type": "code",
   "execution_count": null,
   "metadata": {
    "collapsed": false
   },
   "outputs": [],
   "source": [
    "logging.getLogger('yt').setLevel(logging.DEBUG)\n",
    "p = None\n",
    "pemis = None\n",
    "def _deposit_average_filling(field, grid, method=1):\n",
    "    #data._debug()\n",
    "    ptype = 'jetp'\n",
    "    deposit_field = 'particle_emissivity'\n",
    "    uq = grid['gas', 'pressure'].uq\n",
    "    if isinstance(grid, FieldDetector): return grid[ptype, deposit_field]*uq\n",
    "    if len(grid[ptype, deposit_field]) > 0: return grid['gas', 'pressure']*grid[ptype, deposit_field].mean()\n",
    "    #else: return data['zeros']*uq\n",
    "    elif grid.Level == 0: return grid['zeros']*uq\n",
    "    else:\n",
    "        if method == 1:\n",
    "            pfield = np.zeros(0)\n",
    "            grids_to_go = grid.Parent.Children\n",
    "            #for i, gr in enumerate(grids_to_go):\n",
    "            #    if len(gr.Children) > 0:\n",
    "            #        del grids_to_go[i]\n",
    "            #        grids_to_go.extend(gr.Children)\n",
    "            for gr in grids_to_go:\n",
    "                pfield = np.concatenate([pfield, gr[ptype, deposit_field]])\n",
    "            if len(pfield) == 0: \n",
    "                return grid['zeros']*uq\n",
    "            else:\n",
    "                return grid['gas', 'pressure']*pfield.mean()        \n",
    "        if method == 2:\n",
    "            global p, pemis\n",
    "            if p is None or pemis is None:\n",
    "                import time\n",
    "                t0 = time.time()\n",
    "                p = ds.all_data()['jetp', 'particle_position']\n",
    "                mylog.debug('Load particle position time:', time.time() - t0)\n",
    "                t0 = time.time()\n",
    "                pemis = ds.all_data()['jetp', 'particle_emissivity']\n",
    "                mylog.debug('Calculate particle emissivity time:', time.time() - t0)\n",
    "            l = grid.LeftEdge\n",
    "            r = grid.RightEdge\n",
    "            c = (l+r)/2.\n",
    "            i = 1\n",
    "            filter = p[:,0]>l[0] \n",
    "            for i in range(3):\n",
    "                filter *= (p[:,i]>l[i])*(p[:,i]<r[i])\n",
    "            #reg = grid.ds.region(c, c+(l-c)*fac, c+(r-c)*fac)\n",
    "            while len(pemis[filter]) == 0 and i < grid.Level:\n",
    "                i += 1\n",
    "                l = c+(l-c)*2.\n",
    "                r = c+(r-c)*2.\n",
    "                filter = p[:,0]>l[0] \n",
    "                for i in range(3):\n",
    "                    filter *= (p[:,i]>l[i])*(p[:,i]<r[i])\n",
    "                #reg = grid.ds.region(c, c+(l-c)*fac, c+(r-c)*fac)\n",
    "            return grid['gas', 'pressure']*pemis[filter].mean()\n",
    "\n",
    "\n",
    "\n",
    "    #pdata = data['all', 'particle_gamc']\n",
    "    #grid_id = np.unique(data['index', 'grid_indices'])[0]\n",
    "    #if len(np.unique(data['index', 'grid_indices'])) > 1:\n",
    "    #    raise RuntimError\n",
    "    #grid_id = data.id\n",
    "    #data._debug()\n",
    "    #l = data.Level\n",
    "    #while grid_id not in GridParticles and l > data.ds.index.max_level:\n",
    "        #id_offset = data._id_offset\n",
    "        #grid_id = data.Parent.id\n",
    "        #l-=1\n",
    "    #if grid_id not in GridParticles: return data['zeros']\n",
    "    \n",
    "    #return data['zeros'] + pdata[GridParticles[grid_id]].mean()\n",
    "\n",
    "ds.add_field(('deposit', 'avgfill_emissivity'), function=_deposit_average_filling, validators=[ValidateGridType()],\n",
    "             display_name=\"%s Emissivity\" % nu, units='erg/s/cm**3/Hz', take_log=True, force_override=True)"
   ]
  },
  {
   "cell_type": "code",
   "execution_count": null,
   "metadata": {
    "collapsed": false,
    "scrolled": false
   },
   "outputs": [],
   "source": [
    "logging.getLogger('yt').setLevel(logging.INFO)\n",
    "slice = yt.SlicePlot(ds, 'x', ('deposit', 'avgfill_emissivity'), center=(0,0,0))\n",
    "slice.set_zlim(('deposit', 'avgfill_emissivity'), 1E-36, 1E-32)\n",
    "slice.annotate_grids()\n",
    "slice.zoom(10)"
   ]
  },
  {
   "cell_type": "code",
   "execution_count": null,
   "metadata": {
    "collapsed": false
   },
   "outputs": [],
   "source": [
    "logging.getLogger('yt').setLevel(logging.INFO)\n",
    "proj = yt.ProjectionPlot(ds, 'x', ('deposit', 'avgfill_emissivity'), center=(0,0,0))\n",
    "proj.set_zlim(('deposit', 'avgfill_emissivity'), 1E-36, 1E-32)\n",
    "#proj.annotate_grids()\n",
    "proj.zoom(10)\n",
    "proj.show()"
   ]
  },
  {
   "cell_type": "code",
   "execution_count": null,
   "metadata": {
    "collapsed": false,
    "scrolled": false
   },
   "outputs": [],
   "source": [
    "#logging.getLogger('yt').setLevel(logging.INFO)\n",
    "#proj = yt.ProjectionPlot(ds, 'x', ('deposit', 'emissivity_nn'), center=(0,0,0))\n",
    "#proj.set_zlim(('deposit', 'avgfill_emissivity'), 1E-36, 1E-32)\n",
    "proj.set_zlim(('deposit', 'emissivity_nn'), 1E-14, 1E-10)\n",
    "#proj.annotate_grids()\n",
    "#proj.zoom(8)\n",
    "proj.show()"
   ]
  },
  {
   "cell_type": "code",
   "execution_count": null,
   "metadata": {
    "collapsed": false
   },
   "outputs": [],
   "source": [
    "pos = yt.YTArray([0.0, -1.2, 9.0])*3.0857E21\n",
    "grids = ds.index.grids\n",
    "for grid in grids:\n",
    "    if grid['jetp', 'particle_emissivity'].mean() == 0:\n",
    "        print grid, grid.LeftEdge.in_units('kpc')\n",
    "    "
   ]
  },
  {
   "cell_type": "code",
   "execution_count": null,
   "metadata": {
    "collapsed": false
   },
   "outputs": [],
   "source": [
    "ds.add_deposited_particle_field(('io', 'particle_emissivity'), 'nearest')\n",
    "def _synchrotron_emissivity_pres(field, data):\n",
    "    return data['deposit', 'io_nn_emissivity']*data['gas', 'pressure']\n",
    "\n",
    "fn = ds.add_field(('deposit', 'emissivity_nn'), function=_synchrotron_emissivity_pres,\n",
    "             display_name='Emissivity', units='erg/s/cm**3/Hz', take_log=True, force_override=True)"
   ]
  },
  {
   "cell_type": "code",
   "execution_count": null,
   "metadata": {
    "collapsed": false
   },
   "outputs": [],
   "source": [
    "fn = 'emissivity_nn'\n",
    "proj = yt.ProjectionPlot(ds, 'x', fn, center=(0,0,0))\n",
    "proj.set_zlim(fn, 1E-14, 1E-10)\n",
    "#proj.annotate_grids()\n",
    "proj.zoom(10)"
   ]
  },
  {
   "cell_type": "code",
   "execution_count": null,
   "metadata": {
    "collapsed": false
   },
   "outputs": [],
   "source": [
    "proj.save('/home/ychen/d9/FLASH4/stampede/0529_L45_M10_b1_h1/0620_nn_deposited_emissivity.png')"
   ]
  },
  {
   "cell_type": "code",
   "execution_count": null,
   "metadata": {
    "collapsed": false
   },
   "outputs": [],
   "source": [
    "def map_particles_to_grid(ds):\n",
    "    ad = ds.all_data()\n",
    "    pos = ad['particle_position']\n",
    "    grids, indices = ds.index._find_points(pos[:,0], pos[:,1], pos[:,2])\n",
    "    GridParticles = {}\n",
    "    for ind, grid in enumerate(grids):\n",
    "        if grid.id not in GridParticles:\n",
    "            GridParticles[grid.id] = []\n",
    "        GridParticles[grid.id].append(ind)\n",
    "        \n",
    "    # Fill particles for parent blocks\n",
    "    for level in reversed(range(ds.index.max_level)):\n",
    "        for grid.id in ds.index.select_grids(level):\n",
    "            if grid.id not in GridParticles and len(grid.Children) > 0:\n",
    "                #print grid.Children\n",
    "                GridParticles[grid.id] = []\n",
    "                for cgr in grid.Children:\n",
    "                    if cgr in GridParticles:\n",
    "                        #print 'ChildrenParticles:', GridParticles[cgr]\n",
    "                        GridParticles[grid].extend(GridParticles[cgr.id])\n",
    "                #print 'AllParticles:', GridParticles[grid]\n",
    "                if len(GridParticles[grid.id]) == 0:\n",
    "                    del GridParticles[grid.id]\n",
    "    return GridParticles"
   ]
  },
  {
   "cell_type": "code",
   "execution_count": null,
   "metadata": {
    "collapsed": false
   },
   "outputs": [],
   "source": [
    "import time\n",
    "t0 = time.time()\n",
    "ad = ds.all_data()\n",
    "pos = ad['particle_position']\n",
    "print 'Load particle position time:', time.time() - t0\n",
    "t0 = time.time()\n",
    "GridParticles = map_particles_to_grid(ds)\n",
    "print 'Mapping time:', time.time() - t0\n",
    "print len(GridParticles)\n",
    "print 'number of particles:', len(pos)"
   ]
  },
  {
   "cell_type": "code",
   "execution_count": null,
   "metadata": {
    "collapsed": false
   },
   "outputs": [],
   "source": [
    "#@yt.derived_field(name=('deposit', 'average_filling'), validators=[ValidateGridType()])\n",
    "def _deposit_average_filling(field, data):\n",
    "    if isinstance(data, FieldDetector): return data['zeros']\n",
    "    if len(data['all', 'particle_gamc']) > 0: return data['zeros'] + data['all', 'particle_gamc'].mean()\n",
    "    elif data.Level == 0: return data['zeros']\n",
    "    else:\n",
    "        mean = np.concatenate([ngrid['all', 'particle_gamc'] for ngrid in data.Parent.Children]).mean()\n",
    "        return data['zeros'] + mean\n",
    "    #pdata = data['all', 'particle_gamc']\n",
    "    #grid_id = np.unique(data['index', 'grid_indices'])[0]\n",
    "    #if len(np.unique(data['index', 'grid_indices'])) > 1:\n",
    "    #    raise RuntimError\n",
    "    #grid_id = data.id\n",
    "    #data._debug()\n",
    "    #l = data.Level\n",
    "    #while grid_id not in GridParticles and l > data.ds.index.max_level:\n",
    "        #id_offset = data._id_offset\n",
    "        #grid_id = data.Parent.id\n",
    "        #l-=1\n",
    "    #if grid_id not in GridParticles: return data['zeros']\n",
    "    \n",
    "    #return data['zeros'] + pdata[GridParticles[grid_id]].mean()\n",
    "\n",
    "ds.add_field(('deposit', 'average_filling'), function=_deposit_average_filling, validators=[ValidateGridType()])"
   ]
  },
  {
   "cell_type": "code",
   "execution_count": null,
   "metadata": {
    "collapsed": false
   },
   "outputs": [],
   "source": [
    "ad['deposit', 'average_filling']"
   ]
  },
  {
   "cell_type": "code",
   "execution_count": null,
   "metadata": {
    "collapsed": false
   },
   "outputs": [],
   "source": []
  },
  {
   "cell_type": "code",
   "execution_count": null,
   "metadata": {
    "collapsed": false
   },
   "outputs": [],
   "source": [
    "slice.annotate_grids(alpha=0.1, draw_ids=True)\n",
    "\n",
    "slice.show()"
   ]
  },
  {
   "cell_type": "code",
   "execution_count": null,
   "metadata": {
    "collapsed": false
   },
   "outputs": [],
   "source": [
    "# Fill particles for parent blocks\n",
    "for level in reversed(range(ds.index.max_level)):\n",
    "    nPart = 0\n",
    "    for grid in ds.index.select_grids(level):\n",
    "        if grid not in GridParticles and len(grid.Children) > 0:\n",
    "            #print grid.Children\n",
    "            GridParticles[grid] = []\n",
    "            for cgr in grid.Children:\n",
    "                if cgr in GridParticles:\n",
    "                    #print 'ChildrenParticles:', GridParticles[cgr]\n",
    "                    GridParticles[grid].extend(GridParticles[cgr])\n",
    "                    nPart += len(GridParticles[cgr])\n",
    "            #print 'AllParticles:', GridParticles[grid]\n",
    "            if len(GridParticles[grid]) == 0:\n",
    "                del GridParticles[grid]\n",
    "    print 'level ', level, ', number of particles:', nPart\n",
    "print len(GridParticles)"
   ]
  },
  {
   "cell_type": "code",
   "execution_count": null,
   "metadata": {
    "collapsed": false
   },
   "outputs": [],
   "source": [
    "nPart = 0\n",
    "for grid in ds.index.select_grids(0):\n",
    "    if grid in GridParticles:\n",
    "        #print len(GridParticles[grid])\n",
    "        nPart += len(GridParticles[grid])\n",
    "print nPart"
   ]
  },
  {
   "cell_type": "code",
   "execution_count": null,
   "metadata": {
    "collapsed": false
   },
   "outputs": [],
   "source": []
  },
  {
   "cell_type": "code",
   "execution_count": null,
   "metadata": {
    "collapsed": false
   },
   "outputs": [],
   "source": [
    "max = 0\n",
    "maxg = None\n",
    "maxp = None\n",
    "for grid, particles in GridParticles.iteritems():\n",
    "    if len(particles) > max:\n",
    "        max = len(particles)\n",
    "        maxg = grid\n",
    "        maxp = particles\n",
    "print max, maxg, maxg.Level, maxg.LeftEdge"
   ]
  },
  {
   "cell_type": "code",
   "execution_count": null,
   "metadata": {
    "collapsed": false
   },
   "outputs": [],
   "source": [
    "for grid in ds.index.grids:\n",
    "    if grid in GridParticles:\n",
    "        grid[('gas','test')].fill(np.average(ad['particle_gamc'][GridParticles[grid]]))\n",
    "    \n",
    "    #elif grid.Parent is not None and grid.Parent in GridParticles:\n",
    "    #    grid[('gas','test')].fill(np.average(ad['particle_gamc'][GridParticles[grid.Parent]]))\n",
    "    #    print np.average(ad['particle_gamc'][GridParticles[grid]])\n",
    "    #    print len(ad['particle_gamc'][GridParticles[grid]])"
   ]
  },
  {
   "cell_type": "code",
   "execution_count": null,
   "metadata": {
    "collapsed": false
   },
   "outputs": [],
   "source": [
    "for grid in ds.index.select_grids(0):\n",
    "    print grid['gas','test']\n",
    "    break\n",
    "    if sum(grid['gas','test'])>0:\n",
    "        print grid['gas','test']"
   ]
  },
  {
   "cell_type": "code",
   "execution_count": null,
   "metadata": {
    "collapsed": false
   },
   "outputs": [],
   "source": [
    "ad['gas', 'test'].max()"
   ]
  },
  {
   "cell_type": "code",
   "execution_count": null,
   "metadata": {
    "collapsed": false
   },
   "outputs": [],
   "source": [
    "for grid, particles in GridParticles.iteritems():\n",
    "    if len(particles) != grid.NumberOfParticles:\n",
    "        print grid, len(particles), grid.NumberOfParticles"
   ]
  },
  {
   "cell_type": "code",
   "execution_count": null,
   "metadata": {
    "collapsed": false
   },
   "outputs": [],
   "source": [
    "plt.hist(ad['jetp', 'particle_dens'])"
   ]
  },
  {
   "cell_type": "code",
   "execution_count": null,
   "metadata": {
    "collapsed": false
   },
   "outputs": [],
   "source": []
  }
 ],
 "metadata": {
  "kernelspec": {
   "display_name": "Python 2",
   "language": "python",
   "name": "python2"
  },
  "language_info": {
   "codemirror_mode": {
    "name": "ipython",
    "version": 2
   },
   "file_extension": ".py",
   "mimetype": "text/x-python",
   "name": "python",
   "nbconvert_exporter": "python",
   "pygments_lexer": "ipython2",
   "version": "2.7.10"
  }
 },
 "nbformat": 4,
 "nbformat_minor": 0
}
