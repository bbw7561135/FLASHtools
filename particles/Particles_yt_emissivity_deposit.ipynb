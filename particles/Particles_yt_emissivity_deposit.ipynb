{
 "cells": [
  {
   "cell_type": "code",
   "execution_count": null,
   "metadata": {
    "collapsed": false
   },
   "outputs": [],
   "source": [
    "#%pdb\n",
    "%matplotlib inline\n",
    "import numpy as np\n",
    "import matplotlib\n",
    "matplotlib.rcParams['savefig.dpi'] = 100\n",
    "import matplotlib.pyplot as plt\n",
    "from yt_emissivity import *"
   ]
  },
  {
   "cell_type": "code",
   "execution_count": null,
   "metadata": {
    "collapsed": false
   },
   "outputs": [],
   "source": [
    "fname = '/d/d4/ychen/2016_production_runs/1111_L45_M10_b01_h1/MHD_Jet_hdf5_plt_cnt_0200'\n",
    "ds = yt.load(fname)\n",
    "#print ds.derived_field_list"
   ]
  },
  {
   "cell_type": "code",
   "execution_count": null,
   "metadata": {
    "collapsed": false
   },
   "outputs": [],
   "source": [
    "nu = (150, 'MHz')\n",
    "ptype = 'lobe'\n",
    "pars = add_emissivity(ds, ptype=ptype, nu=nu)\n",
    "print pars\n",
    "norm = yt.YTQuantity(*nu).in_units('GHz').value**0.5\n",
    "field = ('deposit', ('nn_emissivity_%s_%%.1f%%s' % ptype) % nu)\n",
    "proj_axis = 'x'\n",
    "plot = yt.SlicePlot(ds, proj_axis, field, center=(0,0,0))\n",
    "#plot.set_cmap(field, 'Blue-Red')\n",
    "plot.set_zlim(field, 1E-25/norm, 1E-21/norm)\n",
    "plot.zoom(20)\n",
    "plot.show()"
   ]
  },
  {
   "cell_type": "code",
   "execution_count": null,
   "metadata": {
    "collapsed": false
   },
   "outputs": [],
   "source": [
    "plot = yt.ProjectionPlot(ds, proj_axis, field, center=(0,0,0), max_level=2)\n",
    "#plot.set_zlim(field, 1E-3/norm, 1E1/norm)\n",
    "#plot.zoom(20)\n",
    "plot.show()"
   ]
  },
  {
   "cell_type": "code",
   "execution_count": null,
   "metadata": {
    "collapsed": false
   },
   "outputs": [],
   "source": [
    "projs = {}\n",
    "proj_axis = 'x'\n",
    "ptype = 'jnsp'\n",
    "for nu in [(150, 'MHz'), (1.4, 'GHz')]:\n",
    "    pars = add_emissivity(ds, ptype=ptype, nu=nu)\n",
    "    field = ('deposit', ('nn_emissivity_%s_%%.1f%%s' % ptype) % nu)\n",
    "    projs[nu] = ds.proj(field, proj_axis, center=[0,0,0])"
   ]
  },
  {
   "cell_type": "code",
   "execution_count": null,
   "metadata": {
    "collapsed": false
   },
   "outputs": [],
   "source": [
    "ext = ds.arr([-7.72E22, 7.72E22, -1.544E23, 1.544E23], input_units='code_length')\n",
    "frb1 = projs[(1.4, 'GHz')].to_frb(ext[1]-ext[0], (1600,800), height=(ext[3]-ext[2]))\n",
    "frb2 = projs[(150, 'MHz')].to_frb(ext[1]-ext[0], (1600,800), height=(ext[3]-ext[2]))\n",
    "S1 = frb1[('deposit', 'nn_emissivity_%s_1.4GHz' % ptype)]\n",
    "S2 = frb2[('deposit', 'nn_emissivity_%s_150.0MHz' % ptype)]\n",
    "alpha = np.log(S1/S2)/np.log(1400/150)\n",
    "alpha = np.ma.masked_where(S1 < 1E-3, np.array(alpha))"
   ]
  },
  {
   "cell_type": "code",
   "execution_count": null,
   "metadata": {
    "collapsed": false
   },
   "outputs": [],
   "source": [
    "x=450\n",
    "y=800\n",
    "print S1[y,x]\n",
    "print alpha[y,x]\n",
    "print alpha.mask[y,x]\n",
    "print np.array(alpha)[y,x]"
   ]
  },
  {
   "cell_type": "code",
   "execution_count": null,
   "metadata": {
    "collapsed": false
   },
   "outputs": [],
   "source": [
    "fig = plt.figure(figsize=(8,12), dpi=150)\n",
    "plt.imshow(alpha, vmin=-2, vmax=-0.5, extent=ext.in_units('kpc'), origin='lower', interpolation='nearest')\n",
    "cb = plt.colorbar()"
   ]
  },
  {
   "cell_type": "code",
   "execution_count": null,
   "metadata": {
    "collapsed": false
   },
   "outputs": [],
   "source": [
    "fig = plt.figure(figsize=(8,12), dpi=150)\n",
    "ims = plt.imshow(np.array(alpha), vmin=-2, vmax=0, extent=ext.in_units('kpc'), origin='lower', interpolation='nearest', aspect='auto')\n",
    "plt.xlabel('y (kpc)')\n",
    "plt.ylabel('z (kpc)')\n",
    "plt.clim(-2.0,-0.5)\n",
    "\n",
    "cb = plt.colorbar()\n",
    "cb.set_label('Spectral Index (1.4GHz/150MHz)')\n",
    "plt.savefig('alpha.png')"
   ]
  },
  {
   "cell_type": "code",
   "execution_count": null,
   "metadata": {
    "collapsed": false
   },
   "outputs": [],
   "source": [
    "from yt.visualization.plot_window import PlotWindow\n",
    "\n",
    "plot = PlotWindow(ds.all_data(), ext)"
   ]
  },
  {
   "cell_type": "code",
   "execution_count": null,
   "metadata": {
    "collapsed": false
   },
   "outputs": [],
   "source": [
    "\n",
    "dir = '/home/ychen/data/0only_0529_h1/'\n",
    "dfn = 'MHD_Jet_hdf5_plt_cnt_0040'\n",
    "\n",
    "import shelve\n",
    "ds = yt.load(dir+dfn)\n",
    "saved_fn = shelve.open(dir+'projs/'+dfn+'_projs.cpkl')\n",
    "saved_fn.items\n",
    "\n"
   ]
  },
  {
   "cell_type": "code",
   "execution_count": null,
   "metadata": {
    "collapsed": false
   },
   "outputs": [],
   "source": [
    "field = ('gas', 'density')\n",
    "L = [1,0,1]\n",
    "north_vector = [0,0,1]\n",
    "proj = yt.OffAxisProjectionPlot(ds, L, field, center=(0,0,0), north_vector=north_vector)"
   ]
  },
  {
   "cell_type": "code",
   "execution_count": null,
   "metadata": {
    "collapsed": false
   },
   "outputs": [],
   "source": [
    "proj.set_zlim(field, 2.2E-2, 3.1E-2)\n",
    "proj.set_log(field, False)\n",
    "proj.show()"
   ]
  },
  {
   "cell_type": "code",
   "execution_count": null,
   "metadata": {
    "collapsed": false
   },
   "outputs": [],
   "source": [
    "def _deposit_average_filling(field, grid):\n",
    "    #data._debug()\n",
    "    ptype = 'jetp'\n",
    "    deposit_field = 'particle_emissivity'\n",
    "    uq = grid['gas', 'pressure'].uq\n",
    "    if isinstance(grid, FieldDetector): return grid[ptype, deposit_field]*uq\n",
    "    if len(grid[ptype, deposit_field]) > 0: return grid['gas', 'pressure']*grid[ptype, deposit_field].mean()\n",
    "    #else: return data['zeros']*uq\n",
    "    elif grid.Level == 0: return grid['zeros']*uq\n",
    "    else:\n",
    "        pfield = np.zeros(0)\n",
    "        grids_to_go = grid.Parent.Children\n",
    "        #for i, gr in enumerate(grids_to_go):\n",
    "        #    if len(gr.Children) > 0:\n",
    "        #        del grids_to_go[i]\n",
    "        #        grids_to_go.extend(gr.Children)\n",
    "        for gr in grids_to_go:\n",
    "            pfield = np.concatenate([pfield, gr[ptype, deposit_field]])\n",
    "        if len(pfield) == 0: \n",
    "            return grid['zeros']*uq\n",
    "        else:\n",
    "            return grid['gas', 'pressure']*pfield.mean()\n",
    "\n",
    "ds.add_field(('deposit', 'avgfill_emissivity'), function=_deposit_average_filling, validators=[ValidateGridType()],\n",
    "             display_name=\"%s Emissivity\" % nu, units='erg/s/cm**3/Hz', take_log=True, force_override=True)"
   ]
  },
  {
   "cell_type": "code",
   "execution_count": null,
   "metadata": {
    "collapsed": false,
    "scrolled": false
   },
   "outputs": [],
   "source": [
    "logging.getLogger('yt').setLevel(logging.INFO)\n",
    "slice = yt.SlicePlot(ds, 'x', ('deposit', 'avgfill_emissivity'), center=(0,0,0))\n",
    "slice.set_zlim(('deposit', 'avgfill_emissivity'), 1E-36, 1E-32)\n",
    "slice.annotate_grids()\n",
    "slice.zoom(10)"
   ]
  },
  {
   "cell_type": "code",
   "execution_count": null,
   "metadata": {
    "collapsed": false
   },
   "outputs": [],
   "source": [
    "logging.getLogger('yt').setLevel(logging.INFO)\n",
    "proj = yt.ProjectionPlot(ds, 'x', ('deposit', 'avgfill_emissivity'), center=(0,0,0))\n",
    "proj.set_zlim(('deposit', 'avgfill_emissivity'), 1E-36, 1E-32)\n",
    "#proj.annotate_grids()\n",
    "proj.zoom(10)\n",
    "proj.show()"
   ]
  },
  {
   "cell_type": "code",
   "execution_count": null,
   "metadata": {
    "collapsed": false
   },
   "outputs": [],
   "source": [
    "proj.set_zlim(('deposit', 'avgfill_emissivity'), 1E-14, 1E-10)\n",
    "proj.save('/home/ychen/d9/FLASH4/stampede/0529_L45_M10_b1_h1/0620_avgfill_deposited_emissivity2.png')"
   ]
  },
  {
   "cell_type": "code",
   "execution_count": null,
   "metadata": {
    "collapsed": false,
    "scrolled": false
   },
   "outputs": [],
   "source": [
    "#logging.getLogger('yt').setLevel(logging.INFO)\n",
    "#proj = yt.ProjectionPlot(ds, 'x', ('deposit', 'emissivity_nn'), center=(0,0,0))\n",
    "#proj.set_zlim(('deposit', 'avgfill_emissivity'), 1E-36, 1E-32)\n",
    "proj.set_zlim(('deposit', 'emissivity_nn'), 1E-14, 1E-10)\n",
    "#proj.annotate_grids()\n",
    "#proj.zoom(8)\n",
    "proj.show()"
   ]
  },
  {
   "cell_type": "code",
   "execution_count": null,
   "metadata": {
    "collapsed": false
   },
   "outputs": [],
   "source": [
    "ds.add_deposited_particle_field(('io', 'particle_emissivity'), 'nearest')\n",
    "def _synchrotron_emissivity_pres(field, data):\n",
    "    return data['deposit', 'io_nn_emissivity']*data['gas', 'pressure']\n",
    "\n",
    "fn = ds.add_field(('deposit', 'emissivity_nn'), function=_synchrotron_emissivity_pres,\n",
    "             display_name='Emissivity', units='erg/s/cm**3/Hz', take_log=True, force_override=True)"
   ]
  },
  {
   "cell_type": "code",
   "execution_count": null,
   "metadata": {
    "collapsed": false,
    "scrolled": false
   },
   "outputs": [],
   "source": [
    "fn = 'emissivity_nn'\n",
    "slice = yt.SlicePlot(ds, 'x', fn, center=(0,0,0))\n",
    "slice.set_zlim(fn, 1E-36, 1E-32)\n",
    "slice.annotate_grids()\n",
    "slice.zoom(10)"
   ]
  }
 ],
 "metadata": {
  "kernelspec": {
   "display_name": "Python 2",
   "language": "python",
   "name": "python2"
  },
  "language_info": {
   "codemirror_mode": {
    "name": "ipython",
    "version": 2
   },
   "file_extension": ".py",
   "mimetype": "text/x-python",
   "name": "python",
   "nbconvert_exporter": "python",
   "pygments_lexer": "ipython2",
   "version": "2.7.10"
  }
 },
 "nbformat": 4,
 "nbformat_minor": 0
}
