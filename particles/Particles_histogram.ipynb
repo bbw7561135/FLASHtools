{
 "cells": [
  {
   "cell_type": "code",
   "execution_count": null,
   "metadata": {
    "collapsed": false
   },
   "outputs": [],
   "source": [
    "import yt\n",
    "import matplotlib.pyplot as plt\n",
    "import numpy as np\n",
    "from synchrotron.yt_synchrotron_emissivity import setup_part_file, add_synchrotron_dtau_emissivity"
   ]
  },
  {
   "cell_type": "code",
   "execution_count": null,
   "metadata": {},
   "outputs": [],
   "source": [
    "ds = yt.load('/d/d5/ychen/2015_production_runs/1022_h1_10Myr/data/MHD_Jet_10Myr_hdf5_plt_cnt_0600')\n",
    "setup_part_file(ds)"
   ]
  },
  {
   "cell_type": "code",
   "execution_count": null,
   "metadata": {},
   "outputs": [],
   "source": [
    "ptype = 'lobe'\n",
    "ds.add_particle_filter(ptype)\n",
    "ad = ds.all_data()"
   ]
  },
  {
   "cell_type": "code",
   "execution_count": null,
   "metadata": {},
   "outputs": [],
   "source": [
    "pdata = ad[ptype, 'particle_tau']\n",
    "null = plt.hist(np.log10(pdata), range=(-6, -2), bins='auto')\n",
    "plt.title('log particle_tau')"
   ]
  },
  {
   "cell_type": "code",
   "execution_count": null,
   "metadata": {},
   "outputs": [],
   "source": [
    "pdata = ad[ptype, 'particle_gamc']\n",
    "null = plt.hist(np.log10(pdata), range=(1, 6), bins='auto')\n",
    "plt.title('log particle_gamc')"
   ]
  },
  {
   "cell_type": "code",
   "execution_count": null,
   "metadata": {},
   "outputs": [],
   "source": [
    "pdata = ad[ptype, 'particle_dtau']\n",
    "null = plt.hist(np.log10(pdata), range=(-6, -2), bins='auto')\n",
    "median = np.median(np.log10(pdata))\n",
    "plt.vlines(median, 0, 3000)\n",
    "plt.title('log particle_dtau')"
   ]
  },
  {
   "cell_type": "code",
   "execution_count": null,
   "metadata": {},
   "outputs": [],
   "source": [
    "pdata = (ad[ptype, 'particle_dens']/ad[ptype, 'particle_den1'])**(1./3.)/ ad[ptype, 'particle_dtau']\n",
    "null = plt.hist(np.log10(pdata), range=(1, 6), bins='auto', label='gamc_dtau (den1)', alpha=0.8)\n",
    "\n",
    "pdata = (ad[ptype, 'particle_dens']/ad[ptype, 'particle_den0'])**(1./3.)/ ad[ptype, 'particle_dtau']\n",
    "null = plt.hist(np.log10(pdata), range=(1, 6), bins='auto', label='gamc_dtau', alpha=0.8)\n",
    "pdata = ad[ptype, 'particle_gamc']\n",
    "null = plt.hist(np.log10(pdata), range=(1, 6), bins='auto', label='gamc', alpha=0.8)\n",
    "plt.legend()\n",
    "plt.title('log particle_gamc_dtau')"
   ]
  },
  {
   "cell_type": "code",
   "execution_count": null,
   "metadata": {},
   "outputs": [],
   "source": [
    "pdata = (ad[ptype, 'particle_dens'])\n",
    "null = plt.hist(np.log10(pdata), bins='auto', label=r'$\\rho$', alpha=0.8)\n",
    "pdata = (ad[ptype, 'particle_den1'])\n",
    "null = plt.hist(np.log10(pdata), bins='auto', label=r'$\\rho_1$', alpha=0.8)\n",
    "plt.xlim(-28, -24)\n",
    "#plt.vlines(0, 0, 4000)\n",
    "plt.legend()\n",
    "plt.title(r'log $\\rho$')"
   ]
  },
  {
   "cell_type": "code",
   "execution_count": null,
   "metadata": {},
   "outputs": [],
   "source": [
    "pdata = (ad[ptype, 'particle_dens']/ad[ptype, 'particle_den1'])\n",
    "null = plt.hist(np.log10(pdata), bins='auto', label=r'log $\\rho / \\rho_1$', alpha=0.8)\n",
    "pdata = (ad[ptype, 'particle_dens']/ad[ptype, 'particle_den0'])\n",
    "null = plt.hist(np.log10(pdata), bins='auto', label=r'log $\\rho / \\rho_0$', alpha=0.8)\n",
    "plt.legend()\n",
    "#plt.xlim(-3, 2)\n",
    "plt.axvline(0)\n",
    "plt.title(r'log $\\rho / \\rho_1$')"
   ]
  },
  {
   "cell_type": "code",
   "execution_count": null,
   "metadata": {},
   "outputs": [],
   "source": [
    "add_synchrotron_dtau_emissivity(ds, nu=(150, 'MHz'))"
   ]
  },
  {
   "cell_type": "code",
   "execution_count": null,
   "metadata": {},
   "outputs": [],
   "source": [
    "pdata = ad[ptype, 'particle_sync_spec_150.0MHz']\n",
    "null = plt.hist(np.log10(pdata), range=(-60, -35), bins='auto')"
   ]
  },
  {
   "cell_type": "code",
   "execution_count": null,
   "metadata": {},
   "outputs": [],
   "source": [
    "gamc_dtau = (ad[ptype, 'particle_dens']/ad[ptype, 'particle_den0'])**(1./3.)/ ad[ptype, 'particle_dtau']\n",
    "B2 = (ad[ptype, 'particle_magx']**2 + ad[ptype, 'particle_magy']*2 + ad[ptype, 'particle_magz']**2)/2"
   ]
  },
  {
   "cell_type": "code",
   "execution_count": null,
   "metadata": {},
   "outputs": [],
   "source": [
    "plt.scatter(np.log10(gamc_dtau), np.log10(B2), s=1, linewidth=0)\n",
    "plt.xlim(1,6)"
   ]
  },
  {
   "cell_type": "code",
   "execution_count": null,
   "metadata": {},
   "outputs": [],
   "source": [
    "import matplotlib\n",
    "matplotlib.rcParams['figure.dpi'] = 150\n",
    "plt.scatter(np.log10(ad[ptype, 'particle_den1']), np.log10(gamc_dtau), c=np.log10(ad[ptype, 'particle_dens']/ad[ptype, 'particle_den1']), vmin=-1, vmax=1, s=1, cmap='seismic', linewidth=0, alpha=0.5)\n",
    "plt.ylim(1,7)\n",
    "plt.xlim(-29, -24)\n",
    "plt.ylabel(r'$\\log \\gamma_c$')\n",
    "plt.xlabel(r'$\\log \\rho_1$')\n",
    "cb = plt.colorbar()\n",
    "cb.set_label(r'$\\rho / \\rho_1$')"
   ]
  },
  {
   "cell_type": "code",
   "execution_count": null,
   "metadata": {},
   "outputs": [],
   "source": [
    "import matplotlib\n",
    "plt.scatter(np.log10(ad[ptype, 'particle_dens']/ad[ptype, 'particle_den1']), np.log10(gamc_dtau), \\\n",
    "            c=np.log10(ad[ptype, 'particle_den1']), vmin=-28, vmax=-25, s=1, linewidth=0, alpha=0.5)\n",
    "plt.ylim(1,7)\n",
    "plt.xlim(-3, 2)\n",
    "plt.ylabel(r'$\\log \\gamma_c$')\n",
    "plt.xlabel(r'$\\log \\rho / \\rho_1$')\n",
    "cb = plt.colorbar()\n",
    "cb.set_label(r'$\\rho_1$')"
   ]
  },
  {
   "cell_type": "code",
   "execution_count": null,
   "metadata": {},
   "outputs": [],
   "source": [
    "\n",
    "plt.scatter(np.log10(ad[ptype, 'particle_den1']), np.log10(gamc_dtau*ad[ptype, 'particle_den1']**(1/3)), \\\n",
    "            s=1, linewidth=0, alpha=0.5)\n",
    "plt.ylim(-7,-2)\n",
    "plt.twinx()\n",
    "plt.scatter(np.log10(ad[ptype, 'particle_den1']), np.log10(gamc_dtau), \\\n",
    "            s=1, linewidth=0, alpha=0.5, c='r')\n",
    "plt.ylim(1,6)\n",
    "plt.xlim(-28, -24)\n",
    "#plt.ylabel(r'$\\log \\gamma_c$')\n",
    "#plt.xlabel(r'$\\log \\rho / \\rho_1$')\n",
    "#cb = plt.colorbar()\n",
    "#cb.set_label(r'$\\rho_1$')"
   ]
  },
  {
   "cell_type": "code",
   "execution_count": null,
   "metadata": {},
   "outputs": [],
   "source": [
    "\n",
    "plt.scatter(np.log10(ad[ptype, 'particle_den1']), np.log10(gamc_dtau*ad[ptype, 'particle_den1']**(1/3)), \\\n",
    "            s=1, linewidth=0, alpha=0.5)\n",
    "plt.ylim(-7,-2)\n",
    "plt.twinx()\n",
    "plt.scatter(np.log10(ad[ptype, 'particle_den1']), np.log10(gamc_dtau), \\\n",
    "            s=1, linewidth=0, alpha=0.5, c='r')\n",
    "plt.ylim(1,6)\n",
    "plt.xlim(-28, -24)\n",
    "#plt.ylabel(r'$\\log \\gamma_c$')\n",
    "#plt.xlabel(r'$\\log \\rho / \\rho_1$')\n",
    "#cb = plt.colorbar()\n",
    "#cb.set_label(r'$\\rho_1$')"
   ]
  },
  {
   "cell_type": "code",
   "execution_count": null,
   "metadata": {},
   "outputs": [],
   "source": [
    "import matplotlib\n",
    "plt.scatter(np.log10(ad[ptype, 'particle_den1']), \n",
    "            np.log10(ad[ptype, 'particle_dens']/ad[ptype, 'particle_den1']),\n",
    "            vmin=-28, vmax=-25, s=1, linewidth=0, alpha=0.5)\n",
    "plt.xlim(-28,-24)\n",
    "plt.ylim(-3, 2)\n",
    "plt.xlabel(r'$\\log \\rho_1$')\n",
    "plt.ylabel(r'$\\log \\rho / \\rho_1$')\n"
   ]
  },
  {
   "cell_type": "code",
   "execution_count": null,
   "metadata": {},
   "outputs": [],
   "source": [
    "import matplotlib\n",
    "Myr = yt.units.Myr.in_units('s').v\n",
    "plt.scatter(ad[ptype, 'particle_tadd']/Myr,\n",
    "            np.log10(ad[ptype, 'particle_den1']), \n",
    "            s=1, linewidth=0, alpha=0.5)\n",
    "\n",
    "plt.xlim(0, 10)\n",
    "plt.ylim(-28,-24)\n",
    "plt.xlabel('time (Myr)')\n",
    "plt.ylabel(r'$\\log \\rho_1$')"
   ]
  },
  {
   "cell_type": "code",
   "execution_count": null,
   "metadata": {},
   "outputs": [],
   "source": [
    "null = plt.hist(np.log10(ad[ptype, 'particle_den1']), bins='auto')"
   ]
  },
  {
   "cell_type": "code",
   "execution_count": null,
   "metadata": {},
   "outputs": [],
   "source": [
    "e = 4.803E-10 #esu\n",
    "me = 9.109E-28 #g\n",
    "c = 2.998E10 #cm/s\n",
    "nuc = 3*gamc_dtau**2*e*np.sqrt(B2)/(4*np.pi*me*c)\n",
    "plt.scatter(np.log10(ad[ptype, 'particle_den1']), np.log10(nuc), c=np.log10(np.sqrt(B2)), vmin=-4, vmax=-3, s=1, linewidth=0)\n",
    "plt.colorbar()\n",
    "plt.ylim(6,15)"
   ]
  },
  {
   "cell_type": "code",
   "execution_count": null,
   "metadata": {},
   "outputs": [],
   "source": [
    "plt.scatter(np.log10(ad['gas', 'density']), np.log10(ad['gas', 'magnetic_field_strength']), s=1, linewidth=0)"
   ]
  },
  {
   "cell_type": "code",
   "execution_count": null,
   "metadata": {},
   "outputs": [],
   "source": [
    "plt.scatter(np.log10(ad['gas', 'density']), np.log10(ad['gas', 'magnetic_field_strength']), s=1, linewidth=0)\n",
    "plt.ylim(-8,-3)"
   ]
  },
  {
   "cell_type": "code",
   "execution_count": null,
   "metadata": {
    "collapsed": false
   },
   "outputs": [],
   "source": []
  }
 ],
 "metadata": {
  "kernelspec": {
   "display_name": "Python 3",
   "language": "python",
   "name": "python3"
  },
  "language_info": {
   "codemirror_mode": {
    "name": "ipython",
    "version": 3
   },
   "file_extension": ".py",
   "mimetype": "text/x-python",
   "name": "python",
   "nbconvert_exporter": "python",
   "pygments_lexer": "ipython3",
   "version": "3.6.1"
  }
 },
 "nbformat": 4,
 "nbformat_minor": 2
}
