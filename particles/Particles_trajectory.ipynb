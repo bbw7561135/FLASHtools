{
 "cells": [
  {
   "cell_type": "code",
   "execution_count": null,
   "metadata": {
    "collapsed": false
   },
   "outputs": [],
   "source": [
    "%matplotlib inline\n",
    "import pickle\n",
    "import numpy as np\n",
    "import matplotlib\n",
    "matplotlib.rcParams['figure.dpi'] = 150\n",
    "matplotlib.rcParams['font.family'] = 'stixgeneral'\n",
    "import matplotlib.pyplot as plt\n",
    "from matplotlib import cm\n",
    "from particles_class import *\n",
    "\n",
    "import yt\n",
    "e  = yt.utilities.physical_constants.elementary_charge.v #4.803E-10 esu\n",
    "me = yt.utilities.physical_constants.mass_electron.v #9.109E-28\n",
    "c  = yt.utilities.physical_constants.speed_of_light.v #2.998E10"
   ]
  },
  {
   "cell_type": "code",
   "execution_count": null,
   "metadata": {
    "collapsed": false
   },
   "outputs": [],
   "source": [
    "with open('/home/ychen/d12/2015_production_runs/1022_L45_M10_b1_h1_10Myr/particles_trajectory.pickle', 'rb') as f:\n",
    "    parts = pickle.load(f)"
   ]
  },
  {
   "cell_type": "code",
   "execution_count": null,
   "metadata": {},
   "outputs": [],
   "source": [
    "fig = plt.figure(figsize=(4,15))\n",
    "ax = fig.add_subplot(111)\n",
    "for part in parts:\n",
    "    if part.shok[0] > 0.5:\n",
    "        continue\n",
    "    if part.tag % 5 > 0:\n",
    "        continue\n",
    "    mask = (part.time < 50) & (part.time > 11)# & (np.abs(part.posy) < 5*3E21)\n",
    "    #rr = np.sqrt(part.posx**2+part.posy**2)\n",
    "    #ax.plot(rr[mask]/3.08567758E21, part.posz[mask]/3.08567758E21, lw=1)\n",
    "    #xlabel = 'r'\n",
    "    gamc = (part.dens/part.den1**(1./3.))/part.dtau\n",
    "\n",
    "    B = (part.magx**2 + part.magy**2 + part.magz**2)*np.sqrt(4.0*np.pi)\n",
    "    \n",
    "    # Cutoff frequency\n",
    "    nuc = np.log10(3.0*gamc**2*e*B/(4.0*np.pi*me*c))\n",
    "    ax.plot(part.posx[mask]/3.08567758E21, part.posz[mask]/3.08567758E21, lw=1, alpha=0.5)\n",
    "    xlabel = 'x'\n",
    "    ylabel = 'z'\n",
    "    ax.set_xlim(-23,23)\n",
    "    ax.set_ylim(0, 60)\n",
    "    ax.set_aspect('equal')\n",
    "\n",
    "    #ax.set_facecolor('k')\n",
    "    #ax.set_xlim(-xlim,xlim)\n",
    "    #ax.set_ylim(-ylim,ylim)\n",
    "    ax.set_xlabel(xlabel+' (kpc)')\n",
    "    ax.set_ylabel(ylabel+' (kpc)')\n",
    "    ax.set_aspect('equal')\n",
    "    ax.tick_params(axis='x', color='grey', direction='in')\n",
    "    ax.tick_params(axis='y', color='grey', direction='in')\n",
    "    ax.grid(ls='--', alpha=0.5)"
   ]
  },
  {
   "cell_type": "code",
   "execution_count": null,
   "metadata": {
    "collapsed": false
   },
   "outputs": [],
   "source": []
  }
 ],
 "metadata": {
  "kernelspec": {
   "display_name": "Python 3",
   "language": "python",
   "name": "python3"
  },
  "language_info": {
   "codemirror_mode": {
    "name": "ipython",
    "version": 3
   },
   "file_extension": ".py",
   "mimetype": "text/x-python",
   "name": "python",
   "nbconvert_exporter": "python",
   "pygments_lexer": "ipython3",
   "version": "3.6.1"
  }
 },
 "nbformat": 4,
 "nbformat_minor": 2
}
