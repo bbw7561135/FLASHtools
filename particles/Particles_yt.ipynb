{
 "cells": [
  {
   "cell_type": "code",
   "execution_count": null,
   "metadata": {},
   "outputs": [],
   "source": [
    "%matplotlib inline\n",
    "import numpy as np\n",
    "import os\n",
    "import util\n",
    "import multiprocessing\n",
    "import matplotlib\n",
    "matplotlib.rcParams['savefig.dpi'] = 150\n",
    "import matplotlib.pyplot as plt\n",
    "import yt\n",
    "import logging\n",
    "from yt.utilities.file_handler import HDF5FileHandler\n",
    "from yt.funcs import mylog\n",
    "#logging.getLogger('yt').setLevel(logging.WARNING)\n",
    "print(yt.__version__)\n",
    "\n",
    "from particle_filters import *\n",
    "\n",
    "e  = yt.utilities.physical_constants.elementary_charge #4.803E-10 esu\n",
    "me = yt.utilities.physical_constants.mass_electron #9.109E-28\n",
    "c  = yt.utilities.physical_constants.speed_of_light #2.998E10\n",
    "\n",
    "def setup_part_file(ds):\n",
    "    filename = os.path.join(ds.directory,ds.basename)\n",
    "    ds._particle_handle = HDF5FileHandler(filename.replace('plt_cnt', 'part')+'_updated')\n",
    "    ds.particle_filename = filename.replace('plt_cnt', 'part')+'_updated'\n",
    "    mylog.info('Changed particle files to:' + ds.particle_filename)"
   ]
  },
  {
   "cell_type": "code",
   "execution_count": null,
   "metadata": {},
   "outputs": [],
   "source": [
    "#fname = '/home/ychen/d9/FLASH4/stampede/1022_L45_M10_b1_h1_10Myr/MHD_Jet_10Myr_hdf5_plt_cnt_0630'\n",
    "fname = '/home/ychen/d9/FLASH4/2015_production_runs/0529_L45_M10_b1_h1/MHD_Jet_hdf5_plt_cnt_0620'\n",
    "#fname = '/home/ychen/d9/FLASH4/2016_test/1106_L45_M3_b01_h1/MHD_Jet_hdf5_plt_cnt_0002'\n",
    "#fname = '/home/ychen/Mount/stampede/1106_L45_M3_b1_h1/MHD_Jet_hdf5_plt_cnt_0059'\n",
    "#fname = '/home/ychen/d9/FLASH4/2016_test/1028_metal_test/MHD_Jet_hdf5_plt_cnt_0002'\n",
    "ds = yt.load(fname)\n",
    "setup_part_file(ds)\n",
    "\n",
    "ad = ds.all_data()\n"
   ]
  },
  {
   "cell_type": "code",
   "execution_count": null,
   "metadata": {},
   "outputs": [],
   "source": [
    "ptype = 'jet'\n",
    "ds.add_particle_filter(ptype)\n",
    "tag = ad[ptype, 'particle_tag']\n",
    "#filter = np.logical_and((tag % 1 == 0), (ad['all', 'particle_shok']==0))\n",
    "filter = tag % 5 == 0\n",
    "y = ad[ptype, 'particle_position_y'][filter]/3.08567758E21\n",
    "z = ad[ptype, 'particle_position_z'][filter]/3.08567758E21\n",
    "age = (ds.current_time.v - np.abs(ad[ptype, 'particle_tadd'][filter]))/ds.current_time.v\n",
    "#plt.hist(tag, bins=140)\n",
    "#plt.scatter(ad['all', 'particle_tadd'], ad['all', 'particle_tag'], s=1,linewidth=0)\n",
    "fig=plt.figure(figsize=(5,8))\n",
    "ax=fig.add_subplot(111)\n",
    "ax.set_xlim(-20,20)\n",
    "ax.set_ylim(-40,40)\n",
    "\n",
    "ax.annotate('%6.3f Myr' % (float(ds.current_time)/3.15569E13),\\\n",
    "            (1,0), xytext=(0.05, 0.96),  textcoords='axes fraction',\\\n",
    "            horizontalalignment='left', verticalalignment='center')\n",
    "sc=ax.scatter(y,z,s=1,c=age,linewidth=0,cmap='arbre_r', vmin=0,vmax=1,alpha=0.8)\n",
    "cb=plt.colorbar(sc)\n",
    "cb.set_label('normalized age')\n",
    "plt.show()\n"
   ]
  },
  {
   "cell_type": "code",
   "execution_count": null,
   "metadata": {},
   "outputs": [],
   "source": [
    "field = 'particle_nuc_dtau'\n",
    "\n",
    "ptype = 'lobe'\n",
    "ds.add_particle_filter(ptype)\n",
    "tag = ad[ptype, 'particle_tag']\n",
    "#filter = np.logical_and((tag % 1 == 0), (ad['all', 'particle_shok']==0))\n",
    "filter = tag % 5 == 0\n",
    "x = ad[ptype, 'particle_position_x'][filter]/3.08567758E21\n",
    "z = ad[ptype, 'particle_position_z'][filter]/3.08567758E21\n",
    "\n",
    "if 'dtau' in field:\n",
    "    gamc = (ad[ptype, 'particle_dens']/ad[ptype, 'particle_den1'])**(1./3.) \\\n",
    "           / ad[ptype, 'particle_dtau']\n",
    "\n",
    "\n",
    "B = np.sqrt(ad[(ptype, 'particle_magx')][filter]**2\n",
    "           +ad[(ptype, 'particle_magy')][filter]**2\n",
    "           +ad[(ptype, 'particle_magz')][filter]**2)*np.sqrt(4.0*np.pi)\n",
    "B = ad.apply_units(B, 'gauss')\n",
    "# Cutoff frequency\n",
    "fdata = np.log10(3.0*gamc[filter]**2*e*B/(4.0*np.pi*me*c))\n",
    "vmin=7.5; vmax=12; cmap='algae'\n",
    "cblabel=u'log $\\\\nu_c$'\n",
    "\n",
    "if 'dtau' in field:\n",
    "    cblabel=cblabel+' (dtau)'\n",
    "\n",
    "\n",
    "age = (ds.current_time.v - np.abs(ad[ptype, 'particle_tadd'][filter]))/ds.current_time.v\n",
    "#plt.hist(tag, bins=140)\n",
    "#plt.scatter(ad['all', 'particle_tadd'], ad['all', 'particle_tag'], s=1,linewidth=0)\n",
    "fig=plt.figure(figsize=(5,8))\n",
    "ax=fig.add_subplot(111)\n",
    "ax.set_xlim(-20,20)\n",
    "ax.set_xlabel('x')\n",
    "ax.set_ylim(-40,40)\n",
    "ax.set_ylabel('z')\n",
    "\n",
    "ax.annotate('%6.3f Myr' % (float(ds.current_time)/3.15569E13),\\\n",
    "            (1,0), xytext=(0.05, 0.96),  textcoords='axes fraction',\\\n",
    "            horizontalalignment='left', verticalalignment='center')\n",
    "sc=ax.scatter(x,z,s=1,c=age,linewidth=0,cmap='arbre_r', vmin=0,vmax=1,alpha=0.8)\n",
    "cb=plt.colorbar(sc)\n",
    "cb.set_label(cblabel)\n",
    "plt.show()\n"
   ]
  },
  {
   "cell_type": "code",
   "execution_count": null,
   "metadata": {},
   "outputs": [],
   "source": [
    "ptype = 'lobe'\n",
    "ds.add_particle_filter(ptype)\n",
    "tag = ad[ptype, 'particle_tag']\n",
    "#filter = np.logical_and((tag % 1 == 0), (ad['all', 'particle_shok']==0))\n",
    "filter = tag % 5 == 0\n",
    "y = ad[ptype, 'particle_position_y'][filter]/3.08567758E21\n",
    "z = ad[ptype, 'particle_position_z'][filter]/3.08567758E21\n",
    "age = (ds.current_time.v - np.abs(ad[ptype, 'particle_tadd'][filter]))/ds.current_time.v\n",
    "#plt.hist(tag, bins=140)\n",
    "#plt.scatter(ad['all', 'particle_tadd'], ad['all', 'particle_tag'], s=1,linewidth=0)\n",
    "fig=plt.figure(figsize=(5,8))\n",
    "ax=fig.add_subplot(111)\n",
    "ax.set_xlim(-20,20)\n",
    "ax.set_ylim(-40,40)\n",
    "\n",
    "ax.annotate('%6.3f Myr' % (float(ds.current_time)/3.15569E13),\\\n",
    "            (1,0), xytext=(0.05, 0.96),  textcoords='axes fraction',\\\n",
    "            horizontalalignment='left', verticalalignment='center')\n",
    "sc=ax.scatter(y,z,s=1,c=age,linewidth=0,cmap='arbre_r', vmin=0,vmax=1,alpha=0.8)\n",
    "cb=plt.colorbar(sc)\n",
    "cb.set_label('normalized age')\n",
    "plt.show()\n"
   ]
  },
  {
   "cell_type": "code",
   "execution_count": null,
   "metadata": {},
   "outputs": [],
   "source": [
    "ptype = 'lobe'\n",
    "print ds.add_particle_filter(ptype)\n",
    "tag = ad[ptype, 'particle_tag']\n",
    "filter = (tag % 5 == 0)\n",
    "y = ad[ptype, 'particle_position_y'][filter]/3.08567758E21\n",
    "z = ad[ptype, 'particle_position_z'][filter]/3.08567758E21\n",
    "c = np.log10(ad[ptype, 'particle_gamc'][filter])\n",
    "#plt.hist(tag, bins=140)\n",
    "#plt.scatter(ad['all', 'particle_tadd'], ad['all', 'particle_tag'], s=1,linewidth=0)\n",
    "fig=plt.figure(figsize=(5,8))\n",
    "ax=fig.add_subplot(111)\n",
    "ax.set_xlim(-20,20)\n",
    "ax.set_ylim(-40,40)\n",
    "\n",
    "ax.annotate('%6.3f Myr' % (float(ds.current_time)/3.15569E13),\\\n",
    "            (1,0), xytext=(0.05, 0.96),  textcoords='axes fraction',\\\n",
    "            horizontalalignment='left', verticalalignment='center')\n",
    "sc=ax.scatter(y,z,s=1,c=c,linewidth=0,cmap='arbre', vmin=2,vmax=5,alpha=0.8)\n",
    "cb=plt.colorbar(sc)\n",
    "cb.set_label('gamc')\n",
    "plt.show()"
   ]
  },
  {
   "cell_type": "code",
   "execution_count": null,
   "metadata": {},
   "outputs": [],
   "source": [
    "ds.add_particle_filter('test')"
   ]
  },
  {
   "cell_type": "code",
   "execution_count": null,
   "metadata": {},
   "outputs": [],
   "source": [
    "('particle_shok') in ds.derived_field_list"
   ]
  },
  {
   "cell_type": "code",
   "execution_count": null,
   "metadata": {},
   "outputs": [],
   "source": [
    "p = yt.SlicePlot(ds,'x', 'density', width=((20,'kpc'),(20,'kpc')), )\n",
    "p.annotate_particles((2, 'kpc'), ptype=\"metal\")\n",
    "p.annotate_grids(linewidth=0.1)\n",
    "#p = yt.ParticleProjectionPlot(ds, 'x', 'particle_tag', width=((500,'kpc'),(1000,'kpc')), depth=(500,'kpc'))\n",
    "#p.set_log('particle_posz', False)\n",
    "p.show()"
   ]
  },
  {
   "cell_type": "code",
   "execution_count": null,
   "metadata": {
    "collapsed": false
   },
   "outputs": [],
   "source": [
    "ptPerGrid = np.zeros(ds.index.num_grids, dtype=int)\n",
    "ptPerMass = np.zeros(ds.index.num_grids)\n",
    "ptPerVolume = np.zeros(ds.index.num_grids)\n",
    "level = np.zeros(ds.index.num_grids, dtype=int)\n",
    "rr = np.zeros(ds.index.num_grids)\n",
    "for i in range(ds.index.num_grids):\n",
    "    grid = ds.index.grids[i]\n",
    "    grid.set_field_parameter('center', ds.arr([0,0,0]))\n",
    "    ptPerGrid[i] = grid.NumberOfParticles\n",
    "    ptPerMass[i] = grid.NumberOfParticles/np.sum(grid['cell_mass'])\n",
    "    ptPerVolume[i] = grid.NumberOfParticles/np.sum(grid['cell_volume'].in_units('kpc**3'))\n",
    "    level[i] = grid.Level\n",
    "    rr[i] = grid['radius'][4,4,4].in_units('kpc')"
   ]
  },
  {
   "cell_type": "code",
   "execution_count": null,
   "metadata": {},
   "outputs": [],
   "source": [
    "#print ptPerMass\n",
    "#plt.scatter(level, ptPerGrid, s=1, lw=0)\n",
    "#plt.scatter(level, ptPerMass*1E42, s=1, lw=0, c='r')\n",
    "plt.scatter(rr, ptPerVolume, s=1, lw=0, c='r')\n",
    "plt.xlim(0,500)\n",
    "plt.xlabel('r (kpc)')\n",
    "plt.ylabel('# particles per kpc^3')"
   ]
  },
  {
   "cell_type": "code",
   "execution_count": null,
   "metadata": {
    "collapsed": false
   },
   "outputs": [],
   "source": [
    "kpc=yt.units.kpc.in_units('cm')\n",
    "ad = ds.all_data()\n",
    "sphere=ds.sphere(np.array([0,0,0]), 150*kpc)"
   ]
  },
  {
   "cell_type": "code",
   "execution_count": null,
   "metadata": {},
   "outputs": [],
   "source": [
    "print len(ad['particle_posz'])\n",
    "numParticle = len(sphere['particle_posz'])\n",
    "print numParticle\n",
    "volume = 3./4.*np.pi*100**3\n",
    "print volume\n",
    "print numParticle/volume\n",
    "print 'mass', sum(sphere['cell_mass'])\n",
    "print 'volume', sum(sphere['cell_volume'])"
   ]
  },
  {
   "cell_type": "code",
   "execution_count": null,
   "metadata": {},
   "outputs": [],
   "source": [
    "ad = ds.all_data()\n",
    "ad.set_field_parameter('center', ds.arr([0,0,0]))\n",
    "kpc = yt.units.kpc\n",
    "plt.hist(ad[('io', 'particle_radius')]/kpc.in_units('cm').v, bins=100\n",
    ")#, cumulative=True)\n",
    "#plt.scatter(ad['particle_tag'], ad['particle_blk'], c=ad['particle_proc'], s=1, lw=0)\n",
    "plt.xlabel('kpc')"
   ]
  },
  {
   "cell_type": "code",
   "execution_count": null,
   "metadata": {
    "collapsed": false
   },
   "outputs": [],
   "source": [
    "ma = int(max(box['particle_tag']))\n",
    "alltag = np.array(ad['particle_tag'], dtype=int)"
   ]
  },
  {
   "cell_type": "code",
   "execution_count": null,
   "metadata": {
    "collapsed": false
   },
   "outputs": [],
   "source": [
    "for i in range(1,ma+1):\n",
    "    if i != alltag[i-1]:\n",
    "        print i, alltag[i-1], ad['particle_posx'][i]"
   ]
  },
  {
   "cell_type": "code",
   "execution_count": null,
   "metadata": {},
   "outputs": [],
   "source": [
    "print alltag"
   ]
  },
  {
   "cell_type": "code",
   "execution_count": null,
   "metadata": {},
   "outputs": [],
   "source": [
    "ad = ds.all_data()\n",
    "tag = ad['all', 'particle_tag']\n",
    "filter = np.logical_and((tag % 2 == 0), (ad['all', 'particle_shok']==0))\n",
    "x = ad['all', 'particle_tadd'][filter]/3.15569E13\n",
    "y = np.log10(ad['all', 'particle_dens'][filter]/ad['all', 'particle_den0'][filter])\n",
    "#y = np.sqrt(ad['all', 'particle_posx'][filter]**2+ad['all', 'particle_posy'][filter]**2)\n",
    "#pos = ad['all', 'particle_position'][filter]\n",
    "#y = ds.find_field_values_at_points('jet ', pos)\n",
    "z = np.log10(ad['all', 'particle_gamc'][filter])\n",
    "\n",
    "#B = np.log10(ad['all', 'particle_magx'][filter]**2\\\n",
    "#             +ad['all', 'particle_magy'][filter]**2\\\n",
    "#             +ad['all', 'particle_magz'][filter]**2)\n",
    "\n",
    "fig=plt.figure(figsize=(12,8))\n",
    "sc=plt.scatter(x,y,c=z,s=1,linewidth=0,vmin=2,vmax=5)\n",
    "plt.xlim(-0.1,10)\n",
    "plt.xlabel('t (Myr)')\n",
    "cb=plt.colorbar(sc)"
   ]
  },
  {
   "cell_type": "code",
   "execution_count": null,
   "metadata": {},
   "outputs": [],
   "source": [
    "print z.min()\n",
    "print z.max()\n"
   ]
  },
  {
   "cell_type": "code",
   "execution_count": null,
   "metadata": {},
   "outputs": [],
   "source": [
    "ad = ds.all_data()\n",
    "tag = ad['all', 'particle_tag']\n",
    "filter = np.logical_and((tag % 5 == 0), (ad['all', 'particle_shok']==0))\n",
    "y = ad['all', 'particle_position_y'][filter]/3.08567758E21\n",
    "z = ad['all', 'particle_position_z'][filter]/3.08567758E21\n",
    "age = (ds.current_time.v - np.abs(ad['all', 'particle_tadd'][filter]))/ds.current_time.v\n",
    "#plt.hist(tag, bins=140)\n",
    "#plt.scatter(ad['all', 'particle_tadd'], ad['all', 'particle_tag'], s=1,linewidth=0)\n",
    "fig=plt.figure(figsize=(5,8))\n",
    "ax=fig.add_subplot(111)\n",
    "ax.set_xlim(-30,30)\n",
    "ax.set_ylim(-60,60)\n",
    "\n",
    "ax.annotate('%6.3f Myr' % (float(ds.current_time)/3.15569E13),\\\n",
    "            (1,0), xytext=(0.05, 0.96),  textcoords='axes fraction',\\\n",
    "            horizontalalignment='left', verticalalignment='center')\n",
    "sc=ax.scatter(y,z,s=1,c=age,linewidth=0,cmap='arbre_r', vmin=0,vmax=1,alpha=0.8)\n",
    "cb=plt.colorbar(sc)\n",
    "cb.set_label('normalized age')\n",
    "plt.show()"
   ]
  },
  {
   "cell_type": "code",
   "execution_count": null,
   "metadata": {},
   "outputs": [],
   "source": [
    "from tools import calcDen0\n",
    "\n",
    "ad = ds.all_data()\n",
    "tag = ad['all', 'particle_tag']\n",
    "filter = (ad['all', 'particle_shok']==0)\n",
    "den0core = calcDen0(ds.current_time.v)\n",
    "den0 = ad['all', 'particle_den0'][filter]\n",
    "n,bins,patches = plt.hist(den0, bins=100, range=(1.7315E-26,1.733E-26))\n",
    "for delta in [5E-31, 1E-30, 3E-30]:\n",
    "    den0min = den0core - delta #1.732E-26\n",
    "    den0max = den0core + delta #1.7325E-26\n",
    "\n",
    "    plt.vlines(den0min, 0, max(n))\n",
    "    plt.vlines(den0max, 0, max(n))\n",
    "    \n",
    "    corefil = np.logical_and((ad['all', 'particle_den0']>den0min), \n",
    "                     (ad['all', 'particle_den0']<den0max))\n",
    "    jetfil = (ad['all', 'particle_shok']==0)\n",
    "    fil = np.logical_and(corefil, jetfil)\n",
    "\n",
    "    njetp = len(ad['all', 'particle_dens'][jetfil]) \n",
    "    njetpc = len(ad['all', 'particle_dens'][fil])\n",
    "\n",
    "    print njetpc\n",
    "    print njetp\n",
    "    print float(njetpc)/float(njetp)\n",
    "#plt.vlines(den0core, 0, max(n))\n",
    "#plt.semilogy()"
   ]
  },
  {
   "cell_type": "code",
   "execution_count": null,
   "metadata": {},
   "outputs": [],
   "source": [
    "corefil = np.logical_and((ad['all', 'particle_den0']>den0min), \n",
    "                     (ad['all', 'particle_den0']<den0max))\n",
    "jetfil = (ad['all', 'particle_shok']==0)\n",
    "fil = np.logical_and(corefil, jetfil)\n",
    "\n",
    "njetp = len(ad['all', 'particle_dens'][jetfil]) \n",
    "njetpc = len(ad['all', 'particle_dens'][fil])\n",
    "\n",
    "print njetpc\n",
    "print njetp\n",
    "print float(njetpc)/float(njetp)"
   ]
  },
  {
   "cell_type": "code",
   "execution_count": null,
   "metadata": {},
   "outputs": [],
   "source": [
    "ad = ds.all_data()\n",
    "tag = ad['all', 'particle_tag']\n",
    "filter = np.logical_and((tag % 10 == 0), fil)\n",
    "y = ad['all', 'particle_position_y'][filter]/3.08567758E21\n",
    "z = ad['all', 'particle_position_z'][filter]/3.08567758E21\n",
    "c = np.log10(ad['all', 'particle_gamc'][filter])\n",
    "#plt.hist(tag, bins=140)\n",
    "#plt.scatter(ad['all', 'particle_tadd'], ad['all', 'particle_tag'], s=1,linewidth=0)\n",
    "fig=plt.figure(figsize=(5,8))\n",
    "ax=fig.add_subplot(111)\n",
    "ax.set_xlim(-30,30)\n",
    "ax.set_ylim(-60,60)\n",
    "\n",
    "ax.annotate('%6.3f Myr' % (float(ds.current_time)/3.15569E13),\\\n",
    "            (1,0), xytext=(0.05, 0.96),  textcoords='axes fraction',\\\n",
    "            horizontalalignment='left', verticalalignment='center')\n",
    "sc=ax.scatter(y,z,s=1,c=c,linewidth=0,cmap='arbre', vmin=2,vmax=5,alpha=0.8)\n",
    "cb=plt.colorbar(sc)\n",
    "cb.set_label('gamc')\n",
    "plt.show()"
   ]
  },
  {
   "cell_type": "code",
   "execution_count": null,
   "metadata": {
    "collapsed": false
   },
   "outputs": [],
   "source": [
    "#ds.add_particle_filter('xcenter')\n",
    "#ds.add_deposited_particle_field(('jetp', 'particle_gamc'), 'cic')\n",
    "ds.add_deposited_particle_field(('jetp', 'particle_gamc'), 'cic')\n",
    "#ds.add_deposited_particle_field(('jetp', 'particle_ones'), 'cic')\n",
    "def _weighted_cic(field, data):\n",
    "    return data['deposit', 'jetp_cic_gamc']/data['deposit', 'jetp_count']\n",
    "ds.add_field(('deposit', 'jetp_weighted_cic_gamc'), function=_weighted_cic)"
   ]
  },
  {
   "cell_type": "code",
   "execution_count": null,
   "metadata": {
    "collapsed": false
   },
   "outputs": [],
   "source": [
    "#reg = ds.region(center=[ 0.,  0.,  0.], left_edge=[ -5.0e21,  -1.2e+22,  -2.4e+22], right_edge=[  5.0e21,   1.2e+22,   2.4e+22])\n",
    "#print reg['all', 'particle_position_x']\n",
    "#print ad.left_edge\n",
    "#print ad.right_edge\n",
    "\n",
    "fields = 'jetp_weighted_cic_gamc'\n",
    "slice = yt.SlicePlot(ds, 'x', fields=fields)#, center=(0.0,0.0,6.17E22), width=(40,'kpc'))\n",
    "slice.zoom(12)\n",
    "slice.set_log(fields, True)\n",
    "slice.set_zlim(fields, 1E2, 1E5)\n",
    "slice.annotate_grids()\n",
    "slice.set_origin('native')\n",
    "slice.show()"
   ]
  },
  {
   "cell_type": "code",
   "execution_count": null,
   "metadata": {},
   "outputs": [],
   "source": [
    "#finfo = ds.field_info[('io', 'particle_ones')]\n",
    "#finfo.take_log\n",
    "fn = ds.add_deposited_particle_field(('jetp', 'particle_gamc'), 'nearest') \n",
    "print fn"
   ]
  },
  {
   "cell_type": "code",
   "execution_count": null,
   "metadata": {},
   "outputs": [],
   "source": [
    "#reg = ds.region(center=[ 0.,  0.,  0.], left_edge=[ -5.0e21,  -1.2e+22,  -2.4e+22], right_edge=[  5.0e21,   1.2e+22,   2.4e+22])\n",
    "#print reg['all', 'particle_position_x']\n",
    "#print ad.left_edge\n",
    "#print ad.right_edge\n",
    "\n",
    "\n",
    "slice = yt.SlicePlot(ds, 'x', fields=fn)#, center=(0.0,0.0,6.17E22), width=(40,'kpc'))\n",
    "slice.zoom(10)\n",
    "slice.set_log(fn, True)\n",
    "slice.set_zlim(fn, 1E2, 1E5)\n",
    "slice.annotate_grids()\n",
    "slice.set_origin('native')\n",
    "slice.show()"
   ]
  },
  {
   "cell_type": "code",
   "execution_count": null,
   "metadata": {},
   "outputs": [],
   "source": [
    "ad = ds.all_data()\n",
    "grids = ds.index.grids\n",
    "print len(grids)\n",
    "null = plt.hist(ds.index.grid_particle_count, bins=100, range=(0,500), log=True)\n",
    "#print grids"
   ]
  },
  {
   "cell_type": "code",
   "execution_count": null,
   "metadata": {},
   "outputs": [],
   "source": [
    "ad = ds.all_data()\n",
    "\n",
    "shokfil = np.logical_and((ad['io', 'particle_shok']==1), (ad['io', 'particle_gamc']>0))\n",
    "jetfil = np.logical_and((ad['io', 'particle_shok']==0), (ad['io', 'particle_gamc']>0))\n",
    "\n",
    "shokpart = (ad['io', 'particle_gamc'][shokfil])\n",
    "jetpart = (ad['io', 'particle_gamc'][jetfil])\n",
    "n,bins,patches = plt.hist(np.log10(shokpart), bins=500, alpha=0.5, range=(0,50))\n",
    "n,bins,patches = plt.hist(np.log10(jetpart), bins=500, alpha=0.5, range=(0,50))\n",
    "#plt.semilogy()"
   ]
  },
  {
   "cell_type": "code",
   "execution_count": null,
   "metadata": {},
   "outputs": [],
   "source": [
    "p = yt.ParticlePlot(ds, ('xcenter', 'particle_posy'), ('xcenter', 'particle_posz'), ('xcenter', 'particle_gamc'))\n",
    "p.set_zlim(('xcenter', 'particle_gamc'), 1E2, 1E6)\n",
    "p.show()"
   ]
  },
  {
   "cell_type": "code",
   "execution_count": null,
   "metadata": {},
   "outputs": [],
   "source": [
    "#obj = ds.covering_grid(level=0, left_edge=ds.domain_left_edge,\\\n",
    "#                                      dims=ds.domain_dimensions)\n",
    "obj = ds.region(\n",
    "len(obj['io','particle_dens'])\n",
    "#slice = yt.SlicePlot(obj, 'x', fields='pressure')\n",
    "#print obj.fcoords.shape"
   ]
  },
  {
   "cell_type": "code",
   "execution_count": null,
   "metadata": {
    "collapsed": false
   },
   "outputs": [],
   "source": []
  },
  {
   "cell_type": "code",
   "execution_count": null,
   "metadata": {
    "collapsed": false
   },
   "outputs": [],
   "source": [
    "ds.add_deposited_particle_field(('jetp', 'particle_gamc'), 'cic')\n",
    "dim=128\n",
    "zoom=1\n",
    "obj = ds.arbitrary_grid(ds.domain_left_edge/zoom, ds.domain_right_edge/zoom, dims=[dim,dim,dim*2])\n",
    "#print obj['jetp_cic_gamc'][dim/2,:,:].shape\n",
    "#print obj.fcoords.shape\n",
    "fig = plt.figure(figsize=(10,15),dpi=200)\n",
    "ext = np.array([-9.65E22, 9.65E22, -1.93E23, 1.93E23])/3.08567758E21\n",
    "ims = plt.imshow(np.log10(obj['deposit', 'jetp_cic_gamc'][dim/2,:,:]).transpose(), extent=ext, \\\n",
    "                 origin='lower', cmap='algae', vmin=2, vmax=5, interpolation='nearest')\n",
    "\n",
    "cb=plt.colorbar(ims)\n",
    "cb.set_label(u'log $\\gamma_c$')\n",
    "plt.xlabel('y (kpc)')\n",
    "plt.ylabel('z (kpc)')"
   ]
  },
  {
   "cell_type": "code",
   "execution_count": null,
   "metadata": {
    "collapsed": false
   },
   "outputs": [],
   "source": [
    "def _gamc_interp(field, data):\n",
    "    dim=512\n",
    "    obj = data.ds.arbitrary_grid([-9.65E22, -9.65E22, -1.93E23], [9.65E22, 9.65E22, 1.93E23], dims=[dim, dim, dim*2])\n",
    "    x0 = obj.fcoords.reshape([dim,dim,dim*2,3])[:,:,:,0].min()\n",
    "    x1 = obj.fcoords.reshape([dim,dim,dim*2,3])[:,:,:,0].max()\n",
    "    y0 = obj.fcoords.reshape([dim,dim,dim*2,3])[:,:,:,1].min()\n",
    "    y1 = obj.fcoords.reshape([dim,dim,dim*2,3])[:,:,:,1].max()\n",
    "    z0 = obj.fcoords.reshape([dim,dim,dim*2,3])[:,:,:,2].min()\n",
    "    z1 = obj.fcoords.reshape([dim,dim,dim*2,3])[:,:,:,2].max()\n",
    "    boundaries = [x0,x1,y0,y1,z0,z1]\n",
    "    interp = yt.utilities.linear_interpolators.TrilinearFieldInterpolator(obj['deposit', 'jetp_cic_gamc'], \\\n",
    "                                                                 boundaries, ['x','y','z'], True)\n",
    "    field_data = interp(data)\n",
    "\n",
    "    return field_data\n",
    "\n",
    "ds.add_field(('deposit', 'gamc_interp'), function=_gamc_interp)"
   ]
  },
  {
   "cell_type": "code",
   "execution_count": null,
   "metadata": {},
   "outputs": [],
   "source": [
    "#ad=ds.all_data()\n",
    "#gamc_interp = ad['gamc_interp']\n",
    "#print gamc_interp.shape\n",
    "print gamc_interp.min()"
   ]
  },
  {
   "cell_type": "code",
   "execution_count": null,
   "metadata": {},
   "outputs": [],
   "source": [
    "slice = yt.SlicePlot(ds, 'x', fields='gamc_interp')\n",
    "slice.set_zlim('gamc_interp', 1E2, 1E5)\n",
    "slice.zoom(32)\n",
    "slice.annotate_grids()\n",
    "slice.set_origin('native')\n",
    "slice.show()"
   ]
  },
  {
   "cell_type": "code",
   "execution_count": null,
   "metadata": {},
   "outputs": [],
   "source": [
    "ptype = 'xcenter'\n",
    "ad = ds.all_data()\n",
    "tag = ad[ptype, 'particle_tag']\n",
    "#filter = np.logical_and((tag % 20 == 0), (ad['all', 'particle_shok']==0))\n",
    "filter = np.logical_and.reduce(((tag % 1 == 0), (abs(ad[ptype, 'particle_posx']) < 3.08567758E21)))\n",
    "y = ad[ptype, 'particle_position_y'][filter]/3.08567758E21\n",
    "z = ad[ptype, 'particle_position_z'][filter]/3.08567758E21\n",
    "gamc = np.log10(np.abs(ad[ptype, 'particle_gamc'][filter]))\n",
    "#plt.hist(tag, bins=140)\n",
    "#plt.scatter(ad['all', 'particle_tadd'], ad['all', 'particle_tag'], s=1,linewidth=0)\n",
    "fig=plt.figure(figsize=(6.2,10),dpi=200)\n",
    "ax=fig.add_subplot(111)\n",
    "ext = np.array([-30, 30, -60, 60])\n",
    "ax.set_xlim(ext[0],ext[1])\n",
    "ax.set_ylim(ext[2],ext[3])\n",
    "ax.annotate('%6.3f Myr' % (float(ds.current_time)/3.15569E13),\\\n",
    "            (1,0), xytext=(0.05, 0.96),  textcoords='axes fraction',\\\n",
    "            horizontalalignment='left', verticalalignment='center')\n",
    "sc=ax.scatter(y,z,s=1,c=gamc,linewidth=0,cmap='algae',vmin=2,vmax=5,alpha=0.8)\n",
    "cb=plt.colorbar(sc)\n",
    "cb.set_label(u'log $\\gamma_c$')\n",
    "plt.xlabel('y (kpc)')\n",
    "plt.ylabel('z (kpc)')\n",
    "plt.show()"
   ]
  },
  {
   "cell_type": "code",
   "execution_count": null,
   "metadata": {
    "collapsed": false
   },
   "outputs": [],
   "source": [
    "ad = ds.all_data()\n",
    "pcount = ad['deposit', 'jetp_count']"
   ]
  },
  {
   "cell_type": "code",
   "execution_count": null,
   "metadata": {},
   "outputs": [],
   "source": [
    "n,bins,patches = plt.hist(pcount, bins=13, range=(-0.5,12.5), log=True)\n",
    "#print n, bins\n",
    "bin_centers = (bins[1:] + bins[:-1])/2.0\n",
    "print sum(n[:]*bin_centers)\n",
    "print sum(n[1:])\n",
    "print sum(n[0])/sum(n[:]), sum(n[1:])/sum(n[:])\n",
    "plt.xlim(-0.5,12.5)\n",
    "plt.xlabel('# of particles per cell')\n",
    "plt.ylabel('count of cells')\n",
    "#plt.text(7, 2E6, 'jet component >= 0.01')"
   ]
  },
  {
   "cell_type": "code",
   "execution_count": null,
   "metadata": {},
   "outputs": [],
   "source": [
    "from matplotlib.colors import LogNorm\n",
    "counts, xedges, yedges, Image = \\\n",
    "    plt.hist2d(np.log10(ad['jet ']), allcount, bins=(200, 13), range=[[-11, 0.0], [-0.5,12.5]], norm=LogNorm())\n",
    "plt.colorbar()\n",
    "plt.xlabel('log jet')\n",
    "plt.ylabel('# particles per cell')"
   ]
  },
  {
   "cell_type": "code",
   "execution_count": null,
   "metadata": {},
   "outputs": [],
   "source": [
    "ds.particle_unions['all'].name\n",
    "ad = ds.all_data()\n",
    "ad['particle_position_z']\n",
    "slab_width = ds.domain_width.value[0]\n",
    "tag = ad['particle_tag']\n",
    "tag.argmin()\n"
   ]
  },
  {
   "cell_type": "code",
   "execution_count": null,
   "metadata": {
    "collapsed": false
   },
   "outputs": [],
   "source": [
    "from yt.fields.particle_fields import add_nearest_neighbor_field\n",
    "\n",
    "fn, = add_nearest_neighbor_field(\"all\", \"particle_position\", ds, 4)\n",
    "print fn\n",
    "dd = ds.all_data()\n",
    "print dd[fn]"
   ]
  },
  {
   "cell_type": "code",
   "execution_count": null,
   "metadata": {
    "collapsed": false
   },
   "outputs": [],
   "source": []
  }
 ],
 "metadata": {
  "kernelspec": {
   "display_name": "Python 3",
   "language": "python",
   "name": "python3"
  },
  "language_info": {
   "codemirror_mode": {
    "name": "ipython",
    "version": 3
   },
   "file_extension": ".py",
   "mimetype": "text/x-python",
   "name": "python",
   "nbconvert_exporter": "python",
   "pygments_lexer": "ipython3",
   "version": "3.6.1"
  }
 },
 "nbformat": 4,
 "nbformat_minor": 1
}
