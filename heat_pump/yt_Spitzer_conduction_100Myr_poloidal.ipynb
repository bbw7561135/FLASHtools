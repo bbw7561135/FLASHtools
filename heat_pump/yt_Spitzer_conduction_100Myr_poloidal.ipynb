{
 "cells": [
  {
   "cell_type": "code",
   "execution_count": null,
   "metadata": {},
   "outputs": [],
   "source": [
    "%matplotlib inline\n",
    "import os\n",
    "import yt\n",
    "yt.mylog.setLevel(\"WARNING\")\n",
    "import numpy as np\n",
    "import matplotlib\n",
    "matplotlib.rcParams['font.family'] = 'stixgeneral'\n",
    "matplotlib.rcParams['figure.dpi'] = 150\n",
    "import matplotlib.pyplot as plt\n",
    "from matplotlib import colors\n",
    "from mpl_toolkits.axes_grid1 import make_axes_locatable\n",
    "\n",
    "from conduction.yt_conduction_fields import *\n",
    "from yt_cluster_ratio_fields import *"
   ]
  },
  {
   "cell_type": "code",
   "execution_count": null,
   "metadata": {},
   "outputs": [],
   "source": [
    "ds = yt.load('/d/d12/ychen/2016_production_runs/1212_L45_M10_b1_h0_10Myr/data/MHD_Jet_10Myr_hdf5_plt_cnt_1047')\n",
    "sp1 = ds.sphere([0,0,0], (180, 'kpc'))\n",
    "sp2 = ds.sphere([0,0,0], (0.5, 'kpc'))\n",
    "sp = sp1 - sp2\n",
    "\n",
    "ds.current_time.in_units('Myr')"
   ]
  },
  {
   "cell_type": "code",
   "execution_count": null,
   "metadata": {},
   "outputs": [],
   "source": [
    "plot = yt.SlicePlot(ds, 'y', 'jet ')\n",
    "plot.zoom(4)\n",
    "plot.set_zlim('jet ', 1E-7, 1)\n",
    "plot.annotate_contour('jet ', ncont=2, clim=(1E-3, 1E-2), take_log=True)\n",
    "plot.show()\n"
   ]
  },
  {
   "cell_type": "code",
   "execution_count": null,
   "metadata": {},
   "outputs": [],
   "source": [
    "plot = yt.SlicePlot(ds, 'y', 'xray_emissivity_0.1_100_keV')\n",
    "plot.annotate_contour('jet ', ncont=2, clim=(1E-3, 1E-2), take_log=True)\n",
    "plot.zoom(4)\n",
    "plot.show()\n"
   ]
  },
  {
   "cell_type": "code",
   "execution_count": null,
   "metadata": {},
   "outputs": [],
   "source": [
    "plot = yt.SlicePlot(ds, 'y', 'xray_cooling_time', )\n",
    "plot.set_unit('xray_cooling_time', 'Gyr')\n",
    "plot.annotate_contour('jet ', ncont=2, clim=(1E-3, 1E-2), take_log=True)\n",
    "plot.zoom(4)\n",
    "plot.show()"
   ]
  },
  {
   "cell_type": "code",
   "execution_count": null,
   "metadata": {},
   "outputs": [],
   "source": [
    "plot = yt.SlicePlot(ds, 'y', 'temperature')\n",
    "plot.set_unit('temperature', 'keV', equivalency='thermal')\n",
    "plot.annotate_contour('jet ', ncont=2, clim=(1E-3, 1E-2), take_log=True)\n",
    "plot.zoom(4)\n",
    "plot.show()"
   ]
  },
  {
   "cell_type": "code",
   "execution_count": null,
   "metadata": {},
   "outputs": [],
   "source": [
    "plot = yt.SlicePlot(ds, 'y', 'entropy', data_source=sp)\n",
    "plot.set_zlim('entropy', 30, 250)\n",
    "plot.annotate_contour('jet ', ncont=2, clim=(1E-3, 1E-2), take_log=True)\n",
    "plot.zoom(4)\n",
    "plot.show()"
   ]
  },
  {
   "cell_type": "code",
   "execution_count": null,
   "metadata": {},
   "outputs": [],
   "source": [
    "plot = yt.SlicePlot(ds, 'y', 'H_nuclei_density')\n",
    "plot.annotate_contour('jet ', ncont=2, clim=(1E-3, 1E-2), take_log=True)\n",
    "plot.zoom(4)\n",
    "plot.show()"
   ]
  },
  {
   "cell_type": "code",
   "execution_count": null,
   "metadata": {},
   "outputs": [],
   "source": [
    "plot = yt.SlicePlot(ds, 'y', 'temperature_gradient_magnitude', data_source=sp, width=(240, 'kpc'))\n",
    "plot.set_unit('temperature_gradient_magnitude', 'K/pc')\n",
    "plot.annotate_contour('jet ', ncont=2, clim=(1E-3, 1E-2), take_log=True)\n",
    "plot.show()"
   ]
  },
  {
   "cell_type": "code",
   "execution_count": null,
   "metadata": {},
   "outputs": [],
   "source": [
    "plot = yt.SlicePlot(ds, 'y', 'temperature_gradient_x', data_source=sp, width=(240, 'kpc'))\n",
    "plot.set_unit('temperature_gradient_x', 'K/pc')\n",
    "plot.set_cmap('temperature_gradient_x', 'seismic')\n",
    "plot.set_zlim('temperature_gradient_x', -1E3, 1E3)\n",
    "plot.annotate_contour('jet ', ncont=2, clim=(1E-3, 1E-2), take_log=True, plot_args={'color': 'white'})\n",
    "plot.show()"
   ]
  },
  {
   "cell_type": "code",
   "execution_count": null,
   "metadata": {},
   "outputs": [],
   "source": [
    "plot = yt.SlicePlot(ds, 'y', 'spitzer_conduction_coefficient', data_source=sp, width=(240, 'kpc'))\n",
    "plot.set_zlim('spitzer_conduction_coefficient', 1E29, 1E32)\n",
    "plot.annotate_contour('jet ', ncont=2, clim=(1E-3, 1E-2), take_log=True)\n",
    "plot.show()"
   ]
  },
  {
   "cell_type": "code",
   "execution_count": null,
   "metadata": {},
   "outputs": [],
   "source": [
    "plot = yt.SlicePlot(ds, 'y', 'spitzer_heat_flux_x', data_source=sp, width=(240, 'kpc'))\n",
    "plot.set_log('spitzer_heat_flux_x' , True, linthresh=1E-3)\n",
    "plot.set_cmap('spitzer_heat_flux_x', 'seismic')\n",
    "plot.set_zlim('spitzer_heat_flux_x', -1E-1, 1E-1)\n",
    "plot.annotate_contour('jet ', ncont=2, clim=(1E-3, 1E-2), take_log=True)\n",
    "plot.show()"
   ]
  },
  {
   "cell_type": "code",
   "execution_count": null,
   "metadata": {
    "scrolled": false
   },
   "outputs": [],
   "source": [
    "plot = yt.SlicePlot(ds, 'y', 'spitzer_heat_flux_divergence', data_source=sp, width=(240, 'kpc'))\n",
    "\n",
    "plot.set_log('spitzer_heat_flux_divergence' , True, linthresh=1E-25)\n",
    "plot.set_cmap('spitzer_heat_flux_divergence', 'seismic_r')\n",
    "plot.set_zlim('spitzer_heat_flux_divergence', -1E-23, 1E-23)\n",
    "plot.annotate_contour('jet ', ncont=2, clim=(1E-3, 1E-2), take_log=True)\n",
    "plot.show()"
   ]
  },
  {
   "cell_type": "code",
   "execution_count": null,
   "metadata": {},
   "outputs": [],
   "source": [
    "plot = yt.SlicePlot(ds, 'y', 'spitzer_heating_rate', data_source=sp, width=(240, 'kpc'))\n",
    "\n",
    "plot.set_log('spitzer_heating_rate' , True, linthresh=1E40)\n",
    "plot.set_cmap('spitzer_heating_rate', 'seismic')\n",
    "plot.set_zlim('spitzer_heating_rate', -1E42, 1E42)\n",
    "plot.annotate_contour('jet ', ncont=2, clim=(1E-3, 1E-2), take_log=True)\n",
    "plot.show()"
   ]
  },
  {
   "cell_type": "code",
   "execution_count": null,
   "metadata": {},
   "outputs": [],
   "source": [
    "\n",
    "plot = yt.SlicePlot(ds, 'y', 'spitzer_heating_rate', data_source=sp, width=(240, 'kpc'))\n",
    "\n",
    "plot.set_log('spitzer_heating_rate' , True, linthresh=1E40)\n",
    "plot.set_cmap('spitzer_heating_rate', 'seismic')\n",
    "plot.set_zlim('spitzer_heating_rate', -1E42, 1E42)\n",
    "plot.annotate_contour('entropy_ratio', ncont=2, clim=(0.9, 1.0), take_log=False)\n",
    "plot.show()"
   ]
  },
  {
   "cell_type": "code",
   "execution_count": null,
   "metadata": {
    "scrolled": false
   },
   "outputs": [],
   "source": [
    "plot = yt.SlicePlot(ds, 'y', 'total_heating_rate', data_source=sp, width=(240, 'kpc'))\n",
    "\n",
    "plot.set_log('total_heating_rate' , True, linthresh=1E40)\n",
    "plot.set_cmap('total_heating_rate', 'seismic')\n",
    "plot.set_zlim('total_heating_rate', -1E42, 1E42)\n",
    "plot.annotate_contour('jet ', ncont=2, clim=(1E-3, 1E-2), take_log=True)\n",
    "plot.show()"
   ]
  },
  {
   "cell_type": "code",
   "execution_count": null,
   "metadata": {},
   "outputs": [],
   "source": [
    "plot = yt.SlicePlot(ds, 'y', 'total_cooling_time', data_source=sp, width=(240, 'kpc'))\n",
    "\n",
    "plot.set_log('total_cooling_time' , True, linthresh=1E2)\n",
    "plot.set_cmap('total_cooling_time', 'seismic')\n",
    "plot.set_zlim('total_cooling_time', -1E4, 1E4)\n",
    "plot.annotate_contour('jet ', ncont=2, clim=(1E-3, 1E-2), take_log=True)\n",
    "plot.show()"
   ]
  },
  {
   "cell_type": "code",
   "execution_count": null,
   "metadata": {},
   "outputs": [],
   "source": [
    "extrema = {'entropy': (20, 250), 'spherical_radius': ((10, 'kpc'), (150, 'kpc'))}\n",
    "fields = ['spitzer_heating_rate', 'xray_luminosity_0.1_100_keV', 'cell_mass']\n",
    "prof = yt.create_profile(sp, ['entropy', 'spherical_radius'], fields, weight_field=None,\n",
    "                         extrema=extrema)"
   ]
  },
  {
   "cell_type": "code",
   "execution_count": null,
   "metadata": {
    "scrolled": false
   },
   "outputs": [],
   "source": [
    "pp = yt.PhasePlot.from_profile(prof, figure_size=6)\n",
    "pp.set_unit('spherical_radius', 'kpc')\n",
    "pp.set_cmap('spitzer_heating_rate', 'RdBu_r')\n",
    "pp.set_log('spitzer_heating_rate', False)\n",
    "pp.set_zlim('spitzer_heating_rate', -1E44, 1E44)\n",
    "pp.set_ylim(20, 150)\n",
    "pp.set_xlim(20, 250)\n",
    "\n",
    "plot2 = pp['spitzer_heating_rate']\n",
    "\n",
    "r_ticks = [30, 40, 50, 60, 80, 100, 150]\n",
    "\n",
    "plot2.axes.set_yticks(r_ticks)\n",
    "#plot2.axes.yaxis.set_ticklabels(r_ticks)\n",
    "plot2.axes.set_yticklabels(r_ticks)\n",
    "plot2.axes.set_yticklabels([], minor=True)\n",
    "#print(plot2.axes.yaxis.get_ticklabels())\n",
    "\n",
    "entropy_ticks = [20, 30, 40, 60, 80, 100, 150, 200]\n",
    "plot2.axes.set_xticks(entropy_ticks)\n",
    "plot2.axes.set_xticklabels(entropy_ticks)\n",
    "\n",
    "plot2.save('heating_rate_entropy_r_100Myr_poloidal.pdf')"
   ]
  },
  {
   "cell_type": "code",
   "execution_count": null,
   "metadata": {},
   "outputs": [],
   "source": [
    "prof.y"
   ]
  },
  {
   "cell_type": "code",
   "execution_count": null,
   "metadata": {},
   "outputs": [],
   "source": [
    "fig = plt.figure()\n",
    "ax = fig.add_subplot(111)\n",
    "\n",
    "ax.step(prof.y.in_units('kpc'), prof['spitzer_heating_rate'].T.sum(axis=1),\n",
    "         label='Spitzer Cond. (heating)', linewidth=1, color='C1')\n",
    "ax.step(prof.y.in_units('kpc'), -prof['spitzer_heating_rate'].T.sum(axis=1),\n",
    "         label='Spitzer Cond. (cooling)', linestyle='dotted', linewidth=1, color='C1')\n",
    "ax.step(prof.y.in_units('kpc'), prof['xray_luminosity_0.1_100_keV'].T.sum(axis=1),\n",
    "         label='X-ray Cooling', linestyle='dashed', color='C0')\n",
    "ax.step(prof.y.in_units('kpc'), 0.1*prof['spitzer_heating_rate'].T.sum(axis=1),\n",
    "         label='10% Spitzer Cond. (heating)', linewidth=2, color='C3')\n",
    "ax.step(prof.y.in_units('kpc'), -0.1*prof['spitzer_heating_rate'].T.sum(axis=1),\n",
    "         label='10% Spitzer Cond. (cooling)', linestyle='dotted', linewidth=2, color='C3')\n",
    "ax.semilogx()\n",
    "ax.semilogy()\n",
    "ax.grid()"
   ]
  },
  {
   "cell_type": "code",
   "execution_count": null,
   "metadata": {},
   "outputs": [],
   "source": [
    "fig = plt.figure(figsize=(4.5,5.5))\n",
    "axMesh = fig.add_subplot(111)\n",
    "\n",
    "divider = make_axes_locatable(axMesh)\n",
    "axHist = divider.append_axes(\"bottom\", size=1.9, pad=0, sharex=axMesh)\n",
    "cax = divider.append_axes(\"right\", size=\"4%\", pad=0)\n",
    "\n",
    "im = axMesh.pcolormesh(prof.x, prof.y.in_units('kpc'), prof['spitzer_heating_rate'].T.v*0.1,\n",
    "                       cmap='RdBu_r', norm=colors.SymLogNorm(vmin=-1E43, vmax=1E43, linthresh=1E41))\n",
    "axMesh.set_xscale('log')\n",
    "axMesh.set_yscale('log')\n",
    "\n",
    "r_ticks = [10, 20, 30, 40, 50, 60, 70, 80, 90, 100, 110, 120, 130, 140, 150]\n",
    "r_ticklabels = [10, 20, 30, 40, 50, 60, '', 80, '', 100, '', '', '', '', 150]\n",
    "axMesh.set_ylim(10,150)\n",
    "axMesh.set_yticks([100])\n",
    "axMesh.set_yticklabels([])\n",
    "axMesh.set_yticks(r_ticks, minor=True)\n",
    "axMesh.set_yticklabels(r_ticklabels, minor=True)\n",
    "axMesh.set_ylabel('radius [kpc]')\n",
    "\n",
    "axMesh.tick_params(axis='x', which='both', direction='in', labelbottom=False, top='on')\n",
    "axMesh.tick_params(axis='y', which='both', direction='in')\n",
    "\n",
    "axMesh.text(23, 115, '%.0f Myr' % ds.current_time.in_units('Myr'))\n",
    "\n",
    "cb = plt.colorbar(im, cax=cax)\n",
    "cb.set_ticks([-1E43, -1E42, -1E41, 0, 1E41, 1E42, 1E43])\n",
    "#cax.set_yticks([np.linspace(-9E43, -2E42, 8)], minor=True)\n",
    "cax.tick_params(axis='y', which='both', direction='in')\n",
    "cax.set_ylabel('10% Spitzer Heating Rate [erg/s]')\n",
    "\n",
    "axHist.step(prof.x, 0.1*prof['spitzer_heating_rate'].T.sum(axis=0),\n",
    "         label='10% Spitzer Cond. (heating)', linewidth=2, color='C3')\n",
    "axHist.step(prof.x, -0.1*prof['spitzer_heating_rate'].T.sum(axis=0),\n",
    "         label='10% Spitzer Cond. (cooling)', linestyle='dotted', linewidth=2, color='C3')\n",
    "\n",
    "axHist.step(prof.x, prof['xray_luminosity_0.1_100_keV'].T.sum(axis=0),\n",
    "         label='X-ray Cooling', linestyle='dashed', color='C0')\n",
    "\n",
    "axHist.step(prof.x, 0.01*prof['spitzer_heating_rate'].T.sum(axis=0),\n",
    "         label='1% Spitzer Cond. (heating)', linewidth=1, color='C1')\n",
    "axHist.step(prof.x, -0.01*prof['spitzer_heating_rate'].T.sum(axis=0),\n",
    "         label='1% Spitzer Cond. (cooling)', linestyle='dotted', linewidth=1, color='C1')\n",
    "\n",
    "axHist.set_ylim(3E40, 5E44)\n",
    "axHist.set_yscale('log')\n",
    "\n",
    "yticks = [1E41, 1E42, 1E43, 1E44]\n",
    "axHist.set_yticks(yticks)\n",
    "axHist.set_yticklabels(yticks)\n",
    "axHist.set_ylabel('heating/cooling rate [erg/s]')\n",
    "\n",
    "entropy_ticks = [20, 30,40, 50, 60, 70, 80, 90, 100, \n",
    "                 110, 120, 130, 140, 150, 160, 170, 180, 190, 200, \n",
    "                 210, 220, 230, 240]\n",
    "entropy_ticklabels = [20, '', 40, '', 60, '', 80, '', 100, \n",
    "                      '', '', '', '', 150, '', '', '', '', 200, \n",
    "                      '', '', '', '']\n",
    "axHist.semilogx()\n",
    "axHist.set_xlim(20, 250)\n",
    "axHist.tick_params(axis='x', which='both', direction='in')\n",
    "axHist.tick_params(axis='y', which='both', direction='in')\n",
    "axHist.set_xticks([100, 200])\n",
    "axHist.set_xticklabels([])\n",
    "axHist.set_xticks(entropy_ticks, minor=True)\n",
    "axHist.set_xticklabels(entropy_ticklabels, minor=True)\n",
    "axHist.set_xlabel(r'entropy [keV cm$^2$]')\n",
    "\n",
    "axHist.axhline(0, ls='-', lw=1, color='k')\n",
    "axHist.legend(frameon=False, loc=2, fontsize=8, ncol=2, columnspacing=0.7)\n",
    "fig.savefig('heating_rate_100Myr_poloidal.pdf', bbox_inches='tight')"
   ]
  },
  {
   "cell_type": "code",
   "execution_count": null,
   "metadata": {},
   "outputs": [],
   "source": [
    "0.1*prof['spitzer_heating_rate'].T.sum(axis=0)[:41]"
   ]
  },
  {
   "cell_type": "code",
   "execution_count": null,
   "metadata": {},
   "outputs": [],
   "source": [
    "prof.x[39]"
   ]
  },
  {
   "cell_type": "code",
   "execution_count": null,
   "metadata": {},
   "outputs": [],
   "source": [
    "sum(0.1*prof['spitzer_heating_rate'].T.sum(axis=0)[:40])"
   ]
  },
  {
   "cell_type": "code",
   "execution_count": null,
   "metadata": {},
   "outputs": [],
   "source": [
    "sum(prof['xray_luminosity_0.1_100_keV'].T.sum(axis=0)[:41])"
   ]
  },
  {
   "cell_type": "code",
   "execution_count": null,
   "metadata": {},
   "outputs": [],
   "source": [
    "sum(0.1*prof['spitzer_heating_rate'].T.sum(axis=0)[:55])-sum(prof['xray_luminosity_0.1_100_keV'].T.sum(axis=0)[:55])"
   ]
  },
  {
   "cell_type": "code",
   "execution_count": null,
   "metadata": {
    "collapsed": false
   },
   "outputs": [],
   "source": [
    "extrema = {'entropy': (20, 250), 'spherical_radius': ((10, 'kpc'), (150, 'kpc'))}\n",
    "logs = {'entropy': False, 'spherical_radius': False}\n",
    "fields = ['spitzer_heating_rate', 'xray_luminosity_0.1_100_keV', 'cell_mass']\n",
    "prof_linear = yt.create_profile(sp, ['entropy', 'spherical_radius'], fields, weight_field=None,\n",
    "                         logs=logs, extrema=extrema)"
   ]
  },
  {
   "cell_type": "code",
   "execution_count": null,
   "metadata": {},
   "outputs": [],
   "source": [
    "fig = plt.figure(figsize=(4.5,5.5))\n",
    "axMesh = fig.add_subplot(111)\n",
    "\n",
    "divider = make_axes_locatable(axMesh)\n",
    "axHist = divider.append_axes(\"bottom\", size=1.9, pad=0, sharex=axMesh)\n",
    "cax = divider.append_axes(\"right\", size=\"4%\", pad=0)\n",
    "\n",
    "im = axMesh.pcolormesh(prof_linear.x, prof_linear.y/3.086E+21, prof_linear['spitzer_heating_rate'].T.v*0.1,\n",
    "                       cmap='RdBu_r', norm=colors.SymLogNorm(vmin=-1E43, vmax=1E43, linthresh=1E41))\n",
    "#axMesh.set_xscale('log')\n",
    "#axMesh.set_yscale('log')\n",
    "\n",
    "r_ticks = [10, 20, 30, 40, 50, 60, 70, 80, 90, 100, 110, 120, 130, 140, 150]\n",
    "r_ticklabels = [10, 20, 30, 40, 50, 60, '', 80, '', 100, '', '', '', '', 150]\n",
    "axMesh.set_ylim(10,150)\n",
    "axMesh.set_yticks([100])\n",
    "axMesh.set_yticklabels([])\n",
    "axMesh.set_yticks(r_ticks, minor=True)\n",
    "axMesh.set_yticklabels(r_ticklabels, minor=True)\n",
    "axMesh.set_ylabel('Radius (kpc)')\n",
    "\n",
    "axMesh.tick_params(axis='x', which='both', direction='in', labelbottom=False, top='on')\n",
    "axMesh.tick_params(axis='y', which='both', direction='in')\n",
    "\n",
    "axMesh.text(23, 115, '%.0f Myr' % ds.current_time.in_units('Myr'))\n",
    "\n",
    "cb = plt.colorbar(im, cax=cax)\n",
    "cb.set_ticks([-1E43, -1E42, -1E41, 0, 1E41, 1E42, 1E43])\n",
    "#cax.set_yticks([np.linspace(-9E43, -2E42, 8)], minor=True)\n",
    "cax.tick_params(axis='y', which='both', direction='in')\n",
    "cax.set_ylabel('10% Spitzer Heating Rate (erg/s)')\n",
    "\n",
    "axHist.step(prof_linear.x, prof_linear['spitzer_heating_rate'].T.sum(axis=0),\n",
    "         label='Spitzer Cond. (heating)', linewidth=1, color='C1')\n",
    "axHist.step(prof_linear.x, -prof_linear['spitzer_heating_rate'].T.sum(axis=0),\n",
    "         label='Spitzer Cond. (cooling)', linestyle='dotted', linewidth=1, color='C1')\n",
    "axHist.step(prof_linear.x, prof_linear['xray_luminosity_0.1_100_keV'].T.sum(axis=0),\n",
    "         label='X-ray Cooling', linestyle='dashed', color='C0')\n",
    "axHist.step(prof_linear.x, 0.1*prof_linear['spitzer_heating_rate'].T.sum(axis=0),\n",
    "         label='10% Spitzer Cond. (heating)', linewidth=2, color='C3')\n",
    "axHist.step(prof_linear.x, -0.1*prof_linear['spitzer_heating_rate'].T.sum(axis=0),\n",
    "         label='10% Spitzer Cond. (cooling)', linestyle='dotted', linewidth=2, color='C3')\n",
    "\n",
    "axHist.set_ylim(2E41, 4E45)\n",
    "axHist.set_yscale('log')\n",
    "\n",
    "yticks = [1E42, 1E43, 1E44, 1E45]\n",
    "axHist.set_yticks(yticks)\n",
    "axHist.set_yticklabels(yticks)\n",
    "axHist.set_ylabel('Heating/Cooling rate (erg/s)')\n",
    "\n",
    "entropy_ticks = [20, 30, 40, 50, 60, 70, 80, 90, 100, \n",
    "                 110, 120, 130, 140, 150, 160, 170, 180, 190, 200, \n",
    "                 210, 220, 230, 240]\n",
    "entropy_ticklabels = [20, 30, 40, 50, 60, '', 80, '', 100, \n",
    "                      '', '', '', '', 150, '', '', '', '', 200, \n",
    "                      '', '', '', '']\n",
    "#axHist.semilogx()\n",
    "axHist.set_xlim(20, 250)\n",
    "axHist.tick_params(axis='x', which='both', direction='in')\n",
    "axHist.tick_params(axis='y', which='both', direction='in')\n",
    "axHist.set_xticks([100, 200])\n",
    "axHist.set_xticklabels([])\n",
    "axHist.set_xticks(entropy_ticks, minor=True)\n",
    "axHist.set_xticklabels(entropy_ticklabels, minor=True)\n",
    "axHist.set_xlabel(r'Entropy (cm$^2\\ $keV)')\n",
    "\n",
    "axHist.axhline(0, ls='-', lw=1, color='k')\n",
    "axHist.legend(frameon=False, loc=2, fontsize=8.5, ncol=2, columnspacing=0.5)\n",
    "fig.savefig('heating_rate_300Myr_poloidal.pdf', bbox_inches='tight')"
   ]
  },
  {
   "cell_type": "code",
   "execution_count": null,
   "metadata": {},
   "outputs": [],
   "source": [
    "prof.save_as_dataset('100Myr_radius_entropy_profile')"
   ]
  },
  {
   "cell_type": "code",
   "execution_count": null,
   "metadata": {},
   "outputs": [],
   "source": [
    "prof_linear.save_as_dataset('300Myr_radius_entropy_profile_linear')"
   ]
  },
  {
   "cell_type": "code",
   "execution_count": null,
   "metadata": {},
   "outputs": [],
   "source": [
    "plt.step(prof.x, prof['cell_mass'].T.sum(axis=0),\n",
    "         label='cell mass', linewidth=1, color='C1')\n",
    "plt.semilogx()"
   ]
  },
  {
   "cell_type": "code",
   "execution_count": null,
   "metadata": {},
   "outputs": [],
   "source": [
    "plt.step(prof_linear.x, prof_linear['cell_mass'].T.sum(axis=0),\n",
    "         label='cell mass', linewidth=1, color='C1')"
   ]
  },
  {
   "cell_type": "code",
   "execution_count": null,
   "metadata": {
    "collapsed": false
   },
   "outputs": [],
   "source": [
    "extrema = {'spherical_radius': ((10, 'kpc'), (150, 'kpc'))}\n",
    "logs = {'spherical_radius': True}\n",
    "fields = ['spitzer_heating_rate', 'xray_luminosity_0.1_100_keV', 'cell_mass']\n",
    "prof_radius = yt.create_profile(sp, 'spherical_radius', fields, weight_field=None, \n",
    "                         extrema=extrema, logs=logs)"
   ]
  },
  {
   "cell_type": "code",
   "execution_count": null,
   "metadata": {
    "collapsed": false
   },
   "outputs": [],
   "source": []
  }
 ],
 "metadata": {
  "kernelspec": {
   "display_name": "Python 3",
   "language": "python",
   "name": "python3"
  },
  "language_info": {
   "codemirror_mode": {
    "name": "ipython",
    "version": 3
   },
   "file_extension": ".py",
   "mimetype": "text/x-python",
   "name": "python",
   "nbconvert_exporter": "python",
   "pygments_lexer": "ipython3",
   "version": "3.6.1"
  }
 },
 "nbformat": 4,
 "nbformat_minor": 1
}
