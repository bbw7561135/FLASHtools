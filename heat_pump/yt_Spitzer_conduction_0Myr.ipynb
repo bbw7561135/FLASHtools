{
 "cells": [
  {
   "cell_type": "code",
   "execution_count": null,
   "metadata": {
    "collapsed": false
   },
   "outputs": [],
   "source": [
    "%matplotlib inline\n",
    "import os\n",
    "import yt\n",
    "yt.mylog.setLevel(\"WARNING\")\n",
    "import numpy as np\n",
    "import matplotlib\n",
    "matplotlib.rcParams['font.family'] = 'stixgeneral'\n",
    "matplotlib.rcParams['figure.dpi'] = 150\n",
    "import matplotlib.pyplot as plt\n",
    "\n",
    "from yt_conduction_fields import *"
   ]
  },
  {
   "cell_type": "code",
   "execution_count": null,
   "metadata": {},
   "outputs": [],
   "source": [
    "ds = yt.load('/home/ychen/Mount/gdrive/2015_production_runs/0529_L45_M10_b1_h1/data/MHD_Jet_hdf5_plt_cnt_0000')\n",
    "sp1 = ds.sphere([0,0,0], (180, 'kpc'))\n",
    "sp2 = ds.sphere([0,0,0], (0.5, 'kpc'))\n",
    "sp = sp1 - sp2\n",
    "\n",
    "ds.current_time.in_units('Myr')"
   ]
  },
  {
   "cell_type": "code",
   "execution_count": null,
   "metadata": {},
   "outputs": [],
   "source": [
    "plot = yt.SlicePlot(ds, 'y', 'jet ')\n",
    "plot.zoom(4)\n",
    "plot.set_zlim('jet ', 1E-7, 1)\n",
    "plot.annotate_contour('jet ', ncont=2, clim=(1E-4, 1E-3), take_log=True)\n",
    "plot.show()\n"
   ]
  },
  {
   "cell_type": "code",
   "execution_count": null,
   "metadata": {},
   "outputs": [],
   "source": [
    "plot = yt.SlicePlot(ds, 'y', 'xray_emissivity_0.1_100_keV')\n",
    "plot.zoom(4)\n",
    "plot.show()\n"
   ]
  },
  {
   "cell_type": "code",
   "execution_count": null,
   "metadata": {},
   "outputs": [],
   "source": [
    "plot = yt.SlicePlot(ds, 'y', 'xray_cooling_time', )\n",
    "plot.set_unit('xray_cooling_time', 'Gyr')\n",
    "plot.zoom(4)\n",
    "plot.show()"
   ]
  },
  {
   "cell_type": "code",
   "execution_count": null,
   "metadata": {},
   "outputs": [],
   "source": [
    "plot = yt.SlicePlot(ds, 'y', 'temperature')\n",
    "plot.set_unit('temperature', 'keV', equivalency='thermal')\n",
    "plot.zoom(4)\n",
    "plot.show()"
   ]
  },
  {
   "cell_type": "code",
   "execution_count": null,
   "metadata": {},
   "outputs": [],
   "source": [
    "plot = yt.SlicePlot(ds, 'y', 'entropy', data_source=sp)\n",
    "plot.set_zlim('entropy', 30, 250)\n",
    "plot.zoom(4)\n",
    "plot.show()"
   ]
  },
  {
   "cell_type": "code",
   "execution_count": null,
   "metadata": {},
   "outputs": [],
   "source": [
    "plot = yt.SlicePlot(ds, 'y', 'H_nuclei_density')\n",
    "plot.zoom(4)\n",
    "plot.show()"
   ]
  },
  {
   "cell_type": "code",
   "execution_count": null,
   "metadata": {},
   "outputs": [],
   "source": [
    "plot = yt.SlicePlot(ds, 'y', 'temperature_gradient_magnitude', data_source=sp, width=(240, 'kpc'))\n",
    "plot.set_unit('temperature_gradient_magnitude', 'K/pc')\n",
    "plot.show()"
   ]
  },
  {
   "cell_type": "code",
   "execution_count": null,
   "metadata": {},
   "outputs": [],
   "source": [
    "plot = yt.SlicePlot(ds, 'y', 'temperature_gradient_x', data_source=sp, width=(240, 'kpc'))\n",
    "plot.set_unit('temperature_gradient_x', 'K/pc')\n",
    "plot.set_cmap('temperature_gradient_x', 'seismic')\n",
    "plot.set_zlim('temperature_gradient_x', -1E3, 1E3)\n",
    "plot.show()"
   ]
  },
  {
   "cell_type": "code",
   "execution_count": null,
   "metadata": {},
   "outputs": [],
   "source": [
    "plot = yt.SlicePlot(ds, 'y', 'spitzer_conduction_coefficient', data_source=sp, width=(240, 'kpc'))\n",
    "plot.set_zlim('spitzer_conduction_coefficient', 1E29, 1E32)\n",
    "plot.show()"
   ]
  },
  {
   "cell_type": "code",
   "execution_count": null,
   "metadata": {},
   "outputs": [],
   "source": [
    "plot = yt.SlicePlot(ds, 'y', 'spitzer_heat_flux_x', data_source=sp, width=(240, 'kpc'))\n",
    "plot.set_log('spitzer_heat_flux_x' , True, linthresh=1E-3)\n",
    "plot.set_cmap('spitzer_heat_flux_x', 'seismic')\n",
    "plot.set_zlim('spitzer_heat_flux_x', -1E-1, 1E-1)\n",
    "plot.show()"
   ]
  },
  {
   "cell_type": "code",
   "execution_count": null,
   "metadata": {
    "scrolled": false
   },
   "outputs": [],
   "source": [
    "plot = yt.SlicePlot(ds, 'y', 'spitzer_heat_flux_divergence', data_source=sp, width=(240, 'kpc'))\n",
    "\n",
    "plot.set_log('spitzer_heat_flux_divergence' , True, linthresh=1E-25)\n",
    "plot.set_cmap('spitzer_heat_flux_divergence', 'seismic_r')\n",
    "plot.set_zlim('spitzer_heat_flux_divergence', -1E-23, 1E-23)\n",
    "plot.show()"
   ]
  },
  {
   "cell_type": "code",
   "execution_count": null,
   "metadata": {},
   "outputs": [],
   "source": [
    "plot = yt.SlicePlot(ds, 'y', 'spitzer_heating_rate', data_source=sp, width=(240, 'kpc'))\n",
    "\n",
    "plot.set_log('spitzer_heating_rate' , True, linthresh=1E40)\n",
    "plot.set_cmap('spitzer_heating_rate', 'seismic')\n",
    "plot.set_zlim('spitzer_heating_rate', -1E42, 1E42)\n",
    "plot.show()"
   ]
  },
  {
   "cell_type": "code",
   "execution_count": null,
   "metadata": {
    "scrolled": false
   },
   "outputs": [],
   "source": [
    "plot = yt.SlicePlot(ds, 'y', 'total_heating_rate', data_source=sp, width=(240, 'kpc'))\n",
    "\n",
    "plot.set_log('total_heating_rate' , True, linthresh=1E40)\n",
    "plot.set_cmap('total_heating_rate', 'seismic')\n",
    "plot.set_zlim('total_heating_rate', -1E42, 1E42)\n",
    "plot.show()"
   ]
  },
  {
   "cell_type": "code",
   "execution_count": null,
   "metadata": {},
   "outputs": [],
   "source": [
    "plot = yt.SlicePlot(ds, 'y', 'total_cooling_time', data_source=sp, width=(240, 'kpc'))\n",
    "\n",
    "plot.set_log('total_cooling_time' , False)\n",
    "plot.set_cmap('total_cooling_time', 'seismic')\n",
    "plot.set_zlim('total_cooling_time', -1E3, 1E3)\n",
    "plot.show()"
   ]
  },
  {
   "cell_type": "code",
   "execution_count": null,
   "metadata": {
    "collapsed": false
   },
   "outputs": [],
   "source": [
    "extrema = {'entropy': (20, 250)}\n",
    "logs = {'entropy': True}\n",
    "fields = ['spitzer_heating_rate', 'xray_luminosity_0.1_100_keV', 'cell_mass']\n",
    "prof_entropy = yt.create_profile(sp, 'entropy', fields, weight_field=None, \n",
    "                         extrema=extrema, logs=logs)"
   ]
  },
  {
   "cell_type": "code",
   "execution_count": null,
   "metadata": {},
   "outputs": [],
   "source": [
    "fig = plt.figure(figsize=(6,4))\n",
    "plt.step(prof_entropy.x, -prof_entropy['xray_luminosity_0.1_100_keV'],\n",
    "         label='X-ray Cooling', linestyle='dotted')\n",
    "plt.step(prof_entropy.x, prof_entropy['spitzer_heating_rate'],\n",
    "         label='Spitzer Thermal Conduction', linestyle='dashed')\n",
    "plt.step(prof_entropy.x, prof_entropy['spitzer_heating_rate']-prof_entropy['xray_luminosity_0.1_100_keV'], \n",
    "         label='Total $f_{\\mathrm{Sp}}$ = 1', linewidth=1)\n",
    "plt.step(prof_entropy.x, 0.1*prof_entropy['spitzer_heating_rate']-prof_entropy['xray_luminosity_0.1_100_keV'], \n",
    "         label=r'Total $f_{\\mathrm{Sp}}$ = 0.1', linewidth=2)\n",
    "plt.ylim(-1E45, 1E45)\n",
    "plt.yscale('symlog', linthreshy=1E42)\n",
    "yticks = [-1E45, -1E44, -1E43, -1E42, 0, 1E42, 1E43, 1E44, 1E45]\n",
    "\n",
    "plt.yticks(yticks, yticks)\n",
    "plt.ylabel('Heating(+)/Cooling(-) rate (erg/s)')\n",
    "plt.semilogx()\n",
    "plt.xlim(20, 250)\n",
    "entropy_ticks = [20, 30, 40, 60, 80, 100, 150, 200]\n",
    "plt.xticks(entropy_ticks, entropy_ticks)\n",
    "plt.xlabel(r'Entropy (cm$^2\\ $ keV)')\n",
    "plt.axhline(0, ls='-', lw=1, color='k')\n",
    "plt.text(170, 3E44, '%.0f Myr' % ds.current_time.in_units('Myr'))\n",
    "plt.legend(loc=3, fontsize=9, ncol=2, columnspacing=0.5)"
   ]
  },
  {
   "cell_type": "code",
   "execution_count": null,
   "metadata": {
    "collapsed": false
   },
   "outputs": [],
   "source": [
    "extrema = {'entropy': (20, 250), 'spherical_radius': ((10, 'kpc'), (150, 'kpc'))}\n",
    "fields = ['spitzer_heating_rate', 'xray_luminosity_0.1_100_keV', 'cell_mass']\n",
    "prof = yt.create_profile(sp, ['entropy', 'spherical_radius'], fields, weight_field=None,\n",
    "                         extrema=extrema)"
   ]
  },
  {
   "cell_type": "code",
   "execution_count": null,
   "metadata": {
    "scrolled": false
   },
   "outputs": [],
   "source": [
    "pp = yt.PhasePlot.from_profile(prof, figure_size=6)\n",
    "pp.set_unit('spherical_radius', 'kpc')\n",
    "pp.set_cmap('spitzer_heating_rate', 'RdBu_r')\n",
    "pp.set_log('spitzer_heating_rate', False)\n",
    "pp.set_zlim('spitzer_heating_rate', -1E44, 1E44)\n",
    "pp.set_ylim(20, 150)\n",
    "pp.set_xlim(20, 250)\n",
    "\n",
    "plot2 = pp['spitzer_heating_rate']\n",
    "\n",
    "r_ticks = [30, 40, 50, 60, 80, 100, 150]\n",
    "\n",
    "plot2.axes.set_yticks(r_ticks)\n",
    "#plot2.axes.yaxis.set_ticklabels(r_ticks)\n",
    "plot2.axes.set_yticklabels(r_ticks)\n",
    "plot2.axes.set_yticklabels([], minor=True)\n",
    "#print(plot2.axes.yaxis.get_ticklabels())\n",
    "\n",
    "\n",
    "entropy_ticks = [20, 30, 40, 60, 80, 100, 150, 200]\n",
    "plot2.axes.set_xticks(entropy_ticks)\n",
    "plot2.axes.set_xticklabels(entropy_ticks)\n",
    "\n",
    "plot2"
   ]
  },
  {
   "cell_type": "code",
   "execution_count": null,
   "metadata": {},
   "outputs": [],
   "source": [
    "extrema = {'spherical_radius': ((10, 'kpc'), (150, 'kpc'))}\n",
    "logs = {'spherical_radius': True}\n",
    "fields = ['spitzer_heating_rate', 'xray_luminosity_0.1_100_keV', 'cell_mass']\n",
    "prof_radius = yt.create_profile(sp, 'spherical_radius', fields, weight_field=None, \n",
    "                         extrema=extrema, logs=logs)"
   ]
  },
  {
   "cell_type": "code",
   "execution_count": null,
   "metadata": {},
   "outputs": [],
   "source": [
    "plt.clf()\n",
    "plt.step(prof_radius.x.in_units('kpc'), -prof_radius['xray_luminosity_0.1_100_keV'],\n",
    "         label='X-ray Cooling', linestyle='dotted')\n",
    "plt.step(prof_radius.x.in_units('kpc'), prof_radius['spitzer_heating_rate'],\n",
    "         label='Spitzer Thermal Conduction', linestyle='dashed')\n",
    "plt.step(prof_radius.x.in_units('kpc'), prof_radius['spitzer_heating_rate']-prof_radius['xray_luminosity_0.1_100_keV'], \n",
    "         label='Total $f_{\\mathrm{Sp}}$ = 1', linewidth=1)\n",
    "plt.step(prof_radius.x.in_units('kpc'), 0.1*prof_radius['spitzer_heating_rate']-prof_radius['xray_luminosity_0.1_100_keV'], \n",
    "         label=r'Total $f_{\\mathrm{Sp}}$ = 0.1', linewidth=2)\n",
    "plt.ylim(-1E45, 1E45)\n",
    "plt.yscale('symlog', linthreshy=1E42)\n",
    "yticks = [-1E45, -1E44, -1E43, -1E42, 0, 1E42, 1E43, 1E44, 1E45]\n",
    "\n",
    "plt.yticks(yticks, yticks)\n",
    "plt.ylabel('Heating(+)/Cooling(-) rate (erg/s)')\n",
    "plt.semilogx()\n",
    "plt.xlim(20, 150)\n",
    "radius_ticks = [20, 30, 40, 60, 80, 100, 150]\n",
    "plt.xticks(radius_ticks, radius_ticks)\n",
    "plt.xlabel(r'Radius (kpc)')\n",
    "plt.axhline(0, ls='-', lw=1, color='k')\n",
    "plt.text(110, 3E44, '%.0f Myr' % ds.current_time.in_units('Myr'))\n",
    "plt.legend(loc=3, fontsize=9, ncol=2, columnspacing=0.5)"
   ]
  },
  {
   "cell_type": "code",
   "execution_count": null,
   "metadata": {},
   "outputs": [],
   "source": [
    "Lmin,Lmax = 1E40, 1E44\n",
    "line = np.logspace(np.log10(Lmin), np.log10(Lmax))\n",
    "plt.scatter(prof_radius['xray_luminosity_0.1_100_keV'], prof_radius['spitzer_heating_rate'],\n",
    "            c=prof_radius.x.in_units('kpc'))\n",
    "plt.colorbar()\n",
    "plt.plot(line, line)\n",
    "plt.plot(line, line*0.1)\n",
    "\n",
    "plt.xlim(Lmin, Lmax)\n",
    "plt.ylim(Lmin, Lmax)\n",
    "plt.semilogx()\n",
    "plt.semilogy()"
   ]
  },
  {
   "cell_type": "code",
   "execution_count": null,
   "metadata": {
    "collapsed": false
   },
   "outputs": [],
   "source": []
  }
 ],
 "metadata": {
  "kernelspec": {
   "display_name": "Python 3",
   "language": "python",
   "name": "python3"
  },
  "language_info": {
   "codemirror_mode": {
    "name": "ipython",
    "version": 3
   },
   "file_extension": ".py",
   "mimetype": "text/x-python",
   "name": "python",
   "nbconvert_exporter": "python",
   "pygments_lexer": "ipython3",
   "version": "3.6.1"
  }
 },
 "nbformat": 4,
 "nbformat_minor": 1
}
