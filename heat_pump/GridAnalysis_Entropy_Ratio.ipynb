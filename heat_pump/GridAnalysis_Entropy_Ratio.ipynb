{
 "cells": [
  {
   "cell_type": "code",
   "execution_count": null,
   "metadata": {
    "collapsed": false
   },
   "outputs": [],
   "source": [
    "import yt\n",
    "import logging\n",
    "import numpy as np\n",
    "import matplotlib\n",
    "matplotlib.rcParams['font.family'] = 'stixgeneral'\n",
    "matplotlib.rcParams['figure.dpi'] = 150\n",
    "import matplotlib.pyplot as plt\n",
    "from yt_cluster_ratio_fields import *\n",
    "logging.getLogger('yt').setLevel(logging.ERROR)\n",
    "from mpl_toolkits.axes_grid1 import AxesGrid"
   ]
  },
  {
   "cell_type": "code",
   "execution_count": null,
   "metadata": {},
   "outputs": [],
   "source": [
    "ds = yt.load('/home/ychen/Mount/gdrive/2015_production_runs/1022_L45_M10_b1_h1_10Myr/data/MHD_Jet_10Myr_hdf5_plt_cnt_0630')\n",
    "print(ds)\n",
    "\n",
    "sl = yt.SlicePlot(ds, 'y', 'entropy_ratio').zoom(4)\n",
    "\n",
    "sl.set_zlim('entropy_ratio', 0.5, 2)\n",
    "sl.set_cmap('entropy_ratio', 'seismic')\n",
    "sl.annotate_timestamp(corner='upper_left', time_format='{time:6.0f} {units}', \n",
    "                      time_unit='Myr', text_args={'color': 'k'})\n",
    "sl.annotate_contour(field='entropy_ratio', ncont=1, clim=(0.8, 0.8), \n",
    "                    plot_args={'colors': 'k', 'lw': 1, 'linestyles': ':'})\n",
    "sl.annotate_contour(field='entropy_ratio', ncont=1, clim=(0.6, 0.6), \n",
    "                    plot_args={'colors': 'grey', 'lw': 1, 'linestyles': '--'})\n",
    "sl._setup_plots()\n",
    "pl = sl.plots['entropy_ratio']\n",
    "pl.cb.set_ticks([0.5,1,2])\n",
    "pl.cb.set_ticklabels([0.5,1,2])\n",
    "sl.show()"
   ]
  },
  {
   "cell_type": "code",
   "execution_count": null,
   "metadata": {},
   "outputs": [],
   "source": [
    "ds = yt.load('/home/ychen/Mount/gdrive/2015_production_runs/1022_L45_M10_b1_h1_10Myr/data/MHD_Jet_10Myr_hdf5_plt_cnt_1062')\n",
    "print(ds)\n",
    "\n",
    "sl = yt.SlicePlot(ds, 'y', 'entropy_ratio').zoom(4)\n",
    "\n",
    "sl.set_zlim('entropy_ratio', 0.5, 2)\n",
    "sl.set_cmap('entropy_ratio', 'seismic')\n",
    "sl.annotate_timestamp(corner='upper_left', time_format='{time:6.0f} {units}', \n",
    "                      time_unit='Myr', text_args={'color': 'k'})\n",
    "sl.annotate_contour(field='entropy_ratio', ncont=1, clim=(0.8, 0.8), \n",
    "                    plot_args={'colors': 'k', 'lw': 1, 'linestyles': ':'})\n",
    "sl.annotate_contour(field='entropy_ratio', ncont=1, clim=(0.6, 0.6), \n",
    "                    plot_args={'colors': 'grey', 'lw': 1, 'linestyles': '--'})\n",
    "sl._setup_plots()\n",
    "pl = sl.plots['entropy_ratio']\n",
    "pl.cb.set_ticks([0.5,1,2])\n",
    "pl.cb.set_ticklabels([0.5,1,2])\n",
    "sl.show()"
   ]
  },
  {
   "cell_type": "code",
   "execution_count": null,
   "metadata": {},
   "outputs": [],
   "source": [
    "ds = yt.load('/home/ychen/Mount/gdrive/2015_production_runs/1022_L45_M10_b1_h1_10Myr/data/MHD_Jet_10Myr_hdf5_plt_cnt_1380')\n",
    "print(ds)\n",
    "\n",
    "sl = yt.SlicePlot(ds, 'y', 'entropy_ratio', width=[(300, 'kpc'), (150, 'kpc')])\n",
    "\n",
    "sl.set_zlim('entropy_ratio', 0.5, 2)\n",
    "sl.set_cmap('entropy_ratio', 'seismic')\n",
    "sl.annotate_timestamp(corner='upper_left', time_format='{time:6.0f} {units}', \n",
    "                      time_unit='Myr', text_args={'color': 'k'})\n",
    "sl.annotate_contour(field='entropy_ratio', ncont=1, clim=(0.8, 0.8), \n",
    "                    plot_args={'colors': 'k', 'lw': 1, 'linestyles': ':'})\n",
    "sl.annotate_contour(field='entropy_ratio', ncont=1, clim=(0.6, 0.6), \n",
    "                    plot_args={'colors': 'grey', 'lw': 1, 'linestyles': '--'})\n",
    "sl._setup_plots()\n",
    "pl = sl.plots['entropy_ratio']\n",
    "pl.cb.set_ticks([0.5,1,2])\n",
    "pl.cb.set_ticklabels([0.5,1,2])\n",
    "sl.show()"
   ]
  },
  {
   "cell_type": "code",
   "execution_count": null,
   "metadata": {},
   "outputs": [],
   "source": [
    "files = ['/home/ychen/temp/1022_L45_M10_b1_h1_10Myr/data/MHD_Jet_10Myr_hdf5_plt_cnt_%04i' % ind\n",
    "         for ind in [630, 1062, 1380]]\n",
    "files"
   ]
  },
  {
   "cell_type": "code",
   "execution_count": null,
   "metadata": {},
   "outputs": [],
   "source": [
    "center=(0.0,0.0,0.0)\n",
    "fig = plt.figure()\n",
    "\n",
    "grid = AxesGrid(fig, (0.075,0.075,0.85,0.85),\n",
    "                nrows_ncols = (3, 1),\n",
    "                axes_pad = 0.05,\n",
    "                label_mode = \"L\",\n",
    "                share_all = True,\n",
    "                cbar_location=\"right\",\n",
    "                cbar_mode=\"single\",\n",
    "                cbar_size=\"1.5%\",\n",
    "                cbar_pad=\"0%\")\n",
    "\n",
    "cbs = []\n",
    "\n",
    "for i, f in enumerate(files):\n",
    "    # Load the data and create a single plot\n",
    "    ds = yt.load(f)# load data\n",
    "    print(ds)\n",
    "    sl = yt.SlicePlot(ds, 'y', 'entropy_ratio', width=[(260, 'kpc'), (120, 'kpc')])\n",
    "\n",
    "    sl.set_zlim('entropy_ratio', 0.5, 2)\n",
    "    sl.set_cmap('entropy_ratio', 'seismic')\n",
    "    sl.set_buff_size((800,400))\n",
    "    sl.annotate_timestamp(corner='upper_right', time_format='{time:6.0f} {units}', \n",
    "                              time_unit='Myr', text_args={'color': 'k'})\n",
    "    sl.annotate_contour('jet ', ncont=1, clim=(1E-3, 1E-3),\n",
    "                        plot_args={'colors': 'yellow', 'lw': 0.1, 'alpha': 0.8, 'linestyles': '-'})\n",
    "    #sl.annotate_contour(field='entropy_ratio', ncont=1, clim=(0.8, 0.8), \n",
    "    #                    plot_args={'colors': 'k', 'lw': 0.5, 'linestyles': ':'})\n",
    "    #sl.annotate_contour(field='entropy_ratio', ncont=1, clim=(0.6, 0.6), \n",
    "    #                    plot_args={'colors': 'grey', 'lw': 0.5, 'linestyles': '--'})\n",
    "    sl.set_font_size(9)\n",
    "    \n",
    "    pl = sl.plots['entropy_ratio']\n",
    "\n",
    "    \n",
    "    #sl.annotate_text((0.05, 0.95), labels[i], coord_system='axis', text_args={'color':'k'})\n",
    "    \n",
    "    # This forces the ProjectionPlot to redraw itself on the AxesGrid axes.\n",
    "    pl.figure = fig\n",
    "    pl.axes = grid[i].axes\n",
    "    pl.cax = grid.cbar_axes[i]\n",
    "\n",
    "    cbs.append(pl.cb)\n",
    "    # Finally, this actually redraws the plot.\n",
    "    sl._setup_plots()\n",
    "\n",
    "    #pl.cax.yaxis.set_ticks([0.5,1,2])\n",
    "    #pl.cax.yaxis.set_ticklabels([0.5,1,2])\n",
    "    \n",
    "    #sl.plots[field].axes.set_xticks([-10,0,10,20])\n",
    "    #sl.plots[field].axes.set_xticklabels([-10,0,10,20])"
   ]
  },
  {
   "cell_type": "code",
   "execution_count": null,
   "metadata": {},
   "outputs": [],
   "source": [
    "sl._colorbar_label[('gas', 'entropy_ratio')] = [0.5, 1, 2]\n",
    "sl._colorbar_label[('gas', 'entropy_ratio')]"
   ]
  },
  {
   "cell_type": "code",
   "execution_count": null,
   "metadata": {},
   "outputs": [],
   "source": [
    "for cax in grid.cbar_axes:\n",
    "    print(cax.)\n",
    "    print(cax.get_yticks())"
   ]
  },
  {
   "cell_type": "code",
   "execution_count": null,
   "metadata": {},
   "outputs": [],
   "source": [
    "for i, ax in enumerate(grid.axes_all):\n",
    "    \n",
    "    ax.tick_params(axis='x', color='grey')\n",
    "    ax.tick_params(axis='y', color='grey')\n",
    "    ax.set_ylim(-55, 55)\n",
    "    ax.set_yticks([-50,0,50])\n",
    "    ax.set_yticklabels([-50,0,50])\n",
    "    ax.set_xlim(-130, 130)\n",
    "    ax.set_xticks([-100, -50, 0, 50, 100])\n",
    "    ax.set_xticklabels([-100, -50, 0, 50, 100])\n",
    "    #ax.minorticks_off()\n",
    "    ax.tick_params(axis='x', color='grey')\n",
    "    ax.tick_params(axis='y', color='grey')\n",
    "    \n",
    "    ax.grid(ls='--', alpha=0.5)\n",
    "    if i == 0:\n",
    "        ax.set_xlabel('z (kpc)')\n",
    "        ax.set_ylabel('x (kpc)')\n",
    "    else:\n",
    "        ax.set_xlabel('')\n",
    "        ax.set_ylabel('x (kpc)')\n",
    "        \n",
    "fig.set_figwidth(5)\n",
    "fig.set_figheight(8)\n",
    "fig.savefig('entropy_ratio_slices.pdf', bbox_inches='tight')\n",
    "fig"
   ]
  },
  {
   "cell_type": "code",
   "execution_count": null,
   "metadata": {
    "collapsed": false
   },
   "outputs": [],
   "source": [
    "center = [0.0,0.0,0.0]\n",
    "radius = (200, 'kpc')\n",
    "sp = ds.sphere(center, radius)\n",
    "low_entropy = sp.cut_region([\"obj['entropy_ratio'] < 0.8\"])"
   ]
  },
  {
   "cell_type": "code",
   "execution_count": null,
   "metadata": {
    "scrolled": false
   },
   "outputs": [],
   "source": [
    "sl = yt.SlicePlot(ds, 'y', 'entropy_ratio', data_source=low_entropy).zoom(4)\n",
    "sl.set_zlim('entropy_ratio', 0.5, 2)\n",
    "sl.set_cmap('entropy_ratio', 'seismic')\n",
    "sl.annotate_sphere(center, radius)\n",
    "sl.show()"
   ]
  },
  {
   "cell_type": "code",
   "execution_count": null,
   "metadata": {
    "scrolled": false
   },
   "outputs": [],
   "source": [
    "sl = yt.SlicePlot(ds, 'y', 'temperature_ratio', data_source=low_entropy).zoom(4)\n",
    "sl.set_zlim('temperature_ratio', 0.5, 2)\n",
    "sl.set_cmap('temperature_ratio', 'seismic')\n",
    "sl.annotate_sphere(center, radius)\n",
    "sl.show()"
   ]
  },
  {
   "cell_type": "code",
   "execution_count": null,
   "metadata": {},
   "outputs": [],
   "source": [
    "plt.scatter(low_entropy['temperature_ratio'], low_entropy['entropy_ratio'], s=1, lw=0)\n",
    "plt.xlabel('temperature_ratio')\n",
    "plt.ylabel('entropy_ratio')"
   ]
  },
  {
   "cell_type": "code",
   "execution_count": null,
   "metadata": {},
   "outputs": [],
   "source": [
    "print(sum(low_entropy['cell_mass'].in_units('Msun')))"
   ]
  },
  {
   "cell_type": "code",
   "execution_count": null,
   "metadata": {},
   "outputs": [],
   "source": [
    "print(sum(sp['cell_mass'].in_units('Msun')))"
   ]
  },
  {
   "cell_type": "code",
   "execution_count": null,
   "metadata": {},
   "outputs": [],
   "source": [
    "'%e' % 3590553354757.157"
   ]
  },
  {
   "cell_type": "code",
   "execution_count": null,
   "metadata": {
    "collapsed": false
   },
   "outputs": [],
   "source": [
    "mH = yt.physical_constants.mass_hydrogen\n",
    "kB = yt.physical_constants.kb"
   ]
  },
  {
   "cell_type": "code",
   "execution_count": null,
   "metadata": {},
   "outputs": [],
   "source": [
    "5/2*sum(low_entropy['cell_mass']*low_entropy['temperature']*(1.0/low_entropy['temperature_ratio']-1))/0.61/mH*kB"
   ]
  },
  {
   "cell_type": "code",
   "execution_count": null,
   "metadata": {},
   "outputs": [],
   "source": [
    "table = np.genfromtxt('/home/ychen/data/0only_1022_h1_10Myr/gridanalysis_entropy_ratio.txt')\n",
    "table.shape\n",
    "tt = table[:,1]\n",
    "\n",
    "for i in np.arange(table.shape[1]-1, 1, -1):\n",
    "    if max(table[:,i]) > 0:\n",
    "        plt.fill_between(tt, table[:,i], 1E7, label='x=%.1f' % (i/10))\n",
    "\n",
    "plt.xlabel('time (Myr)')\n",
    "plt.ylabel(r'mass with entropy ratio < x (M$_{\\odot}$)')\n",
    "#plt.semilogy()\n",
    "#plt.ylim(1E7, 1E11)\n",
    "plt.ylim(0, 3.5E10)\n",
    "plt.xlim(0,500)\n",
    "plt.legend(loc=2, fontsize=7)"
   ]
  },
  {
   "cell_type": "code",
   "execution_count": null,
   "metadata": {},
   "outputs": [],
   "source": [
    "ls = {9: 'solid', 8: 'dashed', 7: 'dotted', 6: 'solid', 5: 'dashed', 4: 'dotted', 3: 'solid'}\n",
    "\n",
    "plt.figure(figsize=(6,3))\n",
    "E_jet = 1E45*10*yt.units.Myr.in_units('s').v\n",
    "print(E_jet)\n",
    "table = np.genfromtxt('/home/ychen/data/0only_1022_h1_10Myr/gridanalysis_entropy_ratio_energy.txt')\n",
    "tt = table[:,1]\n",
    "print(table.shape)\n",
    "for i in np.arange(table.shape[1]-1, 1, -1):\n",
    "    if max(table[:,i]) > 0:\n",
    "        plt.fill_between(tt, table[:,i], 1E-3*E_jet, label='x=%.1f' % (i/10), linestyle=ls[i])\n",
    "plt.xlabel('time (Myr)')\n",
    "plt.ylabel('energy budget of low-entropy gas (erg)')\n",
    "#plt.semilogy()\n",
    "plt.ylim(1E-3*E_jet, 0.7E0*E_jet)\n",
    "plt.legend(loc=2)\n",
    "\n",
    "plt.twinx()\n",
    "#plt.semilogy()\n",
    "plt.ylim(1E-3, 0.7E0)\n",
    "plt.ylabel(r'(E$_{\\mathrm{jet}}$)')\n",
    "plt.xlim(0,300)"
   ]
  },
  {
   "cell_type": "code",
   "execution_count": null,
   "metadata": {},
   "outputs": [],
   "source": [
    "Etots_arr = np.array(Etots)\n",
    "Emags_arr = np.array(Emags)\n",
    "Eths_arr = np.array(Eths)\n",
    "ts_arr = np.array(ts)\n",
    "Ps = (Etots_arr[1:-1]-Etots_arr[0:-2])/(ts_arr[1:-1]-ts_arr[0:-2])\n",
    "plt.plot(ts[:-2], Ps)\n",
    "#plt.plot(ts[:-2], (Eths_arr/Emags_arr/100.0)[:-2])\n",
    "plt.ylabel('erg')\n",
    "plt.xlabel('s')\n",
    "print Ps"
   ]
  },
  {
   "cell_type": "code",
   "execution_count": null,
   "metadata": {},
   "outputs": [],
   "source": [
    "plt.plot(ts, Emags)"
   ]
  },
  {
   "cell_type": "code",
   "execution_count": null,
   "metadata": {
    "collapsed": false
   },
   "outputs": [],
   "source": []
  }
 ],
 "metadata": {
  "kernelspec": {
   "display_name": "Python 3",
   "language": "python",
   "name": "python3"
  },
  "language_info": {
   "codemirror_mode": {
    "name": "ipython",
    "version": 3
   },
   "file_extension": ".py",
   "mimetype": "text/x-python",
   "name": "python",
   "nbconvert_exporter": "python",
   "pygments_lexer": "ipython3",
   "version": "3.6.1"
  }
 },
 "nbformat": 4,
 "nbformat_minor": 1
}
