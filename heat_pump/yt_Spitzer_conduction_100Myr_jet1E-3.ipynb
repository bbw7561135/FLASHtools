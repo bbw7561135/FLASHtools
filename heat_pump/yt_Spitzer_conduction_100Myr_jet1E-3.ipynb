{
 "cells": [
  {
   "cell_type": "code",
   "execution_count": null,
   "metadata": {
    "collapsed": false
   },
   "outputs": [],
   "source": [
    "%matplotlib inline\n",
    "import os\n",
    "import yt\n",
    "yt.mylog.setLevel(\"WARNING\")\n",
    "import numpy as np\n",
    "import matplotlib\n",
    "matplotlib.rcParams['font.family'] = 'stixgeneral'\n",
    "matplotlib.rcParams['figure.dpi'] = 150\n",
    "import matplotlib.pyplot as plt\n",
    "\n",
    "from yt_conduction_fields import *"
   ]
  },
  {
   "cell_type": "code",
   "execution_count": null,
   "metadata": {},
   "outputs": [],
   "source": [
    "ds = yt.load('/home/ychen/Mount/gdrive/2015_production_runs/1022_L45_M10_b1_h1_10Myr/data/MHD_Jet_10Myr_hdf5_plt_cnt_1062')\n",
    "sp1 = ds.sphere([0,0,0], (180, 'kpc'))\n",
    "sp2 = ds.sphere([0,0,0], (2, 'kpc'))\n",
    "sp = sp1 - sp2\n",
    "\n",
    "ds.current_time.in_units('Myr')"
   ]
  },
  {
   "cell_type": "code",
   "execution_count": null,
   "metadata": {},
   "outputs": [],
   "source": [
    "ds.index.get_smallest_dx().in_units('kpc')"
   ]
  },
  {
   "cell_type": "code",
   "execution_count": null,
   "metadata": {},
   "outputs": [],
   "source": [
    "plot = yt.SlicePlot(ds, 'y', 'jet ')\n",
    "plot.zoom(4)\n",
    "plot.set_zlim('jet ', 1E-6, 1)\n",
    "plot.annotate_contour('jet ', ncont=2, clim=(1E-3, 1E-2), take_log=True)\n",
    "plot.show()\n"
   ]
  },
  {
   "cell_type": "code",
   "execution_count": null,
   "metadata": {},
   "outputs": [],
   "source": [
    "plot = yt.SlicePlot(ds, 'y', 'xray_emissivity_0.1_100_keV')\n",
    "plot.zoom(4)\n",
    "plot.annotate_contour('jet ', ncont=2, clim=(1E-3, 1E-2), take_log=True)\n",
    "plot.show()\n"
   ]
  },
  {
   "cell_type": "code",
   "execution_count": null,
   "metadata": {},
   "outputs": [],
   "source": [
    "plot = yt.SlicePlot(ds, 'y', 'xray_cooling_time', )\n",
    "plot.set_unit('xray_cooling_time', 'Myr')\n",
    "plot.annotate_contour('jet ', ncont=2, clim=(1E-3, 1E-2), take_log=True)\n",
    "plot.zoom(4)\n",
    "plot.show()"
   ]
  },
  {
   "cell_type": "code",
   "execution_count": null,
   "metadata": {},
   "outputs": [],
   "source": [
    "plot = yt.SlicePlot(ds, 'y', 'temperature')\n",
    "plot.annotate_contour('jet ', ncont=2, clim=(1E-3, 1E-2), take_log=True)\n",
    "plot.zoom(4)\n",
    "plot.show()"
   ]
  },
  {
   "cell_type": "code",
   "execution_count": null,
   "metadata": {},
   "outputs": [],
   "source": [
    "plot = yt.SlicePlot(ds, 'y', 'entropy', data_source=sp)\n",
    "plot.annotate_contour('jet ', ncont=2, clim=(1E-3, 1E-2), take_log=True)\n",
    "plot.set_zlim('entropy', 30, 250)\n",
    "plot.zoom(4)\n",
    "plot.show()"
   ]
  },
  {
   "cell_type": "code",
   "execution_count": null,
   "metadata": {},
   "outputs": [],
   "source": [
    "plot = yt.SlicePlot(ds, 'y', 'density')\n",
    "plot.annotate_contour('jet ', ncont=2, clim=(1E-3, 1E-2), take_log=True)\n",
    "plot.zoom(4)\n",
    "plot.show()"
   ]
  },
  {
   "cell_type": "code",
   "execution_count": null,
   "metadata": {},
   "outputs": [],
   "source": [
    "plot = yt.SlicePlot(ds, 'y', 'temperature_gradient_magnitude', data_source=sp, width=(240, 'kpc'))\n",
    "plot.set_unit('temperature_gradient_magnitude', 'K/pc')\n",
    "plot.annotate_contour('jet ', ncont=2, clim=(1E-3, 1E-2), take_log=True)\n",
    "plot.show()"
   ]
  },
  {
   "cell_type": "code",
   "execution_count": null,
   "metadata": {
    "collapsed": false
   },
   "outputs": [],
   "source": [
    "plot = yt.SlicePlot(ds, 'y', 'temperature_gradient_x', data_source=sp, width=(240, 'kpc'))\n",
    "plot.set_unit('temperature_gradient_x', 'K/pc')\n",
    "plot.set_cmap('temperature_gradient_x', 'seismic')\n",
    "plot.set_zlim('temperature_gradient_x', -1E3, 1E3)\n",
    "plot.annotate_contour('jet ', ncont=2, clim=(1E-3, 1E-2), take_log=True, plot_args={colors='white'})\n",
    "plot.show()"
   ]
  },
  {
   "cell_type": "code",
   "execution_count": null,
   "metadata": {},
   "outputs": [],
   "source": [
    "plot = yt.SlicePlot(ds, 'y', 'spitzer_conduction_coefficient', data_source=sp, width=(240, 'kpc'))\n",
    "plot.set_zlim('spitzer_conduction_coefficient', 1E29, 1E32)\n",
    "plot.annotate_contour('jet ', ncont=2, clim=(1E-3, 1E-2), take_log=True)\n",
    "plot.show()"
   ]
  },
  {
   "cell_type": "code",
   "execution_count": null,
   "metadata": {},
   "outputs": [],
   "source": [
    "plot = yt.SlicePlot(ds, 'y', 'spitzer_heat_flux_x', data_source=sp, width=(240, 'kpc'))\n",
    "plot.set_log('spitzer_heat_flux_x' , True, linthresh=1E-3)\n",
    "plot.set_cmap('spitzer_heat_flux_x', 'seismic')\n",
    "plot.set_zlim('spitzer_heat_flux_x', -1E-1, 1E-1)\n",
    "plot.annotate_contour('jet ', ncont=2, clim=(1E-3, 1E-2), take_log=True)\n",
    "plot.show()"
   ]
  },
  {
   "cell_type": "code",
   "execution_count": null,
   "metadata": {
    "scrolled": false
   },
   "outputs": [],
   "source": [
    "plot = yt.SlicePlot(ds, 'y', 'spitzer_heat_flux_divergence', data_source=sp, width=(240, 'kpc'))\n",
    "\n",
    "plot.set_log('spitzer_heat_flux_divergence' , True, linthresh=1E-25)\n",
    "plot.set_cmap('spitzer_heat_flux_divergence', 'seismic_r')\n",
    "plot.set_zlim('spitzer_heat_flux_divergence', -1E-23, 1E-23)\n",
    "plot.annotate_contour('jet ', ncont=2, clim=(1E-3, 1E-2), take_log=True)\n",
    "plot.show()"
   ]
  },
  {
   "cell_type": "code",
   "execution_count": null,
   "metadata": {},
   "outputs": [],
   "source": [
    "plot = yt.SlicePlot(ds, 'y', 'spitzer_heating_rate', data_source=sp, width=(240, 'kpc'))\n",
    "\n",
    "plot.set_log('spitzer_heating_rate' , True, linthresh=1E40)\n",
    "plot.set_cmap('spitzer_heating_rate', 'seismic')\n",
    "plot.set_zlim('spitzer_heating_rate', -1E42, 1E42)\n",
    "plot.annotate_contour('jet ', ncont=2, clim=(1E-3, 1E-2), take_log=True)\n",
    "plot.show()"
   ]
  },
  {
   "cell_type": "code",
   "execution_count": null,
   "metadata": {},
   "outputs": [],
   "source": [
    "plot = yt.SlicePlot(ds, 'y', 'total_heating_rate', data_source=sp, width=(240, 'kpc'))\n",
    "\n",
    "plot.set_log('total_heating_rate' , True, linthresh=1E40)\n",
    "plot.set_cmap('total_heating_rate', 'seismic')\n",
    "plot.set_zlim('total_heating_rate', -1E42, 1E42)\n",
    "plot.annotate_contour('jet ', ncont=2, clim=(1E-3, 1E-2), take_log=True)\n",
    "plot.show()"
   ]
  },
  {
   "cell_type": "code",
   "execution_count": null,
   "metadata": {},
   "outputs": [],
   "source": [
    "plot = yt.SlicePlot(ds, 'y', 'total_cooling_time', data_source=sp, width=(240, 'kpc'))\n",
    "\n",
    "plot.set_log('total_cooling_time' , True, linthresh=1E2)\n",
    "plot.set_cmap('total_cooling_time', 'seismic')\n",
    "plot.set_zlim('total_cooling_time', -1E4, 1E4)\n",
    "plot.annotate_contour('jet ', ncont=2, clim=(1E-3, 1E-2), take_log=True)\n",
    "plot.show()"
   ]
  },
  {
   "cell_type": "code",
   "execution_count": null,
   "metadata": {
    "collapsed": false
   },
   "outputs": [],
   "source": [
    "extrema = {'entropy': (20, 250)}\n",
    "logs = {'entropy': True}\n",
    "fields = ['spitzer_heating_rate', 'xray_luminosity_0.1_100_keV', 'cell_mass']\n",
    "prof_entropy = yt.create_profile(sp, 'entropy', fields, weight_field=None, \n",
    "                         extrema=extrema, logs=logs)"
   ]
  },
  {
   "cell_type": "code",
   "execution_count": null,
   "metadata": {},
   "outputs": [],
   "source": [
    "fig = plt.figure(figsize=(6,4))\n",
    "plt.step(prof_entropy.x, prof_entropy['xray_luminosity_0.1_100_keV'],\n",
    "         label='X-ray Cooling', linestyle='dashed', color='C0')\n",
    "plt.step(prof_entropy.x, prof_entropy['spitzer_heating_rate'],\n",
    "         label='Spitzer Conduction', linewidth=1, color='C1')\n",
    "plt.step(prof_entropy.x, -prof_entropy['spitzer_heating_rate'],\n",
    "         linestyle='dotted', linewidth=1, color='C1')\n",
    "plt.step(prof_entropy.x, 0.1*prof_entropy['spitzer_heating_rate'],\n",
    "         label='10% Spitzer Conduction', linewidth=2, color='C3')\n",
    "plt.step(prof_entropy.x, -0.1*prof_entropy['spitzer_heating_rate'],\n",
    "         linestyle='dotted', linewidth=2, color='C3')\n",
    "\n",
    "#plt.step(prof_entropy.x, prof_entropy['spitzer_heating_rate']-prof_entropy['xray_luminosity_0.1_100_keV'], \n",
    "#         label='Total $f_{\\mathrm{Sp}}$ = 1', linewidth=1)\n",
    "#plt.step(prof_entropy.x, 0.1*prof_entropy['spitzer_heating_rate']-prof_entropy['xray_luminosity_0.1_100_keV'], \n",
    "#         label=r'Total $f_{\\mathrm{Sp}}$ = 0.1', linewidth=2)\n",
    "plt.ylim(1E41, 1E45)\n",
    "plt.yscale('log')\n",
    "yticks = [1E41, 1E42, 1E43, 1E44, 1E45]\n",
    "\n",
    "plt.yticks(yticks, yticks)\n",
    "plt.ylabel('Heating(solid)/Cooling(dotted) rate (erg/s)')\n",
    "plt.semilogx()\n",
    "plt.xlim(20, 250)\n",
    "entropy_ticks = [20, 30, 40, 60, 80, 100, 150, 200]\n",
    "plt.xticks(entropy_ticks, entropy_ticks)\n",
    "plt.xlabel(r'Entropy (cm$^2\\ $ keV)')\n",
    "plt.axhline(0, ls='-', lw=1, color='k')\n",
    "plt.text(170, 4E44, '%.0f Myr' % ds.current_time.in_units('Myr'))\n",
    "plt.legend(fontsize=9, ncol=2, columnspacing=0.5)"
   ]
  },
  {
   "cell_type": "code",
   "execution_count": null,
   "metadata": {
    "collapsed": false
   },
   "outputs": [],
   "source": [
    "extrema = {'entropy': (20, 250), 'spherical_radius': ((10, 'kpc'), (150, 'kpc'))}\n",
    "fields = ['spitzer_heating_rate', 'xray_luminosity_0.1_100_keV', 'cell_mass']\n",
    "prof = yt.create_profile(sp, ['entropy', 'spherical_radius'], fields, weight_field=None,\n",
    "                         extrema=extrema)"
   ]
  },
  {
   "cell_type": "code",
   "execution_count": null,
   "metadata": {},
   "outputs": [],
   "source": [
    "pp = yt.PhasePlot.from_profile(prof, figure_size=6)\n",
    "pp.set_unit('spherical_radius', 'kpc')\n",
    "pp.set_cmap('spitzer_heating_rate', 'RdBu_r')\n",
    "pp.set_log('spitzer_heating_rate', False)\n",
    "pp.set_zlim('spitzer_heating_rate', -1E44, 1E44)\n",
    "pp.set_ylim(20, 150)\n",
    "pp.set_xlim(20, 250)\n",
    "\n",
    "plot2 = pp['spitzer_heating_rate']\n",
    "\n",
    "r_ticks = [30, 40, 50, 60, 80, 100, 150]\n",
    "plot2.axes.set_yticks(r_ticks)\n",
    "#plot2.axes.yaxis.set_ticklabels(r_ticks)\n",
    "plot2.axes.set_yticklabels(r_ticks)\n",
    "plot2.axes.set_yticklabels([], minor=True)\n",
    "#print(plot2.axes.yaxis.get_ticklabels())\n",
    "\n",
    "\n",
    "entropy_ticks = [20, 30, 40, 60, 80, 100, 150, 200]\n",
    "plot2.axes.set_xticks(entropy_ticks)\n",
    "plot2.axes.set_xticklabels(entropy_ticks)\n",
    "\n",
    "\n",
    "plot2"
   ]
  },
  {
   "cell_type": "code",
   "execution_count": null,
   "metadata": {},
   "outputs": [],
   "source": [
    "prof.save_as_dataset('100Myr_prof_entropy_r')\n",
    "prof_entropy.save_as_dataset('100Myr_prof_entropy')"
   ]
  },
  {
   "cell_type": "code",
   "execution_count": null,
   "metadata": {
    "collapsed": false
   },
   "outputs": [],
   "source": []
  },
  {
   "cell_type": "code",
   "execution_count": null,
   "metadata": {
    "collapsed": false
   },
   "outputs": [],
   "source": []
  },
  {
   "cell_type": "code",
   "execution_count": null,
   "metadata": {},
   "outputs": [],
   "source": [
    "plt.step(prof_entropy.x, -prof_entropy['xray_luminosity_0.1_100_keV'], label='X-ray Cooling')\n",
    "plt.step(prof_entropy.x, prof_entropy['spitzer_heating_rate'], label='Spitzer Thermal Conduction')\n",
    "plt.step(prof_entropy.x, prof_entropy['spitzer_heating_rate']-prof_entropy['xray_luminosity_0.1_100_keV'], label='Total')\n",
    "plt.step(prof_entropy.x, 0.1*prof_entropy['spitzer_heating_rate']-prof_entropy['xray_luminosity_0.1_100_keV'], \n",
    "         label=r'Total $f_s$=0.1')\n",
    "plt.ylim(-1E46, 1E46)\n",
    "plt.yscale('symlog', linthreshy=1E42)\n",
    "yticks = [-1E46, -1E45, -1E44, -1E43, -1E42, 0, 1E42, 1E43, 1E44, 1E45, 1E46]\n",
    "\n",
    "plt.yticks(yticks, yticks)\n",
    "plt.ylabel('Heating/Cooling rate (erg/s)')\n",
    "plt.semilogx()\n",
    "plt.xlim(20, 324)\n",
    "entropy_ticks = [20, 30, 40, 50, 60, 70, 80, 90, 100, 200, 300]\n",
    "plt.xticks(entropy_ticks, entropy_ticks)\n",
    "plt.xlabel(r'entropy (cm$^2\\ $ keV)')\n",
    "plt.axhline(0, ls=':', color='grey')\n",
    "plt.text(22, 1E45, '%.0f Myr' % ds.current_time.in_units('Myr'))\n",
    "plt.legend(loc=4)"
   ]
  },
  {
   "cell_type": "code",
   "execution_count": null,
   "metadata": {
    "collapsed": false
   },
   "outputs": [],
   "source": [
    "extrema = {'entropy': (20, 250), 'spherical_radius': ((10, 'kpc'), (150, 'kpc'))}\n",
    "fields = ['spitzer_heating_rate', 'xray_luminosity_0.1_100_keV', 'cell_mass']\n",
    "prof = yt.create_profile(sp, ['spherical_radius', 'entropy'], fields, weight_field=None,\n",
    "                         extrema=extrema)"
   ]
  },
  {
   "cell_type": "code",
   "execution_count": null,
   "metadata": {
    "scrolled": false
   },
   "outputs": [],
   "source": [
    "from mpl_toolkits.axes_grid1 import make_axes_locatable\n",
    "\n",
    "divider = make_axes_locatable(ax)\n",
    "ax2 = divider.append_axes(\"bottom\", 1.3, pad=0.1, sharex=ax)\n",
    "\n",
    "\n",
    "pp = yt.PhasePlot.from_profile(prof, )\n",
    "pp.set_unit('spherical_radius', 'kpc')\n",
    "pp.set_cmap('spitzer_heating_rate', 'RdBu_r')\n",
    "pp.set_log('spitzer_heating_rate', False)\n",
    "pp.set_zlim('spitzer_heating_rate', -1E44, 1E44)\n",
    "plot2 = pp['spitzer_heating_rate']\n",
    "entropy_ticks = [20, 30, 40, 50, 60, 70, 80, 90, 100, 200]\n",
    "plot2.axes.set_yticks(entropy_ticks)\n",
    "plot2.axes.set_yticklabels(entropy_ticks)\n",
    "r_ticks = [10, 20, 30, 40, 50, 60, 70, 80, 90, 100]\n",
    "plot2.axes.set_xticks(r_ticks)\n",
    "plot2.axes.set_xticklabels(r_ticks)\n",
    "plot2"
   ]
  },
  {
   "cell_type": "code",
   "execution_count": null,
   "metadata": {},
   "outputs": [],
   "source": [
    "from yt.visualization.plot_container import FieldTransform\n",
    "from yt.visualization.tick_locators import LogLocator\n",
    "\n",
    "linthresh = 1E43\n",
    "\n",
    "symlog_transform = FieldTransform('symlog', None, LogLocator()) \n",
    "pp._field_transform['spitzer_heating_rate'] = symlog_transform\n",
    "pp._field_transform['spitzer_heating_rate'].func = linthresh\n",
    "pp._setup_plots()\n",
    "pp.annotate_text(12, 200, '%.0f Myr' % ds.current_time.in_units('Myr'))\n",
    "print(pp._field_transform['spitzer_heating_rate'])\n",
    "pp.set_zlim('spitzer_heating_rate', -5E44, 5E44)\n",
    "plot2 = pp['spitzer_heating_rate']\n",
    "entropy_ticks = [20, 30, 40, 50, 60, 70, 80, 90, 100, 200]\n",
    "plot2.axes.set_yticks(entropy_ticks)\n",
    "plot2.axes.set_yticklabels(entropy_ticks)\n",
    "r_ticks = [10, 20, 30, 40, 50, 60, 70, 80, 90, 100]\n",
    "plot2.axes.set_xticks(r_ticks)\n",
    "plot2.axes.set_xticklabels(r_ticks)\n",
    "plot2\n"
   ]
  },
  {
   "cell_type": "code",
   "execution_count": null,
   "metadata": {},
   "outputs": [],
   "source": [
    "sp['spitzer_heat_flux_divergence']"
   ]
  },
  {
   "cell_type": "code",
   "execution_count": null,
   "metadata": {
    "collapsed": false
   },
   "outputs": [],
   "source": [
    "extrema = {'spherical_radius': ((10, 'kpc'), (150, 'kpc'))}\n",
    "logs = {'spherical_radius': True}\n",
    "fields = ['spitzer_heating_rate', 'xray_luminosity_0.1_100_keV', 'cell_mass']\n",
    "prof_radius = yt.create_profile(sp, 'spherical_radius', fields, weight_field=None, \n",
    "                         extrema=extrema, logs=logs)"
   ]
  },
  {
   "cell_type": "code",
   "execution_count": null,
   "metadata": {
    "collapsed": false
   },
   "outputs": [],
   "source": []
  }
 ],
 "metadata": {
  "kernelspec": {
   "display_name": "Python 3",
   "language": "python",
   "name": "python3"
  },
  "language_info": {
   "codemirror_mode": {
    "name": "ipython",
    "version": 3
   },
   "file_extension": ".py",
   "mimetype": "text/x-python",
   "name": "python",
   "nbconvert_exporter": "python",
   "pygments_lexer": "ipython3",
   "version": "3.6.1"
  }
 },
 "nbformat": 4,
 "nbformat_minor": 1
}
