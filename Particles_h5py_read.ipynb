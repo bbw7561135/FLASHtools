{
 "cells": [
  {
   "cell_type": "code",
   "execution_count": null,
   "metadata": {
    "collapsed": false
   },
   "outputs": [],
   "source": [
    "import h5py\n",
    "dir = '/d/d9/ychen/FLASH4/MHD_Jet_3D/0302_particles_fulltest/'\n",
    "f = h5py.File(dir+'MHD_Jet_hdf5_part_0040', 'r')"
   ]
  },
  {
   "cell_type": "code",
   "execution_count": null,
   "metadata": {
    "collapsed": false
   },
   "outputs": [],
   "source": [
    "f.values()\n",
    "val = f.values()[-2]"
   ]
  },
  {
   "cell_type": "code",
   "execution_count": null,
   "metadata": {
    "collapsed": false
   },
   "outputs": [],
   "source": [
    "particles = []\n",
    "colname = ['den0','dens','gamc','magx','magy','magz','tadd','tau','blk','posx','posy','posz','proc','tag','velx','vely','velz']\n",
    "for value_particle in val.value:\n",
    "    particle = dict(zip(colname, value_particle))\n",
    "    particles.append(particle)\n",
    "particles.sort(key=lambda p:p['tag'])"
   ]
  },
  {
   "cell_type": "code",
   "execution_count": null,
   "metadata": {
    "collapsed": false
   },
   "outputs": [],
   "source": [
    "print '%5s%5s%11s%11s%11s%11s%11s%11s' %  ('tag', 'proc', 'tadd', 'dens0', 'dens', 'gamc', 'tau', 'B2')\n",
    "for par in particles:\n",
    "    B2 = par['magx']*par['magx'] + par['magy']*par['magy'] + par['magz']*par['magz']\n",
    "    strfmt = '%5i'*2 + '%11.3e'*6\n",
    "    print strfmt\\\n",
    "    % (par['tag'], par['proc'], par['tadd'], par['den0'], par['dens'], par['gamc'], par['tau'], B2)"
   ]
  },
  {
   "cell_type": "code",
   "execution_count": null,
   "metadata": {
    "collapsed": false
   },
   "outputs": [],
   "source": [
    "0"
   ]
  },
  {
   "cell_type": "code",
   "execution_count": null,
   "metadata": {
    "collapsed": false
   },
   "outputs": [],
   "source": [
    "import h5py\n",
    "dir = '/d/d9/ychen/FLASH4/stampede/0529_L45_M10_b1_h1/'\n",
    "f = h5py.File(dir+'MHD_Jet_hdf5_plt_cnt_0040', 'r')"
   ]
  },
  {
   "cell_type": "code",
   "execution_count": null,
   "metadata": {
    "collapsed": false
   },
   "outputs": [],
   "source": [
    "f.values()"
   ]
  },
  {
   "cell_type": "code",
   "execution_count": null,
   "metadata": {
    "collapsed": false
   },
   "outputs": [],
   "source": [
    "ds = f.values()[6]\n",
    "id = 9193\n",
    "\n",
    "print 'coordinates = ', f.get('coordinates').value[id]\n",
    "print 'refine level = ', f.get('refine level').value[id]\n",
    "print 'which child = ', f.get('which child').value[id]\n",
    "print f.get('gid').value[id]\n",
    "print f.get('gsurr_blks').value[id][:,:,:,0]\n"
   ]
  },
  {
   "cell_type": "code",
   "execution_count": null,
   "metadata": {
    "collapsed": false
   },
   "outputs": [],
   "source": []
  }
 ],
 "metadata": {
  "kernelspec": {
   "display_name": "Python 2",
   "language": "python",
   "name": "python2"
  },
  "language_info": {
   "codemirror_mode": {
    "name": "ipython",
    "version": 2
   },
   "file_extension": ".py",
   "mimetype": "text/x-python",
   "name": "python",
   "nbconvert_exporter": "python",
   "pygments_lexer": "ipython2",
   "version": "2.7.10"
  }
 },
 "nbformat": 4,
 "nbformat_minor": 0
}
