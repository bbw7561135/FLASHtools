{
 "cells": [
  {
   "cell_type": "code",
   "execution_count": null,
   "metadata": {
    "collapsed": false
   },
   "outputs": [],
   "source": [
    "from datetime import datetime\n",
    "import numpy as np\n",
    "import os\n",
    "import matplotlib\n",
    "matplotlib.rcParams['savefig.dpi'] = 150\n",
    "import matplotlib.pyplot as plt"
   ]
  },
  {
   "cell_type": "code",
   "execution_count": null,
   "metadata": {
    "collapsed": false
   },
   "outputs": [],
   "source": [
    "def print_logfile_summary(fname):\n",
    "    results = []\n",
    "    seps = []\n",
    "    with open(fname, 'r') as f:\n",
    "        tot_blks = 0\n",
    "        for line in f.readlines():\n",
    "            if '[GRID amr_refine_derefine] min blks' in line:\n",
    "                tot_blks = int(line.split()[-1])\n",
    "                max_blks = int(line.split()[-4])\n",
    "            if '[Particles_getGlobalNum]' in line:\n",
    "                nPart = line.split()[-1]\n",
    "            if 'step: n=' in line:\n",
    "                #print line\n",
    "                dummy, date, time, dummy, dummy, step, t, dt = line.split()\n",
    "                dtime = datetime.strptime(date+' '+time, '%m-%d-%Y %H:%M:%S.%f')\n",
    "                step = int(step.lstrip('n='))\n",
    "                t = float(t.lstrip('t='))\n",
    "                dt = float(dt.lstrip('dt='))\n",
    "                results.append([dtime, step, t, dt, max_blks, tot_blks, nPart])\n",
    "                #result = dict((name,eval(name)) for name in ['dtime','step','t','dt'] )\n",
    "            if 'FLASH log file' in line:\n",
    "                seps.append(len(results))\n",
    "            \n",
    "    dtimes, steps, ts, dts, max_blkss, tot_blkss, nParts = zip(*results)\n",
    "    dtimes = list(dtimes)\n",
    "    dt_steps = [(dtimes[i+1]-dtimes[i]).total_seconds() for i in range(len(dtimes)-1)]\n",
    "    \n",
    "    for sep in seps:\n",
    "        if sep>0:\n",
    "            print dtimes[sep-1], steps[sep-1], ts[sep-1], max_blkss[sep-1], tot_blkss[sep-1]\n",
    "        print ''\n",
    "        print dtimes[sep], steps[sep], ts[sep], max_blkss[sep], tot_blkss[sep]\n",
    "    print dtimes[-1], steps[-1], ts[-1], max_blkss[-1], tot_blkss[-1]"
   ]
  },
  {
   "cell_type": "code",
   "execution_count": null,
   "metadata": {
    "collapsed": false
   },
   "outputs": [],
   "source": [
    "#fnames = ['/home/ychen/data/0529_L45_M10_b1_h1/MHD_Jet.log']\n",
    "#fname = '/home/ychen/d9/FLASH4/MHD_Jet_3D/0522_nozzle_restart/MHD_Jet.log'\n",
    "fnames = ['/home/ychen/data/0529_L45_M10_b1_h1/MHD_Jet.log',\\\n",
    "          '/home/ychen/data/0605_L45_M10_b1_h0/MHD_Jet.log',\\\n",
    "          '/home/ychen/data/0605_L45_M10_b1_hinf/MHD_Jet.log',\\\n",
    "          '/home/ychen/data/0602_L45_M10_hydro/MHD_Jet.log']\n",
    "#fnames = ['/home/ychen/d9/FLASH4/stampede/0916_L45_M10_b1_hinf_10Myr/MHD_Jet_10Myr.log']\n",
    "\n",
    "for fname in fnames:\n",
    "    print fname\n",
    "    print_logfile_summary(fname)\n"
   ]
  },
  {
   "cell_type": "code",
   "execution_count": null,
   "metadata": {
    "collapsed": false
   },
   "outputs": [],
   "source": []
  }
 ],
 "metadata": {
  "kernelspec": {
   "display_name": "Python 2",
   "language": "python",
   "name": "python2"
  },
  "language_info": {
   "codemirror_mode": {
    "name": "ipython",
    "version": 2
   },
   "file_extension": ".py",
   "mimetype": "text/x-python",
   "name": "python",
   "nbconvert_exporter": "python",
   "pygments_lexer": "ipython2",
   "version": "2.7.10"
  }
 },
 "nbformat": 4,
 "nbformat_minor": 0
}
