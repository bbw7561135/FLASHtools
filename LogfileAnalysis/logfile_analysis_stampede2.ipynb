{
 "cells": [
  {
   "cell_type": "code",
   "execution_count": null,
   "metadata": {
    "collapsed": false
   },
   "outputs": [],
   "source": [
    "%matplotlib inline\n",
    "#%matplotlib notebook\n",
    "from datetime import datetime\n",
    "import numpy as np\n",
    "import os\n",
    "import matplotlib\n",
    "#matplotlib.rcParams['savefig.dpi'] = 200\n",
    "matplotlib.rcParams['figure.figsize'] = (12.0, 8.0)\n",
    "matplotlib.rcParams[\"font.size\"] = 20\n",
    "import matplotlib.pyplot as plt"
   ]
  },
  {
   "cell_type": "code",
   "execution_count": null,
   "metadata": {
    "collapsed": false
   },
   "outputs": [],
   "source": [
    "class Logfile():\n",
    "    def __init__(self, dirname, results):\n",
    "        self.dirname = dirname\n",
    "        dtimes, steps, ts, dts = zip(*results)\n",
    "        dtimes = list(dtimes)\n",
    "        dt_steps = [(dtimes[i+1]-dtimes[i]).total_seconds() for i in range(len(dtimes)-1)]\n",
    "        \n",
    "        self.dtimes = dtimes\n",
    "        self.steps = steps\n",
    "        self.ts = ts\n",
    "        self.dts = dts\n",
    "        self.dt_steps = dt_steps\n",
    "    \n",
    "\n",
    "def parse_logfile(fname):\n",
    "    dirname = fname.split('/')[-2]\n",
    "    startmarks = []\n",
    "    results = []\n",
    "    with open(fname, 'r') as f:\n",
    "        start = False\n",
    "        for line in f.readlines():\n",
    "            if 'FLASH log file:' in line:\n",
    "                start = True\n",
    "            if 'Number of MPI tasks:' in line:\n",
    "                nProc = int(line.split()[-1])\n",
    "            if 'step: n=' in line:\n",
    "                dummy, date, time, dummy, dummy, step, t, dt = line.split()\n",
    "                dtime = datetime.strptime(date+' '+time, '%m-%d-%Y %H:%M:%S.%f')\n",
    "                step = int(step.lstrip('n='))\n",
    "                t = float(t.lstrip('t='))\n",
    "                dt = float(dt.lstrip('dt='))\n",
    "                results.append([dtime, step, t, dt])\n",
    "                if start:\n",
    "                    startmarks.append([step])\n",
    "                    start = False\n",
    "                    \n",
    "    return Logfile(dirname, results)\n"
   ]
  },
  {
   "cell_type": "code",
   "execution_count": null,
   "metadata": {},
   "outputs": [],
   "source": [
    "    dtimes, steps, ts, dts = zip(*results)\n",
    "    dtimes = list(dtimes)\n",
    "    dt_steps = [(dtimes[i+1]-dtimes[i]).total_seconds() for i in range(len(dtimes)-1)]\n",
    "    print(np.average(dt_steps))\n",
    "    plt.clf()\n",
    "    plt.scatter(steps[1:], dt_steps, s=5, linewidth=0, label='t/step')\n",
    "\n",
    "    \n",
    "    # Plot start steps\n",
    "    plt.vlines(startmarks,0.2,1000, color='grey', linestyles='--', alpha=0.5,)\n",
    "\n",
    "    \n",
    "    plt.title()\n",
    "    plt.show()"
   ]
  },
  {
   "cell_type": "code",
   "execution_count": null,
   "metadata": {},
   "outputs": [],
   "source": [
    "fnames = [#'/d/d9/ychen/stampede2_test/stampede2_16_1024/MHD_Jet.log',\n",
    "          #'/d/d9/ychen/stampede2_test/stampede2_16_1024_b/MHD_Jet.log',\n",
    "          '/d/d9/ychen/stampede2_test/stampede2_32_2048/MHD_Jet.log',\n",
    "          '/d/d9/ychen/stampede2_test/stampede2_32_1536/MHD_Jet.log']\n",
    "          #'/d/d9/ychen/stampede2_test/stampede_32_512/MHD_Jet.log',\n",
    "          #'/d/d9/ychen/stampede2_test/aci_8_160/MHD_Jet.log']\n",
    "\n",
    "for fname in fnames:\n",
    "    log = parse_logfile(fname)\n",
    "    n_node = int(fname.strip('/MHD_Jet.log').split('_')[-2])\n",
    "    n_cpu = int(fname.strip('/MHD_Jet.log').split('_')[-2])\n",
    "    #plt.scatter(log.steps[1:], log.dt_steps, s=5, linewidth=1, label=log.dirname)\n",
    "    plt.plot(log.steps[1:], 1.0/np.array(log.dt_steps)*60*60/n_node, label=log.dirname)\n",
    "    print('%18s: %i nodes, %.4f steps/min %.4f steps/hour/node' % \n",
    "          (log.dirname, n_node, np.average(1.0/np.array(log.dt_steps[:100])*60), \n",
    "           np.average(1.0/np.array(log.dt_steps[:100])*60*60)/n_node))\n",
    "\n",
    "plt.ylim(0, 15)\n",
    "plt.xlabel('# of step')\n",
    "#plt.semilogy()\n",
    "plt.ylabel('speed (steps/hour/node)')\n",
    "plt.legend(loc=3)\n"
   ]
  },
  {
   "cell_type": "code",
   "execution_count": null,
   "metadata": {},
   "outputs": [],
   "source": [
    "#%pdb\n",
    "fnames = ['/d/d9/ychen/stampede2_test/stampede2_16_1024/MHD_Jet.log',\n",
    "          #'/d/d9/ychen/stampede2_test/stampede2_16_1024_b/MHD_Jet.log',\n",
    "          '/d/d9/ychen/stampede2_test/stampede2_32_2048/MHD_Jet.log']\n",
    "          #'/d/d9/ychen/stampede2_test/stampede2_32_1536/MHD_Jet.log',\n",
    "          #'/d/d9/ychen/stampede2_test/stampede_32_512/MHD_Jet.log',\n",
    "          #'/d/d9/ychen/stampede2_test/aci_8_160/MHD_Jet.log']\n",
    "\n",
    "for fname in fnames:\n",
    "    log = parse_logfile(fname)\n",
    "    n_node = int(fname.strip('/MHD_Jet.log').split('_')[-2])\n",
    "    n_cpu = int(fname.strip('/MHD_Jet.log').split('_')[-2])\n",
    "    #plt.scatter(log.steps[1:], log.dt_steps, s=5, linewidth=1, label=log.dirname)\n",
    "    plt.plot(log.steps[1:], 1.0/np.array(log.dt_steps)*60*60/n_node, label=log.dirname)\n",
    "    print('%18s: %i nodes, %.4f steps/min %.4f steps/hour/node' % \n",
    "          (log.dirname, n_node, np.average(1.0/np.array(log.dt_steps[:100])*60), \n",
    "           np.average(1.0/np.array(log.dt_steps[:100])*60*60)/n_node))\n",
    "\n",
    "plt.ylim(0, 15)\n",
    "plt.xlabel('# of step')\n",
    "#plt.semilogy()\n",
    "plt.ylabel('speed (steps/hour/node)')\n",
    "plt.legend(loc=3)\n"
   ]
  },
  {
   "cell_type": "code",
   "execution_count": null,
   "metadata": {},
   "outputs": [],
   "source": [
    "fname.strip('/MHD_Jet.log').split('_')[-2]"
   ]
  },
  {
   "cell_type": "code",
   "execution_count": null,
   "metadata": {},
   "outputs": [],
   "source": [
    "#%pdb\n",
    "fnames = ['/d/d9/ychen/stampede2_test/stampede2_16_1024/MHD_Jet.log',\n",
    "          '/d/d9/ychen/stampede2_test/stampede2_16_1024_b/MHD_Jet.log']\n",
    "\n",
    "for fname in fnames:\n",
    "    log = parse_logfile(fname)\n",
    "    #plt.scatter(log.steps[1:], log.dt_steps, s=5, linewidth=1, label=log.dirname)\n",
    "    plt.plot(log.steps[1:], 1.0/np.array(log.dt_steps)*60, label=log.dirname)\n",
    "    print('%18s: %.4f steps/min' % (log.dirname, np.average(1.0/np.array(log.dt_steps[:100])*60)))\n",
    "\n",
    "plt.ylim(0, 7)\n",
    "plt.xlabel('# of step')\n",
    "#plt.semilogy()\n",
    "plt.ylabel('speed (steps/min)')\n",
    "plt.legend(loc=3)\n"
   ]
  },
  {
   "cell_type": "code",
   "execution_count": null,
   "metadata": {
    "collapsed": false
   },
   "outputs": [],
   "source": [
    "def get_nozzledata(dirname):\n",
    "    try:\n",
    "        nozzledata = np.genfromtxt(os.path.join(dirname, 'nozzleVec.dat'))\n",
    "        \n",
    "        ttnoz = nozzledata[:,1]\n",
    "        xx = nozzledata[:,2]\n",
    "        yy = nozzledata[:,3]\n",
    "        zz = nozzledata[:,4]\n",
    "        thetas = np.arccos(zz)/np.pi*180\n",
    "        phis = np.arctan2(yy, xx)\n",
    "        return ttnoz, xx, yy, zz, thetas, phis\n",
    "    except:\n",
    "        pass\n",
    "\n",
    "def get_dat(dirname):\n",
    "    try:\n",
    "        data = np.genfromtxt(os.path.join(dirname, 'MHD_Jet.dat'))\n",
    "    except:\n",
    "        data = np.genfromtxt(os.path.join(dirname, 'MHD_Jet_10Myr.dat'))\n",
    "    tt = data[:,0]\n",
    "    Masses = data[:,1]\n",
    "    Etots = data[:,5]\n",
    "    Ekins = data[:,6]\n",
    "    Eints = data[:,7] \n",
    "    Emags = data[:,8]\n",
    "    Ptots = (Etots[1:]-Etots[:-1])/(tt[1:]-tt[:-1])\n",
    "    Pkins = (Ekins[1:]-Ekins[:-1])/(tt[1:]-tt[:-1])\n",
    "    Pints = (Eints[1:]-Eints[:-1])/(tt[1:]-tt[:-1])\n",
    "    #print max(Ptots), max(Pkins), max(Pints)\n",
    "    return tt, Masses, Etots, Ekins, Eints, Emags, Ptots, Pkins, Pints"
   ]
  },
  {
   "cell_type": "code",
   "execution_count": null,
   "metadata": {},
   "outputs": [],
   "source": [
    "#dirname = '/home/ychen/data/0529_L45_M10_b1_h1'\n",
    "#dirname = '/home/ychen/d9/FLASH4/stampede/0916_L45_M10_b1_hinf_10Myr/'\n",
    "#dirnames = ['/home/ychen/data/0529_L45_M10_b1_h1',\\\n",
    "#            '/home/ychen/data/0605_L45_M10_b1_h0',\\\n",
    "#            '/home/ychen/data/0605_L45_M10_b1_hinf_all',\n",
    "#            '/home/ychen/data/0602_L45_M10_hydro_all']\n",
    "dirnames = ['/home/ychen/data/0only_0529_h1',\\\n",
    "            '/home/ychen/data/0only_1106_M3_h1',\\\n",
    "            '/home/ychen/data/0only_1110_h0_rerun',\\\n",
    "            '/home/ychen/data/0only_1111_M10_b01',\\\n",
    "            '/home/ychen/data/0only_1204_M24_b01'\n",
    "            ]\n",
    "table = []\n",
    "for dirname in dirnames:\n",
    "    table.append(get_dat(dirname))"
   ]
  },
  {
   "cell_type": "code",
   "execution_count": null,
   "metadata": {},
   "outputs": [],
   "source": [
    "names = [dirname.split('/')[-1] for dirname in dirnames]\n",
    "colors = ['yellow', 'r', 'b', 'g', 'cyan']\n",
    "plt.figure(figsize=(10,8))\n",
    "for i in range(len(table)):\n",
    "    tt, Masses, Etots, Ekins, Eints, Emags, Ptots, Pkins, Pints = table[i]\n",
    "    plt.plot(tt[1:]/3.154E13, (tt[1:]-tt[:-1]), c=colors[i], label=names[i], lw=0, marker='.', markersize=1, alpha=0.7)\n",
    "\n",
    "\n",
    "#plt.scatter(tt[:], Etots[:], s=1, linewidth=0, label='dt')\n",
    "#plt.ylim(2.563E62, 2.563E62+9E59)\n",
    "#plt.ylim(0, 4E58)\n",
    "plt.ylim(0,9E9)\n",
    "plt.xlim(0, 25)\n",
    "#plt.semilogy()\n",
    "plt.ylabel('dt')\n",
    "plt.xlabel('t (Myr)')\n",
    "plt.legend(loc=2)\n",
    "plt.show()"
   ]
  }
 ],
 "metadata": {
  "kernelspec": {
   "display_name": "Python 3",
   "language": "python",
   "name": "python3"
  },
  "language_info": {
   "codemirror_mode": {
    "name": "ipython",
    "version": 3
   },
   "file_extension": ".py",
   "mimetype": "text/x-python",
   "name": "python",
   "nbconvert_exporter": "python",
   "pygments_lexer": "ipython3",
   "version": "3.6.1"
  }
 },
 "nbformat": 4,
 "nbformat_minor": 1
}
