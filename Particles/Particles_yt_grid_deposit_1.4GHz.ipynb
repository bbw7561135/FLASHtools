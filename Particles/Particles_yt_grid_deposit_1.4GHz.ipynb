{
 "cells": [
  {
   "cell_type": "code",
   "execution_count": null,
   "metadata": {
    "collapsed": false
   },
   "outputs": [],
   "source": [
    "%pdb\n",
    "%matplotlib inline  \n",
    "import numpy as np\n",
    "import matplotlib\n",
    "matplotlib.rcParams['savefig.dpi'] = 150\n",
    "import matplotlib.pyplot as plt\n",
    "import yt\n",
    "from yt.data_objects.particle_filters import add_particle_filter\n",
    "from yt.fields.derived_field import ValidateGridType\n",
    "from yt.fields.field_detector import FieldDetector\n",
    "\n",
    "def JetP(pfilter, data):\n",
    "    #filter = data[(\"all\", \"particle_shok\")] == 0\n",
    "    filter = np.logical_and((data[(\"io\", \"particle_shok\")] == 0), \n",
    "                            (data[(\"io\", \"particle_gamc\")] > 0.0))\n",
    "    return filter\n",
    "\n",
    "add_particle_filter(\"jetp\", function=JetP, filtered_type='io', requires=[\"particle_shok\"])"
   ]
  },
  {
   "cell_type": "code",
   "execution_count": null,
   "metadata": {
    "collapsed": false
   },
   "outputs": [],
   "source": [
    "fname = '/home/ychen/d9/FLASH4/stampede/0529_L45_M10_b1_h1/MHD_Jet_hdf5_plt_cnt_0620'\n",
    "ds = yt.load(fname, particle_filename=fname.replace('plt_cnt', 'part'))\n",
    "ad = ds.all_data()"
   ]
  },
  {
   "cell_type": "code",
   "execution_count": null,
   "metadata": {
    "collapsed": false
   },
   "outputs": [],
   "source": [
    "def _jet_volume_fraction(field, data):\n",
    "    g = yt.YTQuantity(1.0, 'g')\n",
    "    cm = yt.YTQuantity(1.0, 'cm')\n",
    "    Kelvin = yt.YTQuantity(1.0, 'K')\n",
    "    rhoCore = data.ds.parameters['sim_rhocore']*g/cm**3\n",
    "    rCore   = data.ds.parameters['sim_rcore']*cm\n",
    "    densitybeta = data.ds.parameters['sim_densitybeta']\n",
    "    Tout    = data.ds.parameters['sim_tout']*Kelvin\n",
    "    Tcore   = data.ds.parameters['sim_tcore']*Kelvin\n",
    "    rCoreT  = data.ds.parameters['sim_rcoret']*cm\n",
    "    gammaICM= data.ds.parameters['sim_gammaicm']\n",
    "    mu      = data.ds.parameters['sim_mu']\n",
    "    mp = yt.utilities.physical_constants.mass_hydrogen\n",
    "    k  = yt.utilities.physical_constants.boltzmann_constant\n",
    "\n",
    "    r = data['index', 'spherical_radius']\n",
    "    \n",
    "    density0 = rhoCore*(1.0 + (r/rCore)**2)**(-1.5*densitybeta)\n",
    "    T0 = Tout*(1.0+(r/rCoreT)**3)/(Tout/Tcore+(r/rCoreT)**3)\n",
    "    P0 = density0/mu/mp*k*T0\n",
    "    icm_mass_fraction = 1.0 - data['flash', 'jet ']\n",
    "    P = data['gas', 'pressure']\n",
    "    density = data['gas', 'density']\n",
    "    \n",
    "    icm_volume_fraction = (P0/P)**(1/gammaICM)*icm_mass_fraction*density/density0\n",
    "    \n",
    "    icm_volume_fraction = np.where(icm_volume_fraction < 1.0, icm_volume_fraction, 1.0)\n",
    "    return 1.0 - icm_volume_fraction\n",
    "\n",
    "\n",
    "ds.add_field(('gas', 'jet_volume_fraction'), function=_jet_volume_fraction,\n",
    "             display_name=\"Jet Volume Fraction\", force_override=True)"
   ]
  },
  {
   "cell_type": "code",
   "execution_count": null,
   "metadata": {
    "collapsed": false
   },
   "outputs": [],
   "source": [
    "me = yt.utilities.physical_constants.mass_electron #9.109E-28 g\n",
    "c  = yt.utilities.physical_constants.speed_of_light #2.998E10 cm/s\n",
    "e  = yt.utilities.physical_constants.elementary_charge #4.803E-10 esu\n",
    "nu = yt.YTQuantity(1.4, 'GHz')\n",
    "gamma_min = yt.YTQuantity(10, 'dimensionless')\n",
    "\n",
    "def _synchrotron_emissivity(field, data):\n",
    "    ptype = 'io'\n",
    "    # To convert from FLASH \"none\" unit to cgs unit, times the B field from FLASH by sqrt(4*pi)\n",
    "    B = np.sqrt(data[(ptype, 'particle_magx')]**2+data[(ptype, 'particle_magy')]**2+data[(ptype, 'particle_magz')]**2)\\\n",
    "        *np.sqrt(4.0*np.pi)\n",
    "    B = data.apply_units(B, 'G')\n",
    "    nuc = 3.0*data[(ptype, 'particle_gamc')]**2*e*B/(4.0*np.pi*me*c)\n",
    "    nu = data.get_field_parameter(\"frequency\", default=yt.YTQuantity(1.4, 'GHz'))\n",
    "    #P = data[(ptype, 'particle_pressure')]\n",
    "    #P = data[(ptype, 'particle_dens')]*yt.YTQuantity(1, 'dyne/cm**2')\n",
    "    fit_const = 5.8\n",
    "    norm = 0.5*e**3.5/(c**2.5*me**1.5*(4.*np.pi)**0.5)\n",
    "    N0 = 3.0/me/c/c/(np.log(np.abs(data[(ptype, 'particle_gamc')]/gamma_min)))\n",
    "\n",
    "    return N0*norm*fit_const*nu**(-0.5)*np.exp(-nu/nuc)\n",
    "#logging.getLogger('yt').setLevel(logging.DEBUG)\n",
    "\n",
    "ds.add_field(('io', 'particle_emissivity'), function=_synchrotron_emissivity, particle_type=True, \n",
    "             display_name=\"%s Emissivity\" % nu, units=\"auto\", force_override=True)\n",
    "\n",
    "ds.add_particle_filter('jetp')\n",
    "#ds.add_field(('jetp', 'particle_emissivity'), function=_synchrotron_emissivity, particle_type=True,\n",
    "              #units='erg/s/cm**3/Hz')"
   ]
  },
  {
   "cell_type": "code",
   "execution_count": null,
   "metadata": {
    "collapsed": false
   },
   "outputs": [],
   "source": [
    "ad = ds.all_data()\n",
    "ptype = 'jetp'\n",
    "deposit_field = 'particle_emissivity'\n",
    "yt.YTArray([0], input_units=ad[ptype, deposit_field].units)"
   ]
  },
  {
   "cell_type": "code",
   "execution_count": null,
   "metadata": {
    "collapsed": false
   },
   "outputs": [],
   "source": [
    "def _deposit_average_filling(field, grid):\n",
    "    #data._debug()\n",
    "    ptype = 'jetp'\n",
    "    deposit_field = 'particle_emissivity'\n",
    "    P = grid['gas', 'pressure']\n",
    "    B = grid['gas', 'magnetic_field_strength']\n",
    "    uq = P.uq*(B.uq)**1.5*grid[ptype, deposit_field].uq\n",
    "    if isinstance(grid, FieldDetector): return grid[ptype, deposit_field]*P*B**1.5\n",
    "    if len(grid[ptype, deposit_field]) > 0: return P*B**1.5*grid[ptype, deposit_field].mean()\n",
    "    elif grid.Level == 0: return grid['zeros']*uq\n",
    "    else:\n",
    "        pfield = yt.YTArray([0], input_units=ad[ptype, deposit_field].units)\n",
    "        for gr in grid.Parent.Children:\n",
    "            pfield = np.concatenate([pfield, gr[ptype, deposit_field]])\n",
    "        if len(pfield) == 0: \n",
    "            return grid['zeros']*uq\n",
    "        else:\n",
    "            return P*B**1.5*pfield.mean()*grid[ptype, deposit_field].uq\n",
    "\n",
    "ds.add_field(('deposit', 'avgfill_emissivity'), function=_deposit_average_filling, validators=[ValidateGridType()],\n",
    "             display_name=\"%s Emissivity\" % nu, units='erg/s/cm**3/Hz', take_log=True, force_override=True)\n",
    "\n",
    "def _intensity(field, data):\n",
    "    return data['deposit', 'avgfill_emissivity']/yt.YTQuantity(4.*np.pi, 'sr')\n",
    "\n",
    "ds.add_field(('deposit', 'avgfill_intensity'), function=_intensity, display_name=\"%s Intensity\" % nu,\n",
    "             units='Jy/cm/arcsec**2', take_log=True, force_override=True)"
   ]
  },
  {
   "cell_type": "code",
   "execution_count": null,
   "metadata": {
    "collapsed": false,
    "scrolled": false
   },
   "outputs": [],
   "source": [
    "#negative_ad = ad.cut_region([\"obj['jet_volume_fraction'] < 0.0\"])\n",
    "field = ('gas', 'jet_volume_fraction')\n",
    "#field = ('flash', 'jet ')\n",
    "slice = yt.SlicePlot(ds, 'x', field, center=(0,0,0))\n",
    "#                    field_parameters={'frequency': nu})\n",
    "#slice.set_zlim(('deposit', field), 1E-36/nu.in_units('GHz').value**0.5,\n",
    "#               1E-32/nu.in_units('GHz').value**0.5)\n",
    "slice.annotate_grids()\n",
    "#slice.set_log(field, False)\n",
    "#slice.set_cmap(field, 'gist_heat')\n",
    "slice.zoom(10)"
   ]
  },
  {
   "cell_type": "code",
   "execution_count": null,
   "metadata": {
    "collapsed": false
   },
   "outputs": [],
   "source": [
    "field = 'avgfill_intensity'\n",
    "proj = yt.ProjectionPlot(ds, 'x', ('deposit', field), center=(0,0,0),\n",
    "                        field_parameters={'frequency': nu})\n",
    "proj.set_zlim(('deposit', field), 1E-3/nu.in_units('GHz').value**0.5, \n",
    "              1E1/nu.in_units('GHz').value**0.5)\n",
    "proj.zoom(10)\n",
    "proj.show()"
   ]
  },
  {
   "cell_type": "code",
   "execution_count": null,
   "metadata": {
    "collapsed": false
   },
   "outputs": [],
   "source": [
    "proj.set_zlim(('deposit', 'avgfill_intensity'), 1E-3, 1E1)\n",
    "proj.annotate_timestamp(corner='upper_left', time_format=\"{time:6.3f} {units}\", time_unit='Myr', draw_inset_box=True)\n",
    "proj.annotate_text((0.9, 0.95), 'hinf', coord_system='axis', text_args={'color':'k'})\n",
    "proj.show()\n",
    "#proj.save('/home/ychen/d9/FLASH4/stampede/0529_L45_M10_b1_h1/0620_avgfill_deposited_intensity.png')"
   ]
  },
  {
   "cell_type": "code",
   "execution_count": null,
   "metadata": {
    "collapsed": false,
    "scrolled": false
   },
   "outputs": [],
   "source": [
    "ds.add_deposited_particle_field(('jetp', 'particle_emissivity'), 'nearest')\n",
    "print ad['jetp', 'particle_emissivity'].units\n",
    "print ad['deposit', 'jetp_nn_emissivity'].units\n",
    "def _nn_intensity(field, data):\n",
    "    '''\n",
    "    Intensity per length using nearest neighbot. Integrate over line of sight to get intensity.\n",
    "    '''\n",
    "    P = data['gas', 'pressure']\n",
    "    B = data['gas', 'magnetic_field_strength']\n",
    "    print data['jetp', 'particle_emissivity'].units\n",
    "    print data['deposit', 'jetp_nn_emissivity'].units\n",
    "    return P*B**1.5*data['deposit', 'jetp_nn_emissivity']/yt.YTQuantity(4.*np.pi, 'sr')\n",
    "\n",
    "f5 = ds.add_field(('deposit', 'nn_intensity'), function=_nn_intensity, display_name='%s NN Intensity' % nu,\n",
    "                  units='Jy/cm/arcsec**2', take_log=True, force_override=True)"
   ]
  },
  {
   "cell_type": "code",
   "execution_count": null,
   "metadata": {
    "collapsed": false
   },
   "outputs": [],
   "source": [
    "fn = 'emissivity_nn'\n",
    "slice = yt.SlicePlot(ds, 'x', fn, center=(0,0,0))\n",
    "slice.set_zlim(fn, 1E-36, 1E-32)\n",
    "slice.annotate_grids()\n",
    "slice.zoom(10)"
   ]
  },
  {
   "cell_type": "code",
   "execution_count": null,
   "metadata": {
    "collapsed": false
   },
   "outputs": [],
   "source": [
    "den_ratio = ad['jetp', 'particle_dens']/ad['jetp', 'particle_den0']\n",
    "print den_ratio"
   ]
  },
  {
   "cell_type": "code",
   "execution_count": null,
   "metadata": {
    "collapsed": false
   },
   "outputs": [],
   "source": [
    "print den_ratio.max()\n",
    "print den_ratio.min()\n",
    "print den_ratio.mean()\n",
    "print len(den_ratio)"
   ]
  },
  {
   "cell_type": "code",
   "execution_count": null,
   "metadata": {
    "collapsed": false
   },
   "outputs": [],
   "source": [
    "plt.hist(den_ratio, bins=200, range=(0,2))\n",
    "plt.show()"
   ]
  },
  {
   "cell_type": "code",
   "execution_count": null,
   "metadata": {
    "collapsed": false
   },
   "outputs": [],
   "source": [
    "ndens = ad['deposit', 'jetp_count']/ad['index', 'cell_volume']"
   ]
  },
  {
   "cell_type": "code",
   "execution_count": null,
   "metadata": {
    "collapsed": false
   },
   "outputs": [],
   "source": [
    "densjet = ad['gas', 'density']*ad['flash', 'jet ']\n",
    "color = {8:'r', 7:'orange', 6:'magenta', 5:'g', 4:'b', 3:'cyan'}\n",
    "for ilevel in [8,7,6,5,4,3]:\n",
    "    levelfilter = ad['index', 'grid_level'] == ilevel\n",
    "    filter = ad['deposit', 'jetp_count'][levelfilter] > 0\n",
    "    #print len(ndens)\n",
    "    print len(ndens[levelfilter][filter])\n",
    "    #print len(densjet[filter])\n",
    "    plt.scatter(np.log10(ndens[levelfilter][filter]), \n",
    "                np.log10(densjet[levelfilter][filter]), s=1, lw=0, c=color[ilevel])"
   ]
  },
  {
   "cell_type": "code",
   "execution_count": null,
   "metadata": {
    "collapsed": false
   },
   "outputs": [],
   "source": [
    "plt.hist([ad['deposit', 'io_count'], ad['jetp', 'particle_dens']], bins=50,\n",
    "        range=(0, 3E-26))\n",
    "\n",
    "plt.show()"
   ]
  },
  {
   "cell_type": "code",
   "execution_count": null,
   "metadata": {
    "collapsed": false
   },
   "outputs": [],
   "source": [
    "L = [1,1,0] # vector normal to cutting plane\n",
    "north_vector = [-1,1,0]\n",
    "fn = 'emissivity_nn'\n",
    "proj = yt.ProjectionPlot(ds, 'x', ('deposit', field), center=(0,0,0),\n",
    "                        field_parameters={'frequency': nu})\n",
    "proj.set_zlim(('deposit', field), 1E-3/nu.in_units('GHz').value**0.5, \n",
    "              1E1/nu.in_units('GHz').value**0.5)\n",
    "proj.zoom(10)\n",
    "proj.show()"
   ]
  },
  {
   "cell_type": "code",
   "execution_count": null,
   "metadata": {
    "collapsed": false
   },
   "outputs": [],
   "source": [
    "ad.set_field_parameter?"
   ]
  },
  {
   "cell_type": "code",
   "execution_count": null,
   "metadata": {
    "collapsed": false
   },
   "outputs": [],
   "source": []
  }
 ],
 "metadata": {
  "kernelspec": {
   "display_name": "Python 2",
   "language": "python",
   "name": "python2"
  },
  "language_info": {
   "codemirror_mode": {
    "name": "ipython",
    "version": 2
   },
   "file_extension": ".py",
   "mimetype": "text/x-python",
   "name": "python",
   "nbconvert_exporter": "python",
   "pygments_lexer": "ipython2",
   "version": "2.7.10"
  }
 },
 "nbformat": 4,
 "nbformat_minor": 0
}
