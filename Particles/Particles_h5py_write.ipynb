{
 "cells": [
  {
   "cell_type": "code",
   "execution_count": null,
   "metadata": {},
   "outputs": [],
   "source": [
    "%matplotlib inline\n",
    "import h5py\n",
    "import numpy as np\n",
    "import matplotlib.pyplot as plt\n",
    "import pickle\n",
    "path = '/home/ychen/d9/FLASH4/2015_production_runs/0529_L45_M10_b1_h1/'\n",
    "read = pickle.load(open('%s_particles_leave_dict.pickle' % path.split('/')[-2], 'r'))"
   ]
  },
  {
   "cell_type": "code",
   "execution_count": null,
   "metadata": {},
   "outputs": [],
   "source": [
    "#tadd, tag = 218857882571403.5, 127225.0\n",
    "read.viewkeys()"
   ]
  },
  {
   "cell_type": "code",
   "execution_count": null,
   "metadata": {
    "collapsed": false
   },
   "outputs": [],
   "source": [
    "fname = 'MHD_Jet_hdf5_part_0600'\n",
    "f = h5py.File(path+fname, 'r')\n",
    "fr = h5py.File(path+fname+'_updated', 'w')"
   ]
  },
  {
   "cell_type": "code",
   "execution_count": null,
   "metadata": {},
   "outputs": [],
   "source": [
    "for dataset in f.values():\n",
    "    print dataset"
   ]
  },
  {
   "cell_type": "code",
   "execution_count": null,
   "metadata": {},
   "outputs": [],
   "source": [
    "#print read\n",
    "colname = [item[0].strip() for item in f['particle names']]\n",
    "itag  = colname.index('tag')\n",
    "itadd = colname.index('tadd')\n",
    "iden0 = colname.index('den0')\n",
    "ivelz = colname.index('velz')\n",
    "itau  = colname.index('tau')\n",
    "tp = f['tracer particles'].value\n",
    "\n",
    "#tau1 = np.zeros(tp.shape[0])\n",
    "dtau = np.zeros(tp.shape[0])\n",
    "den1 = tp[:,iden0]\n",
    "\n",
    "for i, (tag, tadd)  in enumerate(zip(tp[:,itag], tp[:,itadd])):\n",
    "    #print tadd, tag, read[(tag, tadd)]\n",
    "    try:\n",
    "        den1[i] = read[(tag, tadd)][2]\n",
    "        #if den1[i] < 0: print den1[i]\n",
    "        tau1 = read[(tag, tadd)][3]\n",
    "        dtau[i] = max(tp[i,itau]-tau1, 1E-100)\n",
    "    except KeyError:\n",
    "        print tag, tadd, '%e' % tp[i,ivelz], 'not in pickled data [dict]'\n",
    "        \n",
    "\n",
    "newcols = np.column_stack((den1,dtau))\n",
    "print newcols.shape"
   ]
  },
  {
   "cell_type": "code",
   "execution_count": null,
   "metadata": {},
   "outputs": [],
   "source": [
    "for v in f.values():\n",
    "    if 'particle names' in v.name:\n",
    "        shape = (v.shape[0]+2, 1)\n",
    "        newfields = [['den1                    '], ['dtau                    ']]\n",
    "        data = np.concatenate((v.value, newfields), axis=0)\n",
    "        print shape\n",
    "        print data\n",
    "        fr.create_dataset(v.name, shape, v.dtype, data)\n",
    "    elif 'tracer particles' in v.name:\n",
    "        print v\n",
    "        shape = (v.shape[0], v.shape[1]+2)\n",
    "        print shape\n",
    "        #newcol = np.expand_dims(v.value[:,0], axis=1)\n",
    "        #newcols = v.value[:,0:2]\n",
    "        data = np.concatenate((v.value, newcols), axis=1)\n",
    "        fr.create_dataset(v.name, shape, v.dtype, data)\n",
    "    else:\n",
    "        fr.create_dataset(v.name, v.shape, v.dtype, v.value)\n",
    "f.close()\n",
    "fr.close()"
   ]
  },
  {
   "cell_type": "code",
   "execution_count": null,
   "metadata": {},
   "outputs": [],
   "source": [
    "fr = h5py.File(path+fname+'_updated', 'r')\n",
    "for v, vr in zip( f.values(), fr.values() ):\n",
    "    print v\n",
    "    print vr"
   ]
  },
  {
   "cell_type": "code",
   "execution_count": null,
   "metadata": {},
   "outputs": [],
   "source": [
    "f = h5py.File(path+fname, 'r')\n",
    "f['tracer particles'][:,itau]\n",
    "plt.figure(figsize=(8,6))\n",
    "\n",
    "xx = np.linspace(-8, -2, 10)\n",
    "tau = f['tracer particles'][:,itau]\n",
    "idens = colname.index('dens')\n",
    "iden0 = colname.index('den0')\n",
    "dens = f['tracer particles'][:,idens]\n",
    "den0 = f['tracer particles'][:,iden0]\n",
    "tadd = f['tracer particles'][:,itadd]\n",
    "plt.scatter(np.log10(tau), np.log10(newcols[:,1]), c=tadd, vmin=2E14, vmax=3E14, lw=0, s=2)\n",
    "plt.plot(xx,xx, c='r')\n",
    "plt.colorbar()\n",
    "plt.xlabel('tau')\n",
    "plt.ylabel('dtau')\n",
    "plt.xlim(-8,-2)\n",
    "plt.ylim(-101,-2)\n"
   ]
  },
  {
   "cell_type": "code",
   "execution_count": null,
   "metadata": {},
   "outputs": [],
   "source": [
    "read_array = np.array([[key[0] + key[1]] + value for key, value in read.iteritems()])"
   ]
  },
  {
   "cell_type": "code",
   "execution_count": null,
   "metadata": {},
   "outputs": [],
   "source": [
    "import matplotlib.pyplot as plt\n",
    "den1 = read_array[:,3]\n",
    "tadd = read_array[:,1]\n",
    "mask = np.where(den1<0)\n",
    "print len(den1[mask])\n",
    "#null = plt.hist(den1, bins=100, range=(-1E-26, 0))\n",
    "plt.scatter(den1[mask], tadd[mask])\n",
    "plt.xlim(-1E-26, 0)"
   ]
  },
  {
   "cell_type": "code",
   "execution_count": null,
   "metadata": {},
   "outputs": [],
   "source": [
    "import pickle\n",
    "dir = '/home/ychen/d9/FLASH4/2015_production_runs/0529_L45_M10_b1_h1/'\n",
    "read = pickle.load(open('%s_particles_leave_dict.pickle' % dir.split('/')[-2], 'rb'))\n",
    "print type(read)"
   ]
  },
  {
   "cell_type": "code",
   "execution_count": null,
   "metadata": {},
   "outputs": [],
   "source": []
  },
  {
   "cell_type": "code",
   "execution_count": null,
   "metadata": {
    "collapsed": false
   },
   "outputs": [],
   "source": []
  }
 ],
 "metadata": {
  "kernelspec": {
   "display_name": "Python 3",
   "language": "python",
   "name": "python3"
  },
  "language_info": {
   "codemirror_mode": {
    "name": "ipython",
    "version": 3
   },
   "file_extension": ".py",
   "mimetype": "text/x-python",
   "name": "python",
   "nbconvert_exporter": "python",
   "pygments_lexer": "ipython3",
   "version": "3.6.1"
  }
 },
 "nbformat": 4,
 "nbformat_minor": 1
}
