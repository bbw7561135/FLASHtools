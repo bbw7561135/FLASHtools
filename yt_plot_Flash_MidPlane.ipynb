{
 "cells": [
  {
   "cell_type": "code",
   "execution_count": null,
   "metadata": {
    "collapsed": false
   },
   "outputs": [],
   "source": [
    "%matplotlib inline\n",
    "import os\n",
    "import sys\n",
    "sys.path.append('/home/ychen/lib/util')\n",
    "import util\n",
    "import numpy as np\n",
    "#import matplotlib\n",
    "import yt\n",
    "yt.mylog.setLevel(\"WARNING\")\n",
    "import matplotlib\n",
    "matplotlib.rcParams['figure.dpi'] = 100\n",
    "from matplotlib import pyplot as plt\n",
    "from plotSlices import plotSliceField\n",
    "from tools import calcDen0\n",
    "from particles.particle_filters import *\n"
   ]
  },
  {
   "cell_type": "code",
   "execution_count": null,
   "metadata": {},
   "outputs": [],
   "source": [
    "#dir = '/home/ychen/data/0only_1204_M24_b01'\n",
    "#dir = '/home/ychen/data/0only_1022_h1_10Myr'\n",
    "#dir ='/home/ychen/d9/FLASH4/stampede/0314_L45_M10_b1_h1_nojiggle/'\n",
    "#dir ='/home/ychen/data/0only_1106_M3_h1/'\n",
    "#dir ='/home/ychen/d9/FLASH4/2015_production_runs/1022_L45_M10_b1_h1_10Myr/'\n",
    "#dir ='/home/ychen/d9/FLASH4/Gravity_test/0627_tree_gravity/'\n",
    "dir = '/home/ychen/data/0only_0529_h1/data/'\n",
    "\n",
    "def rescan(printlist=False):\n",
    "    files = util.scan_files(dir, '*hdf5_plt_cnt_[0-9][0-9][0-9][0-9]', printlist=printlist)\n",
    "    return files\n",
    "\n",
    "files = rescan(True)\n"
   ]
  },
  {
   "cell_type": "code",
   "execution_count": null,
   "metadata": {},
   "outputs": [],
   "source": [
    "ds = yt.load(files[60].fullpath)\n"
   ]
  },
  {
   "cell_type": "code",
   "execution_count": null,
   "metadata": {
    "collapsed": false
   },
   "outputs": [],
   "source": [
    "dx = ds.index.get_smallest_dx()"
   ]
  },
  {
   "cell_type": "code",
   "execution_count": null,
   "metadata": {},
   "outputs": [],
   "source": [
    "center = (5*dx, 0, 0)\n",
    "plot = yt.SlicePlot(ds, 'z', fields=['velocity_z'], width=(20, 'kpc'), center=center)\n",
    "frb_p = plot.frb['velocity_z']\n",
    "plot.set_zlim('velocity_z', -1E7, 1E7)\n",
    "plot.set_cmap('velocity_z', 'seismic')\n",
    "plot.show()"
   ]
  },
  {
   "cell_type": "code",
   "execution_count": null,
   "metadata": {},
   "outputs": [],
   "source": [
    "center = (-5*dx, 0, 0)\n",
    "plot = yt.SlicePlot(ds, 'z', fields=['velocity_z'], width=(20, 'kpc'), center=center)\n",
    "frb_m = plot.frb['velocity_z']\n",
    "plot.set_zlim('velocity_z', -1E7, 1E7)\n",
    "plot.set_cmap('velocity_z', 'seismic')\n",
    "plot.show()"
   ]
  },
  {
   "cell_type": "code",
   "execution_count": null,
   "metadata": {},
   "outputs": [],
   "source": [
    "diff = frb_p - frb_m\n",
    "im = plt.imshow(diff, vmin=-1E8, vmax=1E8)\n",
    "\n",
    "plt.set_cmap('seismic')"
   ]
  },
  {
   "cell_type": "code",
   "execution_count": null,
   "metadata": {},
   "outputs": [],
   "source": [
    "add = frb_p + frb_m\n",
    "im = plt.imshow(add, vmin=-1E7, vmax=1E7)"
   ]
  },
  {
   "cell_type": "code",
   "execution_count": null,
   "metadata": {
    "collapsed": false
   },
   "outputs": [],
   "source": []
  }
 ],
 "metadata": {
  "kernelspec": {
   "display_name": "Python 3",
   "language": "python",
   "name": "python3"
  },
  "language_info": {
   "codemirror_mode": {
    "name": "ipython",
    "version": 3
   },
   "file_extension": ".py",
   "mimetype": "text/x-python",
   "name": "python",
   "nbconvert_exporter": "python",
   "pygments_lexer": "ipython3",
   "version": "3.6.1"
  }
 },
 "nbformat": 4,
 "nbformat_minor": 1
}
