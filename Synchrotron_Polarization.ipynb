{
 "cells": [
  {
   "cell_type": "code",
   "execution_count": null,
   "metadata": {
    "collapsed": false
   },
   "outputs": [],
   "source": [
    "#%pdb\n",
    "%matplotlib inline\n",
    "import matplotlib.pyplot as plt\n",
    "import yt\n",
    "import logging\n",
    "logging.getLogger('yt').setLevel(logging.ERROR)\n",
    "import numpy as np\n",
    "from yt_synchrotron_emissivity import *\n"
   ]
  },
  {
   "cell_type": "code",
   "execution_count": null,
   "metadata": {
    "collapsed": false
   },
   "outputs": [],
   "source": [
    "fname = '/home/ychen/data/0only_0529_h1/MHD_Jet_hdf5_plt_cnt_0600'\n",
    "ds = yt.load(fname, particle_filename=fname.replace('plt_cnt', 'part'))\n",
    "data = ds.all_data()"
   ]
  },
  {
   "cell_type": "code",
   "execution_count": null,
   "metadata": {
    "collapsed": false
   },
   "outputs": [],
   "source": [
    "ptype = 'jetp'\n",
    "proj_axis = 'x'\n",
    "nu = (150, 'MHz')\n",
    "#pars = add_synchrotron_emissivity(ds, ptype=ptype, nu=nu)\n",
    "pars = add_synchrotron_pol_emissivity(ds, ptype=ptype, nu=nu, proj_axis=proj_axis)\n",
    "fieldi = ('deposit', ('nn_emissivity_i_%s_%%.1f%%s' % ptype) % nu)\n",
    "fieldq = ('deposit', ('nn_emissivity_q_%s_%%.1f%%s' % ptype) % nu)\n",
    "fieldu = ('deposit', ('nn_emissivity_u_%s_%%.1f%%s' % ptype) % nu)\n",
    "proj = yt.ProjectionPlot(ds, proj_axis, [fieldi, fieldq, fieldu], center=[0,0,0], width=((40,'kpc'),(80,'kpc')))\n",
    "#plot = yt.SlicePlot(ds, proj_axis, [fieldi, fieldq, fieldu], center=[0,0,0], width=((40,'kpc'),(80,'kpc')))"
   ]
  },
  {
   "cell_type": "code",
   "execution_count": null,
   "metadata": {
    "collapsed": false
   },
   "outputs": [],
   "source": [
    "from yt.utilities.fits_image import FITSProjection\n",
    "fieldi = ('nn_emissivity_i_%s_%%.1f%%s' % ptype) % nu\n",
    "#fits_proj = FITSProjection(ds, proj_axis, [fieldi, fieldq, fieldu], center=[0,0,0], width=((40,'kpc'),(80,'kpc')))\n",
    "width = ds.domain_width[1:]/8\n",
    "res = ds.domain_dimensions[1:]*ds.refine_by**ds.index.max_level/8\n",
    "fits_proj = FITSProjection(ds, proj_axis, fieldi, center=[0,0,0], width=width, image_res=res)\n"
   ]
  },
  {
   "cell_type": "code",
   "execution_count": null,
   "metadata": {
    "collapsed": false
   },
   "outputs": [],
   "source": [
    "fits_proj.writeto('emissivity_i_600_1.4GHz.fits')"
   ]
  },
  {
   "cell_type": "code",
   "execution_count": null,
   "metadata": {
    "collapsed": false
   },
   "outputs": [],
   "source": [
    "fieldi = ('deposit', ('nn_emissivity_i_%s_%%.1f%%s' % ptype) % nu)"
   ]
  },
  {
   "cell_type": "code",
   "execution_count": null,
   "metadata": {
    "collapsed": false
   },
   "outputs": [],
   "source": [
    "frb_I = proj.frb.data[fieldi].v\n",
    "frb_Q = proj.frb.data[fieldq].v\n",
    "frb_U = proj.frb.data[fieldu].v\n",
    "#null = plt.hist(np.log10(arri.flatten()), range=(-15,3), bins=100)\n",
    "\n",
    "factor = 1\n",
    "nx = 800/factor\n",
    "ny = 800/factor\n",
    "\n",
    "I_bin = frb_I.reshape(nx, factor, ny, factor).sum(3).sum(1)\n",
    "Q_bin = frb_Q.reshape(nx, factor, ny, factor).sum(3).sum(1)\n",
    "U_bin = frb_U.reshape(nx, factor, ny, factor).sum(3).sum(1)\n",
    "\n",
    "psi = 0.5*np.arctan2(U_bin, Q_bin)\n",
    "frac = np.sqrt(Q_bin**2+U_bin**2)/I_bin\n",
    "#print len(psi.flatten()[psi.flatten().nonzero()])\n",
    "#null = plt.hist(np.abs(psi.flatten())[psi.flatten().nonzero()], bins=50)\n",
    "#plt.xlim(0, 0.5*np.pi)"
   ]
  },
  {
   "cell_type": "code",
   "execution_count": null,
   "metadata": {
    "collapsed": false
   },
   "outputs": [],
   "source": [
    "fig = plt.figure(figsize=(16,4))\n",
    "\n",
    "ax1 = fig.add_subplot(131)\n",
    "null = ax1.hist(frac.flatten()*100, range=(0,80), bins=40)\n",
    "ax1.set_xlabel('Polarization fraction (%)')\n",
    "ax1.set_xlim(0, 80)\n",
    "\n",
    "ax2  = fig.add_subplot(132)\n",
    "null = ax2.hist(psi.flatten()[psi.flatten().nonzero()], bins=50, range=(-0.5*np.pi, 0.5*np.pi))\n",
    "x_tick = np.linspace(-0.5, 0.5, 5, endpoint=True)\n",
    "\n",
    "x_label = [r\"$-\\pi/2$\", r\"$-\\pi/4$\", r\"$0$\", r\"$+\\pi/4$\", r\"$+\\pi/2$\"]\n",
    "ax2.set_xlim(-0.5*np.pi, 0.5*np.pi)\n",
    "ax2.set_xticks(x_tick*np.pi)\n",
    "ax2.set_xticklabels(x_label)\n",
    "ax2.set_title(ds.basename + '  %.1f %s' % nu)\n",
    "\n",
    "ax3 = fig.add_subplot(133)\n",
    "null = ax3.hist(np.abs(psi.flatten()[psi.flatten().nonzero()]), bins=25, range=(0.0, 0.5*np.pi))\n",
    "ax3.set_xlim(0.0, 0.5*np.pi)\n",
    "ax3.set_xticks([x_tick[2:]*np.pi])\n",
    "ax3.set_xticks(x_tick[2:]*np.pi)\n",
    "ax3.set_xticklabels(x_label[2:])"
   ]
  },
  {
   "cell_type": "code",
   "execution_count": null,
   "metadata": {
    "collapsed": false
   },
   "outputs": [],
   "source": [
    "\n",
    "x = np.linspace(proj.frb.bounds[0], proj.frb.bounds[1], nx)\n",
    "y = np.linspace(proj.frb.bounds[2], proj.frb.bounds[3], ny)\n",
    "XX, YY = np.meshgrid(x,y)\n",
    "fig = plt.figure(figsize=(16,10))\n",
    "plt.scatter(np.log10(I_bin), frac, s=1, lw=0)"
   ]
  },
  {
   "cell_type": "code",
   "execution_count": null,
   "metadata": {
    "collapsed": false
   },
   "outputs": [],
   "source": [
    "import matplotlib.pyplot as plt\n",
    "cmap = plt.cm.seismic\n",
    "plot.set_cmap(field, cmap)\n",
    "plot.set_zlim(field, -1E1, 1E1)\n",
    "#plot.zoom(0.5)\n",
    "plot.show()\n",
    "FRB = plot.frb"
   ]
  },
  {
   "cell_type": "code",
   "execution_count": null,
   "metadata": {
    "collapsed": false
   },
   "outputs": [],
   "source": [
    "field = ('deposit', 'nn_emissivity_u_jetp_150.0MHz')\n",
    "arr = FRB.data[field]\n",
    "plt.imshow(arr.v, origin='lower', aspect=2, cmap='seismic', vmin=-10, vmax=10)\n"
   ]
  },
  {
   "cell_type": "code",
   "execution_count": null,
   "metadata": {
    "collapsed": false
   },
   "outputs": [],
   "source": [
    "plot = yt.ProjectionPlot(ds, 'x', 'density', center=[0,0,0], width=((20,'kpc'),(40,'kpc')))"
   ]
  },
  {
   "cell_type": "code",
   "execution_count": null,
   "metadata": {
    "collapsed": false
   },
   "outputs": [],
   "source": [
    "field = fieldi\n",
    "xx0, xx1 = plot.xlim\n",
    "print xx0, xx1\n",
    "yy0, yy1 = plot.ylim\n",
    "print plot.plots\n",
    "\n",
    "factor = 10.0\n",
    "nx = plot.plots[field].image._A.shape[0] / factor\n",
    "ny = plot.plots[field].image._A.shape[1] / factor\n",
    "X,Y = np.meshgrid(np.linspace(xx0,xx1,nx,endpoint=True),\\\n",
    "                  np.linspace(yy0,yy1,ny,endpoint=True))\n",
    "\n",
    "#frb_U = X\n",
    "#frb_Q = Y\n",
    "#frb_I = np.sqrt(X*X+Y*Y)\n",
    "\n",
    "psi = 0.5*np.arctan(frb_U[::factor,::factor]/frb_Q[::factor,::factor])\n",
    "frac = np.sqrt(frb_Q[::factor,::factor]**2+frb_U[::factor,::factor]**2)/frb_I[::factor,::factor]\n",
    "#null = plt.hist(frac.flatten(), range=(0,5), bins=100)"
   ]
  },
  {
   "cell_type": "code",
   "execution_count": null,
   "metadata": {
    "collapsed": false
   },
   "outputs": [],
   "source": [
    "plot.annotate_polline(frb_I, frb_Q, frb_U)\n",
    "plot.set_zlim(fieldi, 1E-2, 1E2)\n",
    "cmap = plt.cm.get_cmap(\"kamae_r\")\n",
    "cmap.set_bad((206./256., 221./256., 250./256.))\n",
    "#cmap = plt.cm.get_cmap(\"algae\")\n",
    "#cmap.set_bad((80./256., 0.0, 80./256.))\n",
    "plot.set_cmap(fieldi, cmap)\n",
    "plot.show()\n",
    "plot.annotate_clear()"
   ]
  },
  {
   "cell_type": "code",
   "execution_count": null,
   "metadata": {
    "collapsed": false
   },
   "outputs": [],
   "source": [
    "plot.set_zlim(fieldq, -1E0, 1E0)\n",
    "plot.set_cmap(fieldq, 'seismic')\n",
    "plot.set_zlim(fieldu, -1E0, 1E0)\n",
    "plot.set_cmap(fieldu, 'seismic')"
   ]
  },
  {
   "cell_type": "code",
   "execution_count": null,
   "metadata": {
    "collapsed": false
   },
   "outputs": [],
   "source": [
    "\n",
    "plot.save()"
   ]
  },
  {
   "cell_type": "code",
   "execution_count": null,
   "metadata": {
    "collapsed": false
   },
   "outputs": [],
   "source": [
    "p = plot.plots[fieldi]\n",
    "quiveropts = dict(headlength=code0, headwidth=1, pivot='middle')#, scale=3, \n",
    "    #linewidth=.5, units='xy', width=.05, headwidth=1)v\n",
    "p.axes.cla()\n",
    "p.axes.quiver(X,Y,frac*np.sin(psi),frac*np.cos(psi), **quiveropts)\n",
    "#p.show()\n",
    "plot.show()"
   ]
  },
  {
   "cell_type": "code",
   "execution_count": null,
   "metadata": {
    "collapsed": false
   },
   "outputs": [],
   "source": [
    "code0 = ds.quan(0, 'code_length')"
   ]
  },
  {
   "cell_type": "code",
   "execution_count": null,
   "metadata": {
    "collapsed": false
   },
   "outputs": [],
   "source": [
    "plot.zoom(64)\n",
    "plot.annotate_grids()\n",
    "plot.annotate_particles((0.5, 'kpc'), col='white', ptype='jetp')\n",
    "plot.set_zlim(field, 1E-1, 1E3)\n",
    "plot.set_cmap(field, cmap)\n",
    "plot.show()"
   ]
  },
  {
   "cell_type": "code",
   "execution_count": null,
   "metadata": {
    "collapsed": false
   },
   "outputs": [],
   "source": [
    "ptype = 'all'\n",
    "#B = np.array([data[(ptype, 'particle_magx')], data[(ptype, 'particle_magy')], data[(ptype, 'particle_magz')]])\\\n",
    "B_cut = 1E-20\n",
    "Bvec = np.array([data[('flash', 'magx')], data[('flash', 'magy')], data[('flash', 'magz')]])\\\n",
    "    *np.sqrt(4.0*np.pi)\n",
    "print Bvec.shape\n",
    "#B = B[:,np.nonzero(B2)][:,0,:]\n",
    "#print B.shape"
   ]
  },
  {
   "cell_type": "code",
   "execution_count": null,
   "metadata": {
    "collapsed": false
   },
   "outputs": [],
   "source": [
    "B[:,1]\n",
    "B2 = np.sum(B*B, axis=0)\n",
    "print B2.shape\n",
    "flag = B2 > B_cut**2\n",
    "print flag.shape\n",
    "print B.shape\n",
    "print B[:,flag].shape\n",
    "#print B[:,np.nonzero(B2)].shape\n",
    "#print B[:,np.nonzero(B2)][:,0,:].shape"
   ]
  },
  {
   "cell_type": "code",
   "execution_count": null,
   "metadata": {
    "collapsed": false
   },
   "outputs": [],
   "source": [
    "import matplotlib.pyplot as plt\n",
    "plt.hist(np.log10(B2[B2>0.0]), bins=40)#, range=(2E-8, 1E-7))\n",
    "\n",
    "#print cross\n",
    "#print np.sum(cross*cross, axis=1)\n",
    "#print np.sum(B*B, axis=0)"
   ]
  },
  {
   "cell_type": "code",
   "execution_count": null,
   "metadata": {
    "collapsed": false
   },
   "outputs": [],
   "source": [
    "for proj_axis in ['x', 'y', 'z']:\n",
    "    if proj_axis=='x': los = [1.,0.,0.]\n",
    "    elif proj_axis=='y': los = [0.,1.,0.]\n",
    "    elif proj_axis=='z': los = [0.,0.,1.]\n",
    "\n",
    "    cross = np.cross(los, B, axisb=0)\n",
    "    sina = np.sqrt(np.sum(cross*cross, axis=1)/np.sum(B*B, axis=0))\n",
    "    #print sina.shape\n",
    "    #print \"sin(alpha)=\", sina\n",
    "    a = np.arcsin(sina)/np.pi*180\n",
    "    #print 'alpha=', a\n",
    "    dummy = plt.hist(a, bins=40, alpha=0.5, label=proj_axis)\n",
    "plt.xlabel('B position angle (deg)')\n",
    "plt.legend(loc=2)"
   ]
  },
  {
   "cell_type": "code",
   "execution_count": null,
   "metadata": {
    "collapsed": false
   },
   "outputs": [],
   "source": [
    "\n",
    "from mpl_toolkits.mplot3d import Axes3D\n",
    "fig = plt.figure()\n",
    "ax = fig.add_subplot(111, projection='3d')\n",
    "\n",
    "xs, ys, zs = zip([0,0,0], LOS)\n",
    "ax.plot(xs, ys, zs)\n",
    "xs, ys, zs = zip([0,0,0], B0/np.sqrt(np.sum(B0*B0)))\n",
    "ax.plot(xs, ys, zs)\n",
    "\n",
    "\n",
    "\n",
    "ax.set_xlim(-1,1)\n",
    "ax.set_ylim(-1,1)\n",
    "ax.set_zlim(-1,1)"
   ]
  },
  {
   "cell_type": "code",
   "execution_count": null,
   "metadata": {
    "collapsed": false
   },
   "outputs": [],
   "source": [
    "Bvec = np.array([data[('flash', 'magx')], data[('flash', 'magy')], data[('flash', 'magz')]])\\\n",
    "    *np.sqrt(4.0*np.pi)\n",
    "print Bvec.shape\n",
    "los = np.array([1.,0.,0.])\n",
    "print los.shape"
   ]
  },
  {
   "cell_type": "code",
   "execution_count": null,
   "metadata": {
    "collapsed": false
   },
   "outputs": [],
   "source": [
    "B2 = np.sum(Bvec*Bvec, axis=0)\n",
    "mask = B2>0.0\n",
    "Bvec = Bvec[:,mask]\n",
    "print Bvec.shape\n",
    "print np.inner(Bvec.transpose(),los)"
   ]
  },
  {
   "cell_type": "code",
   "execution_count": null,
   "metadata": {
    "collapsed": false
   },
   "outputs": [],
   "source": [
    "inner = np.inner(Bvec.transpose(), los)\n",
    "print inner.shape\n",
    "inner.reshape((inner.shape[0], 1))\n",
    "print inner\n",
    "print (inner.reshape((-1, 1))*los).shape\n",
    "\n",
    "#Bproj = Bvec - *los"
   ]
  },
  {
   "cell_type": "code",
   "execution_count": null,
   "metadata": {
    "collapsed": false
   },
   "outputs": [],
   "source": [
    "Bvec.transpose() - np.inner(Bvec.transpose(), los).reshape((-1,1))*los"
   ]
  },
  {
   "cell_type": "code",
   "execution_count": null,
   "metadata": {
    "collapsed": false
   },
   "outputs": [],
   "source": []
  }
 ],
 "metadata": {
  "kernelspec": {
   "display_name": "Python 2",
   "language": "python",
   "name": "python2"
  },
  "language_info": {
   "codemirror_mode": {
    "name": "ipython",
    "version": 2
   },
   "file_extension": ".py",
   "mimetype": "text/x-python",
   "name": "python",
   "nbconvert_exporter": "python",
   "pygments_lexer": "ipython2",
   "version": "2.7.10"
  }
 },
 "nbformat": 4,
 "nbformat_minor": 0
}
