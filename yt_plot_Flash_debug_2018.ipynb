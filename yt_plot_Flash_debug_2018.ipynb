{
 "cells": [
  {
   "cell_type": "code",
   "execution_count": null,
   "metadata": {
    "collapsed": false
   },
   "outputs": [],
   "source": [
    "import sys\n",
    "import yt\n",
    "from particles.particle_filters import *\n",
    "import matplotlib.pyplot as plt"
   ]
  },
  {
   "cell_type": "code",
   "execution_count": null,
   "metadata": {},
   "outputs": [],
   "source": [
    "#ts = yt.load('/d/d9/ychen/FLASH4/20180720_initM2/debug/GalaxyGroup_hdf5_chk_*')\n",
    "#ts = yt.load('/d/d9/ychen/FLASH4/20180723_initBlockM7/data/GalaxyGroup_hdf5_plt_cnt_*')\n",
    "#ts = yt.load('/d/d9/ychen/FLASH4/20180726_density_fix/debug/GalaxyGroup_hdf5_chk_0014.before.repeating.negative.dens')\n",
    "#ds = yt.load('/d/d9/ychen/2018_production_runs/20180802_L438_rc10_beta07/debug/Group_L438_hdf5_plt_cnt_0924')\n",
    "ds = yt.load('/d/d9/ychen/2018_production_runs/20180824_L438_rc30_beta07/data/Group_L438_hdf5_plt_cnt_0800')\n",
    "print(ds)"
   ]
  },
  {
   "cell_type": "code",
   "execution_count": null,
   "metadata": {},
   "outputs": [],
   "source": [
    "ds.print_stats()"
   ]
  },
  {
   "cell_type": "code",
   "execution_count": null,
   "metadata": {},
   "outputs": [],
   "source": [
    "ds.index.level_stats['numgrids'][:12]"
   ]
  },
  {
   "cell_type": "code",
   "execution_count": null,
   "metadata": {},
   "outputs": [],
   "source": [
    "print(ds)\n",
    "\n",
    "#v, loc = ds.find_max('velocity_x')\n",
    "#print('max velocity x:', v.in_units('c'), loc)\n",
    "#v, loc = ds.find_max('velocity_y')\n",
    "#print('max velocity y:', v.in_units('c'), loc)\n",
    "v, loc = ds.find_max('velocity_z')\n",
    "print('max velocity z:', v.in_units('c'), loc)\\\n",
    "\n",
    "v, loc = ds.find_max('alfven_speed')\n",
    "print('max alfven speed:', v.in_units('c'), loc)\n",
    "v, loc = ds.find_max('sound_speed')\n",
    "print('max sound speed:', v.in_units('c'), loc)\n",
    "v, loc = ds.find_max('velocity_magnitude')\n",
    "print('max velocity:', v.in_units('c'), loc)\n"
   ]
  },
  {
   "cell_type": "code",
   "execution_count": null,
   "metadata": {},
   "outputs": [],
   "source": [
    "#loc = ds.arr([1.688E+21, -1.194E+22,  3.694E+22], 'code_length')\n",
    "#loc = ds.arr([1.194E+22, -1.812E+21,  2.681E+23], 'code_length')\n",
    "loc = ds.arr([-1.438E+21,  3.938E+21, -4.062E+21], 'code_length')\n",
    "#loc = ds.arr([-1.181E+22,  1.719E+22, -3.628E+23], 'code_length')\n",
    "#loc = ds.arr([-1.938E+21, -2.312E+21, -3.994E+22], 'code_length')\n",
    "\n",
    "v = ds.find_field_values_at_point('velocity_magnitude', loc).in_units('c')[0]\n",
    "print('velocity_magnitude:', v.in_units('c'))\n",
    "v = ds.find_field_values_at_point('alfven_speed', loc).in_units('c')[0]\n",
    "print('alfven speed:', v.in_units('c'))\n",
    "v = ds.find_field_values_at_point('sound_speed', loc).in_units('c')[0]\n",
    "print('sound speed:', v.in_units('c'))"
   ]
  },
  {
   "cell_type": "code",
   "execution_count": null,
   "metadata": {
    "scrolled": false
   },
   "outputs": [],
   "source": [
    "fields = ['temperature', 'density', 'pressure','shks','velocity_z', 'velocity_y', 'jet ']\n",
    "for axis in 'xyz':\n",
    "    plot = yt.SlicePlot(ds, axis, fields, center=loc, width=(10, 'kpc'), origin='native')\n",
    "    plot.annotate_marker(loc, plot_args={'color': 'k'})\n",
    "    #plot.set_zlim('jet ', 1E-10, 1E0)\n",
    "    plot.set_zlim('velocity_z', -6E9, 6E9)\n",
    "    plot.set_cmap('velocity_z', 'seismic')\n",
    "    plot.set_zlim('velocity_y', -6E8, 6E8)\n",
    "    plot.set_cmap('velocity_y', 'seismic')\n",
    "    #plot.set_cmap('magnetic_field_y', 'seismic')\n",
    "    #plot.set_zlim('magnetic_field_y', -2E-4, 2E-4)\n",
    "    #plot.set_zlim('alfven_speed', 1E7, 1E11)\n",
    "    #plot.set_zlim('shks', 1, 7)\n",
    "    plot.annotate_grids()#draw_ids=True)\n",
    "    #plot.annotate_particles()\n",
    "    plot.show()"
   ]
  },
  {
   "cell_type": "code",
   "execution_count": null,
   "metadata": {
    "collapsed": false
   },
   "outputs": [],
   "source": [
    "fields = ['temperature','density', 'pressure','shks','velocity_z', 'jet ']\n",
    "#fields = ['eint']\n",
    "for axis in 'xyz':\n",
    "    plot = yt.SlicePlot(ds, axis, fields, center=loc, width=(2, 'kpc'), origin='native')\n",
    "    plot.annotate_marker(loc, plot_args={'color': 'k'})\n",
    "    #plot.set_zlim('jet ', 1E-10, 1E0)\n",
    "    plot.set_zlim('velocity_z', -6E9, 6E9)\n",
    "    plot.set_cmap('velocity_z', 'seismic')\n",
    "    #plot.set_cmap('magnetic_field_y', 'seismic')\n",
    "    #plot.set_zlim('magnetic_field_y', -2E-4, 2E-4)\n",
    "    #plot.set_zlim('alfven_speed', 1E7, 1E11)\n",
    "    #plot.set_zlim('shks', 1, 7)\n",
    "    plot.annotate_grids()#draw_ids=True)\n",
    "    #plot.annotate_particles()\n",
    "    plot.show()"
   ]
  },
  {
   "cell_type": "code",
   "execution_count": null,
   "metadata": {
    "collapsed": false
   },
   "outputs": [],
   "source": []
  },
  {
   "cell_type": "code",
   "execution_count": null,
   "metadata": {
    "scrolled": false
   },
   "outputs": [],
   "source": [
    "fields = ['velocity_z', 'eint']\n",
    "#fields = ['eint']\n",
    "for axis in 'xy':\n",
    "    plot = yt.SlicePlot(ds, axis, fields, center=loc, width=(1, 'kpc'), origin='native')\n",
    "    plot.annotate_marker(loc, plot_args={'color': 'k'})\n",
    "    #plot.set_zlim('jet ', 1E-10, 1E0)\n",
    "    plot.set_zlim('velocity_z', -6E9, 6E9)\n",
    "    plot.set_cmap('velocity_z', 'seismic')\n",
    "    plot.annotate_velocity()\n",
    "    plot.annotate_grids(draw_ids=True)\n",
    "    plot.show()"
   ]
  },
  {
   "cell_type": "code",
   "execution_count": null,
   "metadata": {
    "scrolled": false
   },
   "outputs": [],
   "source": [
    "ds2 = yt.load('/d/d9/ychen/2018_production_runs/20180801_L430_rc10_beta07/data/Group_L430_hdf5_plt_cnt_0410')\n",
    "fields = ['velocity_z']\n",
    "#fields = ['eint']\n",
    "loc2 = loc+ds.arr([0, 1.225E+21,  0], 'code_length')\n",
    "for axis in 'xy':\n",
    "    plot = yt.SlicePlot(ds2, axis, fields, center=loc2, width=(3, 'kpc'), origin='native')\n",
    "    plot.annotate_marker(loc2, plot_args={'color': 'k'})\n",
    "    #plot.set_zlim('jet ', 1E-10, 1E0)\n",
    "    plot.set_log('velocity_z', True, linthresh=1E8)\n",
    "    plot.set_zlim('velocity_z', -6E9, 6E9)\n",
    "    plot.set_cmap('velocity_z', 'seismic')\n",
    "    plot.annotate_velocity()\n",
    "    plot.annotate_grids()\n",
    "    plot.show()"
   ]
  },
  {
   "cell_type": "code",
   "execution_count": null,
   "metadata": {},
   "outputs": [],
   "source": [
    "n = 1\n",
    "p = ds.point(loc)\n",
    "dx = p.fwidth[0,0]\n",
    "print(dx.in_units('pc'))\n",
    "le = loc - (n+0.5)*dx\n",
    "print(loc, le)"
   ]
  },
  {
   "cell_type": "code",
   "execution_count": null,
   "metadata": {},
   "outputs": [],
   "source": [
    "cg = ds.covering_grid(11, le, [n*2+1]*3)\n",
    "print(cg.LeftEdge)\n",
    "print(cg.center)\n",
    "print('dvx = ', (cg['velocity_x'][2,1,1] - cg['velocity_x'][0,1,1]).in_units('c'))\n",
    "print('dvy = ', (cg['velocity_y'][1,2,1] - cg['velocity_y'][1,0,1]).in_units('c'))\n",
    "print('dvz = ', (cg['velocity_z'][1,1,2] - cg['velocity_z'][1,1,0]).in_units('c'))\n",
    "print(cg['sound_speed'][1,1,1].in_units('c'))"
   ]
  },
  {
   "cell_type": "code",
   "execution_count": null,
   "metadata": {},
   "outputs": [],
   "source": [
    "ds.max_level"
   ]
  },
  {
   "cell_type": "code",
   "execution_count": null,
   "metadata": {},
   "outputs": [],
   "source": [
    "g = ds.index.grids[3563]\n",
    "print(g.id)\n",
    "i,j,k = 0,3,7\n",
    "print((g['vely'][i,j+1,k]-g['vely'][i,j-1,k]).in_units('c'))\n",
    "print(g['sound_speed'][i,j,k].in_units('c'))"
   ]
  },
  {
   "cell_type": "code",
   "execution_count": null,
   "metadata": {
    "collapsed": false
   },
   "outputs": [],
   "source": [
    "from yt.geometry.selection_routines import point_selector\n",
    "from yt.data_objects.selection_data_containers import YTPoint\n",
    "p = YTPoint(loc, ds)"
   ]
  },
  {
   "cell_type": "code",
   "execution_count": null,
   "metadata": {
    "scrolled": false
   },
   "outputs": [],
   "source": [
    "kpc = yt.units.kpc.in_units('cm')\n",
    "fields = [\n",
    "#            'thermal_energy',\n",
    "#            'total_energy',\n",
    "            'eint',\n",
    "#            'magnetic_energy',\n",
    "#            'magnetic_field_magnitude',\n",
    "            'temperature', \n",
    "            'pressure', \n",
    "            'density', \n",
    "            'jet ', \n",
    "            'velocity_y'\n",
    "#            'velocity_magnitude'\n",
    "            ]\n",
    "npoints = 4\n",
    "lines = []\n",
    "p = ds.point(loc)\n",
    "dx = p.fwidth[0,0]\n",
    "for axis in [0,1,2]:\n",
    "\n",
    "    posA = ds.arr(loc.copy(), 'code_length')\n",
    "    posA[axis] = posA[axis] - npoints*dx\n",
    "\n",
    "    posB = ds.arr(loc.copy(), 'code_length')\n",
    "    posB[axis] = posB[axis] + npoints*dx\n",
    "    lines.append(yt.LineBuffer(ds, posA, posB, 2*npoints+1, label='axis %i' % axis))\n",
    "\n",
    "plot = yt.LinePlot.from_lines(ds, fields, lines)\n",
    "\n",
    "plot.set_x_unit('kpc')\n",
    "plot.annotate_legend(fields)\n",
    "plot.show()"
   ]
  },
  {
   "cell_type": "code",
   "execution_count": null,
   "metadata": {},
   "outputs": [],
   "source": [
    "np.log10(lines[0]['eint'])"
   ]
  },
  {
   "cell_type": "code",
   "execution_count": null,
   "metadata": {
    "scrolled": false
   },
   "outputs": [],
   "source": [
    "ds = ts\n",
    "kpc = yt.units.kpc.in_units('cm')\n",
    "fields = [\n",
    "#            'thermal_energy',\n",
    "            'total_energy',\n",
    "#            'magnetic_energy',\n",
    "#            'magnetic_field_magnitude',\n",
    "            'temperature', \n",
    "            'pressure', \n",
    "            'density', \n",
    "            'jet ', \n",
    "            'velocity_y'\n",
    "#            'velocity_magnitude'\n",
    "            ]\n",
    "npoints = 4\n",
    "lines = []\n",
    "p = ds.point(loc)\n",
    "dx = p.fwidth[0,0]\n",
    "for axis in [0,1,2]:\n",
    "\n",
    "    posA = ds.arr(loc.copy(), 'code_length')\n",
    "    posA[axis] = posA[axis] - npoints*dx\n",
    "\n",
    "    posB = ds.arr(loc.copy(), 'code_length')\n",
    "    posB[axis] = posB[axis] + npoints*dx\n",
    "    lines.append(yt.LineBuffer(ds, posA, posB, 2*npoints+1, label='axis %i' % axis))\n",
    "\n",
    "plot = yt.LinePlot.from_lines(ds, fields, lines)\n",
    "\n",
    "plot.set_x_unit('kpc')\n",
    "plot.annotate_legend(fields)\n",
    "plot.show()"
   ]
  },
  {
   "cell_type": "code",
   "execution_count": null,
   "metadata": {},
   "outputs": [],
   "source": [
    "ad = ds.all_data()\n",
    "plt.scatter(np.log10(ad['eint'][::100]), np.log10(np.abs(ad['z'][::100])), s=1, lw=0)"
   ]
  },
  {
   "cell_type": "code",
   "execution_count": null,
   "metadata": {},
   "outputs": [],
   "source": [
    "grids = ds.index.grids\n",
    "eint_maxes = []\n",
    "eint_mins = []\n",
    "for g in grids:\n",
    "    sys.stdout.write('\\rLoading grid %6i /%6i)' % (g.id, len(grids)))\n",
    "    eint_maxes.append(np.max(g['eint'])/np.mean(g['eint']))\n",
    "    eint_mins.append(np.min(g['eint'])/np.mean(g['eint']))"
   ]
  },
  {
   "cell_type": "code",
   "execution_count": null,
   "metadata": {},
   "outputs": [],
   "source": [
    "grids = ds.index.grids\n",
    "std_maxes = []\n",
    "std_mins = []\n",
    "for g in grids:\n",
    "    sys.stdout.write('\\rLoading grid %6i /%6i)' % (g.id, len(grids)))\n",
    "    std = np.std(np.log10(g['eint']))\n",
    "    mean = np.mean(np.log10(g['eint']))\n",
    "    std_maxes.append(np.max((np.log10(g['eint'])-mean)/std))\n",
    "    std_mins.append(np.min((np.log10(g['eint'])-mean)/std))"
   ]
  },
  {
   "cell_type": "code",
   "execution_count": null,
   "metadata": {},
   "outputs": [],
   "source": [
    "mean"
   ]
  },
  {
   "cell_type": "code",
   "execution_count": null,
   "metadata": {},
   "outputs": [],
   "source": [
    "std_maxes = np.array(std_maxes)\n",
    "std_mins = np.array(std_mins)\n",
    "print(sorted(std_maxes, reverse=True)[:20])\n",
    "print(sorted(std_mins)[:20])"
   ]
  },
  {
   "cell_type": "code",
   "execution_count": null,
   "metadata": {},
   "outputs": [],
   "source": [
    "plt.hist(std_mins)\n",
    "plt.hist(std_maxes)"
   ]
  },
  {
   "cell_type": "code",
   "execution_count": null,
   "metadata": {
    "collapsed": false
   },
   "outputs": [],
   "source": [
    "eint_maxes = np.array(eint_maxes)\n",
    "eint_mins = np.array(eint_mins)"
   ]
  },
  {
   "cell_type": "code",
   "execution_count": null,
   "metadata": {},
   "outputs": [],
   "source": [
    "plt.hist(np.log10(eint_maxes))\n",
    "plt.hist(np.log10(eint_mins))"
   ]
  },
  {
   "cell_type": "code",
   "execution_count": null,
   "metadata": {},
   "outputs": [],
   "source": [
    "print(sorted(eint_maxes, reverse=True)[:10])\n",
    "print(sorted(eint_mins)[:10])"
   ]
  },
  {
   "cell_type": "code",
   "execution_count": null,
   "metadata": {},
   "outputs": [],
   "source": [
    "np.argwhere(np.array(eint_maxes) > 100)"
   ]
  },
  {
   "cell_type": "code",
   "execution_count": null,
   "metadata": {},
   "outputs": [],
   "source": [
    "np.argwhere(eint_mins < 1/500)"
   ]
  },
  {
   "cell_type": "code",
   "execution_count": null,
   "metadata": {},
   "outputs": [],
   "source": [
    "n = 45661\n",
    "g = grids[n]\n",
    "eint = g['eint']\n",
    "print(eint)\n",
    "\n",
    "print(g.id)\n",
    "print(g.Level)\n",
    "print('%e' % np.min(eint))\n",
    "print('%e' % np.max(eint))\n",
    "print('%e' % np.mean(eint))\n",
    "print('%e' % np.std(eint))\n",
    "print('%f' % (np.max(eint)/np.mean(eint)))\n",
    "print('%f' % (np.min(eint)/np.mean(eint)))\n",
    "print('%f' % ((np.max(eint)-np.mean(eint))/np.std(eint)))\n",
    "print('%f' % ((np.min(eint)-np.mean(eint))/np.std(eint)))"
   ]
  },
  {
   "cell_type": "code",
   "execution_count": null,
   "metadata": {},
   "outputs": [],
   "source": [
    "ind = (3,7,4)\n",
    "gc = 2\n",
    "g.retrieve_ghost_zones(gc, 'eint')['eint'][ind[0]:ind[0]+2*gc, ind[1]:ind[1]+2*gc, ind[2]:ind[2]+2*gc]"
   ]
  },
  {
   "cell_type": "code",
   "execution_count": null,
   "metadata": {
    "scrolled": false
   },
   "outputs": [],
   "source": [
    "for i in np.argsort(eint_mins)[:4]:\n",
    "    g = grids[i]\n",
    "    argmin = np.unravel_index(np.argmin(g['eint']), g.shape)\n",
    "    locmin = g.fcoords[np.argmin(g['eint'])]\n",
    "    print(i, '%e' % np.min(g['eint']), argmin, locmin)\n",
    "    plot = yt.SlicePlot(ds, 'x', 'eint', center=locmin, width=(1,'kpc'))\n",
    "    plot.annotate_grids()\n",
    "    plot.show()\n",
    "    "
   ]
  },
  {
   "cell_type": "code",
   "execution_count": null,
   "metadata": {},
   "outputs": [],
   "source": [
    "print(g['y'][7,7,7])\n",
    "g.fcoords\n"
   ]
  },
  {
   "cell_type": "code",
   "execution_count": null,
   "metadata": {
    "scrolled": false
   },
   "outputs": [],
   "source": [
    "for i in np.argsort(eint_maxes)[-4:]:\n",
    "    g = grids[i]\n",
    "    argmax = np.argmax(g['eint'])\n",
    "    locmax = g.fcoords[argmax]\n",
    "    print(i, '%e' % np.max(g['eint']), np.unravel_index(argmax, g.shape), locmax)\n",
    "    plot = yt.SlicePlot(ds, 'x', 'eint', center=locmax, width=(2,'kpc'), origin='native')\n",
    "    plot.annotate_marker(locmax, plot_args={'color': 'k'})\n",
    "    plot.annotate_grids()\n",
    "    plot.show()"
   ]
  },
  {
   "cell_type": "code",
   "execution_count": null,
   "metadata": {},
   "outputs": [],
   "source": [
    "plt.hist(np.log10(ad['eint']), bins=40)"
   ]
  },
  {
   "cell_type": "code",
   "execution_count": null,
   "metadata": {
    "collapsed": false
   },
   "outputs": [],
   "source": [
    "grid_levels = np.array([g.Level for g in grids])"
   ]
  },
  {
   "cell_type": "code",
   "execution_count": null,
   "metadata": {},
   "outputs": [],
   "source": [
    "grid_levels[np.argwhere(eint_ratios > 1000)]"
   ]
  },
  {
   "cell_type": "code",
   "execution_count": null,
   "metadata": {},
   "outputs": [],
   "source": [
    "plt.scatter(np.log10(ad['eint'][::100]), np.abs(ad['grid_level'][::100]), s=1, lw=0)"
   ]
  },
  {
   "cell_type": "code",
   "execution_count": null,
   "metadata": {
    "scrolled": false
   },
   "outputs": [],
   "source": [
    "plot = yt.SlicePlot(ds, 'x', 'pressure', width=(5, 'kpc'))\n",
    "plot.set_zlim('pressure', 1E-11, 1E-9)\n",
    "plot.annotate_grids()\n",
    "plot.show()"
   ]
  },
  {
   "cell_type": "code",
   "execution_count": null,
   "metadata": {},
   "outputs": [],
   "source": [
    "ds = ts[0]\n",
    "plot = yt.SlicePlot(ds, 'x', 'pressure', width=(5,'kpc'))\n",
    "plot.set_zlim('pressure', 1E-11, 1E-9)\n",
    "plot.annotate_grids()\n",
    "plot.show()"
   ]
  },
  {
   "cell_type": "code",
   "execution_count": null,
   "metadata": {
    "scrolled": false
   },
   "outputs": [],
   "source": [
    "for axis in 'xyz':\n",
    "    plot = yt.SlicePlot(ds, axis, 'shks', center=loc, width=(8, 'kpc'))\n",
    "    plot.annotate_marker(loc)\n",
    "    #plot.set_zlim('jet ', 1E-42, 1E0)\n",
    "    #plot.set_zlim('velocity_z', -6E9, 6E9)\n",
    "    #plot.set_cmap('velocity_z', 'seismic')\n",
    "    plot.annotate_grids()\n",
    "    plot.show()"
   ]
  },
  {
   "cell_type": "code",
   "execution_count": null,
   "metadata": {
    "collapsed": false
   },
   "outputs": [],
   "source": []
  }
 ],
 "metadata": {
  "kernelspec": {
   "display_name": "Python 3",
   "language": "python",
   "name": "python3"
  },
  "language_info": {
   "codemirror_mode": {
    "name": "ipython",
    "version": 3
   },
   "file_extension": ".py",
   "mimetype": "text/x-python",
   "name": "python",
   "nbconvert_exporter": "python",
   "pygments_lexer": "ipython3",
   "version": "3.6.1"
  }
 },
 "nbformat": 4,
 "nbformat_minor": 2
}
