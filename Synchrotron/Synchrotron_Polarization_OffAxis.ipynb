{
 "cells": [
  {
   "cell_type": "code",
   "execution_count": null,
   "metadata": {
    "collapsed": false
   },
   "outputs": [],
   "source": [
    "%matplotlib inline\n",
    "import matplotlib.pyplot as plt\n",
    "import yt\n",
    "import logging\n",
    "logging.getLogger('yt').setLevel(logging.ERROR)\n",
    "import numpy as np\n",
    "from yt import derived_field\n",
    "\n",
    "nu = (1500, 'MHz')\n",
    "\n",
    "qfname = 'nn_emissivity_q_lobe_%.1f%s' % nu\n",
    "qnfname = ('flash', 'nn_emissivity_qn_lobe_%.1f%s' % nu)\n",
    "@derived_field(name=qnfname, sampling_type='cell')\n",
    "def _qn_emissivity(field, data):\n",
    "    #re = np.nan_to_num(data[qfname])\n",
    "    re = data[qfname]\n",
    "    re[np.isinf(re)] = 0.0\n",
    "    return re\n",
    "\n",
    "ufname = 'nn_emissivity_u_lobe_%.1f%s' % nu\n",
    "unfname = ('flash', 'nn_emissivity_un_lobe_%.1f%s' % nu)\n",
    "@derived_field(name=unfname, sampling_type='cell')\n",
    "def _un_emissivity(field, data):\n",
    "    #re = np.nan_to_num(data[ufname])\n",
    "    re = data[ufname]\n",
    "    re[np.isinf(re)] = 0.0\n",
    "    return re\n"
   ]
  },
  {
   "cell_type": "code",
   "execution_count": null,
   "metadata": {
    "collapsed": false
   },
   "outputs": [],
   "source": [
    "proj_axis = 'x'\n",
    "\n",
    "if type(proj_axis) is str:\n",
    "    postfix = ('_synchrotron_%%.1f%%s_%s' % proj_axis) % nu\n",
    "elif type(proj_axis) is list:\n",
    "    postfix = ('_synchrotron_%%.1f%%s_%.1f_%.1f_%.1f' % tuple(proj_axis)) % nu\n",
    "\n",
    "dir = '/home/ychen/d9/FLASH4/2015_production_runs/0529_L45_M10_b1_h1'\n",
    "fname = dir + '/MHD_Jet_hdf5_plt_cnt_0630' + postfix\n",
    "ds = yt.load(fname)"
   ]
  },
  {
   "cell_type": "code",
   "execution_count": null,
   "metadata": {
    "collapsed": false
   },
   "outputs": [],
   "source": [
    "ptype = 'lobe'\n",
    "\n",
    "norm = yt.YTQuantity(*nu).in_units('GHz').value**0.5\n",
    "fields = []\n",
    "for pol in ['i', 'qn', 'un']:\n",
    "    field = ('flash', ('nn_emissivity_%s_%s_%%.1f%%s' % (pol, ptype)) % nu)\n",
    "    fields.append(field)"
   ]
  },
  {
   "cell_type": "code",
   "execution_count": null,
   "metadata": {
    "collapsed": false
   },
   "outputs": [],
   "source": [
    "slc = yt.SlicePlot(ds, 'x', fields[1][1],center=[0,0,0], width=((50,'kpc'),(80,'kpc')))\n",
    "slc.set_cmap(fields[1][1], cmap='seismic')\n",
    "slc.show()"
   ]
  },
  {
   "cell_type": "code",
   "execution_count": null,
   "metadata": {},
   "outputs": [],
   "source": [
    "ad = ds.all_data()\n",
    "ad[fields[1]][np.isinf(ad[fields[1]])]"
   ]
  },
  {
   "cell_type": "code",
   "execution_count": null,
   "metadata": {},
   "outputs": [],
   "source": [
    "ad[fields[1]][np.isinf(ad[fields[1]])] = 0.0\n",
    "null = plt.hist(ad[fields[1]], bins=100)\n",
    "plt.ylim(0,100)"
   ]
  },
  {
   "cell_type": "markdown",
   "metadata": {},
   "source": [
    "## X-Axis Projection"
   ]
  },
  {
   "cell_type": "code",
   "execution_count": null,
   "metadata": {
    "collapsed": false
   },
   "outputs": [],
   "source": [
    "#%pdb\n",
    "proj = yt.ProjectionPlot(ds, 'x', fields, center=[0,0,0], width=((50,'kpc'),(80,'kpc')))\n",
    "for field in fields:\n",
    "    if 'nn_emissivity_i' in field[1]:\n",
    "        proj.set_zlim(field, 1E-3/norm, 1E1/norm)\n",
    "        cmap = plt.cm.hot\n",
    "        cmap.set_bad('k')\n",
    "        proj.set_cmap(field, cmap)\n",
    "    else:\n",
    "        cmap = plt.cm.seismic\n",
    "        proj.set_cmap(field, cmap)\n",
    "        proj.set_zlim(field, -1E0/norm, 1E0/norm)\n",
    "proj.annotate_timestamp(corner='upper_left', time_format=\"{time:6.3f} {units}\",\n",
    "                           time_unit='Myr', draw_inset_box=True)\n",
    "proj.show()"
   ]
  },
  {
   "cell_type": "code",
   "execution_count": null,
   "metadata": {
    "collapsed": false
   },
   "outputs": [],
   "source": [
    "frb_I = proj.frb.data[fields[0]].v\n",
    "frb_Q = proj.frb.data[fields[1]].v\n",
    "frb_U = proj.frb.data[fields[2]].v\n",
    "\n",
    "proj.annotate_polline(frb_I, frb_Q, frb_U, factor=16)\n",
    "proj.show()"
   ]
  },
  {
   "cell_type": "code",
   "execution_count": null,
   "metadata": {},
   "outputs": [],
   "source": [
    "#print(np.nonzero(np.nan_to_num(ds.all_data()[fields[1]])))\n",
    "adq = ds.all_data()[fields[2]]\n",
    "\n",
    "print(adq.min(), adq.max())\n",
    "null = plt.hist(adq, bins=100, range=(2E-20, 1E-18))"
   ]
  },
  {
   "cell_type": "markdown",
   "metadata": {},
   "source": [
    "## Off-Axis Projection"
   ]
  },
  {
   "cell_type": "code",
   "execution_count": null,
   "metadata": {},
   "outputs": [],
   "source": [
    "print(proj_axis)\n",
    "north_vector = [0,0,1]\n",
    "prj = yt.OffAxisProjectionPlot(ds, proj_axis,fields,width=(60, 'kpc'),\n",
    "                               north_vector=north_vector)"
   ]
  },
  {
   "cell_type": "code",
   "execution_count": null,
   "metadata": {},
   "outputs": [],
   "source": [
    "prj.set_zlim(fields[0], 1E-3/norm, 1E1/norm)\n",
    "cmap = plt.cm.hot\n",
    "cmap.set_bad('k')\n",
    "prj.set_cmap(fields[0], cmap)\n",
    "\n",
    "prj.annotate_clear()\n",
    "prj.set_cmap(fields[1], 'seismic')\n",
    "prj.set_zlim(fields[1], -10, 10)\n",
    "prj.set_cmap(fields[2], 'seismic')\n",
    "prj.set_zlim(fields[2], -10, 10)\n",
    "\n",
    "prj.show()"
   ]
  },
  {
   "cell_type": "code",
   "execution_count": null,
   "metadata": {},
   "outputs": [],
   "source": [
    "frb_I = prj.frb.data[fields[0]].v\n",
    "frb_Q = prj.frb.data[fields[1]].v\n",
    "frb_U = prj.frb.data[fields[2]].v\n",
    "\n",
    "prj.annotate_clear()\n",
    "prj.annotate_polline(frb_I, frb_Q, frb_U, factor=16)\n",
    "prj.show()"
   ]
  },
  {
   "cell_type": "code",
   "execution_count": null,
   "metadata": {},
   "outputs": [],
   "source": [
    "#null = plt.hist(np.log10(arri.flatten()), range=(-15,3), bins=100)\n",
    "frb_I = prj.frb.data[fields[0]].v\n",
    "frb_Q = prj.frb.data[fields[1]].v\n",
    "frb_U = prj.frb.data[fields[2]].v\n",
    "\n",
    "factor = 1\n",
    "nx = 800//factor\n",
    "ny = 800//factor\n",
    "\n",
    "I_bin = frb_I.reshape(nx, factor, ny, factor).sum(3).sum(1)\n",
    "Q_bin = frb_Q.reshape(nx, factor, ny, factor).sum(3).sum(1)\n",
    "U_bin = frb_U.reshape(nx, factor, ny, factor).sum(3).sum(1)\n",
    "\n",
    "psi = 0.5*np.arctan2(U_bin, Q_bin)\n",
    "frac = np.sqrt(Q_bin**2+U_bin**2)/I_bin\n",
    "#print len(psi.flatten()[psi.flatten().nonzero()])\n",
    "#null = plt.hist(np.abs(psi.flatten())[psi.flatten().nonzero()], bins=50)\n",
    "#plt.xlim(0, 0.5*np.pi)"
   ]
  },
  {
   "cell_type": "code",
   "execution_count": null,
   "metadata": {},
   "outputs": [],
   "source": [
    "\n",
    "fig = plt.figure(figsize=(16,4))\n",
    "\n",
    "ax1 = fig.add_subplot(131)\n",
    "null = ax1.hist(frac[I_bin.nonzero()].flatten()*100, range=(0,80), bins=40)\n",
    "ax1.set_xlabel('Polarization fraction (%)')\n",
    "#ax1.set_xlim(0, 80)\n",
    "\n",
    "ax2  = fig.add_subplot(132)\n",
    "null = ax2.hist(psi[I_bin.nonzero()].flatten(), bins=50, range=(-0.5*np.pi, 0.5*np.pi))\n",
    "x_tick = np.linspace(-0.5, 0.5, 5, endpoint=True)\n",
    "\n",
    "x_label = [r\"$-\\pi/2$\", r\"$-\\pi/4$\", r\"$0$\", r\"$+\\pi/4$\", r\"$+\\pi/2$\"]\n",
    "ax2.set_xlim(-0.5*np.pi, 0.5*np.pi)\n",
    "ax2.set_xticks(x_tick*np.pi)\n",
    "ax2.set_xticklabels(x_label)\n",
    "ax2.set_title(ds.basename + '  %.1f %s' % nu)\n",
    "\n",
    "ax3 = fig.add_subplot(133)\n",
    "null = ax3.hist(np.abs(psi[I_bin.nonzero()].flatten()), bins=25, range=(0.0, 0.5*np.pi))\n",
    "ax3.set_xlim(0.0, 0.5*np.pi)\n",
    "ax3.set_xticks([x_tick[2:]*np.pi])\n",
    "ax3.set_xticks(x_tick[2:]*np.pi)\n",
    "ax3.set_xticklabels(x_label[2:])"
   ]
  },
  {
   "cell_type": "code",
   "execution_count": null,
   "metadata": {
    "collapsed": false
   },
   "outputs": [],
   "source": [
    "frb_I = prj.frb.data[fields[0]].v\n",
    "frb_Q = prj.frb.data[fields[1]].v\n",
    "frb_U = prj.frb.data[fields[2]].v\n",
    "\n",
    "factor = 1\n",
    "nx = 800//factor\n",
    "ny = 800//factor\n",
    "\n",
    "I_bin_150 = frb_I.reshape(nx, factor, ny, factor).sum(3).sum(1)\n",
    "Q_bin_150 = frb_Q.reshape(nx, factor, ny, factor).sum(3).sum(1)\n",
    "U_bin_150 = frb_U.reshape(nx, factor, ny, factor).sum(3).sum(1)"
   ]
  },
  {
   "cell_type": "code",
   "execution_count": null,
   "metadata": {
    "collapsed": false
   },
   "outputs": [],
   "source": [
    "def plot_polarization_histogram(I_bin, Q_bin, U_bin, fig=None, label=None):\n",
    "    \n",
    "    psi = 0.5*np.arctan2(U_bin, Q_bin)\n",
    "    frac = np.sqrt(Q_bin**2+U_bin**2)/I_bin\n",
    "    \n",
    "    if not fig:\n",
    "        fig = plt.figure(figsize=(16,4))\n",
    "    \n",
    "    ax1 = fig.axes[0]\n",
    "    null = ax1.hist(frac[I_bin.nonzero()].flatten()*100, range=(0,80), bins=40, alpha=0.5)\n",
    "    ax1.set_xlabel('Polarization fraction (%)')\n",
    "    #ax1.set_xlim(0, 80)\n",
    "\n",
    "    ax2  = fig.axes[1]\n",
    "    null = ax2.hist(psi[I_bin.nonzero()].flatten(), bins=50, range=(-0.5*np.pi, 0.5*np.pi), alpha=0.5)\n",
    "    x_tick = np.linspace(-0.5, 0.5, 5, endpoint=True)\n",
    "\n",
    "    x_label = [r\"$-\\pi/2$\", r\"$-\\pi/4$\", r\"$0$\", r\"$+\\pi/4$\", r\"$+\\pi/2$\"]\n",
    "    ax2.set_xlim(-0.5*np.pi, 0.5*np.pi)\n",
    "    ax2.set_xticks(x_tick*np.pi)\n",
    "    ax2.set_xticklabels(x_label)\n",
    "    #ax2.set_title(ds.basename + '  %.1f %s' % nu)\n",
    "\n",
    "    ax3 = fig.axes[2]\n",
    "    null = ax3.hist(np.abs(psi[I_bin.nonzero()].flatten()), bins=25, range=(0.0, 0.5*np.pi), alpha=0.5,\\\n",
    "                    label=label)\n",
    "    ax3.legend()\n",
    "    ax3.set_xlim(0.0, 0.5*np.pi)\n",
    "    ax3.set_xticks([x_tick[2:]*np.pi])\n",
    "    ax3.set_xticks(x_tick[2:]*np.pi)\n",
    "    ax3.set_xticklabels(x_label[2:])\n",
    "    \n",
    "    return fig"
   ]
  },
  {
   "cell_type": "code",
   "execution_count": null,
   "metadata": {},
   "outputs": [],
   "source": [
    "fig = plt.figure(figsize=(16,4))\n",
    "ax1 = fig.add_subplot(131)\n",
    "ax2 = fig.add_subplot(132)\n",
    "ax3 = fig.add_subplot(133)\n",
    "fig = plot_polarization_histogram(I_bin_150, Q_bin_150, U_bin_150, fig=fig, label='150MHz')\n",
    "fig = plot_polarization_histogram(I_bin, Q_bin, U_bin, fig=fig, label='1500MHz')\n",
    "\n"
   ]
  },
  {
   "cell_type": "code",
   "execution_count": null,
   "metadata": {
    "collapsed": false
   },
   "outputs": [],
   "source": []
  }
 ],
 "metadata": {
  "kernelspec": {
   "display_name": "Python 3",
   "language": "python",
   "name": "python3"
  },
  "language_info": {
   "codemirror_mode": {
    "name": "ipython",
    "version": 3
   },
   "file_extension": ".py",
   "mimetype": "text/x-python",
   "name": "python",
   "nbconvert_exporter": "python",
   "pygments_lexer": "ipython3",
   "version": "3.6.1"
  }
 },
 "nbformat": 4,
 "nbformat_minor": 1
}
